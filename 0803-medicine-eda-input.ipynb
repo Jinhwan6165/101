{
 "cells": [
  {
   "cell_type": "markdown",
   "metadata": {},
   "source": [
    "## 우루사 VS 고덱스 분석하기\n",
    "\n",
    "* 약품코드 찾기\n",
    "\n",
    "http://www.hira.or.kr/rf/medicine/getHistoryList.do?pgmid=HIRAA030035020000\n",
    "\n",
    "http://medinavi.co.kr/search_medicine.asp?keyword1=&keyword2=%EC%9A%B0%EB%A3%A8%EC%82%AC&keyword3=%EB%8C%80%EC%9B%85%EC%A0%9C%EC%95%BD\n",
    "\n",
    "```\n",
    "우루사정100밀리그램 246501ATB\n",
    "우루사정200밀리그램 246502ATB\n",
    "우루사정300밀리그램 246506ATB\n",
    "우루사100mg연질캅셀 246501ACS\n",
    "우루사캅셀200mg 246502ACH\n",
    "우루사캡슐250밀리그램 246503ACH\n",
    "고덱스캡슐 427800ACH\n",
    "```\n",
    "\n",
    "\n",
    "<img src=\"https://i.imgur.com/4dEl5Dl.jpg\">\n",
    "\n",
    "출처 : http://www.docdocdoc.co.kr/news/articleView.html?idxno=1053667\n",
    "\n",
    "## 라이브러리로드"
   ]
  },
  {
   "cell_type": "code",
   "execution_count": 1,
   "metadata": {},
   "outputs": [],
   "source": [
    "import pandas as pd\n",
    "import numpy as np\n",
    "import seaborn as sns\n",
    "\n",
    "%matplotlib inline"
   ]
  },
  {
   "cell_type": "markdown",
   "metadata": {},
   "source": [
    "## 시각화를 위한 한글폰트 설정"
   ]
  },
  {
   "cell_type": "code",
   "execution_count": 2,
   "metadata": {},
   "outputs": [],
   "source": [
    "import matplotlib.pyplot as plt\n",
    "\n",
    "plt.rc('font',family='Malgun Gothic')\n",
    "plt.rc('axes', unicode_minus=False)"
   ]
  },
  {
   "cell_type": "code",
   "execution_count": 3,
   "metadata": {},
   "outputs": [],
   "source": [
    "from IPython.display import set_matplotlib_formats\n",
    "\n",
    "set_matplotlib_formats('retina')"
   ]
  },
  {
   "cell_type": "markdown",
   "metadata": {},
   "source": [
    "## 데이터셋 로드"
   ]
  },
  {
   "cell_type": "code",
   "execution_count": 7,
   "metadata": {},
   "outputs": [
    {
     "data": {
      "text/plain": [
       "(519525, 15)"
      ]
     },
     "execution_count": 7,
     "metadata": {},
     "output_type": "execute_result"
    }
   ],
   "source": [
    "# ursa_2011_2018.csv 로 저장한 데이터를 불러옵니다.\n",
    "df = pd.read_csv('data/medicine_2011_2019.csv', encoding=\"utf-8\")\n",
    "df.shape"
   ]
  },
  {
   "cell_type": "markdown",
   "metadata": {},
   "source": [
    "## 데이터 미리보기"
   ]
  },
  {
   "cell_type": "code",
   "execution_count": 10,
   "metadata": {},
   "outputs": [
    {
     "data": {
      "text/html": [
       "<div>\n",
       "<style scoped>\n",
       "    .dataframe tbody tr th:only-of-type {\n",
       "        vertical-align: middle;\n",
       "    }\n",
       "\n",
       "    .dataframe tbody tr th {\n",
       "        vertical-align: top;\n",
       "    }\n",
       "\n",
       "    .dataframe thead th {\n",
       "        text-align: right;\n",
       "    }\n",
       "</style>\n",
       "<table border=\"1\" class=\"dataframe\">\n",
       "  <thead>\n",
       "    <tr style=\"text-align: right;\">\n",
       "      <th></th>\n",
       "      <th>기준년도</th>\n",
       "      <th>가입자 일련번호</th>\n",
       "      <th>처방내역일련번호</th>\n",
       "      <th>일련번호</th>\n",
       "      <th>성별코드</th>\n",
       "      <th>연령대코드(5세단위)</th>\n",
       "      <th>시도코드</th>\n",
       "      <th>요양개시일자</th>\n",
       "      <th>약품일반성분명코드</th>\n",
       "      <th>1회 투약량</th>\n",
       "      <th>1일투약량</th>\n",
       "      <th>총투여일수</th>\n",
       "      <th>단가</th>\n",
       "      <th>금액</th>\n",
       "      <th>데이터 공개일자</th>\n",
       "    </tr>\n",
       "  </thead>\n",
       "  <tbody>\n",
       "    <tr>\n",
       "      <th>0</th>\n",
       "      <td>2011</td>\n",
       "      <td>263152</td>\n",
       "      <td>301</td>\n",
       "      <td>3</td>\n",
       "      <td>1</td>\n",
       "      <td>12</td>\n",
       "      <td>41</td>\n",
       "      <td>20111109</td>\n",
       "      <td>246501ATB</td>\n",
       "      <td>1.0</td>\n",
       "      <td>3</td>\n",
       "      <td>3</td>\n",
       "      <td>111.0</td>\n",
       "      <td>999</td>\n",
       "      <td>20151220</td>\n",
       "    </tr>\n",
       "    <tr>\n",
       "      <th>1</th>\n",
       "      <td>2011</td>\n",
       "      <td>142227</td>\n",
       "      <td>310</td>\n",
       "      <td>4</td>\n",
       "      <td>1</td>\n",
       "      <td>14</td>\n",
       "      <td>41</td>\n",
       "      <td>20111125</td>\n",
       "      <td>246501ATB</td>\n",
       "      <td>1.0</td>\n",
       "      <td>3</td>\n",
       "      <td>7</td>\n",
       "      <td>111.0</td>\n",
       "      <td>2331</td>\n",
       "      <td>20151220</td>\n",
       "    </tr>\n",
       "    <tr>\n",
       "      <th>2</th>\n",
       "      <td>2011</td>\n",
       "      <td>253952</td>\n",
       "      <td>1013</td>\n",
       "      <td>1</td>\n",
       "      <td>2</td>\n",
       "      <td>9</td>\n",
       "      <td>46</td>\n",
       "      <td>20111203</td>\n",
       "      <td>246502ATB</td>\n",
       "      <td>1.0</td>\n",
       "      <td>3</td>\n",
       "      <td>14</td>\n",
       "      <td>165.0</td>\n",
       "      <td>6930</td>\n",
       "      <td>20151220</td>\n",
       "    </tr>\n",
       "  </tbody>\n",
       "</table>\n",
       "</div>"
      ],
      "text/plain": [
       "   기준년도  가입자 일련번호  처방내역일련번호  일련번호  성별코드  연령대코드(5세단위)  시도코드    요양개시일자  \\\n",
       "0  2011    263152       301     3     1           12    41  20111109   \n",
       "1  2011    142227       310     4     1           14    41  20111125   \n",
       "2  2011    253952      1013     1     2            9    46  20111203   \n",
       "\n",
       "   약품일반성분명코드  1회 투약량  1일투약량  총투여일수     단가    금액  데이터 공개일자  \n",
       "0  246501ATB     1.0      3      3  111.0   999  20151220  \n",
       "1  246501ATB     1.0      3      7  111.0  2331  20151220  \n",
       "2  246502ATB     1.0      3     14  165.0  6930  20151220  "
      ]
     },
     "execution_count": 10,
     "metadata": {},
     "output_type": "execute_result"
    }
   ],
   "source": [
    "df.head(3)"
   ]
  },
  {
   "cell_type": "code",
   "execution_count": 9,
   "metadata": {},
   "outputs": [
    {
     "data": {
      "text/html": [
       "<div>\n",
       "<style scoped>\n",
       "    .dataframe tbody tr th:only-of-type {\n",
       "        vertical-align: middle;\n",
       "    }\n",
       "\n",
       "    .dataframe tbody tr th {\n",
       "        vertical-align: top;\n",
       "    }\n",
       "\n",
       "    .dataframe thead th {\n",
       "        text-align: right;\n",
       "    }\n",
       "</style>\n",
       "<table border=\"1\" class=\"dataframe\">\n",
       "  <thead>\n",
       "    <tr style=\"text-align: right;\">\n",
       "      <th></th>\n",
       "      <th>기준년도</th>\n",
       "      <th>가입자 일련번호</th>\n",
       "      <th>처방내역일련번호</th>\n",
       "      <th>일련번호</th>\n",
       "      <th>성별코드</th>\n",
       "      <th>연령대코드(5세단위)</th>\n",
       "      <th>시도코드</th>\n",
       "      <th>요양개시일자</th>\n",
       "      <th>약품일반성분명코드</th>\n",
       "      <th>1회 투약량</th>\n",
       "      <th>1일투약량</th>\n",
       "      <th>총투여일수</th>\n",
       "      <th>단가</th>\n",
       "      <th>금액</th>\n",
       "      <th>데이터 공개일자</th>\n",
       "    </tr>\n",
       "  </thead>\n",
       "  <tbody>\n",
       "    <tr>\n",
       "      <th>519522</th>\n",
       "      <td>2019</td>\n",
       "      <td>999868</td>\n",
       "      <td>108375768</td>\n",
       "      <td>3</td>\n",
       "      <td>2</td>\n",
       "      <td>12</td>\n",
       "      <td>41</td>\n",
       "      <td>20190408</td>\n",
       "      <td>427800ACH</td>\n",
       "      <td>1.0</td>\n",
       "      <td>1</td>\n",
       "      <td>50</td>\n",
       "      <td>402.0</td>\n",
       "      <td>20100</td>\n",
       "      <td>20201222</td>\n",
       "    </tr>\n",
       "    <tr>\n",
       "      <th>519523</th>\n",
       "      <td>2019</td>\n",
       "      <td>999868</td>\n",
       "      <td>100117993</td>\n",
       "      <td>3</td>\n",
       "      <td>2</td>\n",
       "      <td>12</td>\n",
       "      <td>41</td>\n",
       "      <td>20191115</td>\n",
       "      <td>427800ACH</td>\n",
       "      <td>1.0</td>\n",
       "      <td>1</td>\n",
       "      <td>60</td>\n",
       "      <td>388.0</td>\n",
       "      <td>23280</td>\n",
       "      <td>20201222</td>\n",
       "    </tr>\n",
       "    <tr>\n",
       "      <th>519524</th>\n",
       "      <td>2019</td>\n",
       "      <td>999868</td>\n",
       "      <td>104284780</td>\n",
       "      <td>3</td>\n",
       "      <td>2</td>\n",
       "      <td>12</td>\n",
       "      <td>41</td>\n",
       "      <td>20190530</td>\n",
       "      <td>427800ACH</td>\n",
       "      <td>1.0</td>\n",
       "      <td>1</td>\n",
       "      <td>60</td>\n",
       "      <td>402.0</td>\n",
       "      <td>24120</td>\n",
       "      <td>20201222</td>\n",
       "    </tr>\n",
       "  </tbody>\n",
       "</table>\n",
       "</div>"
      ],
      "text/plain": [
       "        기준년도  가입자 일련번호   처방내역일련번호  일련번호  성별코드  연령대코드(5세단위)  시도코드    요양개시일자  \\\n",
       "519522  2019    999868  108375768     3     2           12    41  20190408   \n",
       "519523  2019    999868  100117993     3     2           12    41  20191115   \n",
       "519524  2019    999868  104284780     3     2           12    41  20190530   \n",
       "\n",
       "        약품일반성분명코드  1회 투약량  1일투약량  총투여일수     단가     금액  데이터 공개일자  \n",
       "519522  427800ACH     1.0      1     50  402.0  20100  20201222  \n",
       "519523  427800ACH     1.0      1     60  388.0  23280  20201222  \n",
       "519524  427800ACH     1.0      1     60  402.0  24120  20201222  "
      ]
     },
     "execution_count": 9,
     "metadata": {},
     "output_type": "execute_result"
    }
   ],
   "source": [
    "df.tail(3)"
   ]
  },
  {
   "cell_type": "markdown",
   "metadata": {},
   "source": [
    "## 데이터 전처리"
   ]
  },
  {
   "cell_type": "markdown",
   "metadata": {},
   "source": [
    "### 주성분코드로 약품명 찾기\n",
    "* 우루사정100밀리그램 246501ATB\n",
    "* 우루사정200밀리그램 246502ATB\n",
    "* 우루사정300밀리그램 246506ATB\n",
    "* 우루사100mg연질캅셀 246501ACS\n",
    "* 우루사캅셀200mg 246502ACH\n",
    "* 우루사캡슐250밀리그램 246503ACH\n",
    "* 고덱스캡슐 427800ACH"
   ]
  },
  {
   "cell_type": "code",
   "execution_count": 19,
   "metadata": {},
   "outputs": [
    {
     "data": {
      "text/plain": [
       "['우루사정100밀리그램 246501ATB',\n",
       " '우루사정200밀리그램 246502ATB',\n",
       " '우루사정300밀리그램 246506ATB',\n",
       " '우루사100mg연질캅셀 246501ACS',\n",
       " '우루사캅셀200mg 246502ACH',\n",
       " '우루사캡슐250밀리그램 246503ACH',\n",
       " '고덱스캡슐 427800ACH']"
      ]
     },
     "execution_count": 19,
     "metadata": {},
     "output_type": "execute_result"
    }
   ],
   "source": [
    "code = \"\"\"우루사정100밀리그램 246501ATB\n",
    "우루사정200밀리그램 246502ATB\n",
    "우루사정300밀리그램 246506ATB\n",
    "우루사100mg연질캅셀 246501ACS\n",
    "우루사캅셀200mg 246502ACH\n",
    "우루사캡슐250밀리그램 246503ACH\n",
    "고덱스캡슐 427800ACH\"\"\"\n",
    "code_split = code.split(\"\\n\")\n",
    "code_split"
   ]
  },
  {
   "cell_type": "code",
   "execution_count": 21,
   "metadata": {},
   "outputs": [
    {
     "name": "stdout",
     "output_type": "stream",
     "text": [
      "{'246501ATB': '우루사정100밀리그램', '246502ATB': '우루사정200밀리그램', '246506ATB': '우루사정300밀리그램', '246501ACS': '우루사100mg연질캅셀', '246502ACH': '우루사캅셀200mg', '246503ACH': '우루사캡슐250밀리그램', '427800ACH': '고덱스캡슐'}\n"
     ]
    }
   ],
   "source": [
    "code_key_val = {}\n",
    "for cname in code_split:\n",
    "    key = cname.split()[-1] #code가 key값이 되고 value가 이름이 되게  한다.\n",
    "    val = cname.split()[0]\n",
    "    code_key_val[key] = val\n",
    "    \n",
    "print(code_key_val)   #split을 두번하여 진행함"
   ]
  },
  {
   "cell_type": "code",
   "execution_count": null,
   "metadata": {},
   "outputs": [],
   "source": [
    "# 위에서 만든 텍스트로 주성분코드와 약품명을 매치하기 위해 딕셔너리를 만듭니다.\n",
    "# code_key_val 이라는 변수에 딕셔너리 형태로 값을 넣어줍니다.\n",
    "code_key_val = {}\n",
    "print(code_key_val)"
   ]
  },
  {
   "cell_type": "code",
   "execution_count": 25,
   "metadata": {},
   "outputs": [
    {
     "data": {
      "text/html": [
       "<div>\n",
       "<style scoped>\n",
       "    .dataframe tbody tr th:only-of-type {\n",
       "        vertical-align: middle;\n",
       "    }\n",
       "\n",
       "    .dataframe tbody tr th {\n",
       "        vertical-align: top;\n",
       "    }\n",
       "\n",
       "    .dataframe thead th {\n",
       "        text-align: right;\n",
       "    }\n",
       "</style>\n",
       "<table border=\"1\" class=\"dataframe\">\n",
       "  <thead>\n",
       "    <tr style=\"text-align: right;\">\n",
       "      <th></th>\n",
       "      <th>약품일반성분명코드</th>\n",
       "      <th>약품일반성분명</th>\n",
       "    </tr>\n",
       "  </thead>\n",
       "  <tbody>\n",
       "    <tr>\n",
       "      <th>0</th>\n",
       "      <td>246501ATB</td>\n",
       "      <td>우루사정100밀리그램</td>\n",
       "    </tr>\n",
       "    <tr>\n",
       "      <th>1</th>\n",
       "      <td>246501ATB</td>\n",
       "      <td>우루사정100밀리그램</td>\n",
       "    </tr>\n",
       "    <tr>\n",
       "      <th>2</th>\n",
       "      <td>246502ATB</td>\n",
       "      <td>우루사정200밀리그램</td>\n",
       "    </tr>\n",
       "    <tr>\n",
       "      <th>3</th>\n",
       "      <td>246502ATB</td>\n",
       "      <td>우루사정200밀리그램</td>\n",
       "    </tr>\n",
       "    <tr>\n",
       "      <th>4</th>\n",
       "      <td>246501ATB</td>\n",
       "      <td>우루사정100밀리그램</td>\n",
       "    </tr>\n",
       "  </tbody>\n",
       "</table>\n",
       "</div>"
      ],
      "text/plain": [
       "   약품일반성분명코드      약품일반성분명\n",
       "0  246501ATB  우루사정100밀리그램\n",
       "1  246501ATB  우루사정100밀리그램\n",
       "2  246502ATB  우루사정200밀리그램\n",
       "3  246502ATB  우루사정200밀리그램\n",
       "4  246501ATB  우루사정100밀리그램"
      ]
     },
     "execution_count": 25,
     "metadata": {},
     "output_type": "execute_result"
    }
   ],
   "source": [
    "# 딕셔너리를 매핑합니다.\n",
    "# apply는 series와 df모두 쓸수 있다. map은 Series에서만 사용가능\n",
    "df[\"약품일반성분명\"] = df[\"약품일반성분명코드\"].map(code_key_val)\n",
    "df[[\"약품일반성분명코드\",\"약품일반성분명\"]].head()"
   ]
  },
  {
   "cell_type": "markdown",
   "metadata": {},
   "source": [
    "### 우루사와 고덱스 구분하기"
   ]
  },
  {
   "cell_type": "code",
   "execution_count": 26,
   "metadata": {},
   "outputs": [
    {
     "data": {
      "text/html": [
       "<div>\n",
       "<style scoped>\n",
       "    .dataframe tbody tr th:only-of-type {\n",
       "        vertical-align: middle;\n",
       "    }\n",
       "\n",
       "    .dataframe tbody tr th {\n",
       "        vertical-align: top;\n",
       "    }\n",
       "\n",
       "    .dataframe thead th {\n",
       "        text-align: right;\n",
       "    }\n",
       "</style>\n",
       "<table border=\"1\" class=\"dataframe\">\n",
       "  <thead>\n",
       "    <tr style=\"text-align: right;\">\n",
       "      <th></th>\n",
       "      <th>약품일반성분명코드</th>\n",
       "      <th>약품일반성분명</th>\n",
       "      <th>우루사</th>\n",
       "    </tr>\n",
       "  </thead>\n",
       "  <tbody>\n",
       "    <tr>\n",
       "      <th>0</th>\n",
       "      <td>246501ATB</td>\n",
       "      <td>우루사정100밀리그램</td>\n",
       "      <td>True</td>\n",
       "    </tr>\n",
       "    <tr>\n",
       "      <th>1</th>\n",
       "      <td>246501ATB</td>\n",
       "      <td>우루사정100밀리그램</td>\n",
       "      <td>True</td>\n",
       "    </tr>\n",
       "    <tr>\n",
       "      <th>2</th>\n",
       "      <td>246502ATB</td>\n",
       "      <td>우루사정200밀리그램</td>\n",
       "      <td>True</td>\n",
       "    </tr>\n",
       "    <tr>\n",
       "      <th>3</th>\n",
       "      <td>246502ATB</td>\n",
       "      <td>우루사정200밀리그램</td>\n",
       "      <td>True</td>\n",
       "    </tr>\n",
       "    <tr>\n",
       "      <th>4</th>\n",
       "      <td>246501ATB</td>\n",
       "      <td>우루사정100밀리그램</td>\n",
       "      <td>True</td>\n",
       "    </tr>\n",
       "  </tbody>\n",
       "</table>\n",
       "</div>"
      ],
      "text/plain": [
       "   약품일반성분명코드      약품일반성분명   우루사\n",
       "0  246501ATB  우루사정100밀리그램  True\n",
       "1  246501ATB  우루사정100밀리그램  True\n",
       "2  246502ATB  우루사정200밀리그램  True\n",
       "3  246502ATB  우루사정200밀리그램  True\n",
       "4  246501ATB  우루사정100밀리그램  True"
      ]
     },
     "execution_count": 26,
     "metadata": {},
     "output_type": "execute_result"
    }
   ],
   "source": [
    "# 우루사는 \"약품일반성분명코드\"가 여러 개 입니다.\n",
    "# 고덱스코드를 통해 우루사인지 아닌지 True, False로 boolean 값을 갖는 컬럼을 생성합니다.\n",
    "# 컬럼명은 \"우루사\"로 합니다.\n",
    "df[\"우루사\"] = df[\"약품일반성분명코드\"] != \"427800ACH\"\n",
    "df[[\"약품일반성분명코드\",\"약품일반성분명\",\"우루사\"]].head()"
   ]
  },
  {
   "cell_type": "code",
   "execution_count": 27,
   "metadata": {},
   "outputs": [
    {
     "data": {
      "text/plain": [
       "True     73.454983\n",
       "False    26.545017\n",
       "Name: 우루사, dtype: float64"
      ]
     },
     "execution_count": 27,
     "metadata": {},
     "output_type": "execute_result"
    }
   ],
   "source": [
    "df[\"우루사\"].value_counts(normalize=True)*100"
   ]
  },
  {
   "cell_type": "code",
   "execution_count": 29,
   "metadata": {},
   "outputs": [
    {
     "data": {
      "text/plain": [
       "우루사\n",
       "False    5400631430\n",
       "True     4502523836\n",
       "Name: 금액, dtype: int64"
      ]
     },
     "execution_count": 29,
     "metadata": {},
     "output_type": "execute_result"
    }
   ],
   "source": [
    "df.groupby(\"우루사\")[\"금액\"].sum()"
   ]
  },
  {
   "cell_type": "code",
   "execution_count": 30,
   "metadata": {},
   "outputs": [
    {
     "data": {
      "text/html": [
       "<div>\n",
       "<style scoped>\n",
       "    .dataframe tbody tr th:only-of-type {\n",
       "        vertical-align: middle;\n",
       "    }\n",
       "\n",
       "    .dataframe tbody tr th {\n",
       "        vertical-align: top;\n",
       "    }\n",
       "\n",
       "    .dataframe thead th {\n",
       "        text-align: right;\n",
       "    }\n",
       "</style>\n",
       "<table border=\"1\" class=\"dataframe\">\n",
       "  <thead>\n",
       "    <tr style=\"text-align: right;\">\n",
       "      <th></th>\n",
       "      <th>mean</th>\n",
       "      <th>sum</th>\n",
       "    </tr>\n",
       "    <tr>\n",
       "      <th>우루사</th>\n",
       "      <th></th>\n",
       "      <th></th>\n",
       "    </tr>\n",
       "  </thead>\n",
       "  <tbody>\n",
       "    <tr>\n",
       "      <th>False</th>\n",
       "      <td>39161.117774</td>\n",
       "      <td>5400631430</td>\n",
       "    </tr>\n",
       "    <tr>\n",
       "      <th>True</th>\n",
       "      <td>11798.541040</td>\n",
       "      <td>4502523836</td>\n",
       "    </tr>\n",
       "  </tbody>\n",
       "</table>\n",
       "</div>"
      ],
      "text/plain": [
       "               mean         sum\n",
       "우루사                            \n",
       "False  39161.117774  5400631430\n",
       "True   11798.541040  4502523836"
      ]
     },
     "execution_count": 30,
     "metadata": {},
     "output_type": "execute_result"
    }
   ],
   "source": [
    "df.groupby(\"우루사\")[\"금액\"].agg([\"mean\",\"sum\"])"
   ]
  },
  {
   "cell_type": "code",
   "execution_count": 34,
   "metadata": {},
   "outputs": [
    {
     "data": {
      "text/html": [
       "<style  type=\"text/css\" >\n",
       "#T_5b135191_75a7_11eb_90d1_c0a6ba7e0c36row0_col0{\n",
       "            background-color:  #dfddec;\n",
       "            color:  #000000;\n",
       "        }#T_5b135191_75a7_11eb_90d1_c0a6ba7e0c36row0_col1,#T_5b135191_75a7_11eb_90d1_c0a6ba7e0c36row5_col0,#T_5b135191_75a7_11eb_90d1_c0a6ba7e0c36row8_col2,#T_5b135191_75a7_11eb_90d1_c0a6ba7e0c36row8_col3{\n",
       "            background-color:  #023858;\n",
       "            color:  #f1f1f1;\n",
       "        }#T_5b135191_75a7_11eb_90d1_c0a6ba7e0c36row0_col2,#T_5b135191_75a7_11eb_90d1_c0a6ba7e0c36row1_col0,#T_5b135191_75a7_11eb_90d1_c0a6ba7e0c36row3_col1,#T_5b135191_75a7_11eb_90d1_c0a6ba7e0c36row3_col3{\n",
       "            background-color:  #fff7fb;\n",
       "            color:  #000000;\n",
       "        }#T_5b135191_75a7_11eb_90d1_c0a6ba7e0c36row0_col3{\n",
       "            background-color:  #eee8f3;\n",
       "            color:  #000000;\n",
       "        }#T_5b135191_75a7_11eb_90d1_c0a6ba7e0c36row1_col1{\n",
       "            background-color:  #89b1d4;\n",
       "            color:  #000000;\n",
       "        }#T_5b135191_75a7_11eb_90d1_c0a6ba7e0c36row1_col2{\n",
       "            background-color:  #f8f1f8;\n",
       "            color:  #000000;\n",
       "        }#T_5b135191_75a7_11eb_90d1_c0a6ba7e0c36row1_col3{\n",
       "            background-color:  #f6eff7;\n",
       "            color:  #000000;\n",
       "        }#T_5b135191_75a7_11eb_90d1_c0a6ba7e0c36row2_col0{\n",
       "            background-color:  #dddbec;\n",
       "            color:  #000000;\n",
       "        }#T_5b135191_75a7_11eb_90d1_c0a6ba7e0c36row2_col1{\n",
       "            background-color:  #ede7f2;\n",
       "            color:  #000000;\n",
       "        }#T_5b135191_75a7_11eb_90d1_c0a6ba7e0c36row2_col2{\n",
       "            background-color:  #f5eff6;\n",
       "            color:  #000000;\n",
       "        }#T_5b135191_75a7_11eb_90d1_c0a6ba7e0c36row2_col3,#T_5b135191_75a7_11eb_90d1_c0a6ba7e0c36row3_col2{\n",
       "            background-color:  #f5eef6;\n",
       "            color:  #000000;\n",
       "        }#T_5b135191_75a7_11eb_90d1_c0a6ba7e0c36row3_col0{\n",
       "            background-color:  #d0d1e6;\n",
       "            color:  #000000;\n",
       "        }#T_5b135191_75a7_11eb_90d1_c0a6ba7e0c36row4_col0{\n",
       "            background-color:  #0566a0;\n",
       "            color:  #f1f1f1;\n",
       "        }#T_5b135191_75a7_11eb_90d1_c0a6ba7e0c36row4_col1{\n",
       "            background-color:  #eee9f3;\n",
       "            color:  #000000;\n",
       "        }#T_5b135191_75a7_11eb_90d1_c0a6ba7e0c36row4_col2{\n",
       "            background-color:  #e1dfed;\n",
       "            color:  #000000;\n",
       "        }#T_5b135191_75a7_11eb_90d1_c0a6ba7e0c36row4_col3{\n",
       "            background-color:  #f1ebf5;\n",
       "            color:  #000000;\n",
       "        }#T_5b135191_75a7_11eb_90d1_c0a6ba7e0c36row5_col1{\n",
       "            background-color:  #d5d5e8;\n",
       "            color:  #000000;\n",
       "        }#T_5b135191_75a7_11eb_90d1_c0a6ba7e0c36row5_col2{\n",
       "            background-color:  #99b8d8;\n",
       "            color:  #000000;\n",
       "        }#T_5b135191_75a7_11eb_90d1_c0a6ba7e0c36row5_col3{\n",
       "            background-color:  #73a9cf;\n",
       "            color:  #000000;\n",
       "        }#T_5b135191_75a7_11eb_90d1_c0a6ba7e0c36row6_col0{\n",
       "            background-color:  #2c89bd;\n",
       "            color:  #000000;\n",
       "        }#T_5b135191_75a7_11eb_90d1_c0a6ba7e0c36row6_col1{\n",
       "            background-color:  #dbdaeb;\n",
       "            color:  #000000;\n",
       "        }#T_5b135191_75a7_11eb_90d1_c0a6ba7e0c36row6_col2{\n",
       "            background-color:  #4697c4;\n",
       "            color:  #000000;\n",
       "        }#T_5b135191_75a7_11eb_90d1_c0a6ba7e0c36row6_col3{\n",
       "            background-color:  #348ebf;\n",
       "            color:  #000000;\n",
       "        }#T_5b135191_75a7_11eb_90d1_c0a6ba7e0c36row7_col0{\n",
       "            background-color:  #80aed2;\n",
       "            color:  #000000;\n",
       "        }#T_5b135191_75a7_11eb_90d1_c0a6ba7e0c36row7_col1{\n",
       "            background-color:  #d8d7e9;\n",
       "            color:  #000000;\n",
       "        }#T_5b135191_75a7_11eb_90d1_c0a6ba7e0c36row7_col2{\n",
       "            background-color:  #056caa;\n",
       "            color:  #f1f1f1;\n",
       "        }#T_5b135191_75a7_11eb_90d1_c0a6ba7e0c36row7_col3{\n",
       "            background-color:  #0771b1;\n",
       "            color:  #f1f1f1;\n",
       "        }#T_5b135191_75a7_11eb_90d1_c0a6ba7e0c36row8_col0{\n",
       "            background-color:  #bbc7e0;\n",
       "            color:  #000000;\n",
       "        }#T_5b135191_75a7_11eb_90d1_c0a6ba7e0c36row8_col1{\n",
       "            background-color:  #dcdaeb;\n",
       "            color:  #000000;\n",
       "        }</style><table id=\"T_5b135191_75a7_11eb_90d1_c0a6ba7e0c36\" ><thead>    <tr>        <th class=\"blank level0\" ></th>        <th class=\"col_heading level0 col0\" colspan=2>mean</th>        <th class=\"col_heading level0 col2\" colspan=2>sum</th>    </tr>    <tr>        <th class=\"index_name level1\" >우루사</th>        <th class=\"col_heading level1 col0\" >False</th>        <th class=\"col_heading level1 col1\" >True</th>        <th class=\"col_heading level1 col2\" >False</th>        <th class=\"col_heading level1 col3\" >True</th>    </tr>    <tr>        <th class=\"index_name level0\" >기준년도</th>        <th class=\"blank\" ></th>        <th class=\"blank\" ></th>        <th class=\"blank\" ></th>        <th class=\"blank\" ></th>    </tr></thead><tbody>\n",
       "                <tr>\n",
       "                        <th id=\"T_5b135191_75a7_11eb_90d1_c0a6ba7e0c36level0_row0\" class=\"row_heading level0 row0\" >2011</th>\n",
       "                        <td id=\"T_5b135191_75a7_11eb_90d1_c0a6ba7e0c36row0_col0\" class=\"data row0 col0\" >38404</td>\n",
       "                        <td id=\"T_5b135191_75a7_11eb_90d1_c0a6ba7e0c36row0_col1\" class=\"data row0 col1\" >14173</td>\n",
       "                        <td id=\"T_5b135191_75a7_11eb_90d1_c0a6ba7e0c36row0_col2\" class=\"data row0 col2\" >266483983</td>\n",
       "                        <td id=\"T_5b135191_75a7_11eb_90d1_c0a6ba7e0c36row0_col3\" class=\"data row0 col3\" >407796550</td>\n",
       "            </tr>\n",
       "            <tr>\n",
       "                        <th id=\"T_5b135191_75a7_11eb_90d1_c0a6ba7e0c36level0_row1\" class=\"row_heading level0 row1\" >2012</th>\n",
       "                        <td id=\"T_5b135191_75a7_11eb_90d1_c0a6ba7e0c36row1_col0\" class=\"data row1 col0\" >37917</td>\n",
       "                        <td id=\"T_5b135191_75a7_11eb_90d1_c0a6ba7e0c36row1_col1\" class=\"data row1 col1\" >12409</td>\n",
       "                        <td id=\"T_5b135191_75a7_11eb_90d1_c0a6ba7e0c36row1_col2\" class=\"data row1 col2\" >308262856</td>\n",
       "                        <td id=\"T_5b135191_75a7_11eb_90d1_c0a6ba7e0c36row1_col3\" class=\"data row1 col3\" >386196045</td>\n",
       "            </tr>\n",
       "            <tr>\n",
       "                        <th id=\"T_5b135191_75a7_11eb_90d1_c0a6ba7e0c36level0_row2\" class=\"row_heading level0 row2\" >2013</th>\n",
       "                        <td id=\"T_5b135191_75a7_11eb_90d1_c0a6ba7e0c36row2_col0\" class=\"data row2 col0\" >38425</td>\n",
       "                        <td id=\"T_5b135191_75a7_11eb_90d1_c0a6ba7e0c36row2_col1\" class=\"data row2 col1\" >11379</td>\n",
       "                        <td id=\"T_5b135191_75a7_11eb_90d1_c0a6ba7e0c36row2_col2\" class=\"data row2 col2\" >326884030</td>\n",
       "                        <td id=\"T_5b135191_75a7_11eb_90d1_c0a6ba7e0c36row2_col3\" class=\"data row2 col3\" >388637225</td>\n",
       "            </tr>\n",
       "            <tr>\n",
       "                        <th id=\"T_5b135191_75a7_11eb_90d1_c0a6ba7e0c36level0_row3\" class=\"row_heading level0 row3\" >2014</th>\n",
       "                        <td id=\"T_5b135191_75a7_11eb_90d1_c0a6ba7e0c36row3_col0\" class=\"data row3 col0\" >38577</td>\n",
       "                        <td id=\"T_5b135191_75a7_11eb_90d1_c0a6ba7e0c36row3_col1\" class=\"data row3 col1\" >10992</td>\n",
       "                        <td id=\"T_5b135191_75a7_11eb_90d1_c0a6ba7e0c36row3_col2\" class=\"data row3 col2\" >330834240</td>\n",
       "                        <td id=\"T_5b135191_75a7_11eb_90d1_c0a6ba7e0c36row3_col3\" class=\"data row3 col3\" >363038706</td>\n",
       "            </tr>\n",
       "            <tr>\n",
       "                        <th id=\"T_5b135191_75a7_11eb_90d1_c0a6ba7e0c36level0_row4\" class=\"row_heading level0 row4\" >2015</th>\n",
       "                        <td id=\"T_5b135191_75a7_11eb_90d1_c0a6ba7e0c36row4_col0\" class=\"data row4 col0\" >40016</td>\n",
       "                        <td id=\"T_5b135191_75a7_11eb_90d1_c0a6ba7e0c36row4_col1\" class=\"data row4 col1\" >11342</td>\n",
       "                        <td id=\"T_5b135191_75a7_11eb_90d1_c0a6ba7e0c36row4_col2\" class=\"data row4 col2\" >435618308</td>\n",
       "                        <td id=\"T_5b135191_75a7_11eb_90d1_c0a6ba7e0c36row4_col3\" class=\"data row4 col3\" >398380236</td>\n",
       "            </tr>\n",
       "            <tr>\n",
       "                        <th id=\"T_5b135191_75a7_11eb_90d1_c0a6ba7e0c36level0_row5\" class=\"row_heading level0 row5\" >2016</th>\n",
       "                        <td id=\"T_5b135191_75a7_11eb_90d1_c0a6ba7e0c36row5_col0\" class=\"data row5 col0\" >40519</td>\n",
       "                        <td id=\"T_5b135191_75a7_11eb_90d1_c0a6ba7e0c36row5_col1\" class=\"data row5 col1\" >11720</td>\n",
       "                        <td id=\"T_5b135191_75a7_11eb_90d1_c0a6ba7e0c36row5_col2\" class=\"data row5 col2\" >657742616</td>\n",
       "                        <td id=\"T_5b135191_75a7_11eb_90d1_c0a6ba7e0c36row5_col3\" class=\"data row5 col3\" >556164680</td>\n",
       "            </tr>\n",
       "            <tr>\n",
       "                        <th id=\"T_5b135191_75a7_11eb_90d1_c0a6ba7e0c36level0_row6\" class=\"row_heading level0 row6\" >2017</th>\n",
       "                        <td id=\"T_5b135191_75a7_11eb_90d1_c0a6ba7e0c36row6_col0\" class=\"data row6 col0\" >39606</td>\n",
       "                        <td id=\"T_5b135191_75a7_11eb_90d1_c0a6ba7e0c36row6_col1\" class=\"data row6 col1\" >11638</td>\n",
       "                        <td id=\"T_5b135191_75a7_11eb_90d1_c0a6ba7e0c36row6_col2\" class=\"data row6 col2\" >834810331</td>\n",
       "                        <td id=\"T_5b135191_75a7_11eb_90d1_c0a6ba7e0c36row6_col3\" class=\"data row6 col3\" >606021625</td>\n",
       "            </tr>\n",
       "            <tr>\n",
       "                        <th id=\"T_5b135191_75a7_11eb_90d1_c0a6ba7e0c36level0_row7\" class=\"row_heading level0 row7\" >2018</th>\n",
       "                        <td id=\"T_5b135191_75a7_11eb_90d1_c0a6ba7e0c36row7_col0\" class=\"data row7 col0\" >39138</td>\n",
       "                        <td id=\"T_5b135191_75a7_11eb_90d1_c0a6ba7e0c36row7_col1\" class=\"data row7 col1\" >11682</td>\n",
       "                        <td id=\"T_5b135191_75a7_11eb_90d1_c0a6ba7e0c36row7_col2\" class=\"data row7 col2\" >1010885275</td>\n",
       "                        <td id=\"T_5b135191_75a7_11eb_90d1_c0a6ba7e0c36row7_col3\" class=\"data row7 col3\" >649084368</td>\n",
       "            </tr>\n",
       "            <tr>\n",
       "                        <th id=\"T_5b135191_75a7_11eb_90d1_c0a6ba7e0c36level0_row8\" class=\"row_heading level0 row8\" >2019</th>\n",
       "                        <td id=\"T_5b135191_75a7_11eb_90d1_c0a6ba7e0c36row8_col0\" class=\"data row8 col0\" >38737</td>\n",
       "                        <td id=\"T_5b135191_75a7_11eb_90d1_c0a6ba7e0c36row8_col1\" class=\"data row8 col1\" >11616</td>\n",
       "                        <td id=\"T_5b135191_75a7_11eb_90d1_c0a6ba7e0c36row8_col2\" class=\"data row8 col2\" >1229109791</td>\n",
       "                        <td id=\"T_5b135191_75a7_11eb_90d1_c0a6ba7e0c36row8_col3\" class=\"data row8 col3\" >747204401</td>\n",
       "            </tr>\n",
       "    </tbody></table>"
      ],
      "text/plain": [
       "<pandas.io.formats.style.Styler at 0x27042a27df0>"
      ]
     },
     "execution_count": 34,
     "metadata": {},
     "output_type": "execute_result"
    }
   ],
   "source": [
    "#우르사와 기준년도 \n",
    "\n",
    "year_price = df.groupby([\"기준년도\",\"우루사\"])[\"금액\"].agg(\n",
    "    [\"mean\",\"sum\"]).unstack().round(0).astype(int)\n",
    "year_price.style.background_gradient()"
   ]
  },
  {
   "cell_type": "markdown",
   "metadata": {},
   "source": [
    "### 결측치 보기"
   ]
  },
  {
   "cell_type": "code",
   "execution_count": 35,
   "metadata": {},
   "outputs": [
    {
     "data": {
      "text/plain": [
       "기준년도           0\n",
       "가입자 일련번호       0\n",
       "처방내역일련번호       0\n",
       "일련번호           0\n",
       "성별코드           0\n",
       "연령대코드(5세단위)    0\n",
       "시도코드           0\n",
       "요양개시일자         0\n",
       "약품일반성분명코드      0\n",
       "1회 투약량         0\n",
       "1일투약량          0\n",
       "총투여일수          0\n",
       "단가             0\n",
       "금액             0\n",
       "데이터 공개일자       0\n",
       "우루사            0\n",
       "약품일반성분명        0\n",
       "dtype: int64"
      ]
     },
     "execution_count": 35,
     "metadata": {},
     "output_type": "execute_result"
    }
   ],
   "source": [
    "# 결측치가 있는지 봅니다.\n",
    "df.isnull().sum()"
   ]
  },
  {
   "cell_type": "code",
   "execution_count": 54,
   "metadata": {},
   "outputs": [
    {
     "name": "stdout",
     "output_type": "stream",
     "text": [
      "<class 'pandas.core.frame.DataFrame'>\n",
      "RangeIndex: 519525 entries, 0 to 519524\n",
      "Data columns (total 17 columns):\n",
      " #   Column       Non-Null Count   Dtype  \n",
      "---  ------       --------------   -----  \n",
      " 0   기준년도         519525 non-null  int64  \n",
      " 1   가입자 일련번호     519525 non-null  int64  \n",
      " 2   처방내역일련번호     519525 non-null  int64  \n",
      " 3   일련번호         519525 non-null  int64  \n",
      " 4   성별코드         519525 non-null  int64  \n",
      " 5   연령대코드(5세단위)  519525 non-null  int64  \n",
      " 6   시도코드         519525 non-null  int64  \n",
      " 7   요양개시일자       519525 non-null  int64  \n",
      " 8   약품일반성분명코드    519525 non-null  object \n",
      " 9   1회 투약량       519525 non-null  float64\n",
      " 10  1일투약량        519525 non-null  int64  \n",
      " 11  총투여일수        519525 non-null  int64  \n",
      " 12  단가           519525 non-null  float64\n",
      " 13  금액           519525 non-null  int64  \n",
      " 14  데이터 공개일자     519525 non-null  int64  \n",
      " 15  우루사          519525 non-null  bool   \n",
      " 16  약품일반성분명      519525 non-null  object \n",
      "dtypes: bool(1), float64(2), int64(12), object(2)\n",
      "memory usage: 63.9+ MB\n"
     ]
    }
   ],
   "source": [
    "df.info()"
   ]
  },
  {
   "cell_type": "markdown",
   "metadata": {},
   "source": [
    "### 요양개시일자로 정렬하기"
   ]
  },
  {
   "cell_type": "code",
   "execution_count": 42,
   "metadata": {
    "collapsed": true
   },
   "outputs": [
    {
     "data": {
      "text/html": [
       "<div>\n",
       "<style scoped>\n",
       "    .dataframe tbody tr th:only-of-type {\n",
       "        vertical-align: middle;\n",
       "    }\n",
       "\n",
       "    .dataframe tbody tr th {\n",
       "        vertical-align: top;\n",
       "    }\n",
       "\n",
       "    .dataframe thead th {\n",
       "        text-align: right;\n",
       "    }\n",
       "</style>\n",
       "<table border=\"1\" class=\"dataframe\">\n",
       "  <thead>\n",
       "    <tr style=\"text-align: right;\">\n",
       "      <th></th>\n",
       "      <th>기준년도</th>\n",
       "      <th>가입자 일련번호</th>\n",
       "      <th>처방내역일련번호</th>\n",
       "      <th>일련번호</th>\n",
       "      <th>성별코드</th>\n",
       "      <th>연령대코드(5세단위)</th>\n",
       "      <th>시도코드</th>\n",
       "      <th>요양개시일자</th>\n",
       "      <th>약품일반성분명코드</th>\n",
       "      <th>1회 투약량</th>\n",
       "      <th>1일투약량</th>\n",
       "      <th>총투여일수</th>\n",
       "      <th>단가</th>\n",
       "      <th>금액</th>\n",
       "      <th>데이터 공개일자</th>\n",
       "      <th>우루사</th>\n",
       "      <th>약품일반성분명</th>\n",
       "    </tr>\n",
       "  </thead>\n",
       "  <tbody>\n",
       "    <tr>\n",
       "      <th>0</th>\n",
       "      <td>2011</td>\n",
       "      <td>263152</td>\n",
       "      <td>301</td>\n",
       "      <td>3</td>\n",
       "      <td>1</td>\n",
       "      <td>12</td>\n",
       "      <td>41</td>\n",
       "      <td>20111109</td>\n",
       "      <td>246501ATB</td>\n",
       "      <td>1.0</td>\n",
       "      <td>3</td>\n",
       "      <td>3</td>\n",
       "      <td>111.0</td>\n",
       "      <td>999</td>\n",
       "      <td>20151220</td>\n",
       "      <td>True</td>\n",
       "      <td>우루사정100밀리그램</td>\n",
       "    </tr>\n",
       "    <tr>\n",
       "      <th>1</th>\n",
       "      <td>2011</td>\n",
       "      <td>142227</td>\n",
       "      <td>310</td>\n",
       "      <td>4</td>\n",
       "      <td>1</td>\n",
       "      <td>14</td>\n",
       "      <td>41</td>\n",
       "      <td>20111125</td>\n",
       "      <td>246501ATB</td>\n",
       "      <td>1.0</td>\n",
       "      <td>3</td>\n",
       "      <td>7</td>\n",
       "      <td>111.0</td>\n",
       "      <td>2331</td>\n",
       "      <td>20151220</td>\n",
       "      <td>True</td>\n",
       "      <td>우루사정100밀리그램</td>\n",
       "    </tr>\n",
       "    <tr>\n",
       "      <th>2</th>\n",
       "      <td>2011</td>\n",
       "      <td>253952</td>\n",
       "      <td>1013</td>\n",
       "      <td>1</td>\n",
       "      <td>2</td>\n",
       "      <td>9</td>\n",
       "      <td>46</td>\n",
       "      <td>20111203</td>\n",
       "      <td>246502ATB</td>\n",
       "      <td>1.0</td>\n",
       "      <td>3</td>\n",
       "      <td>14</td>\n",
       "      <td>165.0</td>\n",
       "      <td>6930</td>\n",
       "      <td>20151220</td>\n",
       "      <td>True</td>\n",
       "      <td>우루사정200밀리그램</td>\n",
       "    </tr>\n",
       "  </tbody>\n",
       "</table>\n",
       "</div>"
      ],
      "text/plain": [
       "   기준년도  가입자 일련번호  처방내역일련번호  일련번호  성별코드  연령대코드(5세단위)  시도코드    요양개시일자  \\\n",
       "0  2011    263152       301     3     1           12    41  20111109   \n",
       "1  2011    142227       310     4     1           14    41  20111125   \n",
       "2  2011    253952      1013     1     2            9    46  20111203   \n",
       "\n",
       "   약품일반성분명코드  1회 투약량  1일투약량  총투여일수     단가    금액  데이터 공개일자   우루사      약품일반성분명  \n",
       "0  246501ATB     1.0      3      3  111.0   999  20151220  True  우루사정100밀리그램  \n",
       "1  246501ATB     1.0      3      7  111.0  2331  20151220  True  우루사정100밀리그램  \n",
       "2  246502ATB     1.0      3     14  165.0  6930  20151220  True  우루사정200밀리그램  "
      ]
     },
     "execution_count": 42,
     "metadata": {},
     "output_type": "execute_result"
    }
   ],
   "source": [
    "# \"요양개시일자\", \"가입자일련번호\", \"처방내역일련번호\", \"일련번호\" 로 정렬합니다.\n",
    "df.sort_values([\"요양개시일자\", \"가입자 일련번호\", \"처방내역일련번호\", \"일련번호\"])\n",
    "df.head(3)"
   ]
  },
  {
   "cell_type": "markdown",
   "metadata": {},
   "source": [
    "- \"우루사\"를 처장받는 사람들이 어떤 약을 같이 처방받았는지도 알 수 있다.\n",
    "- '일련번호'는 처장자가 몇번째 처장받은 것인질르 나타낸다."
   ]
  },
  {
   "cell_type": "markdown",
   "metadata": {},
   "source": [
    "### 날짜 다루기\n",
    "* 연, 월, 일, 요일 추출하기"
   ]
  },
  {
   "cell_type": "code",
   "execution_count": 51,
   "metadata": {
    "scrolled": true
   },
   "outputs": [
    {
     "data": {
      "text/plain": [
       "0    20111109\n",
       "Name: 요양개시일자, dtype: int64"
      ]
     },
     "execution_count": 51,
     "metadata": {},
     "output_type": "execute_result"
    }
   ],
   "source": [
    "# \"요양개시일자\"의 데이터 타입을 봅니다.\n",
    "df[\"요양개시일자\"].head(1)"
   ]
  },
  {
   "cell_type": "code",
   "execution_count": 55,
   "metadata": {},
   "outputs": [],
   "source": [
    "# \"요양개시일자\"를 datetime 형태로 변환하기 위해서 astype 을 사용해 문자형태로 변환합니다.\n",
    "# 타입을 변경하고 다시 같은 컬럼에 데이터를 담아주어야 변경된 내용이 반영됩니다.\n",
    "df[\"요양개시일자\"] = pd.to_datetime(df[\"요양개시일자\"].astype(str))\n",
    "# 데이트타임 형식으로 변형을 할때 숫자로 변환이 된다면 .astype(str)를 붙이면 \n",
    "# 원하는 형태로 변형가능 하다."
   ]
  },
  {
   "cell_type": "code",
   "execution_count": 56,
   "metadata": {},
   "outputs": [],
   "source": [
    "# \"요양개시일자\"에서 연, 월, 일을 추출합니다.\n",
    "df[\"연\"] = df[\"요양개시일자\"].dt.year\n",
    "df[\"월\"] = df[\"요양개시일자\"].dt.month\n",
    "df[\"일\"] = df[\"요양개시일자\"].dt.day"
   ]
  },
  {
   "cell_type": "code",
   "execution_count": 57,
   "metadata": {},
   "outputs": [],
   "source": [
    "# \"요양개시일자\"에서 \"요일\"과 \"영문요일\"을 추출합니다.\n",
    "df[\"요일\"]=df[\"요양개시일자\"].dt.dayofweek\n",
    "df[\"영문요일\"]=df[\"요양개시일자\"].dt.day_name()"
   ]
  },
  {
   "cell_type": "code",
   "execution_count": 62,
   "metadata": {
    "scrolled": true
   },
   "outputs": [
    {
     "data": {
      "text/html": [
       "<div>\n",
       "<style scoped>\n",
       "    .dataframe tbody tr th:only-of-type {\n",
       "        vertical-align: middle;\n",
       "    }\n",
       "\n",
       "    .dataframe tbody tr th {\n",
       "        vertical-align: top;\n",
       "    }\n",
       "\n",
       "    .dataframe thead th {\n",
       "        text-align: right;\n",
       "    }\n",
       "</style>\n",
       "<table border=\"1\" class=\"dataframe\">\n",
       "  <thead>\n",
       "    <tr style=\"text-align: right;\">\n",
       "      <th></th>\n",
       "      <th>요일</th>\n",
       "      <th>영문요일</th>\n",
       "      <th>요일명</th>\n",
       "    </tr>\n",
       "  </thead>\n",
       "  <tbody>\n",
       "    <tr>\n",
       "      <th>0</th>\n",
       "      <td>2</td>\n",
       "      <td>Wednesday</td>\n",
       "      <td>수</td>\n",
       "    </tr>\n",
       "    <tr>\n",
       "      <th>1</th>\n",
       "      <td>4</td>\n",
       "      <td>Friday</td>\n",
       "      <td>금</td>\n",
       "    </tr>\n",
       "    <tr>\n",
       "      <th>2</th>\n",
       "      <td>5</td>\n",
       "      <td>Saturday</td>\n",
       "      <td>토</td>\n",
       "    </tr>\n",
       "    <tr>\n",
       "      <th>3</th>\n",
       "      <td>0</td>\n",
       "      <td>Monday</td>\n",
       "      <td>월</td>\n",
       "    </tr>\n",
       "    <tr>\n",
       "      <th>4</th>\n",
       "      <td>0</td>\n",
       "      <td>Monday</td>\n",
       "      <td>월</td>\n",
       "    </tr>\n",
       "  </tbody>\n",
       "</table>\n",
       "</div>"
      ],
      "text/plain": [
       "   요일       영문요일 요일명\n",
       "0   2  Wednesday   수\n",
       "1   4     Friday   금\n",
       "2   5   Saturday   토\n",
       "3   0     Monday   월\n",
       "4   0     Monday   월"
      ]
     },
     "execution_count": 62,
     "metadata": {},
     "output_type": "execute_result"
    }
   ],
   "source": [
    "# 요일을 한글요일로 변경합니다.\n",
    "weekday = \"월화수목금토일\"\n",
    "# df[\"요일명\"]\n",
    "df[\"요일명\"]=df[\"요일\"].map(lambda x:weekday[x])  #자기 자신을 반환한다.\n",
    "# weekday에 x를 넣어주면은 요일을 요일명으로 불러 올 수 있다.\n",
    "df[[\"요일\",\"영문요일\",\"요일명\"]].head()"
   ]
  },
  {
   "cell_type": "markdown",
   "metadata": {},
   "source": [
    "### 컬럼 디스플레이 옵션 변경하기"
   ]
  },
  {
   "cell_type": "code",
   "execution_count": null,
   "metadata": {},
   "outputs": [],
   "source": []
  },
  {
   "cell_type": "code",
   "execution_count": 64,
   "metadata": {},
   "outputs": [],
   "source": [
    "# 컬럼이 많이 늘어나서 한번에 모든 컬럼이 보이지 않습니다.\n",
    "# max_columns 의 수를 지정합니다.\n",
    "pd.options.display.max_columns = None\n",
    "#숫자를 넣으면 숫자 만큼 보이고 None 이라고 지정하면 생략하지 않고 전부 가져오게 된다."
   ]
  },
  {
   "cell_type": "code",
   "execution_count": 65,
   "metadata": {},
   "outputs": [
    {
     "data": {
      "text/html": [
       "<div>\n",
       "<style scoped>\n",
       "    .dataframe tbody tr th:only-of-type {\n",
       "        vertical-align: middle;\n",
       "    }\n",
       "\n",
       "    .dataframe tbody tr th {\n",
       "        vertical-align: top;\n",
       "    }\n",
       "\n",
       "    .dataframe thead th {\n",
       "        text-align: right;\n",
       "    }\n",
       "</style>\n",
       "<table border=\"1\" class=\"dataframe\">\n",
       "  <thead>\n",
       "    <tr style=\"text-align: right;\">\n",
       "      <th></th>\n",
       "      <th>기준년도</th>\n",
       "      <th>가입자 일련번호</th>\n",
       "      <th>처방내역일련번호</th>\n",
       "      <th>일련번호</th>\n",
       "      <th>성별코드</th>\n",
       "      <th>연령대코드(5세단위)</th>\n",
       "      <th>시도코드</th>\n",
       "      <th>요양개시일자</th>\n",
       "      <th>약품일반성분명코드</th>\n",
       "      <th>1회 투약량</th>\n",
       "      <th>1일투약량</th>\n",
       "      <th>총투여일수</th>\n",
       "      <th>단가</th>\n",
       "      <th>금액</th>\n",
       "      <th>데이터 공개일자</th>\n",
       "      <th>우루사</th>\n",
       "      <th>약품일반성분명</th>\n",
       "      <th>연</th>\n",
       "      <th>월</th>\n",
       "      <th>일</th>\n",
       "      <th>요일</th>\n",
       "      <th>영문요일</th>\n",
       "      <th>요일명</th>\n",
       "    </tr>\n",
       "  </thead>\n",
       "  <tbody>\n",
       "    <tr>\n",
       "      <th>88313</th>\n",
       "      <td>2013</td>\n",
       "      <td>434579</td>\n",
       "      <td>2449665</td>\n",
       "      <td>2</td>\n",
       "      <td>2</td>\n",
       "      <td>10</td>\n",
       "      <td>45</td>\n",
       "      <td>2013-04-05</td>\n",
       "      <td>246502ATB</td>\n",
       "      <td>1.0</td>\n",
       "      <td>2</td>\n",
       "      <td>30</td>\n",
       "      <td>202.0</td>\n",
       "      <td>12120</td>\n",
       "      <td>20151220</td>\n",
       "      <td>True</td>\n",
       "      <td>우루사정200밀리그램</td>\n",
       "      <td>2013</td>\n",
       "      <td>4</td>\n",
       "      <td>5</td>\n",
       "      <td>4</td>\n",
       "      <td>Friday</td>\n",
       "      <td>금</td>\n",
       "    </tr>\n",
       "  </tbody>\n",
       "</table>\n",
       "</div>"
      ],
      "text/plain": [
       "       기준년도  가입자 일련번호  처방내역일련번호  일련번호  성별코드  연령대코드(5세단위)  시도코드     요양개시일자  \\\n",
       "88313  2013    434579   2449665     2     2           10    45 2013-04-05   \n",
       "\n",
       "       약품일반성분명코드  1회 투약량  1일투약량  총투여일수     단가     금액  데이터 공개일자   우루사  \\\n",
       "88313  246502ATB     1.0      2     30  202.0  12120  20151220  True   \n",
       "\n",
       "           약품일반성분명     연  월  일  요일    영문요일 요일명  \n",
       "88313  우루사정200밀리그램  2013  4  5   4  Friday   금  "
      ]
     },
     "execution_count": 65,
     "metadata": {},
     "output_type": "execute_result"
    }
   ],
   "source": [
    "# sample 을 통해 모든 컬럼이 보이는지 확인합니다.\n",
    "df.sample()"
   ]
  },
  {
   "cell_type": "markdown",
   "metadata": {},
   "source": [
    "### 시도코드를 시도명으로 변환하기\n",
    "* 시도코드를 통해 시도명을 만듭니다."
   ]
  },
  {
   "cell_type": "code",
   "execution_count": 67,
   "metadata": {},
   "outputs": [
    {
     "data": {
      "text/plain": [
       "['11 서울특별시',\n",
       " '42 강원도',\n",
       " '26 부산광역시',\n",
       " '43 충청북도',\n",
       " '27 대구광역시',\n",
       " '44 충청남도',\n",
       " '28 인천광역시',\n",
       " '45 전라북도',\n",
       " '29 광주광역시',\n",
       " '46 전라남도',\n",
       " '30 대전광역시',\n",
       " '47 경상북도',\n",
       " '31 울산광역시',\n",
       " '48 경상남도',\n",
       " '36 세종특별자치시',\n",
       " '49 제주특별자치도',\n",
       " '41 경기도']"
      ]
     },
     "execution_count": 67,
     "metadata": {},
     "output_type": "execute_result"
    }
   ],
   "source": [
    "city = \"\"\"11 서울특별시\n",
    "42 강원도\n",
    "26 부산광역시\n",
    "43 충청북도\n",
    "27 대구광역시\n",
    "44 충청남도\n",
    "28 인천광역시\n",
    "45 전라북도\n",
    "29 광주광역시\n",
    "46 전라남도\n",
    "30 대전광역시\n",
    "47 경상북도\n",
    "31 울산광역시\n",
    "48 경상남도\n",
    "36 세종특별자치시\n",
    "49 제주특별자치도\n",
    "41 경기도\"\"\"\n",
    "city_list = city.split(\"\\n\")\n",
    "city_list"
   ]
  },
  {
   "cell_type": "code",
   "execution_count": 70,
   "metadata": {},
   "outputs": [
    {
     "name": "stdout",
     "output_type": "stream",
     "text": [
      "{11: '서울특별시', 42: '강원도', 26: '부산광역시', 43: '충청북도', 27: '대구광역시', 44: '충청남도', 28: '인천광역시', 45: '전라북도', 29: '광주광역시', 46: '전라남도', 30: '대전광역시', 47: '경상북도', 31: '울산광역시', 48: '경상남도', 36: '세종특별자치시', 49: '제주특별자치도', 41: '경기도'}\n"
     ]
    }
   ],
   "source": [
    "# city 변수에 담긴 코드값과 코드명을 딕셔너리 형태로 만들기\n",
    "city_name={}\n",
    "for city_info in city_list:\n",
    "    city_split=city_info.split()\n",
    "    city_key=int(city_split[0])\n",
    "    city_val = city_split[-1]\n",
    "    city_name[city_key]=city_val\n",
    "    \n",
    "print(city_name)"
   ]
  },
  {
   "cell_type": "markdown",
   "metadata": {},
   "source": [
    "- 위 내용을 실행하면 코드 부분이 문자로 되어있다."
   ]
  },
  {
   "cell_type": "code",
   "execution_count": 72,
   "metadata": {},
   "outputs": [
    {
     "data": {
      "text/html": [
       "<div>\n",
       "<style scoped>\n",
       "    .dataframe tbody tr th:only-of-type {\n",
       "        vertical-align: middle;\n",
       "    }\n",
       "\n",
       "    .dataframe tbody tr th {\n",
       "        vertical-align: top;\n",
       "    }\n",
       "\n",
       "    .dataframe thead th {\n",
       "        text-align: right;\n",
       "    }\n",
       "</style>\n",
       "<table border=\"1\" class=\"dataframe\">\n",
       "  <thead>\n",
       "    <tr style=\"text-align: right;\">\n",
       "      <th></th>\n",
       "      <th>시도명</th>\n",
       "      <th>시도코드</th>\n",
       "    </tr>\n",
       "  </thead>\n",
       "  <tbody>\n",
       "    <tr>\n",
       "      <th>0</th>\n",
       "      <td>경기도</td>\n",
       "      <td>41</td>\n",
       "    </tr>\n",
       "    <tr>\n",
       "      <th>1</th>\n",
       "      <td>경기도</td>\n",
       "      <td>41</td>\n",
       "    </tr>\n",
       "    <tr>\n",
       "      <th>2</th>\n",
       "      <td>전라남도</td>\n",
       "      <td>46</td>\n",
       "    </tr>\n",
       "    <tr>\n",
       "      <th>3</th>\n",
       "      <td>전라남도</td>\n",
       "      <td>46</td>\n",
       "    </tr>\n",
       "    <tr>\n",
       "      <th>4</th>\n",
       "      <td>경상남도</td>\n",
       "      <td>48</td>\n",
       "    </tr>\n",
       "  </tbody>\n",
       "</table>\n",
       "</div>"
      ],
      "text/plain": [
       "    시도명  시도코드\n",
       "0   경기도    41\n",
       "1   경기도    41\n",
       "2  전라남도    46\n",
       "3  전라남도    46\n",
       "4  경상남도    48"
      ]
     },
     "execution_count": 72,
     "metadata": {},
     "output_type": "execute_result"
    }
   ],
   "source": [
    "# 시도명 컬럼 만들기\n",
    "df[\"시도명\"] = df[\"시도코드\"].map(city_name)\n",
    "df[[\"시도명\",\"시도코드\"]].head()\n",
    "# map() 에 대한 부분 follow_up하기"
   ]
  },
  {
   "cell_type": "markdown",
   "metadata": {},
   "source": [
    "### '연령대코드(5세단위)' 를 연령대로 변환하기"
   ]
  },
  {
   "cell_type": "code",
   "execution_count": 73,
   "metadata": {},
   "outputs": [],
   "source": [
    "# '연령대코드(5세단위)' 를 연령대로 나타내기\n",
    "age_code = \"\"\"1 00~04세 \n",
    "2 05~09세\n",
    "3 10~14세\n",
    "4 15~19세\n",
    "5 20~24세\n",
    "6 25~29세\n",
    "7 30~34세\n",
    "8 35~39세\n",
    "9 40~44세\n",
    "11 50~54세\n",
    "10 45~49세\n",
    "12 55~59세\n",
    "13 60~64세\n",
    "14 65~69세\n",
    "15 70~74세\n",
    "16 75~79세\n",
    "17 80~84세\n",
    "18 85세+\"\"\""
   ]
  },
  {
   "cell_type": "code",
   "execution_count": 78,
   "metadata": {},
   "outputs": [
    {
     "data": {
      "text/plain": [
       "{1: '00~04세',\n",
       " 2: '05~09세',\n",
       " 3: '10~14세',\n",
       " 4: '15~19세',\n",
       " 5: '20~24세',\n",
       " 6: '25~29세',\n",
       " 7: '30~34세',\n",
       " 8: '35~39세',\n",
       " 9: '40~44세',\n",
       " 11: '50~54세',\n",
       " 10: '45~49세',\n",
       " 12: '55~59세',\n",
       " 13: '60~64세',\n",
       " 14: '65~69세',\n",
       " 15: '70~74세',\n",
       " 16: '75~79세',\n",
       " 17: '80~84세',\n",
       " 18: '85세+'}"
      ]
     },
     "execution_count": 78,
     "metadata": {},
     "output_type": "execute_result"
    }
   ],
   "source": [
    "age_list = age_code.split(\"\\n\")\n",
    "age_dict = {}\n",
    "for age_pair in age_list:\n",
    "    age_split = age_pair.split(\" \")\n",
    "    key = age_split[0]\n",
    "    key = int(key)\n",
    "    val = age_split[1]\n",
    "    age_dict[key] = val\n",
    "age_dict"
   ]
  },
  {
   "cell_type": "code",
   "execution_count": 79,
   "metadata": {},
   "outputs": [],
   "source": [
    "df[\"연령대\"] = df[\"연령대코드(5세단위)\"].map(age_dict)"
   ]
  },
  {
   "cell_type": "markdown",
   "metadata": {},
   "source": [
    "### 특정 약품일반성분명코드로 서브셋 만들기\n",
    "* isin 사용하기"
   ]
  },
  {
   "cell_type": "code",
   "execution_count": 81,
   "metadata": {},
   "outputs": [
    {
     "data": {
      "text/plain": [
       "(3963, 25)"
      ]
     },
     "execution_count": 81,
     "metadata": {},
     "output_type": "execute_result"
    }
   ],
   "source": [
    "# 여러 개를 찾을 때 \"246506ATB\", \"246503ACH\" 약품만을 찾아봅니다.\n",
    "df_sample = df[df[\"약품일반성분명코드\"].isin([\"246506ATB\", \"246503ACH\" ])]\n",
    "df_sample.shape"
   ]
  },
  {
   "cell_type": "markdown",
   "metadata": {},
   "source": [
    "## 파일로 저장하기"
   ]
  },
  {
   "cell_type": "code",
   "execution_count": 83,
   "metadata": {},
   "outputs": [],
   "source": [
    "# \"sample.csv\" 파일로 저장하기\n",
    "df_sample.to_csv(\"sample.csv\", index = False, encoding = \"cp949\")"
   ]
  },
  {
   "cell_type": "code",
   "execution_count": 84,
   "metadata": {},
   "outputs": [
    {
     "data": {
      "text/html": [
       "<div>\n",
       "<style scoped>\n",
       "    .dataframe tbody tr th:only-of-type {\n",
       "        vertical-align: middle;\n",
       "    }\n",
       "\n",
       "    .dataframe tbody tr th {\n",
       "        vertical-align: top;\n",
       "    }\n",
       "\n",
       "    .dataframe thead th {\n",
       "        text-align: right;\n",
       "    }\n",
       "</style>\n",
       "<table border=\"1\" class=\"dataframe\">\n",
       "  <thead>\n",
       "    <tr style=\"text-align: right;\">\n",
       "      <th></th>\n",
       "      <th>기준년도</th>\n",
       "      <th>가입자 일련번호</th>\n",
       "      <th>처방내역일련번호</th>\n",
       "      <th>일련번호</th>\n",
       "      <th>성별코드</th>\n",
       "      <th>연령대코드(5세단위)</th>\n",
       "      <th>시도코드</th>\n",
       "      <th>요양개시일자</th>\n",
       "      <th>약품일반성분명코드</th>\n",
       "      <th>1회 투약량</th>\n",
       "      <th>1일투약량</th>\n",
       "      <th>총투여일수</th>\n",
       "      <th>단가</th>\n",
       "      <th>금액</th>\n",
       "      <th>데이터 공개일자</th>\n",
       "      <th>우루사</th>\n",
       "      <th>약품일반성분명</th>\n",
       "      <th>연</th>\n",
       "      <th>월</th>\n",
       "      <th>일</th>\n",
       "      <th>요일</th>\n",
       "      <th>영문요일</th>\n",
       "      <th>요일명</th>\n",
       "      <th>시도명</th>\n",
       "      <th>연령대</th>\n",
       "    </tr>\n",
       "  </thead>\n",
       "  <tbody>\n",
       "    <tr>\n",
       "      <th>0</th>\n",
       "      <td>2011</td>\n",
       "      <td>88000</td>\n",
       "      <td>2970</td>\n",
       "      <td>2</td>\n",
       "      <td>1</td>\n",
       "      <td>13</td>\n",
       "      <td>27</td>\n",
       "      <td>2011-12-23</td>\n",
       "      <td>246506ATB</td>\n",
       "      <td>1.0</td>\n",
       "      <td>1</td>\n",
       "      <td>90</td>\n",
       "      <td>327.0</td>\n",
       "      <td>29430</td>\n",
       "      <td>20151220</td>\n",
       "      <td>True</td>\n",
       "      <td>우루사정300밀리그램</td>\n",
       "      <td>2011</td>\n",
       "      <td>12</td>\n",
       "      <td>23</td>\n",
       "      <td>4</td>\n",
       "      <td>Friday</td>\n",
       "      <td>금</td>\n",
       "      <td>대구광역시</td>\n",
       "      <td>60~64세</td>\n",
       "    </tr>\n",
       "    <tr>\n",
       "      <th>1</th>\n",
       "      <td>2011</td>\n",
       "      <td>739925</td>\n",
       "      <td>2972</td>\n",
       "      <td>7</td>\n",
       "      <td>1</td>\n",
       "      <td>13</td>\n",
       "      <td>27</td>\n",
       "      <td>2011-12-22</td>\n",
       "      <td>246506ATB</td>\n",
       "      <td>1.0</td>\n",
       "      <td>1</td>\n",
       "      <td>36</td>\n",
       "      <td>327.0</td>\n",
       "      <td>11772</td>\n",
       "      <td>20151220</td>\n",
       "      <td>True</td>\n",
       "      <td>우루사정300밀리그램</td>\n",
       "      <td>2011</td>\n",
       "      <td>12</td>\n",
       "      <td>22</td>\n",
       "      <td>3</td>\n",
       "      <td>Thursday</td>\n",
       "      <td>목</td>\n",
       "      <td>대구광역시</td>\n",
       "      <td>60~64세</td>\n",
       "    </tr>\n",
       "    <tr>\n",
       "      <th>2</th>\n",
       "      <td>2011</td>\n",
       "      <td>319400</td>\n",
       "      <td>2976</td>\n",
       "      <td>3</td>\n",
       "      <td>1</td>\n",
       "      <td>15</td>\n",
       "      <td>27</td>\n",
       "      <td>2011-12-06</td>\n",
       "      <td>246506ATB</td>\n",
       "      <td>1.0</td>\n",
       "      <td>1</td>\n",
       "      <td>21</td>\n",
       "      <td>327.0</td>\n",
       "      <td>6867</td>\n",
       "      <td>20151220</td>\n",
       "      <td>True</td>\n",
       "      <td>우루사정300밀리그램</td>\n",
       "      <td>2011</td>\n",
       "      <td>12</td>\n",
       "      <td>6</td>\n",
       "      <td>1</td>\n",
       "      <td>Tuesday</td>\n",
       "      <td>화</td>\n",
       "      <td>대구광역시</td>\n",
       "      <td>70~74세</td>\n",
       "    </tr>\n",
       "    <tr>\n",
       "      <th>3</th>\n",
       "      <td>2011</td>\n",
       "      <td>441187</td>\n",
       "      <td>16710</td>\n",
       "      <td>1</td>\n",
       "      <td>2</td>\n",
       "      <td>15</td>\n",
       "      <td>46</td>\n",
       "      <td>2011-12-13</td>\n",
       "      <td>246503ACH</td>\n",
       "      <td>1.0</td>\n",
       "      <td>2</td>\n",
       "      <td>28</td>\n",
       "      <td>297.0</td>\n",
       "      <td>16632</td>\n",
       "      <td>20151220</td>\n",
       "      <td>True</td>\n",
       "      <td>우루사캡슐250밀리그램</td>\n",
       "      <td>2011</td>\n",
       "      <td>12</td>\n",
       "      <td>13</td>\n",
       "      <td>1</td>\n",
       "      <td>Tuesday</td>\n",
       "      <td>화</td>\n",
       "      <td>전라남도</td>\n",
       "      <td>70~74세</td>\n",
       "    </tr>\n",
       "    <tr>\n",
       "      <th>4</th>\n",
       "      <td>2011</td>\n",
       "      <td>88000</td>\n",
       "      <td>59321</td>\n",
       "      <td>1</td>\n",
       "      <td>1</td>\n",
       "      <td>13</td>\n",
       "      <td>27</td>\n",
       "      <td>2011-02-23</td>\n",
       "      <td>246506ATB</td>\n",
       "      <td>1.0</td>\n",
       "      <td>1</td>\n",
       "      <td>30</td>\n",
       "      <td>330.0</td>\n",
       "      <td>9900</td>\n",
       "      <td>20151220</td>\n",
       "      <td>True</td>\n",
       "      <td>우루사정300밀리그램</td>\n",
       "      <td>2011</td>\n",
       "      <td>2</td>\n",
       "      <td>23</td>\n",
       "      <td>2</td>\n",
       "      <td>Wednesday</td>\n",
       "      <td>수</td>\n",
       "      <td>대구광역시</td>\n",
       "      <td>60~64세</td>\n",
       "    </tr>\n",
       "  </tbody>\n",
       "</table>\n",
       "</div>"
      ],
      "text/plain": [
       "   기준년도  가입자 일련번호  처방내역일련번호  일련번호  성별코드  연령대코드(5세단위)  시도코드      요양개시일자  \\\n",
       "0  2011     88000      2970     2     1           13    27  2011-12-23   \n",
       "1  2011    739925      2972     7     1           13    27  2011-12-22   \n",
       "2  2011    319400      2976     3     1           15    27  2011-12-06   \n",
       "3  2011    441187     16710     1     2           15    46  2011-12-13   \n",
       "4  2011     88000     59321     1     1           13    27  2011-02-23   \n",
       "\n",
       "   약품일반성분명코드  1회 투약량  1일투약량  총투여일수     단가     금액  데이터 공개일자   우루사  \\\n",
       "0  246506ATB     1.0      1     90  327.0  29430  20151220  True   \n",
       "1  246506ATB     1.0      1     36  327.0  11772  20151220  True   \n",
       "2  246506ATB     1.0      1     21  327.0   6867  20151220  True   \n",
       "3  246503ACH     1.0      2     28  297.0  16632  20151220  True   \n",
       "4  246506ATB     1.0      1     30  330.0   9900  20151220  True   \n",
       "\n",
       "        약품일반성분명     연   월   일  요일       영문요일 요일명    시도명     연령대  \n",
       "0   우루사정300밀리그램  2011  12  23   4     Friday   금  대구광역시  60~64세  \n",
       "1   우루사정300밀리그램  2011  12  22   3   Thursday   목  대구광역시  60~64세  \n",
       "2   우루사정300밀리그램  2011  12   6   1    Tuesday   화  대구광역시  70~74세  \n",
       "3  우루사캡슐250밀리그램  2011  12  13   1    Tuesday   화   전라남도  70~74세  \n",
       "4   우루사정300밀리그램  2011   2  23   2  Wednesday   수  대구광역시  60~64세  "
      ]
     },
     "execution_count": 84,
     "metadata": {},
     "output_type": "execute_result"
    }
   ],
   "source": [
    "# 저장된 파일 읽어와서 확인하기\n",
    "pd.read_csv(\"sample.csv\", encoding = \"cp949\").head()\n"
   ]
  },
  {
   "cell_type": "markdown",
   "metadata": {},
   "source": [
    "## 연도별 처방 수"
   ]
  },
  {
   "cell_type": "code",
   "execution_count": 86,
   "metadata": {},
   "outputs": [
    {
     "data": {
      "text/html": [
       "<div>\n",
       "<style scoped>\n",
       "    .dataframe tbody tr th:only-of-type {\n",
       "        vertical-align: middle;\n",
       "    }\n",
       "\n",
       "    .dataframe tbody tr th {\n",
       "        vertical-align: top;\n",
       "    }\n",
       "\n",
       "    .dataframe thead th {\n",
       "        text-align: right;\n",
       "    }\n",
       "</style>\n",
       "<table border=\"1\" class=\"dataframe\">\n",
       "  <thead>\n",
       "    <tr style=\"text-align: right;\">\n",
       "      <th>우루사</th>\n",
       "      <th>False</th>\n",
       "      <th>True</th>\n",
       "    </tr>\n",
       "    <tr>\n",
       "      <th>연</th>\n",
       "      <th></th>\n",
       "      <th></th>\n",
       "    </tr>\n",
       "  </thead>\n",
       "  <tbody>\n",
       "    <tr>\n",
       "      <th>2011</th>\n",
       "      <td>6939</td>\n",
       "      <td>28773</td>\n",
       "    </tr>\n",
       "    <tr>\n",
       "      <th>2012</th>\n",
       "      <td>8130</td>\n",
       "      <td>31122</td>\n",
       "    </tr>\n",
       "    <tr>\n",
       "      <th>2013</th>\n",
       "      <td>8507</td>\n",
       "      <td>34153</td>\n",
       "    </tr>\n",
       "    <tr>\n",
       "      <th>2014</th>\n",
       "      <td>8576</td>\n",
       "      <td>33027</td>\n",
       "    </tr>\n",
       "    <tr>\n",
       "      <th>2015</th>\n",
       "      <td>10886</td>\n",
       "      <td>35125</td>\n",
       "    </tr>\n",
       "    <tr>\n",
       "      <th>2016</th>\n",
       "      <td>16233</td>\n",
       "      <td>47456</td>\n",
       "    </tr>\n",
       "    <tr>\n",
       "      <th>2017</th>\n",
       "      <td>21078</td>\n",
       "      <td>52073</td>\n",
       "    </tr>\n",
       "    <tr>\n",
       "      <th>2018</th>\n",
       "      <td>25829</td>\n",
       "      <td>55564</td>\n",
       "    </tr>\n",
       "    <tr>\n",
       "      <th>2019</th>\n",
       "      <td>31730</td>\n",
       "      <td>64324</td>\n",
       "    </tr>\n",
       "  </tbody>\n",
       "</table>\n",
       "</div>"
      ],
      "text/plain": [
       "우루사   False  True \n",
       "연                 \n",
       "2011   6939  28773\n",
       "2012   8130  31122\n",
       "2013   8507  34153\n",
       "2014   8576  33027\n",
       "2015  10886  35125\n",
       "2016  16233  47456\n",
       "2017  21078  52073\n",
       "2018  25829  55564\n",
       "2019  31730  64324"
      ]
     },
     "execution_count": 86,
     "metadata": {},
     "output_type": "execute_result"
    }
   ],
   "source": [
    "# 범주형 vs 범주형 값을 구할 때 crosstab 을 사용합니다.\n",
    "# 연도별로 우루사와 고덱스의 처방수를 구합니다.\n",
    "pd.crosstab(df[\"연\"], df[\"우루사\"])"
   ]
  },
  {
   "cell_type": "code",
   "execution_count": 90,
   "metadata": {},
   "outputs": [
    {
     "data": {
      "text/html": [
       "<div>\n",
       "<style scoped>\n",
       "    .dataframe tbody tr th:only-of-type {\n",
       "        vertical-align: middle;\n",
       "    }\n",
       "\n",
       "    .dataframe tbody tr th {\n",
       "        vertical-align: top;\n",
       "    }\n",
       "\n",
       "    .dataframe thead th {\n",
       "        text-align: right;\n",
       "    }\n",
       "</style>\n",
       "<table border=\"1\" class=\"dataframe\">\n",
       "  <thead>\n",
       "    <tr style=\"text-align: right;\">\n",
       "      <th></th>\n",
       "      <th>연</th>\n",
       "      <th>우루사</th>\n",
       "      <th>처방수</th>\n",
       "    </tr>\n",
       "  </thead>\n",
       "  <tbody>\n",
       "    <tr>\n",
       "      <th>0</th>\n",
       "      <td>2011</td>\n",
       "      <td>False</td>\n",
       "      <td>6939</td>\n",
       "    </tr>\n",
       "    <tr>\n",
       "      <th>1</th>\n",
       "      <td>2011</td>\n",
       "      <td>True</td>\n",
       "      <td>28773</td>\n",
       "    </tr>\n",
       "    <tr>\n",
       "      <th>2</th>\n",
       "      <td>2012</td>\n",
       "      <td>False</td>\n",
       "      <td>8130</td>\n",
       "    </tr>\n",
       "    <tr>\n",
       "      <th>3</th>\n",
       "      <td>2012</td>\n",
       "      <td>True</td>\n",
       "      <td>31122</td>\n",
       "    </tr>\n",
       "    <tr>\n",
       "      <th>4</th>\n",
       "      <td>2013</td>\n",
       "      <td>False</td>\n",
       "      <td>8507</td>\n",
       "    </tr>\n",
       "    <tr>\n",
       "      <th>5</th>\n",
       "      <td>2013</td>\n",
       "      <td>True</td>\n",
       "      <td>34153</td>\n",
       "    </tr>\n",
       "    <tr>\n",
       "      <th>6</th>\n",
       "      <td>2014</td>\n",
       "      <td>False</td>\n",
       "      <td>8576</td>\n",
       "    </tr>\n",
       "    <tr>\n",
       "      <th>7</th>\n",
       "      <td>2014</td>\n",
       "      <td>True</td>\n",
       "      <td>33027</td>\n",
       "    </tr>\n",
       "    <tr>\n",
       "      <th>8</th>\n",
       "      <td>2015</td>\n",
       "      <td>False</td>\n",
       "      <td>10886</td>\n",
       "    </tr>\n",
       "    <tr>\n",
       "      <th>9</th>\n",
       "      <td>2015</td>\n",
       "      <td>True</td>\n",
       "      <td>35125</td>\n",
       "    </tr>\n",
       "    <tr>\n",
       "      <th>10</th>\n",
       "      <td>2016</td>\n",
       "      <td>False</td>\n",
       "      <td>16233</td>\n",
       "    </tr>\n",
       "    <tr>\n",
       "      <th>11</th>\n",
       "      <td>2016</td>\n",
       "      <td>True</td>\n",
       "      <td>47456</td>\n",
       "    </tr>\n",
       "    <tr>\n",
       "      <th>12</th>\n",
       "      <td>2017</td>\n",
       "      <td>False</td>\n",
       "      <td>21078</td>\n",
       "    </tr>\n",
       "    <tr>\n",
       "      <th>13</th>\n",
       "      <td>2017</td>\n",
       "      <td>True</td>\n",
       "      <td>52073</td>\n",
       "    </tr>\n",
       "    <tr>\n",
       "      <th>14</th>\n",
       "      <td>2018</td>\n",
       "      <td>False</td>\n",
       "      <td>25829</td>\n",
       "    </tr>\n",
       "    <tr>\n",
       "      <th>15</th>\n",
       "      <td>2018</td>\n",
       "      <td>True</td>\n",
       "      <td>55564</td>\n",
       "    </tr>\n",
       "    <tr>\n",
       "      <th>16</th>\n",
       "      <td>2019</td>\n",
       "      <td>False</td>\n",
       "      <td>31730</td>\n",
       "    </tr>\n",
       "    <tr>\n",
       "      <th>17</th>\n",
       "      <td>2019</td>\n",
       "      <td>True</td>\n",
       "      <td>64324</td>\n",
       "    </tr>\n",
       "  </tbody>\n",
       "</table>\n",
       "</div>"
      ],
      "text/plain": [
       "       연    우루사    처방수\n",
       "0   2011  False   6939\n",
       "1   2011   True  28773\n",
       "2   2012  False   8130\n",
       "3   2012   True  31122\n",
       "4   2013  False   8507\n",
       "5   2013   True  34153\n",
       "6   2014  False   8576\n",
       "7   2014   True  33027\n",
       "8   2015  False  10886\n",
       "9   2015   True  35125\n",
       "10  2016  False  16233\n",
       "11  2016   True  47456\n",
       "12  2017  False  21078\n",
       "13  2017   True  52073\n",
       "14  2018  False  25829\n",
       "15  2018   True  55564\n",
       "16  2019  False  31730\n",
       "17  2019   True  64324"
      ]
     },
     "execution_count": 90,
     "metadata": {},
     "output_type": "execute_result"
    }
   ],
   "source": [
    "# 위에서 구한 값을 pivot_table 로 똑같이 구해봅니다.\n",
    "# 연도별로 우루사와 고덱스의 처방수를 구합니다.\n",
    "# aggfunc 에 len 을 사용하면 갯수를 카운트 합니다.\n",
    "# \"count\"를 사용해도 됩니다.\n",
    "year_ursa = pd.pivot_table(data=df, index=[\"연\", \"우루사\"],\n",
    "             values = \"가입자 일련번호\", aggfunc = \"count\")\n",
    "year_ursa.columns  =[\"처방수\"]\n",
    "year_ursa = year_ursa.reset_index()\n",
    "year_ursa"
   ]
  },
  {
   "cell_type": "code",
   "execution_count": 91,
   "metadata": {},
   "outputs": [
    {
     "data": {
      "text/plain": [
       "<AxesSubplot:xlabel='연', ylabel='처방수'>"
      ]
     },
     "execution_count": 91,
     "metadata": {},
     "output_type": "execute_result"
    },
    {
     "data": {
      "image/png": "[encoded data removed]",
      "text/plain": [
       "<Figure size 432x288 with 1 Axes>"
      ]
     },
     "metadata": {
      "image/png": {
       "height": 263,
       "width": 398
      },
      "needs_background": "light"
     },
     "output_type": "display_data"
    }
   ],
   "source": [
    "# 위에서 구한 값을 pointplot으로 시각화 합니다.\n",
    "sns.pointplot(data=year_ursa, x=\"연\", y=\"처방수\", hue=\"우루사\" )"
   ]
  },
  {
   "cell_type": "code",
   "execution_count": 93,
   "metadata": {},
   "outputs": [
    {
     "data": {
      "text/plain": [
       "<AxesSubplot:xlabel='연', ylabel='count'>"
      ]
     },
     "execution_count": 93,
     "metadata": {},
     "output_type": "execute_result"
    },
    {
     "data": {
      "image/png": "[encoded data removed]",
      "text/plain": [
       "<Figure size 432x288 with 1 Axes>"
      ]
     },
     "metadata": {
      "image/png": {
       "height": 263,
       "width": 398
      },
      "needs_background": "light"
     },
     "output_type": "display_data"
    }
   ],
   "source": [
    "# 위에서 구한 값을 countplot으로 시각화 합니다.\n",
    "sns.countplot(data = df, x=\"연\", hue=\"우루사\")"
   ]
  },
  {
   "cell_type": "markdown",
   "metadata": {},
   "source": [
    "## 연도별 처방 금액"
   ]
  },
  {
   "cell_type": "code",
   "execution_count": null,
   "metadata": {},
   "outputs": [],
   "source": [
    "# 연도별 처방금액의 합계를 구합니다.\n"
   ]
  },
  {
   "cell_type": "code",
   "execution_count": null,
   "metadata": {},
   "outputs": [],
   "source": [
    "# 위에서 구한 값을 시각화 합니다.\n"
   ]
  },
  {
   "cell_type": "code",
   "execution_count": null,
   "metadata": {},
   "outputs": [],
   "source": [
    "# 우루사 vs 고덱스의 연도별 처방 금액을 구합니다.\n"
   ]
  },
  {
   "cell_type": "code",
   "execution_count": null,
   "metadata": {},
   "outputs": [],
   "source": [
    "# 위에서 구한 값을 pointplot으로 시각화 합니다.\n"
   ]
  },
  {
   "cell_type": "markdown",
   "metadata": {},
   "source": [
    "### 시도별 처방수와 금액 구하기"
   ]
  },
  {
   "cell_type": "code",
   "execution_count": null,
   "metadata": {},
   "outputs": [],
   "source": [
    "# pivot_table 로 행에 연도, 컬럼에 시도명이 오도록 처방수와 처방금액을 구합니다.\n",
    "\n"
   ]
  },
  {
   "cell_type": "code",
   "execution_count": null,
   "metadata": {},
   "outputs": [],
   "source": [
    "# background_gradient로 결과 표현하기\n",
    "\n"
   ]
  },
  {
   "cell_type": "markdown",
   "metadata": {},
   "source": [
    "### 시도별 서브플롯 그리기"
   ]
  },
  {
   "cell_type": "code",
   "execution_count": null,
   "metadata": {},
   "outputs": [],
   "source": [
    "# catplot을 통해 연도별, 금액을 시도명으로 서브플롯을 그립니다.\n",
    "# 이 때, 우루사 여부에 따라 다른색상으로 pointplot을 그립니다.\n"
   ]
  },
  {
   "cell_type": "markdown",
   "metadata": {},
   "source": [
    "## 연도, 월별 처방수와 금액"
   ]
  },
  {
   "cell_type": "code",
   "execution_count": null,
   "metadata": {},
   "outputs": [],
   "source": [
    "# 행에 월, 컬럼에 연도가 오도록 위에서 pivot_table로 구했던 값을 groupby 로 똑같이 구해봅니다.\n",
    "\n"
   ]
  },
  {
   "cell_type": "markdown",
   "metadata": {},
   "source": [
    "* 스타일 적용 : https://pandas.pydata.org/pandas-docs/stable/user_guide/style.html"
   ]
  },
  {
   "cell_type": "code",
   "execution_count": null,
   "metadata": {},
   "outputs": [],
   "source": [
    "# background_gradient 스타일을 적용해서 값의 많고 적음에 따라 색상으로 구분되게 그립니다.\n",
    "\n"
   ]
  },
  {
   "cell_type": "code",
   "execution_count": null,
   "metadata": {},
   "outputs": [],
   "source": [
    "# 그룹화된 결과에서 처방수만 가져오기\n",
    "# 수치의 높고 낮음을 색상으로 표현하기 위해 background_gradient 를 사용합니다.\n",
    "\n"
   ]
  },
  {
   "cell_type": "code",
   "execution_count": null,
   "metadata": {},
   "outputs": [],
   "source": [
    "# 그룹화된 결과에서 처방금액 합계만 보기\n",
    "# bar 를 통해 셀안에 그래프로 표현하기\n"
   ]
  },
  {
   "cell_type": "code",
   "execution_count": null,
   "metadata": {},
   "outputs": [],
   "source": [
    "# 위에서 만든 변수에서  group[\"count\"] 값만 가져와서 year_month_count 변수에 담습니다.\n",
    "\n"
   ]
  },
  {
   "cell_type": "code",
   "execution_count": null,
   "metadata": {},
   "outputs": [],
   "source": [
    "# year_month_count 변수에 담긴 값을 heatmap 으로 그립니다.\n",
    "# cmap 을 YlGn 으로 표시합니다.\n",
    "\n"
   ]
  },
  {
   "cell_type": "markdown",
   "metadata": {},
   "source": [
    "## 연, 월별 처방 수와 합계 금액\n",
    "* 연, 월별 처방 수와 합계금액을 groupby 로 구해보세요."
   ]
  },
  {
   "cell_type": "code",
   "execution_count": null,
   "metadata": {},
   "outputs": [],
   "source": [
    "# 위에서 구한 값은 index와 columns에 연 또는 월이 들어갑니다.\n",
    "# 같은 값을 갖는 데이터를 index 에 연, 월이 모두 들어가도록 groupby 로 연산을 해봅니다.\n",
    "# index에 연, 월이 모두 들어갈 때 위의 형태의 데이터프레임과 다루는 차이를 알아봅니다.\n",
    "# 금액 값에 대해 처방수와 금액의 합계를 구합니다.\n",
    "\n"
   ]
  },
  {
   "cell_type": "code",
   "execution_count": null,
   "metadata": {},
   "outputs": [],
   "source": [
    "# 연,월별 처방수 시각화\n",
    "\n"
   ]
  },
  {
   "cell_type": "code",
   "execution_count": null,
   "metadata": {
    "scrolled": true
   },
   "outputs": [],
   "source": [
    "# pointplot으로 월별 처방금액 합계를 그리고 \"연\"별로 다른 색상으로 표현합니다.\n"
   ]
  },
  {
   "cell_type": "code",
   "execution_count": null,
   "metadata": {},
   "outputs": [],
   "source": [
    "# pointplot으로 \"약품일반성분명\"에 따라 평균 처방 금액 보기\n",
    "\n"
   ]
  },
  {
   "cell_type": "code",
   "execution_count": null,
   "metadata": {},
   "outputs": [],
   "source": [
    "# pointplot으로 월별 \"약품일반성분명\"에 따른 처방금액 합계\n",
    "\n"
   ]
  },
  {
   "cell_type": "code",
   "execution_count": null,
   "metadata": {},
   "outputs": [],
   "source": [
    "# pointplot으로 월별 \"우루사\" 여부에 따른 처방금액 합계\n",
    "\n"
   ]
  },
  {
   "cell_type": "code",
   "execution_count": null,
   "metadata": {},
   "outputs": [],
   "source": [
    "# pointplot으로 월별 처방수를 우루사 여부에 따라 그리기\n"
   ]
  },
  {
   "cell_type": "markdown",
   "metadata": {},
   "source": [
    "## 요일별 처방수"
   ]
  },
  {
   "cell_type": "code",
   "execution_count": null,
   "metadata": {},
   "outputs": [],
   "source": [
    "# countplot 을 통해 요일별 우루사 여부에 따른 처방수를 시각화 합니다.\n",
    "# 이때, data에 df.sort_values(\"요일\") 로 \n",
    "# 요일별로 정렬된 데이터를 넣어주면 요일별로 정렬이 가능합니다.\n",
    "\n"
   ]
  },
  {
   "cell_type": "code",
   "execution_count": null,
   "metadata": {},
   "outputs": [],
   "source": [
    "# \"약품일반성분명코드\" 별로 요일별 처방수를 시각화\n",
    "\n"
   ]
  },
  {
   "cell_type": "markdown",
   "metadata": {},
   "source": [
    "### 연령대코드 vs 성별코드\n",
    "* countplot 으로 그리기"
   ]
  },
  {
   "cell_type": "code",
   "execution_count": null,
   "metadata": {},
   "outputs": [],
   "source": []
  },
  {
   "cell_type": "markdown",
   "metadata": {},
   "source": [
    "### 월 vs 성별코드"
   ]
  },
  {
   "cell_type": "code",
   "execution_count": null,
   "metadata": {},
   "outputs": [],
   "source": []
  },
  {
   "cell_type": "markdown",
   "metadata": {},
   "source": [
    "## 우루사 vs 고덱스"
   ]
  },
  {
   "cell_type": "markdown",
   "metadata": {},
   "source": [
    "### 성별코드별 처방수\n",
    "* countplot 으로 그리기"
   ]
  },
  {
   "cell_type": "code",
   "execution_count": null,
   "metadata": {},
   "outputs": [],
   "source": [
    "# 약품일반성분명\n",
    "\n"
   ]
  },
  {
   "cell_type": "code",
   "execution_count": null,
   "metadata": {},
   "outputs": [],
   "source": [
    "# 우루사 여부\n",
    "\n"
   ]
  },
  {
   "cell_type": "code",
   "execution_count": null,
   "metadata": {},
   "outputs": [],
   "source": [
    "# 연도별\n",
    "\n"
   ]
  },
  {
   "cell_type": "code",
   "execution_count": null,
   "metadata": {},
   "outputs": [],
   "source": [
    "# 월별 약품일반성분명\n",
    "\n"
   ]
  },
  {
   "cell_type": "code",
   "execution_count": null,
   "metadata": {},
   "outputs": [],
   "source": [
    "# 월별 우루사 여부에 따라 countplot을 그리기\n",
    "\n"
   ]
  },
  {
   "cell_type": "code",
   "execution_count": null,
   "metadata": {},
   "outputs": [],
   "source": [
    "# 월별 성별코드에 따라 countplot 그리기\n",
    "\n"
   ]
  },
  {
   "cell_type": "code",
   "execution_count": null,
   "metadata": {},
   "outputs": [],
   "source": []
  },
  {
   "cell_type": "markdown",
   "metadata": {},
   "source": [
    "### 기간별 단가와 금액"
   ]
  },
  {
   "cell_type": "code",
   "execution_count": null,
   "metadata": {},
   "outputs": [],
   "source": [
    "# 연도별 평균단가를 \"성별코드\"에 따라 다른 색상으로 그립니다.\n",
    "\n"
   ]
  },
  {
   "cell_type": "code",
   "execution_count": null,
   "metadata": {},
   "outputs": [],
   "source": [
    "# 연도별 평균금액을 \"성별코드\"에 따라 다른 색상으로 그립니다.\n",
    "\n"
   ]
  },
  {
   "cell_type": "code",
   "execution_count": null,
   "metadata": {},
   "outputs": [],
   "source": [
    "# 연도별 \"1회투약량\"을 \"우루사\"여부에 따라 다른 색상으로 그립니다.\n",
    "\n"
   ]
  },
  {
   "cell_type": "code",
   "execution_count": null,
   "metadata": {},
   "outputs": [],
   "source": [
    "# 연도별 단가를 \"우루사\" 여부에 따라 다른 색상으로 그립니다.\n",
    "\n"
   ]
  },
  {
   "cell_type": "code",
   "execution_count": null,
   "metadata": {},
   "outputs": [],
   "source": [
    "# 월별 평균 처방 금액을 성별코드에 따라 다른 색상으로 그립니다.\n",
    "\n"
   ]
  },
  {
   "cell_type": "code",
   "execution_count": null,
   "metadata": {},
   "outputs": [],
   "source": [
    "# 월별 평균 처방 금액을 우루사 여부에 따라 다른 색상으로 그립니다.\n",
    "\n"
   ]
  },
  {
   "cell_type": "markdown",
   "metadata": {},
   "source": [
    "### 성별코드별"
   ]
  },
  {
   "cell_type": "code",
   "execution_count": null,
   "metadata": {},
   "outputs": [],
   "source": [
    "# 연도별 평균 총투여일수\n",
    "\n"
   ]
  },
  {
   "cell_type": "code",
   "execution_count": null,
   "metadata": {},
   "outputs": [],
   "source": [
    "# 연도별 평균 1일투약량\n",
    "\n"
   ]
  },
  {
   "cell_type": "code",
   "execution_count": null,
   "metadata": {},
   "outputs": [],
   "source": [
    "# 연도별 평균 연령대코드\n",
    "\n"
   ]
  },
  {
   "cell_type": "markdown",
   "metadata": {},
   "source": [
    "### 연령대코드(5세단위)"
   ]
  },
  {
   "cell_type": "code",
   "execution_count": null,
   "metadata": {},
   "outputs": [],
   "source": [
    "# 총투여일수와 성별코드\n",
    "\n"
   ]
  },
  {
   "cell_type": "code",
   "execution_count": null,
   "metadata": {},
   "outputs": [],
   "source": [
    "# 금액과 성별코드\n"
   ]
  },
  {
   "cell_type": "code",
   "execution_count": null,
   "metadata": {},
   "outputs": [],
   "source": [
    "# 1일투약량과 성별코드\n",
    "\n"
   ]
  },
  {
   "cell_type": "code",
   "execution_count": null,
   "metadata": {},
   "outputs": [],
   "source": []
  },
  {
   "cell_type": "markdown",
   "metadata": {},
   "source": [
    "## 과제\n",
    "\n",
    "* 약품 하나를 정해서 기간별 분석을 해본다든지 특정 시기에 주로 처방받은 약품, 금액이 높은 약품 등의 자율주제로 분석을 해보세요."
   ]
  },
  {
   "cell_type": "code",
   "execution_count": null,
   "metadata": {},
   "outputs": [],
   "source": []
  }
 ],
 "metadata": {
  "kernelspec": {
   "display_name": "Python 3",
   "language": "python",
   "name": "python3"
  },
  "language_info": {
   "codemirror_mode": {
    "name": "ipython",
    "version": 3
   },
   "file_extension": ".py",
   "mimetype": "text/x-python",
   "name": "python",
   "nbconvert_exporter": "python",
   "pygments_lexer": "ipython3",
   "version": "3.8.5"
  },
  "toc": {
   "base_numbering": 1,
   "nav_menu": {},
   "number_sections": true,
   "sideBar": true,
   "skip_h1_title": false,
   "title_cell": "Table of Contents",
   "title_sidebar": "Contents",
   "toc_cell": false,
   "toc_position": {
    "height": "calc(100% - 180px)",
    "left": "10px",
    "top": "150px",
    "width": "204.8px"
   },
   "toc_section_display": true,
   "toc_window_display": false
  },
  "varInspector": {
   "cols": {
    "lenName": 16,
    "lenType": 16,
    "lenVar": 40
   },
   "kernels_config": {
    "python": {
     "delete_cmd_postfix": "",
     "delete_cmd_prefix": "del ",
     "library": "var_list.py",
     "varRefreshCmd": "print(var_dic_list())"
    },
    "r": {
     "delete_cmd_postfix": ") ",
     "delete_cmd_prefix": "rm(",
     "library": "var_list.r",
     "varRefreshCmd": "cat(var_dic_list()) "
    }
   },
   "types_to_exclude": [
    "module",
    "function",
    "builtin_function_or_method",
    "instance",
    "_Feature"
   ],
   "window_display": false
  }
 },
 "nbformat": 4,
 "nbformat_minor": 2
}
