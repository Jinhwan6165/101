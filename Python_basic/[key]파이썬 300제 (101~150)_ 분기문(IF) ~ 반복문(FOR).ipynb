{
 "cells": [
  {
   "cell_type": "markdown",
   "id": "enormous-devices",
   "metadata": {},
   "source": [
    "# 파이썬 300제 풀어보기 \n",
    "https://wikidocs.net/7014"
   ]
  },
  {
   "cell_type": "markdown",
   "id": "comparative-victoria",
   "metadata": {},
   "source": [
    "# 파이썬 분기문 \n",
    "\n",
    "파이썬은 if라는 키워드를 통해 분기문을 만들 수 있습니다."
   ]
  },
  {
   "cell_type": "markdown",
   "id": "selected-boring",
   "metadata": {},
   "source": [
    "## 101\n",
    "\n",
    "파이썬에서 True 혹은 False를 갖는 데이터 타입은 무엇인가?\n",
    "\n",
    "\n",
    "==> bool type"
   ]
  },
  {
   "cell_type": "markdown",
   "id": "sunrise-interface",
   "metadata": {},
   "source": [
    "## 102\n",
    "\n",
    "아래 코드의 출력 결괄르 예상하라"
   ]
  },
  {
   "cell_type": "code",
   "execution_count": 2,
   "id": "increased-passport",
   "metadata": {},
   "outputs": [
    {
     "name": "stdout",
     "output_type": "stream",
     "text": [
      "False\n"
     ]
    }
   ],
   "source": [
    "print(3 == 5)\n",
    "\n",
    "# False"
   ]
  },
  {
   "cell_type": "markdown",
   "id": "structural-newark",
   "metadata": {},
   "source": [
    "## 103\n",
    "아래 코드의 출력 결과를 예상하라"
   ]
  },
  {
   "cell_type": "code",
   "execution_count": 3,
   "id": "indonesian-opinion",
   "metadata": {},
   "outputs": [
    {
     "name": "stdout",
     "output_type": "stream",
     "text": [
      "True\n"
     ]
    }
   ],
   "source": [
    "print(3 < 5)\n",
    "\n",
    "# True"
   ]
  },
  {
   "cell_type": "markdown",
   "id": "horizontal-wings",
   "metadata": {},
   "source": [
    "## 104\n",
    "아래 코드의 출력 결과를 예상하라"
   ]
  },
  {
   "cell_type": "code",
   "execution_count": 4,
   "id": "central-seeker",
   "metadata": {},
   "outputs": [
    {
     "name": "stdout",
     "output_type": "stream",
     "text": [
      "True\n"
     ]
    }
   ],
   "source": [
    "x = 4\n",
    "\n",
    "print(1 < x < 5)\n",
    "\n",
    "# True"
   ]
  },
  {
   "cell_type": "markdown",
   "id": "hourly-bottle",
   "metadata": {},
   "source": [
    "## 105\n",
    "아래 코드의 출력 결과를 예상하라"
   ]
  },
  {
   "cell_type": "code",
   "execution_count": 5,
   "id": "special-pacific",
   "metadata": {},
   "outputs": [
    {
     "name": "stdout",
     "output_type": "stream",
     "text": [
      "True\n"
     ]
    }
   ],
   "source": [
    "print((3 == 3) and (4 != 3))\n",
    "\n",
    "# True"
   ]
  },
  {
   "cell_type": "markdown",
   "id": "continued-hardwood",
   "metadata": {},
   "source": [
    "## 106\n",
    "아래 코드에서 에러가 발생하는 원인에 대해 설명하라"
   ]
  },
  {
   "cell_type": "code",
   "execution_count": 6,
   "id": "violent-genetics",
   "metadata": {},
   "outputs": [
    {
     "ename": "SyntaxError",
     "evalue": "invalid syntax (<ipython-input-6-0df69ff9f6ed>, line 1)",
     "output_type": "error",
     "traceback": [
      "\u001b[1;36m  File \u001b[1;32m\"<ipython-input-6-0df69ff9f6ed>\"\u001b[1;36m, line \u001b[1;32m1\u001b[0m\n\u001b[1;33m    print( 3 => 4)\u001b[0m\n\u001b[1;37m              ^\u001b[0m\n\u001b[1;31mSyntaxError\u001b[0m\u001b[1;31m:\u001b[0m invalid syntax\n"
     ]
    }
   ],
   "source": [
    "print( 3 => 4)\n",
    "\n",
    "# '=' 의 경우 > 뒤에 와야 한다.\n",
    "\n",
    "# 풀이 : 지원하지 않는 연산자입니다."
   ]
  },
  {
   "cell_type": "markdown",
   "id": "fewer-determination",
   "metadata": {},
   "source": [
    "## 107\n",
    "\n",
    "아래 코드의 출력 결과를 예상하라"
   ]
  },
  {
   "cell_type": "code",
   "execution_count": 7,
   "id": "lasting-doctrine",
   "metadata": {},
   "outputs": [],
   "source": [
    "if 4 < 3:\n",
    "    print(\"Hello world\")\n",
    "    \n",
    "# 조건을 만족하지 않기 때문에 아무 결과도 출력되지 않는다."
   ]
  },
  {
   "cell_type": "markdown",
   "id": "aboriginal-wedding",
   "metadata": {},
   "source": [
    "## 108\n",
    "아래 코드의 출력 결과를 예상하라"
   ]
  },
  {
   "cell_type": "code",
   "execution_count": 8,
   "id": "middle-founder",
   "metadata": {},
   "outputs": [
    {
     "name": "stdout",
     "output_type": "stream",
     "text": [
      "HI, there.\n"
     ]
    }
   ],
   "source": [
    "if 4 < 3:\n",
    "    print(\"Hello World,\")\n",
    "else: \n",
    "    print(\"HI, there.\")\n",
    "    \n",
    "# \"HI, there\" 출력"
   ]
  },
  {
   "cell_type": "markdown",
   "id": "fewer-asset",
   "metadata": {},
   "source": [
    "## 109\n",
    "아래 코드의 출력 결과를 예상하라"
   ]
  },
  {
   "cell_type": "code",
   "execution_count": 9,
   "id": "protecting-interface",
   "metadata": {},
   "outputs": [
    {
     "name": "stdout",
     "output_type": "stream",
     "text": [
      "1\n",
      "2\n",
      "4\n"
     ]
    }
   ],
   "source": [
    "if True: \n",
    "    print(\"1\")\n",
    "    print(\"2\")\n",
    "else:\n",
    "    print(\"3\")\n",
    "print(\"4\")\n",
    "\n",
    "# 1,2 4"
   ]
  },
  {
   "cell_type": "markdown",
   "id": "significant-representation",
   "metadata": {},
   "source": [
    "## 110\n",
    "아래 코드의 출력 결과를 예상하라"
   ]
  },
  {
   "cell_type": "code",
   "execution_count": 10,
   "id": "detected-championship",
   "metadata": {},
   "outputs": [
    {
     "name": "stdout",
     "output_type": "stream",
     "text": [
      "3\n",
      "5\n"
     ]
    }
   ],
   "source": [
    "if True:\n",
    "    if False:\n",
    "        print(\"1\")\n",
    "        print(\"2\")\n",
    "    else:\n",
    "        print(\"3\")\n",
    "else:\n",
    "    print(\"4\")\n",
    "print(\"5\")\n",
    "\n",
    "\n",
    "# 3,5\n",
    "\n",
    "#https://wikidocs.net/7028"
   ]
  },
  {
   "cell_type": "markdown",
   "id": "unlike-generation",
   "metadata": {},
   "source": [
    "## 111\n",
    "사용자로부터 입력받은 문자열을 두 번 출력하라. 아래는 사용자가 \"안녕하세요\"를 입력한 경우의 출력 결과이다"
   ]
  },
  {
   "cell_type": "markdown",
   "id": "sufficient-circular",
   "metadata": {},
   "source": [
    "- 안녕하세요\n",
    "-- 안녕하세요 안녕하세요"
   ]
  },
  {
   "cell_type": "code",
   "execution_count": 11,
   "id": "offensive-anatomy",
   "metadata": {},
   "outputs": [
    {
     "name": "stdout",
     "output_type": "stream",
     "text": [
      "입력: \n",
      "\n"
     ]
    }
   ],
   "source": [
    "user = input(\"입력: \")\n",
    "print(user *2)"
   ]
  },
  {
   "cell_type": "markdown",
   "id": "stylish-piano",
   "metadata": {},
   "source": [
    "## 112\n",
    "사용자로부터 하나의 숫자를 입력받고, 입력 받은 숫자에 10을 더해 출력하라."
   ]
  },
  {
   "cell_type": "markdown",
   "id": "conservative-bearing",
   "metadata": {},
   "source": [
    "숫자를 입력하세요: 30\n",
    "\n",
    "40"
   ]
  },
  {
   "cell_type": "code",
   "execution_count": 12,
   "id": "presidential-numbers",
   "metadata": {},
   "outputs": [
    {
     "name": "stdout",
     "output_type": "stream",
     "text": [
      "숫자를 입력하세요: \n"
     ]
    },
    {
     "ename": "ValueError",
     "evalue": "invalid literal for int() with base 10: ''",
     "output_type": "error",
     "traceback": [
      "\u001b[1;31m---------------------------------------------------------------------------\u001b[0m",
      "\u001b[1;31mValueError\u001b[0m                                Traceback (most recent call last)",
      "\u001b[1;32m<ipython-input-12-fe9bb925fdff>\u001b[0m in \u001b[0;36m<module>\u001b[1;34m\u001b[0m\n\u001b[0;32m      1\u001b[0m \u001b[0muser\u001b[0m \u001b[1;33m=\u001b[0m \u001b[0minput\u001b[0m\u001b[1;33m(\u001b[0m\u001b[1;34m\"숫자를 입력하세요: \"\u001b[0m\u001b[1;33m)\u001b[0m\u001b[1;33m\u001b[0m\u001b[1;33m\u001b[0m\u001b[0m\n\u001b[1;32m----> 2\u001b[1;33m \u001b[0mprint\u001b[0m\u001b[1;33m(\u001b[0m\u001b[1;36m10\u001b[0m\u001b[1;33m+\u001b[0m\u001b[0mint\u001b[0m\u001b[1;33m(\u001b[0m\u001b[0muser\u001b[0m\u001b[1;33m)\u001b[0m\u001b[1;33m)\u001b[0m\u001b[1;33m\u001b[0m\u001b[1;33m\u001b[0m\u001b[0m\n\u001b[0m",
      "\u001b[1;31mValueError\u001b[0m: invalid literal for int() with base 10: ''"
     ]
    }
   ],
   "source": [
    "user = input(\"숫자를 입력하세요: \")\n",
    "print(10+int(user))"
   ]
  },
  {
   "cell_type": "markdown",
   "id": "accessory-deployment",
   "metadata": {},
   "source": [
    "## 113\n",
    "사용자로부터 하나의 숫자를 입력 받고 짝수/홀수를 판별하라.\n",
    "\n",
    "30\n",
    "짝수"
   ]
  },
  {
   "cell_type": "code",
   "execution_count": 13,
   "id": "enabling-young",
   "metadata": {},
   "outputs": [
    {
     "name": "stdout",
     "output_type": "stream",
     "text": [
      "30\n",
      "짝수\n"
     ]
    }
   ],
   "source": [
    "user = input(\"\")\n",
    "if int(user) %2 == 0:\n",
    "    print (\"짝수\")\n",
    "else:\n",
    "    print(\"홀수\")\n"
   ]
  },
  {
   "cell_type": "markdown",
   "id": "parliamentary-delicious",
   "metadata": {},
   "source": [
    "## 114\n",
    "\n",
    "사용자로부터 값을 입력받은 후 해당 값에 20을 더한 값을 출력하라. 단 사용자가 입력한 값과 20을 더한 계산 값이 255를 초과하는 경우 255를 출력해야 한다.\n",
    "\n",
    "입력값: 200\n",
    "출력값: 220\n",
    "\n",
    "입력값: 240\n",
    "출력값: 255"
   ]
  },
  {
   "cell_type": "code",
   "execution_count": 22,
   "id": "improved-gravity",
   "metadata": {},
   "outputs": [
    {
     "name": "stdout",
     "output_type": "stream",
     "text": [
      "입력값: 200\n",
      "220\n"
     ]
    }
   ],
   "source": [
    "user = input(\"입력값: \")\n",
    "num = 20 + int(user)\n",
    "\n",
    "if num > 255:\n",
    "    print(255)\n",
    "else:\n",
    "    print(int(user)+20)"
   ]
  },
  {
   "cell_type": "markdown",
   "id": "complete-validation",
   "metadata": {},
   "source": [
    "## 115\n",
    "\n",
    "사용자로부터 하나의 값을 입력받은 후 해당 값에 20을 뺀 값을 출력하라. 단 출력 값의 범위는 0~255이다. 예를 들어 결괏값이 0보다 작은 값이되는 경우 0을 출력하고 255보다 큰 값이 되는 경우 255를 출력해야 한다.\n",
    "\n",
    "입력값: 200\n",
    "출력값: 180\n",
    "\n",
    "입력값: 15\n",
    "출력값: 0"
   ]
  },
  {
   "cell_type": "code",
   "execution_count": 24,
   "id": "sustainable-coach",
   "metadata": {},
   "outputs": [
    {
     "name": "stdout",
     "output_type": "stream",
     "text": [
      "입력값: 15\n",
      "0\n"
     ]
    }
   ],
   "source": [
    "user = input(\"입력값: \")\n",
    "num = int(user) - 20\n",
    "if num > 255:\n",
    "    print(255)\n",
    "elif num <0:\n",
    "    print(0)\n",
    "else: \n",
    "    print(num)"
   ]
  },
  {
   "cell_type": "markdown",
   "id": "hazardous-indian",
   "metadata": {},
   "source": [
    "## 116\n",
    "사용자로부터 입력 받은 시간이 정각인지 판별하라.\n",
    "\n",
    "현재시간:02:00\n",
    "정각 입니다.\n",
    "\n",
    "현재시간:03:10\n",
    "정각이 아닙니다"
   ]
  },
  {
   "cell_type": "code",
   "execution_count": 26,
   "id": "consolidated-provider",
   "metadata": {},
   "outputs": [
    {
     "name": "stdout",
     "output_type": "stream",
     "text": [
      "현재시간: 12:30\n",
      "정각이 아닙니다.\n"
     ]
    }
   ],
   "source": [
    "time = input(\"현재시간: \")\n",
    "if time[-2:] == \"00\":\n",
    "    print(\"정각 입니다.\")\n",
    "else:\n",
    "    print(\"정각이 아닙니다.\")"
   ]
  },
  {
   "cell_type": "markdown",
   "id": "becoming-counter",
   "metadata": {},
   "source": [
    "## 117\n",
    "\n",
    "사용자로 입력받은 단어가 아래 fruit 리스트에 포함되어 있는지를 확인하라. 포함되었다면 \"정답입니다\"를 아닐 경우 \"오답입니다\" 출력하라.\n",
    "\n",
    "fruit = [\"사과\", \"포도\", \"홍시\"]\n",
    "\n",
    "좋아하는 과일은? 사과\n",
    "\n",
    "정답입니다."
   ]
  },
  {
   "cell_type": "code",
   "execution_count": 29,
   "id": "packed-doctor",
   "metadata": {},
   "outputs": [
    {
     "name": "stdout",
     "output_type": "stream",
     "text": [
      "좋아하는 과일은?바나나\n",
      "오답입니다.\n"
     ]
    }
   ],
   "source": [
    "user = input(\"좋아하는 과일은? \")\n",
    "fruit = [\"사과\",\"포도\",\"홍시\"]\n",
    "\n",
    "if user in fruit :\n",
    "    print(\"정답입니다.\")\n",
    "else:\n",
    "    print(\"오답입니다.\")"
   ]
  },
  {
   "cell_type": "markdown",
   "id": "marked-spring",
   "metadata": {},
   "source": [
    "## 118\n",
    "투자 경고 종목 리스트가 있을 때 사용자로부터 종목명을 입력 받은 후 해당 종목이 투자 경고 종목이라면 '투자 경고 종목입니다'를 아니면 \"투자 경고 종목이 아닙니다.\"를 출력하는 프로그램을 작성하라.\n",
    "\n",
    "warn_investment_list = [\"Microsoft\", \"Google\", \"Naver\", \"Kakao\", \"SAMSUNG\", \"LG\"]"
   ]
  },
  {
   "cell_type": "code",
   "execution_count": 31,
   "id": "attractive-listening",
   "metadata": {},
   "outputs": [
    {
     "name": "stdout",
     "output_type": "stream",
     "text": [
      "종목명: Hanhwa\n",
      "투자 경고 종목이 아닙니다.\n"
     ]
    }
   ],
   "source": [
    "warn_investment_list = [\"Microsoft\", \"Google\", \"Naver\", \"Kakao\", \"SAMSUNG\", \"LG\"]\n",
    "user = input(\"종목명: \")\n",
    "\n",
    "if user in warn_investment_list:\n",
    "    print(\"투자 경고 종목입니다.\")\n",
    "else : \n",
    "    print(\"투자 경고 종목이 아닙니다.\")\n"
   ]
  },
  {
   "cell_type": "markdown",
   "id": "instrumental-prime",
   "metadata": {},
   "source": [
    "## 119\n",
    "아래와 같이 fruit 딕셔너리가 정의되어 있다. 사용자가 입력한 값이 딕셔너리 키 (key) 값에 포함되었다면 \"정답입니다\"를 아닐 경우 \"오답입니다\" 출력하라.\n",
    "\n",
    "fruit = {\"봄\" : \"딸기\", \"여름\" : \"토마토\", \"가을\" : \"사과\"}\n",
    "\n",
    "제가좋아하는계절은: 봄\n",
    "\n",
    "정답입니다."
   ]
  },
  {
   "cell_type": "code",
   "execution_count": 34,
   "id": "taken-tuesday",
   "metadata": {},
   "outputs": [
    {
     "name": "stdout",
     "output_type": "stream",
     "text": [
      "제가 좋아하는 계절은: 가을\n",
      "정답입니다.\n"
     ]
    }
   ],
   "source": [
    "fruit = {\"봄\" : \"딸기\", \"여름\" : \"토마토\", \"가을\" : \"사과\"}\n",
    "user = input(\"제가 좋아하는 계절은: \")\n",
    "\n",
    "if user in fruit:\n",
    "    print(\"정답입니다.\")\n",
    "else:\n",
    "    print(\"오답입니다.\")"
   ]
  },
  {
   "cell_type": "markdown",
   "id": "marine-study",
   "metadata": {},
   "source": [
    "## 120\n",
    "아래와 같이 fruit 딕셔너리가 정의되어 있다. 사용자가 입력한 값이 딕셔너리 값 (value)에 포함되었다면 \"정답입니다\"를 아닐 경우 \"오답입니다\" 출력하라.\n",
    "\n",
    "fruit = {\"봄\" : \"딸기\", \"여름\" : \"토마토\", \"가을\" : \"사과\"}\n",
    "\n",
    "좋아하는과일은? 한라봉\n",
    "\n",
    "오답입니다."
   ]
  },
  {
   "cell_type": "code",
   "execution_count": 38,
   "id": "ranking-china",
   "metadata": {},
   "outputs": [
    {
     "name": "stdout",
     "output_type": "stream",
     "text": [
      "좋아하는 과일은? 한라봉\n",
      "오답입니다.\n"
     ]
    }
   ],
   "source": [
    "fruit = {\"봄\" : \"딸기\", \"여름\" : \"토마토\", \"가을\" : \"사과\"}\n",
    "user = input(\"좋아하는 과일은? \")\n",
    "\n",
    "if user in fruit.values(): \n",
    "    print(\"정답입니다.\")\n",
    "else:\n",
    "    print(\"오답입니다.\")"
   ]
  },
  {
   "cell_type": "markdown",
   "id": "preliminary-elevation",
   "metadata": {},
   "source": [
    "## 121\n",
    "사용자로부터 문자 한 개를 입력 받고, 소문자일 경우 대문자로, 대문자 일 경우, 소문자로 변경해서 출력하라.\n",
    "\n",
    "a\n",
    "\n",
    "A\n",
    "\n",
    "힌트-1 : islower() 함수는 문자의 소문자 여부를 판별합니다. 만약 소문자일 경우 True, 대문자일 경우 False를 반환합니다. 힌트-2 : upper() 함수는 대문자로, lower() 함수는 소문자로 변경합니다."
   ]
  },
  {
   "cell_type": "code",
   "execution_count": 42,
   "id": "solved-contribution",
   "metadata": {},
   "outputs": [
    {
     "name": "stdout",
     "output_type": "stream",
     "text": [
      "a\n",
      "A\n"
     ]
    }
   ],
   "source": [
    "user = input(\"\")\n",
    "\n",
    "if user.islower():  \n",
    "    print(user.upper())\n",
    "else: \n",
    "    print(user.lower())"
   ]
  },
  {
   "cell_type": "markdown",
   "id": "similar-documentary",
   "metadata": {},
   "source": [
    "## 122\n",
    "점수 구간에 해당하는 학점이 아래와 같이 정의되어 있다. 사용자로부터 score를 입력받아 학점을 출력하라.\n",
    "\n",
    "점수\t| 학점\n",
    "-----|-------\n",
    "81~100\t|A\n",
    "61~80\t|B\n",
    "41~60\t|C\n",
    "21~40\t|D\n",
    "0~20\t|E\n",
    "\n",
    "score: 83\n",
    "\n",
    "grade is A"
   ]
  },
  {
   "cell_type": "code",
   "execution_count": 43,
   "id": "golden-orchestra",
   "metadata": {},
   "outputs": [
    {
     "name": "stdout",
     "output_type": "stream",
     "text": [
      "score: 83\n",
      "grade is A\n"
     ]
    }
   ],
   "source": [
    "score = input(\"score: \")\n",
    "score = int(score)\n",
    "if 81<= score <=100 :\n",
    "    print(\"grade is A\")\n",
    "elif 61<= score <=80 :\n",
    "    print(\"grade is B\")\n",
    "elif 41<= score <=60: \n",
    "    print(\"grade is C\")\n",
    "elif 21<= score <=40:\n",
    "    print(\"grade is D\")\n",
    "else: \n",
    "    print(\"grade is E\")"
   ]
  },
  {
   "cell_type": "markdown",
   "id": "sacred-registration",
   "metadata": {},
   "source": [
    "## 123\n",
    "\n",
    "사용자로부터 달러, 엔, 유로, 또는 위안 금액을 입력받은 후 이를 원으로 변환하는 프로그램을 작성하라. 각 통화별 환율은 다음과 같다. 사용자는 100 달러, 1000 엔, 13 유로, 100 위안과 같이 금액과 통화명 사이에 공백을 넣어 입력한다고 가정한다.\n",
    "\n",
    "통화명\t|환율\n",
    "----|-----\n",
    "달러\t|1167\n",
    "엔\t|1.096\n",
    "유로\t|1268\n",
    "위안\t|171\n",
    "\n",
    "입력: 100 달러\n",
    "\n",
    "116700.00 원"
   ]
  },
  {
   "cell_type": "code",
   "execution_count": 62,
   "id": "improved-appreciation",
   "metadata": {},
   "outputs": [
    {
     "name": "stdout",
     "output_type": "stream",
     "text": [
      "입력: 100 달러\n",
      "116700.0 원\n"
     ]
    }
   ],
   "source": [
    "환율 = {\"달러\":1167,\n",
    "     \"엔\":1.096,\n",
    "     \"유로\":1268,\n",
    "     \"위안\":171} \n",
    "user = input(\"입력: \")\n",
    "num, currency = user.split()  # \n",
    "print(float(num) * 환율[currency], \"원\")"
   ]
  },
  {
   "cell_type": "code",
   "execution_count": 123,
   "id": "premier-feeling",
   "metadata": {},
   "outputs": [
    {
     "name": "stdout",
     "output_type": "stream",
     "text": [
      "입력: 100 달러\n",
      "116700.0\n"
     ]
    }
   ],
   "source": [
    "data = input(\"입력: \")  # 100달러\n",
    "tokens = data.split()  # ['100','달러']\n",
    "\n",
    "# 바인딩\n",
    "# amount = tokens[0]\n",
    "# currency=tokends[1]\n",
    "#한줄로 바인딩 (unpacking 사용)\n",
    "amount, currency = tokens\n",
    "amount = float(amount)\n",
    "if currency == '달러':\n",
    "    print( amount * 1167)\n",
    "elif currency == '엔':\n",
    "    print(amount * 1.096)\n",
    "elif currency == '유로':\n",
    "    print(amount * 1268)\n",
    "else:\n",
    "    print(amount * 171)"
   ]
  },
  {
   "cell_type": "markdown",
   "id": "coastal-boundary",
   "metadata": {},
   "source": [
    "## 124\n",
    "사용자로부터 세 개의 숫자를 입력 받은 후 가장 큰 숫자를 출력하라.\n",
    "\n",
    "input number1: 10\n",
    "\n",
    "input number2: 9\n",
    "\n",
    "input number3: 20\n",
    "\n",
    "20"
   ]
  },
  {
   "cell_type": "code",
   "execution_count": 63,
   "id": "active-oxygen",
   "metadata": {},
   "outputs": [
    {
     "name": "stdout",
     "output_type": "stream",
     "text": [
      "input number1: 10\n",
      "input number2: 9\n",
      "input number3: 20\n",
      "20\n"
     ]
    }
   ],
   "source": [
    "num1 = input(\"input number1: \")\n",
    "num2 = input(\"input number2: \")\n",
    "num3 = input(\"input number3: \")\n",
    "num1 = int(num1)\n",
    "num2 = int(num2)\n",
    "num3 = int(num3)\n",
    "\n",
    "if num1 > num2 and num1 > num3 : \n",
    "    print(num1)\n",
    "if num2 > num1 and num2 > num3 : \n",
    "    print(num2)\n",
    "else: \n",
    "    print(num3)"
   ]
  },
  {
   "cell_type": "markdown",
   "id": "contrary-bikini",
   "metadata": {},
   "source": [
    "## 125\n",
    "휴대폰 번호 앞자리에 따라 통신사는 아래와 같이 구분된다. 사용자로부터 휴대전화 번호를 입력 받고, 통신사를 출력하는 프로그램을 작성하라.\n",
    "\n",
    "번호\t|통신사\n",
    "---|-----\n",
    "011\t|SKT\n",
    "016\t|KT\n",
    "019\t|LGU\n",
    "010\t|알수없음\n",
    "\n",
    "휴대전화 번호 입력: 011-345-1922\n",
    "\n",
    "당신은 SKT 사용자입니다."
   ]
  },
  {
   "cell_type": "code",
   "execution_count": 64,
   "id": "current-nancy",
   "metadata": {},
   "outputs": [
    {
     "name": "stdout",
     "output_type": "stream",
     "text": [
      "휴대전화 번호 입력: 011-345-1922\n"
     ]
    }
   ],
   "source": [
    "user = input(\"휴대전화 번호 입력: \")\n",
    "number = user.split(\"-\")[0]"
   ]
  },
  {
   "cell_type": "code",
   "execution_count": 65,
   "id": "sublime-station",
   "metadata": {},
   "outputs": [
    {
     "data": {
      "text/plain": [
       "'011'"
      ]
     },
     "execution_count": 65,
     "metadata": {},
     "output_type": "execute_result"
    }
   ],
   "source": [
    "number"
   ]
  },
  {
   "cell_type": "code",
   "execution_count": 79,
   "id": "compliant-stewart",
   "metadata": {},
   "outputs": [
    {
     "name": "stdout",
     "output_type": "stream",
     "text": [
      "휴대전화 번호 입력: 011-345-1922\n",
      "당신은 SKT 사용자입니다.\n"
     ]
    }
   ],
   "source": [
    "user = input(\"휴대전화 번호 입력: \")\n",
    "num = user.split(\"-\")[0]\n",
    "\n",
    "if num == '011':\n",
    "    com = \"SKT\"\n",
    "elif num == '016' : \n",
    "    com = \"KT\"\n",
    "elif num == '019' : \n",
    "    com = \"LGU\"\n",
    "else :\n",
    "    com = \"알수없음\"\n",
    "print(f\"당신은 {com} 사용자입니다.\")"
   ]
  },
  {
   "cell_type": "markdown",
   "id": "alleged-mission",
   "metadata": {},
   "source": [
    "## 126\n",
    "우편번호는 5자리로 구성되는데, 앞의 세자리는 구를 나타낸다. 예를들어, 강북구의 경우 010, 011, 012 세 자리로 시작한다.\n",
    "\n",
    "- |\t0\t|1|\t2|\t3|\t4|\t5\t|6|\t7|\t8|\t9|\n",
    "--|--|--|--|--|--|--|--|--|--|--|\n",
    "01\t|강북구\t|강북구|\t강북구|\t도봉구|\t도봉구|\t도봉구|\t노원구|\t노원구|\t노원구|\t노원구|\n",
    "\n",
    "사용자로 부터 5자리 우편번호를 입력받고 구를 판별하라\n",
    "\n",
    "\n",
    "우편번호: 01400\n",
    "\n",
    "도봉구"
   ]
  },
  {
   "cell_type": "code",
   "execution_count": 81,
   "id": "powered-scott",
   "metadata": {},
   "outputs": [
    {
     "name": "stdout",
     "output_type": "stream",
     "text": [
      "우편번호: 01400\n",
      "노원구\n"
     ]
    }
   ],
   "source": [
    "zip = input(\"우편번호: \")\n",
    "zip = zip[3:]\n",
    "\n",
    "if zip in [\"010\",\"011\",\"012\"]:\n",
    "    print(\"강북구\")\n",
    "elif zip in [\"013\",\"014\",\"015\"]:\n",
    "    print(\"도봉구\")\n",
    "else:\n",
    "    print(\"노원구\")"
   ]
  },
  {
   "cell_type": "markdown",
   "id": "secure-jamaica",
   "metadata": {},
   "source": [
    "## 127\n",
    "주민등록번호 뒷 자리 7자리 중 첫째 자리는 성별을 나타내는데, 1, 3은 남자 2, 4는 여자를 의미한다. 사용자로부터 13자리의 주민등록번호를 입력 받은 후 성별 (남자, 여자)를 출력하는 프로그램을 작성하라.\n",
    "\n",
    "주민등록번호: 821010-1635210\n",
    "\n",
    "남자"
   ]
  },
  {
   "cell_type": "code",
   "execution_count": 94,
   "id": "metallic-lincoln",
   "metadata": {},
   "outputs": [
    {
     "name": "stdout",
     "output_type": "stream",
     "text": [
      "주민등록번호: 821010-1635210\n"
     ]
    }
   ],
   "source": [
    "num = input(\"주민등록번호: \")\n",
    "num = num.split(\"-\")[1]"
   ]
  },
  {
   "cell_type": "code",
   "execution_count": 95,
   "id": "arctic-caribbean",
   "metadata": {},
   "outputs": [
    {
     "data": {
      "text/plain": [
       "'1635210'"
      ]
     },
     "execution_count": 95,
     "metadata": {},
     "output_type": "execute_result"
    }
   ],
   "source": [
    "num"
   ]
  },
  {
   "cell_type": "code",
   "execution_count": 91,
   "id": "extraordinary-japanese",
   "metadata": {},
   "outputs": [
    {
     "data": {
      "text/plain": [
       "'1'"
      ]
     },
     "execution_count": 91,
     "metadata": {},
     "output_type": "execute_result"
    }
   ],
   "source": [
    "num[:1]"
   ]
  },
  {
   "cell_type": "code",
   "execution_count": 102,
   "id": "impaired-belarus",
   "metadata": {},
   "outputs": [
    {
     "name": "stdout",
     "output_type": "stream",
     "text": [
      "주민등록번호: 821010-1635210\n",
      "남자\n"
     ]
    }
   ],
   "source": [
    "num = input(\"주민등록번호: \")\n",
    "num = num.split(\"-\")[1]\n",
    "\n",
    "if num[0] in [\"2\",\"4\"] :\n",
    "    print(\"여자\")\n",
    "elif  num[0] in [\"1\",\"3\"]:\n",
    "    print(\"남자\")"
   ]
  },
  {
   "cell_type": "code",
   "execution_count": 106,
   "id": "unlike-howard",
   "metadata": {},
   "outputs": [
    {
     "name": "stdout",
     "output_type": "stream",
     "text": [
      "주민등록번호: 821010-1635210\n",
      "남자\n"
     ]
    }
   ],
   "source": [
    "num = input(\"주민등록번호: \")\n",
    "num = num.split(\"-\")[1]\n",
    "\n",
    "if num[0]==\"2\" or num[0] == \"4\" :\n",
    "    print(\"여자\")\n",
    "elif num[0]==\"1\" or num[0] == \"3\":\n",
    "    print(\"남자\")"
   ]
  },
  {
   "cell_type": "markdown",
   "id": "fleet-bermuda",
   "metadata": {},
   "source": [
    "## 128\n",
    "주민등록번호의 뒷 자리 7자리 중 두번째와 세번째는 지역코드를 의미한다. 주민 등록 번호를 입력 받은 후 출생지가 서울인지 아닌지 판단하는 코드를 작성하라\n",
    "\n",
    "지역코드|\t출생지\n",
    "---|---\n",
    "00 ~ 08\t|서울\n",
    "09 ~ 12\t|부산\n",
    "\n",
    "주민등록번호: 821010-1635210\n",
    "\n",
    "서울이 아닙니다.\n",
    "\n",
    "주민등록번호: 861010-1015210\n",
    "\n",
    "서울 입니다."
   ]
  },
  {
   "cell_type": "code",
   "execution_count": 115,
   "id": "tough-yeast",
   "metadata": {},
   "outputs": [
    {
     "name": "stdout",
     "output_type": "stream",
     "text": [
      "주민등록번호: 861010-1015210\n",
      "서울입니다.\n"
     ]
    }
   ],
   "source": [
    "local = input(\"주민등록번호: \")\n",
    "local = local.split(\"-\")[1]\n",
    "\n",
    "if local[1:3] in [\"00\",\"01\",\"02\",\"03\",\"04\",\"05\",\"06\",\"07\",\"08\"]:\n",
    "    print(\"서울입니다.\")\n",
    "else: \n",
    "    print(\"서울이 아닙니다.\")"
   ]
  },
  {
   "cell_type": "code",
   "execution_count": 120,
   "id": "vanilla-watts",
   "metadata": {},
   "outputs": [
    {
     "name": "stdout",
     "output_type": "stream",
     "text": [
      "주민등록번호: 821010-1635210\n",
      "서울이 아닙니다.\n"
     ]
    }
   ],
   "source": [
    "local = input(\"주민등록번호: \")\n",
    "local = local.split(\"-\")[1]\n",
    "\n",
    "if 0<= int(local[1:3])<=8:\n",
    "    print(\"서울입니다.\")\n",
    "else: \n",
    "    print(\"서울이 아닙니다.\")"
   ]
  },
  {
   "cell_type": "markdown",
   "id": "labeled-qatar",
   "metadata": {},
   "source": [
    "## 129\n",
    "주민등록번호는 13자리로 구성되는데 마지막 자리수는 주민등록번호의 유효성을 체크하는데 사용된다. 먼저 앞에서부터 12자리의 숫자에 2, 3, 4, 5, 6, 7, 8, 9, 2, 3, 4, 5를 차례로 곱한 뒤 그 값을 전부 더한다. 연산 결과 값을 11로 나누면 나머지가 나오는데 11에서 나머지를 뺀 값이 주민등록번호의 마지막 번호가 된다.\n",
    "\n",
    "  8 2 1 0 1 0 - 1 6 3 5 2 1 0\n",
    "x 2 3 4 5 6 7   8 9 2 3 4 5 \n",
    "-----------------------------\n",
    "\n",
    "1차 계산: (8*2 + 2*3 + 1*4 + 0*5 + 1*6 + 0*7 + 1*8 + 6*9 + 3*2 + 5*3 + 2*4 + 1*5) = (128 % 11) = 7\n",
    "\n",
    "2차 계산: 11 -7 = 4\n",
    "위와 같이 821010-1635210에 대해서 계산을 해보면 마지막 자리는 4가 되어야 함을 알 수 있다. 즉, 821010-1635210은 유효하지 않은 주민등록번호임을 알 수 있다.\n",
    "\n",
    "다음과 같이 사용자로부터 주민등록번호를 입력받은 후 주민등록번호가 유효한지를 출력하는 프로그램을 작성하라.\n",
    "\n",
    "\n",
    "주민등록번호: 821010-1635210\n",
    "\n",
    "유효하지 않은 주민등록번호입니다. "
   ]
  },
  {
   "cell_type": "code",
   "execution_count": 138,
   "id": "caring-latino",
   "metadata": {},
   "outputs": [
    {
     "name": "stdout",
     "output_type": "stream",
     "text": [
      "주민등록번호: 821010-1635210\n",
      "유효하지 않은 주민등록번호입니다.\n"
     ]
    }
   ],
   "source": [
    "num = input(\"주민등록번호: \")\n",
    "\n",
    "result1 = int(num[0])*2 + int(num[1])*3 + int(num[2])*4 + int(num[3])*5 +int(num[4])*6 + int(num[5])*7 + int(num[7])*8 +int(num[8])*9 + int(num[9])*2 +int(num[10])*3 +int(num[11])*4 +int(num[12])*5\n",
    "\n",
    "result2 = 11 - (result1 % 11)\n",
    "result3 = str(result2)\n",
    "\n",
    "if num[-1]== result3[-1] :\n",
    "    print(\"유효한 주민등록번호입니다.\")\n",
    "elif num[-1] != result3[-1] :\n",
    "    print(\"유효하지 않은 주민등록번호입니다.\")"
   ]
  },
  {
   "cell_type": "markdown",
   "id": "postal-interpretation",
   "metadata": {},
   "source": [
    "## 130\n",
    "아래 코드는 비트코인의 가격 정보를 딕셔너리로 가져오는 코드이다.\n",
    "\n",
    "import requests\n",
    "\n",
    "btc = requests.get(\"https://api.bithumb.com/public/ticker/\").json()['data']\n",
    "\n",
    "btc 딕셔너리 안에는 시가, 종가, 최고가, 최저가 등이 저장되어 있다. 최고가와 최저가의 차이를 변동폭으로 정의할 때 (시가 + 변동폭)이 최고가 보다 높을 경우 \"상승장\", 그렇지 않은 경우 \"하락장\" 문자열을 출력하라.\n",
    "\n",
    "Key Name|\tDescription\n",
    "---|---\n",
    "opening_price|\t최근 24시간 내 시작 거래금액\n",
    "closing_price|\t최근 24시간 내 마지막 거래금액\n",
    "min_price|\t최근 24시간 내 최저 거래금액\n",
    "max_price|\t최근 24시간 내 최고 거래금액"
   ]
  },
  {
   "cell_type": "code",
   "execution_count": 140,
   "id": "advisory-review",
   "metadata": {},
   "outputs": [],
   "source": [
    "import requests\n",
    "\n",
    "btc = requests.get(\"https://api.bithumb.com/public/ticker/\").json()['data']"
   ]
  },
  {
   "cell_type": "code",
   "execution_count": 161,
   "id": "answering-variation",
   "metadata": {},
   "outputs": [
    {
     "data": {
      "text/plain": [
       "{'opening_price': '77857000',\n",
       " 'closing_price': '78001000',\n",
       " 'min_price': '77389000',\n",
       " 'max_price': '78200000',\n",
       " 'units_traded': '371.55156669',\n",
       " 'acc_trade_value': '28933155243.7225',\n",
       " 'prev_closing_price': '77857000',\n",
       " 'units_traded_24H': '3972.96354655',\n",
       " 'acc_trade_value_24H': '311701107017.046',\n",
       " 'fluctate_24H': '-904000',\n",
       " 'fluctate_rate_24H': '-1.15',\n",
       " 'date': '1618676190996'}"
      ]
     },
     "execution_count": 161,
     "metadata": {},
     "output_type": "execute_result"
    }
   ],
   "source": [
    "btc"
   ]
  },
  {
   "cell_type": "code",
   "execution_count": 152,
   "id": "minus-accused",
   "metadata": {},
   "outputs": [
    {
     "name": "stdout",
     "output_type": "stream",
     "text": [
      "811000\n",
      "77857000\n",
      "78200000\n"
     ]
    }
   ],
   "source": [
    "변동폭 = int(btc['max_price']) - int(btc['min_price'])\n",
    "시가 = int(btc['opening_price'])\n",
    "최고가= int(btc['max_price'])\n",
    "\n",
    "print(변동폭)\n",
    "print(시가)\n",
    "print(최고가)"
   ]
  },
  {
   "cell_type": "code",
   "execution_count": 155,
   "id": "prescription-factory",
   "metadata": {},
   "outputs": [
    {
     "name": "stdout",
     "output_type": "stream",
     "text": [
      "상승장\n"
     ]
    }
   ],
   "source": [
    "if (시가+변동폭) > 최고가:\n",
    "    print(\"상승장\")\n",
    "\n",
    "else:\n",
    "    print(\"하락장\")"
   ]
  },
  {
   "cell_type": "markdown",
   "id": "expired-acrobat",
   "metadata": {},
   "source": [
    "# 파이썬 반복문\n",
    "\n",
    "파이썬 for 문은 횟수가 정해져 있거나 상대적으로 횟수가 적은 경우에 대한 반복에 주로 사용됩니다. 파이썬 while문은 횟수가 상대적으로 크거나 무한 루프 형태의 반복문에 사용됩니다."
   ]
  },
  {
   "cell_type": "markdown",
   "id": "upper-black",
   "metadata": {},
   "source": [
    "## 131\n",
    "for문의 실행결과를 예측하라.\n",
    "\n",
    "과일 = [\"사과\", \"귤\", \"수박\"]\n",
    "\n",
    "for 변수 in 과일:\n",
    "\n",
    "print(변수)"
   ]
  },
  {
   "cell_type": "code",
   "execution_count": null,
   "id": "systematic-ready",
   "metadata": {},
   "outputs": [],
   "source": [
    "# 한 라인에 하나씩 출력\n",
    "# 리스트에 들어있는 문자열이 한 라인에 하나씩 출력됩니다."
   ]
  },
  {
   "cell_type": "code",
   "execution_count": 164,
   "id": "supreme-powell",
   "metadata": {},
   "outputs": [
    {
     "name": "stdout",
     "output_type": "stream",
     "text": [
      "사과\n",
      "귤\n",
      "수박\n"
     ]
    }
   ],
   "source": [
    "과일 = [\"사과\", \"귤\", \"수박\"]\n",
    "\n",
    "for 변수 in 과일:\n",
    "    print(변수)"
   ]
  },
  {
   "cell_type": "markdown",
   "id": "reliable-surgery",
   "metadata": {},
   "source": [
    "## 132\n",
    "for문의 실행결과를 예측하라.\n",
    "\n",
    "과일 = [\"사과\", \"귤\", \"수박\"]\n",
    "\n",
    "for 변수 in 과일:\n",
    "\n",
    "    print(\"#####\")"
   ]
  },
  {
   "cell_type": "code",
   "execution_count": 163,
   "id": "opened-meaning",
   "metadata": {},
   "outputs": [],
   "source": [
    " # 코드가 세번 #### 출력\n",
    "# 기초문법 배우기-1에서 for문의 핵심은 \n",
    "#\"들여쓰기된 코드가 자료구조에 저장된 데이터 개수만큼 반복된다\"이다.\n",
    "# 과일 = [\"사과\", \"귤\", \"수박\"] 에는 세 개의 데이터가 저장돼 있으므로 \n",
    "#들여쓰기된 print(\"####\")코드가 세 번 실행된다."
   ]
  },
  {
   "cell_type": "code",
   "execution_count": 165,
   "id": "ordinary-kelly",
   "metadata": {},
   "outputs": [
    {
     "name": "stdout",
     "output_type": "stream",
     "text": [
      "#####\n",
      "#####\n",
      "#####\n"
     ]
    }
   ],
   "source": [
    "과일 = [\"사과\", \"귤\", \"수박\"]\n",
    "\n",
    "for 변수 in 과일:\n",
    "    print('#####')"
   ]
  },
  {
   "cell_type": "markdown",
   "id": "explicit-filter",
   "metadata": {},
   "source": [
    "## 133\n",
    "\n",
    "다음 for 문과 동일한 기능을 수행하는 코드를 작성하세요."
   ]
  },
  {
   "cell_type": "code",
   "execution_count": 166,
   "id": "equivalent-despite",
   "metadata": {},
   "outputs": [
    {
     "name": "stdout",
     "output_type": "stream",
     "text": [
      "A\n",
      "B\n",
      "C\n"
     ]
    }
   ],
   "source": [
    "for 변수 in [\"A\", \"B\", \"C\"]:\n",
    "    print(변수)"
   ]
  },
  {
   "cell_type": "code",
   "execution_count": 167,
   "id": "optical-parking",
   "metadata": {},
   "outputs": [
    {
     "name": "stdout",
     "output_type": "stream",
     "text": [
      "A\n",
      "B\n",
      "C\n"
     ]
    }
   ],
   "source": [
    "변수 = \"A\"\n",
    "print(변수)\n",
    "변수 = \"B\"\n",
    "print(변수)\n",
    "변수 = \"C\"\n",
    "print(변수)"
   ]
  },
  {
   "cell_type": "code",
   "execution_count": 169,
   "id": "digital-laptop",
   "metadata": {},
   "outputs": [
    {
     "name": "stdout",
     "output_type": "stream",
     "text": [
      "A\n",
      "B\n",
      "C\n"
     ]
    }
   ],
   "source": [
    "print(\"A\")\n",
    "print(\"B\")\n",
    "print(\"C\")"
   ]
  },
  {
   "cell_type": "markdown",
   "id": "cooked-compensation",
   "metadata": {},
   "source": [
    "## 134\n",
    "for문을 풀어서 동일한 동작을하는 코드를 작성하라."
   ]
  },
  {
   "cell_type": "code",
   "execution_count": 170,
   "id": "differential-discussion",
   "metadata": {},
   "outputs": [
    {
     "name": "stdout",
     "output_type": "stream",
     "text": [
      "출력: A\n",
      "출력: B\n",
      "출력: C\n"
     ]
    }
   ],
   "source": [
    "for 변수 in [\"A\", \"B\", \"C\"]:\n",
    "  print(\"출력:\", 변수)"
   ]
  },
  {
   "cell_type": "code",
   "execution_count": 173,
   "id": "informative-scott",
   "metadata": {},
   "outputs": [
    {
     "name": "stdout",
     "output_type": "stream",
     "text": [
      "출력: A\n",
      "출력: B\n",
      "출력: C\n"
     ]
    }
   ],
   "source": [
    "변수 = \"A\"\n",
    "print(\"출력:\",변수)\n",
    "변수 = \"B\"\n",
    "print(\"출력:\",변수)\n",
    "변수 = \"C\"\n",
    "print(\"출력:\",변수)"
   ]
  },
  {
   "cell_type": "code",
   "execution_count": 172,
   "id": "metallic-facial",
   "metadata": {},
   "outputs": [
    {
     "name": "stdout",
     "output_type": "stream",
     "text": [
      "출력: A\n",
      "출력: B\n",
      "출력: C\n"
     ]
    }
   ],
   "source": [
    "print(\"출력: A\")\n",
    "print(\"출력: B\")\n",
    "print(\"출력: C\")"
   ]
  },
  {
   "cell_type": "markdown",
   "id": "changed-algebra",
   "metadata": {},
   "source": [
    "## 135\n",
    "for문을 풀어서 동일한 동작을 하는 코드를 작성하라."
   ]
  },
  {
   "cell_type": "code",
   "execution_count": 174,
   "id": "unexpected-netherlands",
   "metadata": {},
   "outputs": [
    {
     "name": "stdout",
     "output_type": "stream",
     "text": [
      "변환: a\n",
      "변환: b\n",
      "변환: c\n"
     ]
    }
   ],
   "source": [
    "for 변수 in [\"A\", \"B\", \"C\"]:\n",
    "    b = 변수.lower()\n",
    "    print(\"변환:\", b)"
   ]
  },
  {
   "cell_type": "code",
   "execution_count": 176,
   "id": "connected-leonard",
   "metadata": {},
   "outputs": [
    {
     "name": "stdout",
     "output_type": "stream",
     "text": [
      "변환: a\n",
      "변환: b\n",
      "변환: c\n"
     ]
    }
   ],
   "source": [
    "변수 = \"A\"\n",
    "b = 변수.lower()\n",
    "print(\"변환:\", b)\n",
    "변수 = \"B\"\n",
    "b = 변수.lower()\n",
    "print(\"변환:\", b)\n",
    "변수 = \"C\"\n",
    "b = 변수.lower()\n",
    "print(\"변환:\", b)"
   ]
  },
  {
   "cell_type": "markdown",
   "id": "working-relief",
   "metadata": {},
   "source": [
    "## 136\n",
    "다음 코드를 for문으로 작성하라."
   ]
  },
  {
   "cell_type": "code",
   "execution_count": 192,
   "id": "green-capitol",
   "metadata": {},
   "outputs": [
    {
     "name": "stdout",
     "output_type": "stream",
     "text": [
      "10\n",
      "20\n",
      "30\n"
     ]
    }
   ],
   "source": [
    "변수 = 10\n",
    "print(변수)\n",
    "변수 = 20\n",
    "print(변수)\n",
    "변수 = 30\n",
    "print(변수)"
   ]
  },
  {
   "cell_type": "code",
   "execution_count": 177,
   "id": "random-assumption",
   "metadata": {},
   "outputs": [
    {
     "name": "stdout",
     "output_type": "stream",
     "text": [
      "10\n",
      "20\n",
      "30\n"
     ]
    }
   ],
   "source": [
    "for 변수 in [10,20,30]:\n",
    "    print(변수)"
   ]
  },
  {
   "cell_type": "code",
   "execution_count": 178,
   "id": "mediterranean-period",
   "metadata": {},
   "outputs": [
    {
     "name": "stdout",
     "output_type": "stream",
     "text": [
      "10\n",
      "20\n",
      "30\n"
     ]
    }
   ],
   "source": [
    "list = [10,20,30]\n",
    "\n",
    "for 변수 in list:\n",
    "    print(변수)"
   ]
  },
  {
   "cell_type": "markdown",
   "id": "graphic-thomas",
   "metadata": {},
   "source": [
    "## 137\n",
    "다음 코드를 for문으로 작성하라."
   ]
  },
  {
   "cell_type": "code",
   "execution_count": 180,
   "id": "excessive-missile",
   "metadata": {},
   "outputs": [
    {
     "name": "stdout",
     "output_type": "stream",
     "text": [
      "10\n",
      "20\n",
      "30\n"
     ]
    }
   ],
   "source": [
    "print(10)\n",
    "print(20)\n",
    "print(30)"
   ]
  },
  {
   "cell_type": "code",
   "execution_count": 181,
   "id": "fatal-movement",
   "metadata": {},
   "outputs": [
    {
     "name": "stdout",
     "output_type": "stream",
     "text": [
      "10\n",
      "20\n",
      "30\n"
     ]
    }
   ],
   "source": [
    "for i in [10,20,30]:\n",
    "    print(i)"
   ]
  },
  {
   "cell_type": "markdown",
   "id": "pending-permit",
   "metadata": {},
   "source": [
    "## 138\n",
    "다음 코드를 for문으로 작성하라."
   ]
  },
  {
   "cell_type": "code",
   "execution_count": 191,
   "id": "light-brazilian",
   "metadata": {},
   "outputs": [
    {
     "name": "stdout",
     "output_type": "stream",
     "text": [
      "10\n",
      "-------\n",
      "20\n",
      "-------\n",
      "30\n",
      "-------\n"
     ]
    }
   ],
   "source": [
    "print(10)\n",
    "print(\"-------\")\n",
    "print(20)\n",
    "print(\"-------\")\n",
    "print(30)\n",
    "print(\"-------\")"
   ]
  },
  {
   "cell_type": "code",
   "execution_count": 183,
   "id": "subject-excellence",
   "metadata": {},
   "outputs": [
    {
     "name": "stdout",
     "output_type": "stream",
     "text": [
      "10\n",
      "-----\n",
      "20\n",
      "-----\n",
      "30\n",
      "-----\n"
     ]
    }
   ],
   "source": [
    "for i in [10,20,30]:\n",
    "    print(i)\n",
    "    print(\"-----\")"
   ]
  },
  {
   "cell_type": "markdown",
   "id": "hearing-publicity",
   "metadata": {},
   "source": [
    "## 139\n",
    "다음 코드를 for문으로 작성하라."
   ]
  },
  {
   "cell_type": "code",
   "execution_count": 184,
   "id": "significant-chassis",
   "metadata": {},
   "outputs": [
    {
     "name": "stdout",
     "output_type": "stream",
     "text": [
      "++++\n",
      "10\n",
      "20\n",
      "30\n"
     ]
    }
   ],
   "source": [
    "print(\"++++\")\n",
    "print(10)\n",
    "print(20)\n",
    "print(30)"
   ]
  },
  {
   "cell_type": "code",
   "execution_count": 190,
   "id": "stylish-allah",
   "metadata": {},
   "outputs": [
    {
     "name": "stdout",
     "output_type": "stream",
     "text": [
      "++++\n",
      "10\n",
      "20\n",
      "30\n"
     ]
    }
   ],
   "source": [
    " print(\"++++\")\n",
    "for i in [10,20,30]:\n",
    "    print(i)\n"
   ]
  },
  {
   "cell_type": "markdown",
   "id": "provincial-consistency",
   "metadata": {},
   "source": [
    "## 140\n",
    "다음 코드를 for문으로 작성하라."
   ]
  },
  {
   "cell_type": "code",
   "execution_count": 194,
   "id": "clinical-gibraltar",
   "metadata": {},
   "outputs": [
    {
     "name": "stdout",
     "output_type": "stream",
     "text": [
      "-------\n",
      "-------\n",
      "-------\n",
      "-------\n"
     ]
    }
   ],
   "source": [
    "print(\"-------\")\n",
    "print(\"-------\")\n",
    "print(\"-------\")\n",
    "print(\"-------\")"
   ]
  },
  {
   "cell_type": "code",
   "execution_count": 197,
   "id": "neutral-navigator",
   "metadata": {},
   "outputs": [
    {
     "name": "stdout",
     "output_type": "stream",
     "text": [
      "------\n",
      "------\n",
      "------\n",
      "------\n"
     ]
    }
   ],
   "source": [
    "for i in [10,20,30,40]:\n",
    "    print(\"------\")"
   ]
  },
  {
   "cell_type": "markdown",
   "id": "statistical-sunday",
   "metadata": {},
   "source": [
    "## 141\n",
    "다음과 같이 판매가가 저장된 리스트가 있을 때 부가세가 포함된 가격을 for 문을 사용해서 화면에 출력하라. 단 부가세는 10원으로 가정한다.\n",
    "\n",
    "리스트 = [100, 200, 300]\n",
    "\n",
    "110\n",
    "\n",
    "210\n",
    "\n",
    "310"
   ]
  },
  {
   "cell_type": "code",
   "execution_count": 198,
   "id": "checked-agent",
   "metadata": {},
   "outputs": [
    {
     "name": "stdout",
     "output_type": "stream",
     "text": [
      "110\n",
      "210\n",
      "310\n"
     ]
    }
   ],
   "source": [
    "리스트 = [100, 200, 300]\n",
    "\n",
    "for i in 리스트:\n",
    "    print(i+10)"
   ]
  },
  {
   "cell_type": "markdown",
   "id": "muslim-warrior",
   "metadata": {},
   "source": [
    "## 142\n",
    "for 문을 사용해서 리스트에 저장된 값을 다음과 같이 출력하라.\n",
    "\n",
    "리스트 = [\"김밥\", \"라면\", \"튀김\"]\n",
    "\n",
    "오늘의 메뉴: 김밥\n",
    "\n",
    "오늘의 메뉴: 라면\n",
    "\n",
    "오늘의 메뉴: 튀김"
   ]
  },
  {
   "cell_type": "code",
   "execution_count": 201,
   "id": "roman-queue",
   "metadata": {},
   "outputs": [
    {
     "name": "stdout",
     "output_type": "stream",
     "text": [
      "오늘의 메뉴: 김밥\n",
      "오늘의 메뉴: 라면\n",
      "오늘의 메뉴: 튀김\n"
     ]
    }
   ],
   "source": [
    "리스트 = [\"김밥\", \"라면\", \"튀김\"]\n",
    "\n",
    "for i in 리스트:\n",
    "    print(\"오늘의 메뉴:\", i)"
   ]
  },
  {
   "cell_type": "markdown",
   "id": "stable-strand",
   "metadata": {},
   "source": [
    "## 143\n",
    "리스트에 주식 종목이름이 저장돼 있다.\n",
    "\n",
    "리스트 = [\"SK하이닉스\", \"삼성전자\", \"LG전자\"]\n",
    "\n",
    "저장된 문자열의 길이를 다음과 같이 출력하라.\n",
    "\n",
    "6\n",
    "\n",
    "4\n",
    "\n",
    "4"
   ]
  },
  {
   "cell_type": "code",
   "execution_count": 202,
   "id": "improving-paragraph",
   "metadata": {},
   "outputs": [],
   "source": [
    "리스트 = [\"SK하이닉스\", \"삼성전자\", \"LG전자\"]"
   ]
  },
  {
   "cell_type": "code",
   "execution_count": 203,
   "id": "homeless-african",
   "metadata": {},
   "outputs": [
    {
     "name": "stdout",
     "output_type": "stream",
     "text": [
      "6\n",
      "4\n",
      "4\n"
     ]
    }
   ],
   "source": [
    "for 종목이름 in 리스트:\n",
    "    print(len(종목이름))"
   ]
  },
  {
   "cell_type": "markdown",
   "id": "saved-amino",
   "metadata": {},
   "source": [
    "## 144\n",
    "\n",
    "리스트에는 동물이름이 문자열로 저장돼 있다.\n",
    "\n",
    "리스트 = ['dog', 'cat', 'parrot']\n",
    "\n",
    "동물 이름과 글자수를 다음과 같이 출력하라.\n",
    "\n",
    "dog 3\n",
    "\n",
    "cat 3\n",
    "\n",
    "parrot 6"
   ]
  },
  {
   "cell_type": "code",
   "execution_count": 204,
   "id": "painted-technique",
   "metadata": {},
   "outputs": [
    {
     "name": "stdout",
     "output_type": "stream",
     "text": [
      "dog 3\n",
      "cat 3\n",
      "parrot 6\n"
     ]
    }
   ],
   "source": [
    "리스트 = ['dog', 'cat', 'parrot']\n",
    "\n",
    "for 동물이름 in 리스트:\n",
    "    print(동물이름, len(동물이름))"
   ]
  },
  {
   "cell_type": "markdown",
   "id": "technical-dynamics",
   "metadata": {},
   "source": [
    "## 145\n",
    "리스트에 동물 이름 저장돼 있다.\n",
    "\n",
    "리스트 = ['dog', 'cat', 'parrot']\n",
    "\n",
    "for문을 사용해서 동물 이름의 첫 글자만 출력하라.\n",
    "\n",
    "d\n",
    "\n",
    "c\n",
    "\n",
    "p"
   ]
  },
  {
   "cell_type": "code",
   "execution_count": 205,
   "id": "little-editing",
   "metadata": {},
   "outputs": [
    {
     "name": "stdout",
     "output_type": "stream",
     "text": [
      "d\n",
      "c\n",
      "p\n"
     ]
    }
   ],
   "source": [
    "리스트 = ['dog', 'cat', 'parrot']\n",
    "\n",
    "for 이름 in 리스트:\n",
    "    print(이름[0])"
   ]
  },
  {
   "cell_type": "markdown",
   "id": "corporate-samba",
   "metadata": {},
   "source": [
    "## 146\n",
    "리스트에는 세 개의 숫자가 바인딩돼 있다.\n",
    "\n",
    "리스트 = [1, 2, 3]\n",
    "for문을 사용해서 다음과 같이 출력하라.\n",
    "\n",
    "3 x 1\n",
    "\n",
    "3 x 2\n",
    "\n",
    "3 x 3"
   ]
  },
  {
   "cell_type": "code",
   "execution_count": 220,
   "id": "positive-corpus",
   "metadata": {},
   "outputs": [
    {
     "name": "stdout",
     "output_type": "stream",
     "text": [
      "3 x 1\n",
      "3 x 2\n",
      "3 x 3\n"
     ]
    }
   ],
   "source": [
    "리스트 = [1, 2, 3]\n",
    "\n",
    "for 곱셈 in 리스트:\n",
    "    print(\"3 x\", 곱셈)"
   ]
  },
  {
   "cell_type": "code",
   "execution_count": 225,
   "id": "allied-integral",
   "metadata": {},
   "outputs": [
    {
     "name": "stdout",
     "output_type": "stream",
     "text": [
      "3 x 1\n",
      "3 x 2\n",
      "3 x 3\n"
     ]
    }
   ],
   "source": [
    "리스트 = [1, 2, 3]\n",
    "\n",
    "for 곱셈 in 리스트:\n",
    "    print(\"3 x \"+  str(곱셈))"
   ]
  },
  {
   "cell_type": "markdown",
   "id": "disciplinary-honey",
   "metadata": {},
   "source": [
    "## 147\n",
    "리스트에는 세 개의 숫자가 바인딩돼 있다,"
   ]
  },
  {
   "cell_type": "code",
   "execution_count": 226,
   "id": "southern-package",
   "metadata": {},
   "outputs": [],
   "source": [
    "리스트 = [1, 2, 3]"
   ]
  },
  {
   "cell_type": "markdown",
   "id": "hearing-allocation",
   "metadata": {},
   "source": [
    "for문을 사용해서 다음과 같이 출력하라.\n",
    "\n",
    "3 x 1 = 3\n",
    "\n",
    "3 x 2 = 6\n",
    "\n",
    "3 x 3 = 9"
   ]
  },
  {
   "cell_type": "code",
   "execution_count": 230,
   "id": "thick-dover",
   "metadata": {},
   "outputs": [
    {
     "name": "stdout",
     "output_type": "stream",
     "text": [
      "3 x  1 = 3\n",
      "3 x  2 = 6\n",
      "3 x  3 = 9\n"
     ]
    }
   ],
   "source": [
    "for 변수 in 리스트:\n",
    "    print(\"3 x \", 변수,\"=\",3*변수)"
   ]
  },
  {
   "cell_type": "code",
   "execution_count": 232,
   "id": "hired-shadow",
   "metadata": {},
   "outputs": [
    {
     "name": "stdout",
     "output_type": "stream",
     "text": [
      "3 x 1 = 3\n",
      "3 x 2 = 6\n",
      "3 x 3 = 9\n"
     ]
    }
   ],
   "source": [
    "for 변수 in 리스트:\n",
    "    print(\"3 x {} = {}\".format(변수, 3*변수))"
   ]
  },
  {
   "cell_type": "markdown",
   "id": "american-jimmy",
   "metadata": {},
   "source": [
    "## 148\n",
    "리스트에는 네 개의 문자열이 바인딩돼 있다.\n",
    "\n",
    "리스트 = [\"가\", \"나\", \"다\", \"라\"]\n",
    "\n",
    "for문을 사용해서 다음과 같이 출력하라.\n",
    "\n",
    "나\n",
    "\n",
    "다\n",
    "\n",
    "라"
   ]
  },
  {
   "cell_type": "code",
   "execution_count": 233,
   "id": "reflected-pastor",
   "metadata": {},
   "outputs": [],
   "source": [
    "리스트 = [\"가\", \"나\", \"다\", \"라\"]"
   ]
  },
  {
   "cell_type": "code",
   "execution_count": 243,
   "id": "smoking-singing",
   "metadata": {},
   "outputs": [
    {
     "name": "stdout",
     "output_type": "stream",
     "text": [
      "나\n",
      "다\n",
      "라\n"
     ]
    }
   ],
   "source": [
    "for 변수 in 리스트[1:]:\n",
    "    print(변수)"
   ]
  },
  {
   "cell_type": "markdown",
   "id": "continent-principal",
   "metadata": {},
   "source": [
    "## 149\n",
    "리스트에는 네 개의 문자열이 바인딩돼 있다.\n",
    "\n",
    "리스트 = [\"가\", \"나\", \"다\", \"라\"]\n",
    "\n",
    "for문을 사용해서 다음과 같이 출력하라.\n",
    "\n",
    "가\n",
    "\n",
    "다"
   ]
  },
  {
   "cell_type": "code",
   "execution_count": 244,
   "id": "generic-pantyhose",
   "metadata": {},
   "outputs": [],
   "source": [
    "리스트 = [\"가\", \"나\", \"다\", \"라\"]"
   ]
  },
  {
   "cell_type": "code",
   "execution_count": 249,
   "id": "administrative-wonder",
   "metadata": {},
   "outputs": [
    {
     "name": "stdout",
     "output_type": "stream",
     "text": [
      "가\n",
      "다\n"
     ]
    }
   ],
   "source": [
    "for 변수 in 리스트[0::2]:\n",
    "    print(변수)"
   ]
  },
  {
   "cell_type": "markdown",
   "id": "educational-associate",
   "metadata": {},
   "source": [
    "## 150\n",
    "\n",
    "리스트에는 네 개의 문자열이 바인딩돼 있다.\n",
    "\n",
    "리스트 = [\"가\", \"나\", \"다\", \"라\"]\n",
    "\n",
    "for문을 사용해서 다음과 같이 출력하라.\n",
    "\n",
    "라\n",
    "\n",
    "다\n",
    "\n",
    "나\n",
    "\n",
    "가"
   ]
  },
  {
   "cell_type": "code",
   "execution_count": 261,
   "id": "moral-object",
   "metadata": {},
   "outputs": [],
   "source": [
    "리스트 = [\"가\", \"나\", \"다\", \"라\"]"
   ]
  },
  {
   "cell_type": "code",
   "execution_count": 264,
   "id": "roman-visit",
   "metadata": {},
   "outputs": [],
   "source": [
    "리스트 = 리스트[: :-1]"
   ]
  },
  {
   "cell_type": "code",
   "execution_count": 265,
   "id": "yellow-diana",
   "metadata": {},
   "outputs": [
    {
     "name": "stdout",
     "output_type": "stream",
     "text": [
      "라\n",
      "다\n",
      "나\n",
      "가\n"
     ]
    }
   ],
   "source": [
    "for 변수 in 리스트:\n",
    "    print(변수)"
   ]
  }
 ],
 "metadata": {
  "kernelspec": {
   "display_name": "Python 3",
   "language": "python",
   "name": "python3"
  },
  "language_info": {
   "codemirror_mode": {
    "name": "ipython",
    "version": 3
   },
   "file_extension": ".py",
   "mimetype": "text/x-python",
   "name": "python",
   "nbconvert_exporter": "python",
   "pygments_lexer": "ipython3",
   "version": "3.8.8"
  },
  "toc": {
   "base_numbering": 1,
   "nav_menu": {},
   "number_sections": true,
   "sideBar": true,
   "skip_h1_title": false,
   "title_cell": "Table of Contents",
   "title_sidebar": "Contents",
   "toc_cell": false,
   "toc_position": {},
   "toc_section_display": true,
   "toc_window_display": false
  },
  "varInspector": {
   "cols": {
    "lenName": 16,
    "lenType": 16,
    "lenVar": 40
   },
   "kernels_config": {
    "python": {
     "delete_cmd_postfix": "",
     "delete_cmd_prefix": "del ",
     "library": "var_list.py",
     "varRefreshCmd": "print(var_dic_list())"
    },
    "r": {
     "delete_cmd_postfix": ") ",
     "delete_cmd_prefix": "rm(",
     "library": "var_list.r",
     "varRefreshCmd": "cat(var_dic_list()) "
    }
   },
   "types_to_exclude": [
    "module",
    "function",
    "builtin_function_or_method",
    "instance",
    "_Feature"
   ],
   "window_display": false
  }
 },
 "nbformat": 4,
 "nbformat_minor": 5
}
