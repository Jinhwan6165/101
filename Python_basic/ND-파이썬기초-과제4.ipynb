{
 "cells": [
  {
   "cell_type": "code",
   "execution_count": 1,
   "metadata": {
    "colab": {},
    "colab_type": "code",
    "id": "N8M7HpmHjkqy",
    "outputId": "4c56bcc8-2581-4696-c5ea-360c4ae0ed36",
    "scrolled": true
   },
   "outputs": [
    {
     "data": {
      "text/plain": [
       "(244, 7)"
      ]
     },
     "execution_count": 1,
     "metadata": {},
     "output_type": "execute_result"
    }
   ],
   "source": [
    "import pandas as pd\n",
    "import seaborn as sns\n",
    "%matplotlib inline\n",
    "df = sns.load_dataset(\"tips\")\n",
    "df.shape"
   ]
  },
  {
   "cell_type": "code",
   "execution_count": 2,
   "metadata": {
    "colab": {},
    "colab_type": "code",
    "id": "KIEewnW3jkq5",
    "outputId": "43ba8458-a235-4e24-d246-335ed0dd1a1f"
   },
   "outputs": [
    {
     "data": {
      "text/html": [
       "<div>\n",
       "<style scoped>\n",
       "    .dataframe tbody tr th:only-of-type {\n",
       "        vertical-align: middle;\n",
       "    }\n",
       "\n",
       "    .dataframe tbody tr th {\n",
       "        vertical-align: top;\n",
       "    }\n",
       "\n",
       "    .dataframe thead th {\n",
       "        text-align: right;\n",
       "    }\n",
       "</style>\n",
       "<table border=\"1\" class=\"dataframe\">\n",
       "  <thead>\n",
       "    <tr style=\"text-align: right;\">\n",
       "      <th></th>\n",
       "      <th>total_bill</th>\n",
       "      <th>tip</th>\n",
       "      <th>sex</th>\n",
       "      <th>smoker</th>\n",
       "      <th>day</th>\n",
       "      <th>time</th>\n",
       "      <th>size</th>\n",
       "    </tr>\n",
       "  </thead>\n",
       "  <tbody>\n",
       "    <tr>\n",
       "      <th>0</th>\n",
       "      <td>16.99</td>\n",
       "      <td>1.01</td>\n",
       "      <td>Female</td>\n",
       "      <td>No</td>\n",
       "      <td>Sun</td>\n",
       "      <td>Dinner</td>\n",
       "      <td>2</td>\n",
       "    </tr>\n",
       "    <tr>\n",
       "      <th>1</th>\n",
       "      <td>10.34</td>\n",
       "      <td>1.66</td>\n",
       "      <td>Male</td>\n",
       "      <td>No</td>\n",
       "      <td>Sun</td>\n",
       "      <td>Dinner</td>\n",
       "      <td>3</td>\n",
       "    </tr>\n",
       "    <tr>\n",
       "      <th>2</th>\n",
       "      <td>21.01</td>\n",
       "      <td>3.50</td>\n",
       "      <td>Male</td>\n",
       "      <td>No</td>\n",
       "      <td>Sun</td>\n",
       "      <td>Dinner</td>\n",
       "      <td>3</td>\n",
       "    </tr>\n",
       "    <tr>\n",
       "      <th>3</th>\n",
       "      <td>23.68</td>\n",
       "      <td>3.31</td>\n",
       "      <td>Male</td>\n",
       "      <td>No</td>\n",
       "      <td>Sun</td>\n",
       "      <td>Dinner</td>\n",
       "      <td>2</td>\n",
       "    </tr>\n",
       "    <tr>\n",
       "      <th>4</th>\n",
       "      <td>24.59</td>\n",
       "      <td>3.61</td>\n",
       "      <td>Female</td>\n",
       "      <td>No</td>\n",
       "      <td>Sun</td>\n",
       "      <td>Dinner</td>\n",
       "      <td>4</td>\n",
       "    </tr>\n",
       "  </tbody>\n",
       "</table>\n",
       "</div>"
      ],
      "text/plain": [
       "   total_bill   tip     sex smoker  day    time  size\n",
       "0       16.99  1.01  Female     No  Sun  Dinner     2\n",
       "1       10.34  1.66    Male     No  Sun  Dinner     3\n",
       "2       21.01  3.50    Male     No  Sun  Dinner     3\n",
       "3       23.68  3.31    Male     No  Sun  Dinner     2\n",
       "4       24.59  3.61  Female     No  Sun  Dinner     4"
      ]
     },
     "execution_count": 2,
     "metadata": {},
     "output_type": "execute_result"
    }
   ],
   "source": [
    "df.head()"
   ]
  },
  {
   "cell_type": "markdown",
   "metadata": {
    "colab_type": "text",
    "id": "rO3Hkc7Wjkq8"
   },
   "source": [
    "## 1. total_bill 을 size 로 나눠서 1인당 가격을 구한결과를 \"per_bill\"이라는 컬럼에 담아주세요. 그리고 per_bill 컬럼에 담긴 값을 describe() 합니다.\n",
    "```\n",
    "count    244.00000\n",
    "mean       7.88823\n",
    "std        2.91435\n",
    "min        2.87500\n",
    "25%        5.80250\n",
    "50%        7.25500\n",
    "75%        9.39000\n",
    "max       20.27500\n",
    "Name: per_bill, dtype: float64\n",
    "```"
   ]
  },
  {
   "cell_type": "code",
   "execution_count": 6,
   "metadata": {
    "colab": {},
    "colab_type": "code",
    "id": "WBz11hYHjkq9",
    "outputId": "86d7685c-cb24-482d-fef4-1d02ea588bf4"
   },
   "outputs": [
    {
     "data": {
      "text/plain": [
       "count    244.00000\n",
       "mean       7.88823\n",
       "std        2.91435\n",
       "min        2.87500\n",
       "25%        5.80250\n",
       "50%        7.25500\n",
       "75%        9.39000\n",
       "max       20.27500\n",
       "Name: per_bill, dtype: float64"
      ]
     },
     "execution_count": 6,
     "metadata": {},
     "output_type": "execute_result"
    }
   ],
   "source": [
    "df[\"per_bill\"] = df[\"total_bill\"] / df[\"size\"]\n",
    "df[\"per_bill\"].describe()"
   ]
  },
  {
   "cell_type": "markdown",
   "metadata": {
    "colab_type": "text",
    "id": "WieIrbw-jkrA"
   },
   "source": [
    "## 2. groupby 를 사용해서 \"time\", \"smoker\" 를 그룹화 하고 \"per_bill\" 의 요약값을 구합니다. \n",
    "* 다음의 결과가 출력되도록 합니다.\n",
    "<table border=\"1\" class=\"dataframe\">\n",
    "  <thead>\n",
    "    <tr style=\"text-align: right;\">\n",
    "      <th></th>\n",
    "      <th></th>\n",
    "      <th>count</th>\n",
    "      <th>mean</th>\n",
    "      <th>std</th>\n",
    "      <th>min</th>\n",
    "      <th>25%</th>\n",
    "      <th>50%</th>\n",
    "      <th>75%</th>\n",
    "      <th>max</th>\n",
    "    </tr>\n",
    "    <tr>\n",
    "      <th>time</th>\n",
    "      <th>smoker</th>\n",
    "      <th></th>\n",
    "      <th></th>\n",
    "      <th></th>\n",
    "      <th></th>\n",
    "      <th></th>\n",
    "      <th></th>\n",
    "      <th></th>\n",
    "      <th></th>\n",
    "    </tr>\n",
    "  </thead>\n",
    "  <tbody>\n",
    "    <tr>\n",
    "      <th rowspan=\"2\" valign=\"top\">Lunch</th>\n",
    "      <th>Yes</th>\n",
    "      <td>23.0</td>\n",
    "      <td>7.939420</td>\n",
    "      <td>2.805047</td>\n",
    "      <td>5.045000</td>\n",
    "      <td>6.303333</td>\n",
    "      <td>6.755000</td>\n",
    "      <td>8.4350</td>\n",
    "      <td>16.340</td>\n",
    "    </tr>\n",
    "    <tr>\n",
    "      <th>No</th>\n",
    "      <td>45.0</td>\n",
    "      <td>6.996419</td>\n",
    "      <td>2.082856</td>\n",
    "      <td>3.755000</td>\n",
    "      <td>5.585000</td>\n",
    "      <td>6.580000</td>\n",
    "      <td>8.3300</td>\n",
    "      <td>12.355</td>\n",
    "    </tr>\n",
    "    <tr>\n",
    "      <th rowspan=\"2\" valign=\"top\">Dinner</th>\n",
    "      <th>Yes</th>\n",
    "      <td>70.0</td>\n",
    "      <td>9.003529</td>\n",
    "      <td>3.839788</td>\n",
    "      <td>2.875000</td>\n",
    "      <td>6.060500</td>\n",
    "      <td>7.875000</td>\n",
    "      <td>11.1725</td>\n",
    "      <td>20.275</td>\n",
    "    </tr>\n",
    "    <tr>\n",
    "      <th>No</th>\n",
    "      <td>106.0</td>\n",
    "      <td>7.519203</td>\n",
    "      <td>2.278733</td>\n",
    "      <td>3.443333</td>\n",
    "      <td>5.705833</td>\n",
    "      <td>7.019167</td>\n",
    "      <td>9.0050</td>\n",
    "      <td>13.205</td>\n",
    "    </tr>\n",
    "  </tbody>\n",
    "</table>"
   ]
  },
  {
   "cell_type": "code",
   "execution_count": 14,
   "metadata": {
    "colab": {},
    "colab_type": "code",
    "id": "ThdDKOU2jkrB",
    "outputId": "26387cde-087e-4a8d-9c58-80e84606b864"
   },
   "outputs": [
    {
     "data": {
      "text/html": [
       "<div>\n",
       "<style scoped>\n",
       "    .dataframe tbody tr th:only-of-type {\n",
       "        vertical-align: middle;\n",
       "    }\n",
       "\n",
       "    .dataframe tbody tr th {\n",
       "        vertical-align: top;\n",
       "    }\n",
       "\n",
       "    .dataframe thead th {\n",
       "        text-align: right;\n",
       "    }\n",
       "</style>\n",
       "<table border=\"1\" class=\"dataframe\">\n",
       "  <thead>\n",
       "    <tr style=\"text-align: right;\">\n",
       "      <th></th>\n",
       "      <th></th>\n",
       "      <th>count</th>\n",
       "      <th>mean</th>\n",
       "      <th>std</th>\n",
       "      <th>min</th>\n",
       "      <th>25%</th>\n",
       "      <th>50%</th>\n",
       "      <th>75%</th>\n",
       "      <th>max</th>\n",
       "    </tr>\n",
       "    <tr>\n",
       "      <th>time</th>\n",
       "      <th>smoker</th>\n",
       "      <th></th>\n",
       "      <th></th>\n",
       "      <th></th>\n",
       "      <th></th>\n",
       "      <th></th>\n",
       "      <th></th>\n",
       "      <th></th>\n",
       "      <th></th>\n",
       "    </tr>\n",
       "  </thead>\n",
       "  <tbody>\n",
       "    <tr>\n",
       "      <th rowspan=\"2\" valign=\"top\">Lunch</th>\n",
       "      <th>Yes</th>\n",
       "      <td>23.0</td>\n",
       "      <td>7.939420</td>\n",
       "      <td>2.805047</td>\n",
       "      <td>5.045000</td>\n",
       "      <td>6.303333</td>\n",
       "      <td>6.755000</td>\n",
       "      <td>8.4350</td>\n",
       "      <td>16.340</td>\n",
       "    </tr>\n",
       "    <tr>\n",
       "      <th>No</th>\n",
       "      <td>45.0</td>\n",
       "      <td>6.996419</td>\n",
       "      <td>2.082856</td>\n",
       "      <td>3.755000</td>\n",
       "      <td>5.585000</td>\n",
       "      <td>6.580000</td>\n",
       "      <td>8.3300</td>\n",
       "      <td>12.355</td>\n",
       "    </tr>\n",
       "    <tr>\n",
       "      <th rowspan=\"2\" valign=\"top\">Dinner</th>\n",
       "      <th>Yes</th>\n",
       "      <td>70.0</td>\n",
       "      <td>9.003529</td>\n",
       "      <td>3.839788</td>\n",
       "      <td>2.875000</td>\n",
       "      <td>6.060500</td>\n",
       "      <td>7.875000</td>\n",
       "      <td>11.1725</td>\n",
       "      <td>20.275</td>\n",
       "    </tr>\n",
       "    <tr>\n",
       "      <th>No</th>\n",
       "      <td>106.0</td>\n",
       "      <td>7.519203</td>\n",
       "      <td>2.278733</td>\n",
       "      <td>3.443333</td>\n",
       "      <td>5.705833</td>\n",
       "      <td>7.019167</td>\n",
       "      <td>9.0050</td>\n",
       "      <td>13.205</td>\n",
       "    </tr>\n",
       "  </tbody>\n",
       "</table>\n",
       "</div>"
      ],
      "text/plain": [
       "               count      mean       std       min       25%       50%  \\\n",
       "time   smoker                                                            \n",
       "Lunch  Yes      23.0  7.939420  2.805047  5.045000  6.303333  6.755000   \n",
       "       No       45.0  6.996419  2.082856  3.755000  5.585000  6.580000   \n",
       "Dinner Yes      70.0  9.003529  3.839788  2.875000  6.060500  7.875000   \n",
       "       No      106.0  7.519203  2.278733  3.443333  5.705833  7.019167   \n",
       "\n",
       "                   75%     max  \n",
       "time   smoker                   \n",
       "Lunch  Yes      8.4350  16.340  \n",
       "       No       8.3300  12.355  \n",
       "Dinner Yes     11.1725  20.275  \n",
       "       No       9.0050  13.205  "
      ]
     },
     "execution_count": 14,
     "metadata": {},
     "output_type": "execute_result"
    }
   ],
   "source": [
    "# 결과를 group_per 변수에 담고 group_per 변수를 출력해 주세요.\n",
    "df.groupby([\"time\",\"smoker\"])[\"per_bill\"].describe()"
   ]
  },
  {
   "cell_type": "markdown",
   "metadata": {
    "colab_type": "text",
    "id": "JQDzC31zjkrF"
   },
   "source": [
    "## 3. 위 문제의 결과로 group_per 라고 저장된 데이터 프레임에서  Lunch 데이터만 가져옵니다.\n",
    "* 아래의 결과가 출력되도록 합니다.\n",
    "<table border=\"1\" class=\"dataframe\">\n",
    "  <thead>\n",
    "    <tr style=\"text-align: right;\">\n",
    "      <th></th>\n",
    "      <th>count</th>\n",
    "      <th>mean</th>\n",
    "      <th>std</th>\n",
    "      <th>min</th>\n",
    "      <th>25%</th>\n",
    "      <th>50%</th>\n",
    "      <th>75%</th>\n",
    "      <th>max</th>\n",
    "    </tr>\n",
    "    <tr>\n",
    "      <th>smoker</th>\n",
    "      <th></th>\n",
    "      <th></th>\n",
    "      <th></th>\n",
    "      <th></th>\n",
    "      <th></th>\n",
    "      <th></th>\n",
    "      <th></th>\n",
    "      <th></th>\n",
    "    </tr>\n",
    "  </thead>\n",
    "  <tbody>\n",
    "    <tr>\n",
    "      <th>Yes</th>\n",
    "      <td>23.0</td>\n",
    "      <td>7.939420</td>\n",
    "      <td>2.805047</td>\n",
    "      <td>5.045</td>\n",
    "      <td>6.303333</td>\n",
    "      <td>6.755</td>\n",
    "      <td>8.435</td>\n",
    "      <td>16.340</td>\n",
    "    </tr>\n",
    "    <tr>\n",
    "      <th>No</th>\n",
    "      <td>45.0</td>\n",
    "      <td>6.996419</td>\n",
    "      <td>2.082856</td>\n",
    "      <td>3.755</td>\n",
    "      <td>5.585000</td>\n",
    "      <td>6.580</td>\n",
    "      <td>8.330</td>\n",
    "      <td>12.355</td>\n",
    "    </tr>\n",
    "  </tbody>\n",
    "</table>"
   ]
  },
  {
   "cell_type": "code",
   "execution_count": 20,
   "metadata": {},
   "outputs": [
    {
     "data": {
      "text/html": [
       "<div>\n",
       "<style scoped>\n",
       "    .dataframe tbody tr th:only-of-type {\n",
       "        vertical-align: middle;\n",
       "    }\n",
       "\n",
       "    .dataframe tbody tr th {\n",
       "        vertical-align: top;\n",
       "    }\n",
       "\n",
       "    .dataframe thead th {\n",
       "        text-align: right;\n",
       "    }\n",
       "</style>\n",
       "<table border=\"1\" class=\"dataframe\">\n",
       "  <thead>\n",
       "    <tr style=\"text-align: right;\">\n",
       "      <th></th>\n",
       "      <th></th>\n",
       "      <th>count</th>\n",
       "      <th>mean</th>\n",
       "      <th>std</th>\n",
       "      <th>min</th>\n",
       "      <th>25%</th>\n",
       "      <th>50%</th>\n",
       "      <th>75%</th>\n",
       "      <th>max</th>\n",
       "    </tr>\n",
       "    <tr>\n",
       "      <th>time</th>\n",
       "      <th>smoker</th>\n",
       "      <th></th>\n",
       "      <th></th>\n",
       "      <th></th>\n",
       "      <th></th>\n",
       "      <th></th>\n",
       "      <th></th>\n",
       "      <th></th>\n",
       "      <th></th>\n",
       "    </tr>\n",
       "  </thead>\n",
       "  <tbody>\n",
       "    <tr>\n",
       "      <th rowspan=\"2\" valign=\"top\">Lunch</th>\n",
       "      <th>Yes</th>\n",
       "      <td>23.0</td>\n",
       "      <td>7.939420</td>\n",
       "      <td>2.805047</td>\n",
       "      <td>5.045000</td>\n",
       "      <td>6.303333</td>\n",
       "      <td>6.755000</td>\n",
       "      <td>8.4350</td>\n",
       "      <td>16.340</td>\n",
       "    </tr>\n",
       "    <tr>\n",
       "      <th>No</th>\n",
       "      <td>45.0</td>\n",
       "      <td>6.996419</td>\n",
       "      <td>2.082856</td>\n",
       "      <td>3.755000</td>\n",
       "      <td>5.585000</td>\n",
       "      <td>6.580000</td>\n",
       "      <td>8.3300</td>\n",
       "      <td>12.355</td>\n",
       "    </tr>\n",
       "    <tr>\n",
       "      <th rowspan=\"2\" valign=\"top\">Dinner</th>\n",
       "      <th>Yes</th>\n",
       "      <td>70.0</td>\n",
       "      <td>9.003529</td>\n",
       "      <td>3.839788</td>\n",
       "      <td>2.875000</td>\n",
       "      <td>6.060500</td>\n",
       "      <td>7.875000</td>\n",
       "      <td>11.1725</td>\n",
       "      <td>20.275</td>\n",
       "    </tr>\n",
       "    <tr>\n",
       "      <th>No</th>\n",
       "      <td>106.0</td>\n",
       "      <td>7.519203</td>\n",
       "      <td>2.278733</td>\n",
       "      <td>3.443333</td>\n",
       "      <td>5.705833</td>\n",
       "      <td>7.019167</td>\n",
       "      <td>9.0050</td>\n",
       "      <td>13.205</td>\n",
       "    </tr>\n",
       "  </tbody>\n",
       "</table>\n",
       "</div>"
      ],
      "text/plain": [
       "               count      mean       std       min       25%       50%  \\\n",
       "time   smoker                                                            \n",
       "Lunch  Yes      23.0  7.939420  2.805047  5.045000  6.303333  6.755000   \n",
       "       No       45.0  6.996419  2.082856  3.755000  5.585000  6.580000   \n",
       "Dinner Yes      70.0  9.003529  3.839788  2.875000  6.060500  7.875000   \n",
       "       No      106.0  7.519203  2.278733  3.443333  5.705833  7.019167   \n",
       "\n",
       "                   75%     max  \n",
       "time   smoker                   \n",
       "Lunch  Yes      8.4350  16.340  \n",
       "       No       8.3300  12.355  \n",
       "Dinner Yes     11.1725  20.275  \n",
       "       No       9.0050  13.205  "
      ]
     },
     "execution_count": 20,
     "metadata": {},
     "output_type": "execute_result"
    }
   ],
   "source": [
    "group_per = df.groupby([\"time\",\"smoker\"])[\"per_bill\"].describe()\n",
    "group_per"
   ]
  },
  {
   "cell_type": "code",
   "execution_count": 22,
   "metadata": {
    "colab": {},
    "colab_type": "code",
    "id": "JbB6LrSZjkrG",
    "outputId": "7db2d945-78e2-4867-f81b-dfc38c7a4745"
   },
   "outputs": [
    {
     "data": {
      "text/html": [
       "<div>\n",
       "<style scoped>\n",
       "    .dataframe tbody tr th:only-of-type {\n",
       "        vertical-align: middle;\n",
       "    }\n",
       "\n",
       "    .dataframe tbody tr th {\n",
       "        vertical-align: top;\n",
       "    }\n",
       "\n",
       "    .dataframe thead th {\n",
       "        text-align: right;\n",
       "    }\n",
       "</style>\n",
       "<table border=\"1\" class=\"dataframe\">\n",
       "  <thead>\n",
       "    <tr style=\"text-align: right;\">\n",
       "      <th></th>\n",
       "      <th>count</th>\n",
       "      <th>mean</th>\n",
       "      <th>std</th>\n",
       "      <th>min</th>\n",
       "      <th>25%</th>\n",
       "      <th>50%</th>\n",
       "      <th>75%</th>\n",
       "      <th>max</th>\n",
       "    </tr>\n",
       "    <tr>\n",
       "      <th>smoker</th>\n",
       "      <th></th>\n",
       "      <th></th>\n",
       "      <th></th>\n",
       "      <th></th>\n",
       "      <th></th>\n",
       "      <th></th>\n",
       "      <th></th>\n",
       "      <th></th>\n",
       "    </tr>\n",
       "  </thead>\n",
       "  <tbody>\n",
       "    <tr>\n",
       "      <th>Yes</th>\n",
       "      <td>23.0</td>\n",
       "      <td>7.939420</td>\n",
       "      <td>2.805047</td>\n",
       "      <td>5.045</td>\n",
       "      <td>6.303333</td>\n",
       "      <td>6.755</td>\n",
       "      <td>8.435</td>\n",
       "      <td>16.340</td>\n",
       "    </tr>\n",
       "    <tr>\n",
       "      <th>No</th>\n",
       "      <td>45.0</td>\n",
       "      <td>6.996419</td>\n",
       "      <td>2.082856</td>\n",
       "      <td>3.755</td>\n",
       "      <td>5.585000</td>\n",
       "      <td>6.580</td>\n",
       "      <td>8.330</td>\n",
       "      <td>12.355</td>\n",
       "    </tr>\n",
       "  </tbody>\n",
       "</table>\n",
       "</div>"
      ],
      "text/plain": [
       "        count      mean       std    min       25%    50%    75%     max\n",
       "smoker                                                                  \n",
       "Yes      23.0  7.939420  2.805047  5.045  6.303333  6.755  8.435  16.340\n",
       "No       45.0  6.996419  2.082856  3.755  5.585000  6.580  8.330  12.355"
      ]
     },
     "execution_count": 22,
     "metadata": {},
     "output_type": "execute_result"
    }
   ],
   "source": [
    "group_per.loc[\"Lunch\"]"
   ]
  },
  {
   "cell_type": "markdown",
   "metadata": {
    "colab_type": "text",
    "id": "80oPFxrOjkrJ"
   },
   "source": [
    "## 4. \"day\", \"smoker\" 로 그룹화 하고 \"size\" 의 \"count\", \"mean\" 값을 구해주세요. \n",
    "* 다음의 결과가 출력되도록 합니다.\n",
    "<table border=\"1\" class=\"dataframe\">\n",
    "  <thead>\n",
    "    <tr style=\"text-align: right;\">\n",
    "      <th></th>\n",
    "      <th></th>\n",
    "      <th>count</th>\n",
    "      <th>mean</th>\n",
    "    </tr>\n",
    "    <tr>\n",
    "      <th>day</th>\n",
    "      <th>smoker</th>\n",
    "      <th></th>\n",
    "      <th></th>\n",
    "    </tr>\n",
    "  </thead>\n",
    "  <tbody>\n",
    "    <tr>\n",
    "      <th rowspan=\"2\" valign=\"top\">Thur</th>\n",
    "      <th>Yes</th>\n",
    "      <td>17</td>\n",
    "      <td>2.352941</td>\n",
    "    </tr>\n",
    "    <tr>\n",
    "      <th>No</th>\n",
    "      <td>45</td>\n",
    "      <td>2.488889</td>\n",
    "    </tr>\n",
    "    <tr>\n",
    "      <th rowspan=\"2\" valign=\"top\">Fri</th>\n",
    "      <th>Yes</th>\n",
    "      <td>15</td>\n",
    "      <td>2.066667</td>\n",
    "    </tr>\n",
    "    <tr>\n",
    "      <th>No</th>\n",
    "      <td>4</td>\n",
    "      <td>2.250000</td>\n",
    "    </tr>\n",
    "    <tr>\n",
    "      <th rowspan=\"2\" valign=\"top\">Sat</th>\n",
    "      <th>Yes</th>\n",
    "      <td>42</td>\n",
    "      <td>2.476190</td>\n",
    "    </tr>\n",
    "    <tr>\n",
    "      <th>No</th>\n",
    "      <td>45</td>\n",
    "      <td>2.555556</td>\n",
    "    </tr>\n",
    "    <tr>\n",
    "      <th rowspan=\"2\" valign=\"top\">Sun</th>\n",
    "      <th>Yes</th>\n",
    "      <td>19</td>\n",
    "      <td>2.578947</td>\n",
    "    </tr>\n",
    "    <tr>\n",
    "      <th>No</th>\n",
    "      <td>57</td>\n",
    "      <td>2.929825</td>\n",
    "    </tr>\n",
    "  </tbody>\n",
    "</table>"
   ]
  },
  {
   "cell_type": "code",
   "execution_count": 33,
   "metadata": {
    "colab": {},
    "colab_type": "code",
    "id": "fzIP6CgPjkrK",
    "outputId": "fc73982e-11e0-492e-d931-a903e91bbca6"
   },
   "outputs": [
    {
     "data": {
      "text/html": [
       "<div>\n",
       "<style scoped>\n",
       "    .dataframe tbody tr th:only-of-type {\n",
       "        vertical-align: middle;\n",
       "    }\n",
       "\n",
       "    .dataframe tbody tr th {\n",
       "        vertical-align: top;\n",
       "    }\n",
       "\n",
       "    .dataframe thead th {\n",
       "        text-align: right;\n",
       "    }\n",
       "</style>\n",
       "<table border=\"1\" class=\"dataframe\">\n",
       "  <thead>\n",
       "    <tr style=\"text-align: right;\">\n",
       "      <th></th>\n",
       "      <th></th>\n",
       "      <th>count</th>\n",
       "      <th>mean</th>\n",
       "    </tr>\n",
       "    <tr>\n",
       "      <th>day</th>\n",
       "      <th>smoker</th>\n",
       "      <th></th>\n",
       "      <th></th>\n",
       "    </tr>\n",
       "  </thead>\n",
       "  <tbody>\n",
       "    <tr>\n",
       "      <th rowspan=\"2\" valign=\"top\">Thur</th>\n",
       "      <th>Yes</th>\n",
       "      <td>17</td>\n",
       "      <td>2.352941</td>\n",
       "    </tr>\n",
       "    <tr>\n",
       "      <th>No</th>\n",
       "      <td>45</td>\n",
       "      <td>2.488889</td>\n",
       "    </tr>\n",
       "    <tr>\n",
       "      <th rowspan=\"2\" valign=\"top\">Fri</th>\n",
       "      <th>Yes</th>\n",
       "      <td>15</td>\n",
       "      <td>2.066667</td>\n",
       "    </tr>\n",
       "    <tr>\n",
       "      <th>No</th>\n",
       "      <td>4</td>\n",
       "      <td>2.250000</td>\n",
       "    </tr>\n",
       "    <tr>\n",
       "      <th rowspan=\"2\" valign=\"top\">Sat</th>\n",
       "      <th>Yes</th>\n",
       "      <td>42</td>\n",
       "      <td>2.476190</td>\n",
       "    </tr>\n",
       "    <tr>\n",
       "      <th>No</th>\n",
       "      <td>45</td>\n",
       "      <td>2.555556</td>\n",
       "    </tr>\n",
       "    <tr>\n",
       "      <th rowspan=\"2\" valign=\"top\">Sun</th>\n",
       "      <th>Yes</th>\n",
       "      <td>19</td>\n",
       "      <td>2.578947</td>\n",
       "    </tr>\n",
       "    <tr>\n",
       "      <th>No</th>\n",
       "      <td>57</td>\n",
       "      <td>2.929825</td>\n",
       "    </tr>\n",
       "  </tbody>\n",
       "</table>\n",
       "</div>"
      ],
      "text/plain": [
       "             count      mean\n",
       "day  smoker                 \n",
       "Thur Yes        17  2.352941\n",
       "     No         45  2.488889\n",
       "Fri  Yes        15  2.066667\n",
       "     No          4  2.250000\n",
       "Sat  Yes        42  2.476190\n",
       "     No         45  2.555556\n",
       "Sun  Yes        19  2.578947\n",
       "     No         57  2.929825"
      ]
     },
     "execution_count": 33,
     "metadata": {},
     "output_type": "execute_result"
    }
   ],
   "source": [
    "df.groupby([\"day\",\"smoker\"])[\"size\"].agg(['count', 'mean'])"
   ]
  },
  {
   "cell_type": "code",
   "execution_count": 34,
   "metadata": {
    "colab": {},
    "colab_type": "code",
    "id": "uz2TT6jmjkrN",
    "outputId": "c546d5b9-10f1-48cd-9eea-94e6de4148bf"
   },
   "outputs": [
    {
     "name": "stdout",
     "output_type": "stream",
     "text": [
      "(398, 9)\n"
     ]
    },
    {
     "data": {
      "text/html": [
       "<div>\n",
       "<style scoped>\n",
       "    .dataframe tbody tr th:only-of-type {\n",
       "        vertical-align: middle;\n",
       "    }\n",
       "\n",
       "    .dataframe tbody tr th {\n",
       "        vertical-align: top;\n",
       "    }\n",
       "\n",
       "    .dataframe thead th {\n",
       "        text-align: right;\n",
       "    }\n",
       "</style>\n",
       "<table border=\"1\" class=\"dataframe\">\n",
       "  <thead>\n",
       "    <tr style=\"text-align: right;\">\n",
       "      <th></th>\n",
       "      <th>mpg</th>\n",
       "      <th>cylinders</th>\n",
       "      <th>displacement</th>\n",
       "      <th>horsepower</th>\n",
       "      <th>weight</th>\n",
       "      <th>acceleration</th>\n",
       "      <th>model_year</th>\n",
       "      <th>origin</th>\n",
       "      <th>name</th>\n",
       "    </tr>\n",
       "  </thead>\n",
       "  <tbody>\n",
       "    <tr>\n",
       "      <th>0</th>\n",
       "      <td>18.0</td>\n",
       "      <td>8</td>\n",
       "      <td>307.0</td>\n",
       "      <td>130.0</td>\n",
       "      <td>3504</td>\n",
       "      <td>12.0</td>\n",
       "      <td>70</td>\n",
       "      <td>usa</td>\n",
       "      <td>chevrolet chevelle malibu</td>\n",
       "    </tr>\n",
       "    <tr>\n",
       "      <th>1</th>\n",
       "      <td>15.0</td>\n",
       "      <td>8</td>\n",
       "      <td>350.0</td>\n",
       "      <td>165.0</td>\n",
       "      <td>3693</td>\n",
       "      <td>11.5</td>\n",
       "      <td>70</td>\n",
       "      <td>usa</td>\n",
       "      <td>buick skylark 320</td>\n",
       "    </tr>\n",
       "    <tr>\n",
       "      <th>2</th>\n",
       "      <td>18.0</td>\n",
       "      <td>8</td>\n",
       "      <td>318.0</td>\n",
       "      <td>150.0</td>\n",
       "      <td>3436</td>\n",
       "      <td>11.0</td>\n",
       "      <td>70</td>\n",
       "      <td>usa</td>\n",
       "      <td>plymouth satellite</td>\n",
       "    </tr>\n",
       "    <tr>\n",
       "      <th>3</th>\n",
       "      <td>16.0</td>\n",
       "      <td>8</td>\n",
       "      <td>304.0</td>\n",
       "      <td>150.0</td>\n",
       "      <td>3433</td>\n",
       "      <td>12.0</td>\n",
       "      <td>70</td>\n",
       "      <td>usa</td>\n",
       "      <td>amc rebel sst</td>\n",
       "    </tr>\n",
       "    <tr>\n",
       "      <th>4</th>\n",
       "      <td>17.0</td>\n",
       "      <td>8</td>\n",
       "      <td>302.0</td>\n",
       "      <td>140.0</td>\n",
       "      <td>3449</td>\n",
       "      <td>10.5</td>\n",
       "      <td>70</td>\n",
       "      <td>usa</td>\n",
       "      <td>ford torino</td>\n",
       "    </tr>\n",
       "  </tbody>\n",
       "</table>\n",
       "</div>"
      ],
      "text/plain": [
       "    mpg  cylinders  displacement  horsepower  weight  acceleration  \\\n",
       "0  18.0          8         307.0       130.0    3504          12.0   \n",
       "1  15.0          8         350.0       165.0    3693          11.5   \n",
       "2  18.0          8         318.0       150.0    3436          11.0   \n",
       "3  16.0          8         304.0       150.0    3433          12.0   \n",
       "4  17.0          8         302.0       140.0    3449          10.5   \n",
       "\n",
       "   model_year origin                       name  \n",
       "0          70    usa  chevrolet chevelle malibu  \n",
       "1          70    usa          buick skylark 320  \n",
       "2          70    usa         plymouth satellite  \n",
       "3          70    usa              amc rebel sst  \n",
       "4          70    usa                ford torino  "
      ]
     },
     "execution_count": 34,
     "metadata": {},
     "output_type": "execute_result"
    }
   ],
   "source": [
    "# 데이터를 로드해 주세요.\n",
    "mpg = sns.load_dataset(\"mpg\")\n",
    "print(mpg.shape)\n",
    "mpg.head()"
   ]
  },
  {
   "cell_type": "markdown",
   "metadata": {
    "colab_type": "text",
    "id": "IJ6KQlvajkrQ"
   },
   "source": [
    "## 5. horsepower 가 결측치가 아닌 것만 가져와서 origin 으로 그룹화 하고 weight 의 평균값을 구합니다.\n",
    "* 다음의 결과가 출력되도록 합니다.\n",
    "```\n",
    "origin\n",
    "europe    2433.470588\n",
    "japan     2221.227848\n",
    "usa       3372.489796\n",
    "Name: weight, dtype: float64\n",
    "```"
   ]
  },
  {
   "cell_type": "code",
   "execution_count": 56,
   "metadata": {
    "colab": {},
    "colab_type": "code",
    "id": "c-EKizCBjkrR",
    "outputId": "32540f0a-d59d-4067-c600-3e216241c81f"
   },
   "outputs": [],
   "source": [
    "hp_nn = mpg[mpg[\"horsepower\"].notnull()]"
   ]
  },
  {
   "cell_type": "code",
   "execution_count": 58,
   "metadata": {},
   "outputs": [
    {
     "data": {
      "text/plain": [
       "origin\n",
       "europe    2433.470588\n",
       "japan     2221.227848\n",
       "usa       3372.489796\n",
       "Name: weight, dtype: float64"
      ]
     },
     "execution_count": 58,
     "metadata": {},
     "output_type": "execute_result"
    }
   ],
   "source": [
    "hp_nn.groupby(\"origin\")[\"weight\"].mean()"
   ]
  },
  {
   "cell_type": "code",
   "execution_count": 77,
   "metadata": {},
   "outputs": [
    {
     "data": {
      "text/plain": [
       "origin\n",
       "europe    2433.470588\n",
       "japan     2221.227848\n",
       "usa       3372.489796\n",
       "Name: weight, dtype: float64"
      ]
     },
     "execution_count": 77,
     "metadata": {},
     "output_type": "execute_result"
    }
   ],
   "source": [
    "mpg[mpg[\"horsepower\"].notnull()].groupby(\"origin\")[\"weight\"].mean()"
   ]
  },
  {
   "cell_type": "markdown",
   "metadata": {
    "colab_type": "text",
    "id": "zioNe-XFjkrY"
   },
   "source": [
    "## 6. name 에 audi 가 들어가는 데이터의 horsepower 컬럼의 요약값을 구합니다.\n",
    "* 다음의 결과가 출력되도록 합니다.\n",
    "```\n",
    "count      7.000000\n",
    "mean      86.714286\n",
    "std       11.842217\n",
    "min       67.000000\n",
    "25%       80.500000\n",
    "50%       90.000000\n",
    "75%       93.000000\n",
    "max      103.000000\n",
    "Name: horsepower, dtype: float64\n",
    "```"
   ]
  },
  {
   "cell_type": "code",
   "execution_count": 61,
   "metadata": {
    "colab": {},
    "colab_type": "code",
    "id": "giIXzGxLjkrZ",
    "outputId": "ac48bd98-e207-41f6-f7ce-2cb2cf0c2496"
   },
   "outputs": [
    {
     "data": {
      "text/plain": [
       "count      7.000000\n",
       "mean      86.714286\n",
       "std       11.842217\n",
       "min       67.000000\n",
       "25%       80.500000\n",
       "50%       90.000000\n",
       "75%       93.000000\n",
       "max      103.000000\n",
       "Name: horsepower, dtype: float64"
      ]
     },
     "execution_count": 61,
     "metadata": {},
     "output_type": "execute_result"
    }
   ],
   "source": [
    "mpg[mpg[\"name\"].str.contains(\"audi\")][\"horsepower\"].describe()"
   ]
  },
  {
   "cell_type": "markdown",
   "metadata": {
    "colab_type": "text",
    "id": "PupbygD6jkrc"
   },
   "source": [
    "## 7. name 에 diesel 이 들어가는 데이터에서 \"origin\", \"model_year\" 로 그룹화 하고 \"horsepower\" 의 평균을 구합니다.\n",
    "* 다음의 결과가 출력되도록 합니다.\n",
    "\n",
    "```\n",
    "origin  model_year\n",
    "europe  78            48.000000\n",
    "        80            54.333333\n",
    "        81            78.000000\n",
    "usa     82            85.000000\n",
    "Name: horsepower, dtype: float64\n",
    "```"
   ]
  },
  {
   "cell_type": "code",
   "execution_count": 74,
   "metadata": {
    "colab": {},
    "colab_type": "code",
    "id": "sJM9XxXvjkrd",
    "outputId": "dc390ddc-f73d-4c5f-8fe4-aa43043898ac"
   },
   "outputs": [],
   "source": [
    "nm_di = mpg[mpg[\"name\"].str.contains(\"diesel\")]"
   ]
  },
  {
   "cell_type": "code",
   "execution_count": 75,
   "metadata": {},
   "outputs": [
    {
     "data": {
      "text/plain": [
       "origin  model_year\n",
       "europe  78            48.000000\n",
       "        80            54.333333\n",
       "        81            78.000000\n",
       "usa     82            85.000000\n",
       "Name: horsepower, dtype: float64"
      ]
     },
     "execution_count": 75,
     "metadata": {},
     "output_type": "execute_result"
    }
   ],
   "source": [
    "nm_di.groupby([\"origin\",\"model_year\"])[\"horsepower\"].mean()"
   ]
  },
  {
   "cell_type": "code",
   "execution_count": 72,
   "metadata": {},
   "outputs": [
    {
     "data": {
      "text/plain": [
       "origin  model_year\n",
       "europe  78            48.000000\n",
       "        80            54.333333\n",
       "        81            78.000000\n",
       "usa     82            85.000000\n",
       "Name: horsepower, dtype: float64"
      ]
     },
     "execution_count": 72,
     "metadata": {},
     "output_type": "execute_result"
    }
   ],
   "source": [
    " mpg[mpg[\"name\"].str.contains(\"diesel\")].groupby([\"origin\",\"model_year\"])[\"horsepower\"].mean()"
   ]
  },
  {
   "cell_type": "markdown",
   "metadata": {
    "colab_type": "text",
    "id": "9JzT4yfTjkrg"
   },
   "source": [
    "## 8. \"model_year\"가 75보다 작은 값을 가지는 데이터프레임에서 pivot_table 을 사용해서 \"model_year\", \"origin\" 별  \"weight\"의 평균을 구해 다음과 같이 출력되도록 합니다.\n",
    "<table border=\"1\" class=\"dataframe\">\n",
    "  <thead>\n",
    "    <tr style=\"text-align: right;\">\n",
    "      <th>origin</th>\n",
    "      <th>europe</th>\n",
    "      <th>japan</th>\n",
    "      <th>usa</th>\n",
    "    </tr>\n",
    "    <tr>\n",
    "      <th>model_year</th>\n",
    "      <th></th>\n",
    "      <th></th>\n",
    "      <th></th>\n",
    "    </tr>\n",
    "  </thead>\n",
    "  <tbody>\n",
    "    <tr>\n",
    "      <th>70</th>\n",
    "      <td>2309.200000</td>\n",
    "      <td>2251.00</td>\n",
    "      <td>3716.500000</td>\n",
    "    </tr>\n",
    "    <tr>\n",
    "      <th>71</th>\n",
    "      <td>2024.000000</td>\n",
    "      <td>1936.00</td>\n",
    "      <td>3401.600000</td>\n",
    "    </tr>\n",
    "    <tr>\n",
    "      <th>72</th>\n",
    "      <td>2573.200000</td>\n",
    "      <td>2300.40</td>\n",
    "      <td>3682.666667</td>\n",
    "    </tr>\n",
    "    <tr>\n",
    "      <th>73</th>\n",
    "      <td>2335.714286</td>\n",
    "      <td>2397.25</td>\n",
    "      <td>3821.448276</td>\n",
    "    </tr>\n",
    "    <tr>\n",
    "      <th>74</th>\n",
    "      <td>2139.333333</td>\n",
    "      <td>2053.00</td>\n",
    "      <td>3503.333333</td>\n",
    "    </tr>\n",
    "  </tbody>\n",
    "</table>"
   ]
  },
  {
   "cell_type": "code",
   "execution_count": 82,
   "metadata": {
    "colab": {},
    "colab_type": "code",
    "id": "F8GGn_RAjkrg",
    "outputId": "b1150844-db45-4cac-ec57-1df46d494b82"
   },
   "outputs": [
    {
     "data": {
      "text/html": [
       "<div>\n",
       "<style scoped>\n",
       "    .dataframe tbody tr th:only-of-type {\n",
       "        vertical-align: middle;\n",
       "    }\n",
       "\n",
       "    .dataframe tbody tr th {\n",
       "        vertical-align: top;\n",
       "    }\n",
       "\n",
       "    .dataframe thead th {\n",
       "        text-align: right;\n",
       "    }\n",
       "</style>\n",
       "<table border=\"1\" class=\"dataframe\">\n",
       "  <thead>\n",
       "    <tr style=\"text-align: right;\">\n",
       "      <th>origin</th>\n",
       "      <th>europe</th>\n",
       "      <th>japan</th>\n",
       "      <th>usa</th>\n",
       "    </tr>\n",
       "    <tr>\n",
       "      <th>model_year</th>\n",
       "      <th></th>\n",
       "      <th></th>\n",
       "      <th></th>\n",
       "    </tr>\n",
       "  </thead>\n",
       "  <tbody>\n",
       "    <tr>\n",
       "      <th>70</th>\n",
       "      <td>2309.200000</td>\n",
       "      <td>2251.00</td>\n",
       "      <td>3716.500000</td>\n",
       "    </tr>\n",
       "    <tr>\n",
       "      <th>71</th>\n",
       "      <td>2024.000000</td>\n",
       "      <td>1936.00</td>\n",
       "      <td>3401.600000</td>\n",
       "    </tr>\n",
       "    <tr>\n",
       "      <th>72</th>\n",
       "      <td>2573.200000</td>\n",
       "      <td>2300.40</td>\n",
       "      <td>3682.666667</td>\n",
       "    </tr>\n",
       "    <tr>\n",
       "      <th>73</th>\n",
       "      <td>2335.714286</td>\n",
       "      <td>2397.25</td>\n",
       "      <td>3821.448276</td>\n",
       "    </tr>\n",
       "    <tr>\n",
       "      <th>74</th>\n",
       "      <td>2139.333333</td>\n",
       "      <td>2053.00</td>\n",
       "      <td>3503.333333</td>\n",
       "    </tr>\n",
       "  </tbody>\n",
       "</table>\n",
       "</div>"
      ],
      "text/plain": [
       "origin           europe    japan          usa\n",
       "model_year                                   \n",
       "70          2309.200000  2251.00  3716.500000\n",
       "71          2024.000000  1936.00  3401.600000\n",
       "72          2573.200000  2300.40  3682.666667\n",
       "73          2335.714286  2397.25  3821.448276\n",
       "74          2139.333333  2053.00  3503.333333"
      ]
     },
     "execution_count": 82,
     "metadata": {},
     "output_type": "execute_result"
    }
   ],
   "source": [
    "pd.pivot_table(data=mpg[mpg[\"model_year\"]<75] , index=\"model_year\",columns = \"origin\", values = \"weight\")"
   ]
  },
  {
   "cell_type": "markdown",
   "metadata": {
    "colab_type": "text",
    "id": "mDiB8EVZjkrj"
   },
   "source": [
    "## 9. x축에 horsepower 를 y축에 weight 를 지정하고 cylinders 에 따라 색상이 다르게 표현되도록 그래프를 그려주세요.\n",
    "<img src=\"https://i.imgur.com/bMmZ2oi.png\" width=\"400\">"
   ]
  },
  {
   "cell_type": "code",
   "execution_count": 86,
   "metadata": {
    "colab": {},
    "colab_type": "code",
    "id": "qzBf8bMpjkrm",
    "outputId": "6e7c7b1c-4a14-4654-ef73-d5ecd25a7079"
   },
   "outputs": [
    {
     "data": {
      "text/plain": [
       "<seaborn.axisgrid.FacetGrid at 0x15475f4aee0>"
      ]
     },
     "execution_count": 86,
     "metadata": {},
     "output_type": "execute_result"
    },
    {
     "data": {
      "image/png": "[encoded data removed]",
      "text/plain": [
       "<Figure size 413.375x360 with 1 Axes>"
      ]
     },
     "metadata": {
      "needs_background": "light"
     },
     "output_type": "display_data"
    }
   ],
   "source": [
    "sns.relplot(x=\"horsepower\", y=\"weight\", hue=\"cylinders\", data=mpg)"
   ]
  },
  {
   "cell_type": "markdown",
   "metadata": {
    "colab_type": "text",
    "id": "rbTm5-pMjkrp"
   },
   "source": [
    "## 10. 위에서 불러온 mpg 데이터를 csv 파일로 저장합니다. (제출 시 저장한 csv 파일은 제출하지 않아도 됩니다.)\n",
    "또, 인덱스 컬럼은 저장되지 않도록 합니다."
   ]
  },
  {
   "cell_type": "code",
   "execution_count": 90,
   "metadata": {
    "colab": {},
    "colab_type": "code",
    "id": "2i3Il6t2jkrq"
   },
   "outputs": [],
   "source": [
    "mpg.to_csv('mpg_0.csv', index=False)"
   ]
  },
  {
   "cell_type": "code",
   "execution_count": 92,
   "metadata": {
    "colab": {},
    "colab_type": "code",
    "id": "ECh-sNigjkrt",
    "outputId": "4cddbbe1-fdf5-45ed-9c0d-79a6905f772b"
   },
   "outputs": [
    {
     "data": {
      "text/html": [
       "<div>\n",
       "<style scoped>\n",
       "    .dataframe tbody tr th:only-of-type {\n",
       "        vertical-align: middle;\n",
       "    }\n",
       "\n",
       "    .dataframe tbody tr th {\n",
       "        vertical-align: top;\n",
       "    }\n",
       "\n",
       "    .dataframe thead th {\n",
       "        text-align: right;\n",
       "    }\n",
       "</style>\n",
       "<table border=\"1\" class=\"dataframe\">\n",
       "  <thead>\n",
       "    <tr style=\"text-align: right;\">\n",
       "      <th></th>\n",
       "      <th>mpg</th>\n",
       "      <th>cylinders</th>\n",
       "      <th>displacement</th>\n",
       "      <th>horsepower</th>\n",
       "      <th>weight</th>\n",
       "      <th>acceleration</th>\n",
       "      <th>model_year</th>\n",
       "      <th>origin</th>\n",
       "      <th>name</th>\n",
       "    </tr>\n",
       "  </thead>\n",
       "  <tbody>\n",
       "    <tr>\n",
       "      <th>0</th>\n",
       "      <td>18.0</td>\n",
       "      <td>8</td>\n",
       "      <td>307.0</td>\n",
       "      <td>130.0</td>\n",
       "      <td>3504</td>\n",
       "      <td>12.0</td>\n",
       "      <td>70</td>\n",
       "      <td>usa</td>\n",
       "      <td>chevrolet chevelle malibu</td>\n",
       "    </tr>\n",
       "    <tr>\n",
       "      <th>1</th>\n",
       "      <td>15.0</td>\n",
       "      <td>8</td>\n",
       "      <td>350.0</td>\n",
       "      <td>165.0</td>\n",
       "      <td>3693</td>\n",
       "      <td>11.5</td>\n",
       "      <td>70</td>\n",
       "      <td>usa</td>\n",
       "      <td>buick skylark 320</td>\n",
       "    </tr>\n",
       "    <tr>\n",
       "      <th>2</th>\n",
       "      <td>18.0</td>\n",
       "      <td>8</td>\n",
       "      <td>318.0</td>\n",
       "      <td>150.0</td>\n",
       "      <td>3436</td>\n",
       "      <td>11.0</td>\n",
       "      <td>70</td>\n",
       "      <td>usa</td>\n",
       "      <td>plymouth satellite</td>\n",
       "    </tr>\n",
       "    <tr>\n",
       "      <th>3</th>\n",
       "      <td>16.0</td>\n",
       "      <td>8</td>\n",
       "      <td>304.0</td>\n",
       "      <td>150.0</td>\n",
       "      <td>3433</td>\n",
       "      <td>12.0</td>\n",
       "      <td>70</td>\n",
       "      <td>usa</td>\n",
       "      <td>amc rebel sst</td>\n",
       "    </tr>\n",
       "  </tbody>\n",
       "</table>\n",
       "</div>"
      ],
      "text/plain": [
       "    mpg  cylinders  displacement  horsepower  weight  acceleration  \\\n",
       "0  18.0          8         307.0       130.0    3504          12.0   \n",
       "1  15.0          8         350.0       165.0    3693          11.5   \n",
       "2  18.0          8         318.0       150.0    3436          11.0   \n",
       "3  16.0          8         304.0       150.0    3433          12.0   \n",
       "\n",
       "   model_year origin                       name  \n",
       "0          70    usa  chevrolet chevelle malibu  \n",
       "1          70    usa          buick skylark 320  \n",
       "2          70    usa         plymouth satellite  \n",
       "3          70    usa              amc rebel sst  "
      ]
     },
     "execution_count": 92,
     "metadata": {},
     "output_type": "execute_result"
    }
   ],
   "source": [
    "# 제대로 저장이 되었다면 다음 형태로 파일이 불러와 집니다.\n",
    "\n",
    "pd.read_csv('mpg_0.csv').head(4)"
   ]
  },
  {
   "cell_type": "code",
   "execution_count": 0,
   "metadata": {
    "colab": {},
    "colab_type": "code",
    "id": "dSBYzltzjkrv"
   },
   "outputs": [],
   "source": []
  }
 ],
 "metadata": {
  "colab": {
   "collapsed_sections": [],
   "name": "ND-파이썬기초-과제5.ipynb",
   "provenance": []
  },
  "kernelspec": {
   "display_name": "Python 3",
   "language": "python",
   "name": "python3"
  },
  "language_info": {
   "codemirror_mode": {
    "name": "ipython",
    "version": 3
   },
   "file_extension": ".py",
   "mimetype": "text/x-python",
   "name": "python",
   "nbconvert_exporter": "python",
   "pygments_lexer": "ipython3",
   "version": "3.8.5"
  },
  "toc": {
   "base_numbering": 1,
   "nav_menu": {},
   "number_sections": true,
   "sideBar": true,
   "skip_h1_title": false,
   "title_cell": "Table of Contents",
   "title_sidebar": "Contents",
   "toc_cell": false,
   "toc_position": {},
   "toc_section_display": true,
   "toc_window_display": false
  },
  "varInspector": {
   "cols": {
    "lenName": 16,
    "lenType": 16,
    "lenVar": 40
   },
   "kernels_config": {
    "python": {
     "delete_cmd_postfix": "",
     "delete_cmd_prefix": "del ",
     "library": "var_list.py",
     "varRefreshCmd": "print(var_dic_list())"
    },
    "r": {
     "delete_cmd_postfix": ") ",
     "delete_cmd_prefix": "rm(",
     "library": "var_list.r",
     "varRefreshCmd": "cat(var_dic_list()) "
    }
   },
   "types_to_exclude": [
    "module",
    "function",
    "builtin_function_or_method",
    "instance",
    "_Feature"
   ],
   "window_display": false
  }
 },
 "nbformat": 4,
 "nbformat_minor": 1
}
