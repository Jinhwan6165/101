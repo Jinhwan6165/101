{
 "cells": [
  {
   "cell_type": "markdown",
   "id": "industrial-council",
   "metadata": {},
   "source": [
    "# 파이썬 300제 풀어보기 \n",
    "https://wikidocs.net/7014"
   ]
  },
  {
   "cell_type": "code",
   "execution_count": 1,
   "id": "occupied-intellectual",
   "metadata": {},
   "outputs": [],
   "source": [
    "import pandas as pd\n",
    "import numpy as np"
   ]
  },
  {
   "cell_type": "markdown",
   "id": "medieval-praise",
   "metadata": {},
   "source": [
    "# 파이썬 리스트\n",
    "파이선 리스트는 순서가 있고 수정 가능한 자료구조입니다."
   ]
  },
  {
   "cell_type": "markdown",
   "id": "important-impact",
   "metadata": {},
   "source": [
    "## 051 리스트 생성"
   ]
  },
  {
   "cell_type": "markdown",
   "id": "metallic-novelty",
   "metadata": {},
   "source": [
    "2016년 11월 영화 예매 순위 기준 top3는 다음과 같습니다. 영화 제목을 movie_rank 이름의 리스트에 저장해보세요. (순위 정보는 저장하지 않습니다.)\n",
    "\n",
    "순위|영화\n",
    "-----|-------\n",
    "1|닥터 스트레인지\n",
    "2|스플릿\n",
    "3|럭키"
   ]
  },
  {
   "cell_type": "code",
   "execution_count": 3,
   "id": "conservative-examination",
   "metadata": {},
   "outputs": [],
   "source": [
    "movie_rank = [\"닥터 스트레인지\",\"스플릿\",\"럭키\"]"
   ]
  },
  {
   "cell_type": "code",
   "execution_count": 4,
   "id": "scientific-collaboration",
   "metadata": {},
   "outputs": [
    {
     "data": {
      "text/plain": [
       "['닥터 스트레인지', '스플릿', '럭키']"
      ]
     },
     "execution_count": 4,
     "metadata": {},
     "output_type": "execute_result"
    }
   ],
   "source": [
    "movie_rank"
   ]
  },
  {
   "cell_type": "markdown",
   "id": "second-anime",
   "metadata": {},
   "source": [
    "## 052 리스트에 원소 추가"
   ]
  },
  {
   "cell_type": "code",
   "execution_count": 5,
   "id": "private-foundation",
   "metadata": {},
   "outputs": [],
   "source": [
    "# 051의 movie_rank 리스트에 \"배트맨\"을 추가하라."
   ]
  },
  {
   "cell_type": "code",
   "execution_count": 6,
   "id": "secret-cheese",
   "metadata": {},
   "outputs": [
    {
     "name": "stdout",
     "output_type": "stream",
     "text": [
      "['닥터 스트레인지', '스플릿', '럭키', '배트맨']\n"
     ]
    }
   ],
   "source": [
    "movie_rank.append(\"배트맨\")\n",
    "print(movie_rank)"
   ]
  },
  {
   "cell_type": "markdown",
   "id": "hybrid-iceland",
   "metadata": {},
   "source": [
    "## 053"
   ]
  },
  {
   "cell_type": "code",
   "execution_count": 7,
   "id": "guided-cleanup",
   "metadata": {},
   "outputs": [],
   "source": [
    "# movie_rank 리스트에는 아래와 같이 네 개의 영화 제목이 바인딩되어 있다. \"슈퍼맨\"을 \"닥터 스트레인지\"와 \"스플릿\" 사이에 추가하라.\n",
    "\n",
    "# movie_rank = ['닥터 스트레인지', '스플릿', '럭키', '배트맨']"
   ]
  },
  {
   "cell_type": "code",
   "execution_count": 8,
   "id": "arbitrary-insured",
   "metadata": {},
   "outputs": [
    {
     "name": "stdout",
     "output_type": "stream",
     "text": [
      "['닥터 스트레인지', '슈퍼맨', '스플릿', '럭키', '배트맨']\n"
     ]
    }
   ],
   "source": [
    "movie_rank.insert(1,\"슈퍼맨\")\n",
    "print(movie_rank)"
   ]
  },
  {
   "cell_type": "markdown",
   "id": "accompanied-terry",
   "metadata": {},
   "source": [
    "리스트의 insert(인덱스, 원소) 메서드를 사용하면 특정 위치에 값을 끼어넣기 할 수 있습니다."
   ]
  },
  {
   "cell_type": "markdown",
   "id": "wireless-gamma",
   "metadata": {},
   "source": [
    "## 054"
   ]
  },
  {
   "cell_type": "code",
   "execution_count": 9,
   "id": "recorded-danish",
   "metadata": {},
   "outputs": [],
   "source": [
    "# movie_rank 리스트에서 '럭키'를 삭제하라.\n",
    "\n",
    "# movie_rank = ['닥터 스트레인지', '슈퍼맨', '스플릿', '럭키', '배트맨']"
   ]
  },
  {
   "cell_type": "code",
   "execution_count": 11,
   "id": "distinguished-johnston",
   "metadata": {},
   "outputs": [
    {
     "name": "stdout",
     "output_type": "stream",
     "text": [
      "['닥터 스트레인지', '슈퍼맨', '스플릿', '배트맨']\n"
     ]
    }
   ],
   "source": [
    "del movie_rank[3]\n",
    "print(movie_rank)"
   ]
  },
  {
   "cell_type": "markdown",
   "id": "failing-encyclopedia",
   "metadata": {},
   "source": [
    "## 055"
   ]
  },
  {
   "cell_type": "code",
   "execution_count": 12,
   "id": "unable-parent",
   "metadata": {},
   "outputs": [],
   "source": [
    "# movie_rank 리스트에서 '스플릿' 과 '배트맨'을 를 삭제하라.\n",
    "\n",
    "# movie_rank = ['닥터 스트레인지', '슈퍼맨', '스플릿', '배트맨']"
   ]
  },
  {
   "cell_type": "code",
   "execution_count": 16,
   "id": "determined-intermediate",
   "metadata": {},
   "outputs": [
    {
     "name": "stdout",
     "output_type": "stream",
     "text": [
      "['닥터 스트레인지', '슈퍼맨']\n"
     ]
    }
   ],
   "source": [
    "del movie_rank[2]\n",
    "del movie_rank[2]\n",
    "print (movie_rank)"
   ]
  },
  {
   "cell_type": "markdown",
   "id": "appreciated-dividend",
   "metadata": {},
   "source": [
    "del을 이용하여 리스트에서 원소를 삭제할 수 있다. 리스트에서 어떤 값을 삭제하면 남은 값들은 새로 인덱싱된다. 따라서 여러값을 삭제할 떄는 어떤 값이 먼저 삭제된 후 남은 원소들에 대해서 순서를 새로 고려한 후 삭제해야 한다."
   ]
  },
  {
   "cell_type": "markdown",
   "id": "needed-jefferson",
   "metadata": {},
   "source": [
    "## 056"
   ]
  },
  {
   "cell_type": "code",
   "execution_count": 17,
   "id": "amazing-banking",
   "metadata": {},
   "outputs": [],
   "source": [
    "# lang1과 lang2 리스트가 있을 때 lang1과 lang2의 원소를 모두 갖고 있는 langs 리스트를 만들어라.\n",
    "\n",
    "# >> lang1 = [\"C\", \"C++\", \"JAVA\"]\n",
    "# >> lang2 = [\"Python\", \"Go\", \"C#\"]\n",
    "# 실행 예:\n",
    "# >> langs\n",
    "# ['C', 'C++', 'JAVA', 'Python', 'Go', 'C#']"
   ]
  },
  {
   "cell_type": "code",
   "execution_count": 18,
   "id": "balanced-season",
   "metadata": {},
   "outputs": [],
   "source": [
    "lang1 = [\"C\", \"C++\", \"JAVA\"]\n",
    "lang2 = [\"Python\", \"Go\", \"C#\"]"
   ]
  },
  {
   "cell_type": "code",
   "execution_count": 19,
   "id": "infinite-surge",
   "metadata": {},
   "outputs": [
    {
     "name": "stdout",
     "output_type": "stream",
     "text": [
      "['C', 'C++', 'JAVA', 'Python', 'Go', 'C#']\n"
     ]
    }
   ],
   "source": [
    "result = lang1 + lang2\n",
    "print(result)"
   ]
  },
  {
   "cell_type": "markdown",
   "id": "color-armor",
   "metadata": {},
   "source": [
    "## 057"
   ]
  },
  {
   "cell_type": "code",
   "execution_count": 20,
   "id": "quiet-north",
   "metadata": {},
   "outputs": [],
   "source": [
    "# 다음 리스트에서 최댓값과 최솟값을 출력하라. (힌트: min(), max() 함수 사용)\n",
    "\n",
    "# nums = [1, 2, 3, 4, 5, 6, 7]\n",
    "\n",
    "# 실행 예:\n",
    "# max:  7\n",
    "# min:  1"
   ]
  },
  {
   "cell_type": "code",
   "execution_count": 22,
   "id": "adequate-tennessee",
   "metadata": {},
   "outputs": [],
   "source": [
    "nums = [1, 2, 3, 4, 5, 6, 7]"
   ]
  },
  {
   "cell_type": "code",
   "execution_count": 25,
   "id": "separated-ballot",
   "metadata": {},
   "outputs": [
    {
     "name": "stdout",
     "output_type": "stream",
     "text": [
      "7\n",
      "1\n"
     ]
    }
   ],
   "source": [
    "print(max(nums))\n",
    "print(min(nums))"
   ]
  },
  {
   "cell_type": "code",
   "execution_count": 26,
   "id": "descending-cisco",
   "metadata": {},
   "outputs": [
    {
     "name": "stdout",
     "output_type": "stream",
     "text": [
      "max:  7\n",
      "min:  1\n"
     ]
    }
   ],
   "source": [
    "print(\"max: \", max(nums))\n",
    "print(\"min: \", min(nums))"
   ]
  },
  {
   "cell_type": "markdown",
   "id": "bacterial-nirvana",
   "metadata": {},
   "source": [
    "## 058"
   ]
  },
  {
   "cell_type": "code",
   "execution_count": 27,
   "id": "political-mattress",
   "metadata": {},
   "outputs": [],
   "source": [
    "# 다음 리스트의 합을 출력하라.\n",
    "\n",
    "# nums = [1, 2, 3, 4, 5]\n",
    "# 실행 예:\n",
    "# 15"
   ]
  },
  {
   "cell_type": "code",
   "execution_count": 28,
   "id": "young-answer",
   "metadata": {},
   "outputs": [],
   "source": [
    "nums = [1, 2, 3, 4, 5]"
   ]
  },
  {
   "cell_type": "code",
   "execution_count": 29,
   "id": "indonesian-transition",
   "metadata": {},
   "outputs": [
    {
     "name": "stdout",
     "output_type": "stream",
     "text": [
      "15\n"
     ]
    }
   ],
   "source": [
    "print(sum(nums))"
   ]
  },
  {
   "cell_type": "markdown",
   "id": "representative-enzyme",
   "metadata": {},
   "source": [
    "## 059"
   ]
  },
  {
   "cell_type": "code",
   "execution_count": 31,
   "id": "consistent-catch",
   "metadata": {},
   "outputs": [],
   "source": [
    "# 다음 리스트에 저장된 데이터의 개수를 화면에 구하하라.\n",
    "\n",
    "# cook = [\"피자\", \"김밥\", \"만두\", \"양념치킨\", \"족발\", \"피자\", \"김치만두\", \"쫄면\", \"쏘세지\", \"라면\", \"팥빙수\", \"김치전\"]"
   ]
  },
  {
   "cell_type": "code",
   "execution_count": 35,
   "id": "reverse-earthquake",
   "metadata": {},
   "outputs": [
    {
     "name": "stdout",
     "output_type": "stream",
     "text": [
      "12\n"
     ]
    }
   ],
   "source": [
    " cook = [\"피자\", \"김밥\", \"만두\", \"양념치킨\", \"족발\", \"피자\", \"김치만두\", \"쫄면\", \"쏘세지\", \"라면\", \"팥빙수\", \"김치전\"]\n",
    "print(len(cook))"
   ]
  },
  {
   "cell_type": "markdown",
   "id": "competitive-sending",
   "metadata": {},
   "source": [
    "## 060"
   ]
  },
  {
   "cell_type": "code",
   "execution_count": 37,
   "id": "herbal-circle",
   "metadata": {},
   "outputs": [],
   "source": [
    "#다음 리스트의 평균을 출력하라.\n",
    "\n",
    "nums = [1, 2, 3, 4, 5]\n",
    "# 실행 예:\n",
    "# 3.0"
   ]
  },
  {
   "cell_type": "code",
   "execution_count": 40,
   "id": "wrapped-second",
   "metadata": {},
   "outputs": [
    {
     "name": "stdout",
     "output_type": "stream",
     "text": [
      "3.0\n"
     ]
    }
   ],
   "source": [
    "average = sum(nums)/len(nums)\n",
    "print(average)"
   ]
  },
  {
   "cell_type": "markdown",
   "id": "accomplished-proxy",
   "metadata": {},
   "source": [
    "## 061"
   ]
  },
  {
   "cell_type": "code",
   "execution_count": 41,
   "id": "standing-palmer",
   "metadata": {},
   "outputs": [],
   "source": [
    "# price 변수에는 날짜와 종가 정보가 저장돼 있다. 날짜 정보를 제외하고 가격 정보만을 출력하라. (힌트 : 슬라이싱)\n",
    "\n",
    "price = ['20180728', 100, 130, 140, 150, 160, 170]\n",
    "# 출력 예시:\n",
    "# [100, 130, 140, 150, 160, 170]"
   ]
  },
  {
   "cell_type": "code",
   "execution_count": 42,
   "id": "opponent-marijuana",
   "metadata": {},
   "outputs": [
    {
     "name": "stdout",
     "output_type": "stream",
     "text": [
      "[100, 130, 140, 150, 160, 170]\n"
     ]
    }
   ],
   "source": [
    "print(price[1:])"
   ]
  },
  {
   "cell_type": "markdown",
   "id": "hispanic-malpractice",
   "metadata": {},
   "source": [
    "## 062"
   ]
  },
  {
   "cell_type": "code",
   "execution_count": 43,
   "id": "consecutive-driving",
   "metadata": {},
   "outputs": [],
   "source": [
    "# 슬라이싱을 사용해서 홀수만 출력하라.\n",
    "\n",
    "nums = [1, 2, 3, 4, 5, 6, 7, 8, 9, 10]\n",
    "\n",
    "# 실행 예:\n",
    "# [1, 3, 5, 7, 9]"
   ]
  },
  {
   "cell_type": "code",
   "execution_count": 45,
   "id": "imposed-revision",
   "metadata": {},
   "outputs": [
    {
     "name": "stdout",
     "output_type": "stream",
     "text": [
      "[1, 3, 5, 7, 9]\n"
     ]
    }
   ],
   "source": [
    "print(nums[::2])"
   ]
  },
  {
   "cell_type": "markdown",
   "id": "qualified-opportunity",
   "metadata": {},
   "source": [
    "## 063"
   ]
  },
  {
   "cell_type": "code",
   "execution_count": 46,
   "id": "warming-chuck",
   "metadata": {},
   "outputs": [],
   "source": [
    "# 슬라이싱을 사용해서 짝수만 출력하라.\n",
    "\n",
    "nums = [1, 2, 3, 4, 5, 6, 7, 8, 9, 10]\n",
    "# 실행 예:\n",
    "# [2, 4, 6, 8, 10]"
   ]
  },
  {
   "cell_type": "code",
   "execution_count": 53,
   "id": "constant-compound",
   "metadata": {},
   "outputs": [
    {
     "name": "stdout",
     "output_type": "stream",
     "text": [
      "[2, 4, 6, 8, 10]\n"
     ]
    }
   ],
   "source": [
    "print(nums[1::2])"
   ]
  },
  {
   "cell_type": "markdown",
   "id": "forbidden-cosmetic",
   "metadata": {},
   "source": [
    "## 064"
   ]
  },
  {
   "cell_type": "code",
   "execution_count": 54,
   "id": "imperial-bosnia",
   "metadata": {},
   "outputs": [],
   "source": [
    "# 슬라이싱을 사용해서 리스트의 숫자를 역 방향으로 출력하라.\n",
    "\n",
    "nums = [1, 2, 3, 4, 5]\n",
    "\n",
    "# 실행 예:\n",
    "# [5, 4, 3, 2, 1]"
   ]
  },
  {
   "cell_type": "code",
   "execution_count": 55,
   "id": "future-brick",
   "metadata": {},
   "outputs": [
    {
     "name": "stdout",
     "output_type": "stream",
     "text": [
      "[5, 4, 3, 2, 1]\n"
     ]
    }
   ],
   "source": [
    "print(nums[::-1])"
   ]
  },
  {
   "cell_type": "markdown",
   "id": "assigned-tanzania",
   "metadata": {},
   "source": [
    "## 065"
   ]
  },
  {
   "cell_type": "code",
   "execution_count": 56,
   "id": "textile-criterion",
   "metadata": {},
   "outputs": [],
   "source": [
    "# interest 리스트에는 아래의 데이터가 바인딩되어 있다.\n",
    "\n",
    "interest = ['삼성전자', 'LG전자', 'Naver']\n",
    "# interest 리스트를 사용하여 아래와 같이 화면에 출력하라.\n",
    "\n",
    "# 출력 예시:\n",
    "# 삼성전자 Naver"
   ]
  },
  {
   "cell_type": "code",
   "execution_count": 58,
   "id": "aerial-edinburgh",
   "metadata": {},
   "outputs": [
    {
     "name": "stdout",
     "output_type": "stream",
     "text": [
      "['삼성전자', 'Naver']\n"
     ]
    }
   ],
   "source": [
    "print(interest[::2])"
   ]
  },
  {
   "cell_type": "code",
   "execution_count": 59,
   "id": "surprising-migration",
   "metadata": {},
   "outputs": [
    {
     "name": "stdout",
     "output_type": "stream",
     "text": [
      "삼성전자 Naver\n"
     ]
    }
   ],
   "source": [
    "print(interest[0],interest[2])"
   ]
  },
  {
   "cell_type": "markdown",
   "id": "peripheral-desperate",
   "metadata": {},
   "source": [
    "## 066 join 메서드"
   ]
  },
  {
   "cell_type": "code",
   "execution_count": 60,
   "id": "signal-influence",
   "metadata": {},
   "outputs": [],
   "source": [
    "# interest 리스트에는 아래의 데이터가 바인딩되어 있다.\n",
    "\n",
    "interest = ['삼성전자', 'LG전자', 'Naver', 'SK하이닉스', '미래에셋대우']\n",
    "# interest 리스트를 사용하여 아래와 같이 화면에 출력하라.\n",
    "\n",
    "# 출력 예시:\n",
    "# 삼성전자 LG전자 Naver SK하이닉스 미래에셋대우"
   ]
  },
  {
   "cell_type": "code",
   "execution_count": 63,
   "id": "flush-toyota",
   "metadata": {},
   "outputs": [
    {
     "name": "stdout",
     "output_type": "stream",
     "text": [
      "삼성전자 LG전자 Naver SK하이닉스 미래에셋대우\n"
     ]
    }
   ],
   "source": [
    "print(\" \".join(interest))"
   ]
  },
  {
   "cell_type": "markdown",
   "id": "surprised-grocery",
   "metadata": {},
   "source": [
    "## 067 join 메서드"
   ]
  },
  {
   "cell_type": "code",
   "execution_count": 64,
   "id": "herbal-tender",
   "metadata": {},
   "outputs": [],
   "source": [
    "# interest 리스트에는 아래의 데이터가 바인딩되어 있다.\n",
    "\n",
    "interest = ['삼성전자', 'LG전자', 'Naver', 'SK하이닉스', '미래에셋대우']\n",
    "# interest 리스트를 사용하여 아래와 같이 화면에 출력하라.\n",
    "\n",
    "# 출력 예시:\n",
    "# 삼성전자/LG전자/Naver/SK하이닉스/미래에셋대우"
   ]
  },
  {
   "cell_type": "code",
   "execution_count": 65,
   "id": "combined-research",
   "metadata": {},
   "outputs": [
    {
     "name": "stdout",
     "output_type": "stream",
     "text": [
      "삼성전자/LG전자/Naver/SK하이닉스/미래에셋대우\n"
     ]
    }
   ],
   "source": [
    "print(\"/\".join(interest))"
   ]
  },
  {
   "cell_type": "markdown",
   "id": "increasing-motivation",
   "metadata": {},
   "source": [
    "## 068 join메서드"
   ]
  },
  {
   "cell_type": "code",
   "execution_count": 66,
   "id": "scientific-belief",
   "metadata": {},
   "outputs": [],
   "source": [
    "# interest 리스트에는 아래의 데이터가 바인딩되어 있다.\n",
    "\n",
    "interest = ['삼성전자', 'LG전자', 'Naver', 'SK하이닉스', '미래에셋대우']\n",
    "# join() 메서드를 사용해서 interest 리스트를 아래와 같이 화면에 출력하라.\n",
    "\n",
    "# 출력 예시:\n",
    "# 삼성전자\n",
    "# LG전자\n",
    "# Naver\n",
    "# SK하이닉스\n",
    "# 미래에셋대우"
   ]
  },
  {
   "cell_type": "code",
   "execution_count": 67,
   "id": "assigned-honduras",
   "metadata": {},
   "outputs": [
    {
     "name": "stdout",
     "output_type": "stream",
     "text": [
      "삼성전자\n",
      "LG전자\n",
      "Naver\n",
      "SK하이닉스\n",
      "미래에셋대우\n"
     ]
    }
   ],
   "source": [
    "print(\"\\n\".join(interest))"
   ]
  },
  {
   "cell_type": "markdown",
   "id": "removable-increase",
   "metadata": {},
   "source": [
    "## 069 문자열 split 메서드"
   ]
  },
  {
   "cell_type": "code",
   "execution_count": 68,
   "id": "union-footwear",
   "metadata": {},
   "outputs": [],
   "source": [
    "# 회사 이름이 슬래시 ('/')로 구분되어 하나의 문자열로 저장되어 있다.\n",
    "\n",
    "string = \"삼성전자/LG전자/Naver\"\n",
    "# 이를 interest 이름의 리스트로 분리 저장하라.\n",
    "\n",
    "# 실행 예시\n",
    "# >> print(interest)\n",
    "# ['삼성전자', 'LG전자', 'Naver']"
   ]
  },
  {
   "cell_type": "code",
   "execution_count": 70,
   "id": "interesting-sheriff",
   "metadata": {},
   "outputs": [
    {
     "name": "stdout",
     "output_type": "stream",
     "text": [
      "['삼성전자', 'LG전자', 'Naver']\n"
     ]
    }
   ],
   "source": [
    "interest = string.split(\"/\")\n",
    "print(interest)"
   ]
  },
  {
   "cell_type": "markdown",
   "id": "electric-product",
   "metadata": {},
   "source": [
    "## 070 리스트 정렬"
   ]
  },
  {
   "cell_type": "code",
   "execution_count": 71,
   "id": "innocent-supervision",
   "metadata": {},
   "outputs": [],
   "source": [
    "# 리스트에 있는 값을 오름차순으로 정렬하세요.\n",
    "\n",
    "data = [2, 4, 3, 1, 5, 10, 9]"
   ]
  },
  {
   "cell_type": "code",
   "execution_count": 73,
   "id": "sticky-niagara",
   "metadata": {},
   "outputs": [
    {
     "name": "stdout",
     "output_type": "stream",
     "text": [
      "[1, 2, 3, 4, 5, 9, 10]\n"
     ]
    }
   ],
   "source": [
    "data.sort()\n",
    "print(data)"
   ]
  },
  {
   "cell_type": "code",
   "execution_count": 74,
   "id": "imported-mixer",
   "metadata": {},
   "outputs": [
    {
     "name": "stdout",
     "output_type": "stream",
     "text": [
      "[1, 2, 3, 4, 5, 9, 10]\n"
     ]
    }
   ],
   "source": [
    "data2 = sorted(data)\n",
    "print(data2)"
   ]
  },
  {
   "cell_type": "markdown",
   "id": "falling-violation",
   "metadata": {},
   "source": [
    "# 파이썬 튜플\n",
    "파이썬 튜플은 순서가 있지만 수정 불가능한 자료구조이다"
   ]
  },
  {
   "cell_type": "markdown",
   "id": "ambient-plaintiff",
   "metadata": {},
   "source": [
    "## 071"
   ]
  },
  {
   "cell_type": "code",
   "execution_count": 75,
   "id": "complex-emperor",
   "metadata": {},
   "outputs": [],
   "source": [
    "# my_variable 이름의 비어있는 튜플을 만들라."
   ]
  },
  {
   "cell_type": "code",
   "execution_count": 77,
   "id": "curious-newman",
   "metadata": {},
   "outputs": [],
   "source": [
    "my_variable = ()"
   ]
  },
  {
   "cell_type": "code",
   "execution_count": 78,
   "id": "existing-london",
   "metadata": {},
   "outputs": [
    {
     "name": "stdout",
     "output_type": "stream",
     "text": [
      "<class 'tuple'>\n"
     ]
    }
   ],
   "source": [
    "# 정말 튜플이 생성됐는지 확인\n",
    "# type()함수는 변수에 바인딩된 데이터 타입을 반환한다.\n",
    "print(type(my_variable))"
   ]
  },
  {
   "cell_type": "markdown",
   "id": "supposed-viking",
   "metadata": {},
   "source": [
    "## 072"
   ]
  },
  {
   "cell_type": "markdown",
   "id": "breathing-horizon",
   "metadata": {},
   "source": [
    "2016년 11월 영화 예매 순위 기준 top3는 다음과 같다. 영화 제목을 movie_rank 이름의 튜플에 저장하라. (순위 정보는 저장하지 않는다.)\n",
    "\n",
    "순위|영화\n",
    "-----|-------\n",
    "1|닥터 스트레인지\n",
    "2|스플릿\n",
    "3|럭키"
   ]
  },
  {
   "cell_type": "code",
   "execution_count": 80,
   "id": "intelligent-egyptian",
   "metadata": {},
   "outputs": [],
   "source": [
    "movie_rank = (\"닥터 스트레인지\",\"스플릿\",\"럭키\")"
   ]
  },
  {
   "cell_type": "code",
   "execution_count": 81,
   "id": "declared-green",
   "metadata": {},
   "outputs": [
    {
     "name": "stdout",
     "output_type": "stream",
     "text": [
      "('닥터 스트레인지', '스플릿', '럭키')\n"
     ]
    }
   ],
   "source": [
    "print(movie_rank)"
   ]
  },
  {
   "cell_type": "markdown",
   "id": "silver-reunion",
   "metadata": {},
   "source": [
    "## 073"
   ]
  },
  {
   "cell_type": "code",
   "execution_count": 82,
   "id": "norman-indonesia",
   "metadata": {},
   "outputs": [],
   "source": [
    "# 숫자 1 이 저장된 튜플을 생성하라.\n",
    "\n",
    "num = (1)"
   ]
  },
  {
   "cell_type": "code",
   "execution_count": 85,
   "id": "royal-breeding",
   "metadata": {},
   "outputs": [
    {
     "data": {
      "text/plain": [
       "int"
      ]
     },
     "execution_count": 85,
     "metadata": {},
     "output_type": "execute_result"
    }
   ],
   "source": [
    "type(num)"
   ]
  },
  {
   "cell_type": "markdown",
   "id": "comfortable-moscow",
   "metadata": {},
   "source": [
    "위와 같이 괄호와 함께 하나의 정수값을 저장하면 튜플이 정의 될 것 같지만 그렇지 않다. type()을 출력해보면 파이썬은 튜플이 아닌 정수로 인식한다.\n",
    "\n",
    "하나의 데이터가 저장되는 경우, 아래와 같이 쉼표를 임력해야 한다."
   ]
  },
  {
   "cell_type": "code",
   "execution_count": 89,
   "id": "valuable-macedonia",
   "metadata": {},
   "outputs": [],
   "source": [
    "my_tuple=(1,)"
   ]
  },
  {
   "cell_type": "code",
   "execution_count": 90,
   "id": "stylish-asthma",
   "metadata": {},
   "outputs": [
    {
     "data": {
      "text/plain": [
       "tuple"
      ]
     },
     "execution_count": 90,
     "metadata": {},
     "output_type": "execute_result"
    }
   ],
   "source": [
    "type(my_tuple)"
   ]
  },
  {
   "cell_type": "markdown",
   "id": "champion-authorization",
   "metadata": {},
   "source": [
    "## 074"
   ]
  },
  {
   "cell_type": "code",
   "execution_count": 91,
   "id": "individual-intro",
   "metadata": {},
   "outputs": [],
   "source": [
    "# 다음 코드를 실행해보고 오류가 발생하는 원인을 설명하라.\n",
    "\n",
    "# >> t = (1, 2, 3)\n",
    "# >> t[0] = 'a'\n",
    "# Traceback (most recent call last):\n",
    "#   File \"<pyshell#46>\", line 1, in <module>\n",
    "#     t[0] = 'a'\n",
    "# TypeError: 'tuple' object does not support item assignment"
   ]
  },
  {
   "cell_type": "code",
   "execution_count": 93,
   "id": "sacred-balance",
   "metadata": {},
   "outputs": [
    {
     "ename": "TypeError",
     "evalue": "'tuple' object does not support item assignment",
     "output_type": "error",
     "traceback": [
      "\u001b[1;31m---------------------------------------------------------------------------\u001b[0m",
      "\u001b[1;31mTypeError\u001b[0m                                 Traceback (most recent call last)",
      "\u001b[1;32m<ipython-input-93-30ae5ed3acb9>\u001b[0m in \u001b[0;36m<module>\u001b[1;34m\u001b[0m\n\u001b[0;32m      1\u001b[0m \u001b[0mt\u001b[0m \u001b[1;33m=\u001b[0m \u001b[1;33m(\u001b[0m\u001b[1;36m1\u001b[0m\u001b[1;33m,\u001b[0m \u001b[1;36m2\u001b[0m\u001b[1;33m,\u001b[0m \u001b[1;36m3\u001b[0m\u001b[1;33m)\u001b[0m\u001b[1;33m\u001b[0m\u001b[1;33m\u001b[0m\u001b[0m\n\u001b[1;32m----> 2\u001b[1;33m \u001b[0mt\u001b[0m\u001b[1;33m[\u001b[0m\u001b[1;36m0\u001b[0m\u001b[1;33m]\u001b[0m \u001b[1;33m=\u001b[0m \u001b[1;34m'a'\u001b[0m\u001b[1;33m\u001b[0m\u001b[1;33m\u001b[0m\u001b[0m\n\u001b[0m",
      "\u001b[1;31mTypeError\u001b[0m: 'tuple' object does not support item assignment"
     ]
    }
   ],
   "source": [
    "t = (1, 2, 3)\n",
    "t[0] = 'a'"
   ]
  },
  {
   "cell_type": "code",
   "execution_count": 94,
   "id": "composed-ambassador",
   "metadata": {},
   "outputs": [],
   "source": [
    "# tuple은 원소(element)의 값을 변경할 수 없다."
   ]
  },
  {
   "cell_type": "markdown",
   "id": "capable-anderson",
   "metadata": {},
   "source": [
    "## 075"
   ]
  },
  {
   "cell_type": "code",
   "execution_count": 95,
   "id": "furnished-celebrity",
   "metadata": {},
   "outputs": [],
   "source": [
    "# 아래와 같이 t에는 1, 2, 3, 4 데이터가 바인딩되어 있다. t가 바인딩하는 데이터 타입은 무엇인가?\n",
    "\n",
    "t = 1, 2, 3, 4"
   ]
  },
  {
   "cell_type": "code",
   "execution_count": 96,
   "id": "loose-allocation",
   "metadata": {},
   "outputs": [
    {
     "data": {
      "text/plain": [
       "tuple"
      ]
     },
     "execution_count": 96,
     "metadata": {},
     "output_type": "execute_result"
    }
   ],
   "source": [
    "type(t)"
   ]
  },
  {
   "cell_type": "markdown",
   "id": "killing-weapon",
   "metadata": {},
   "source": [
    "원칙적으로 튜플은 괄호와 함께 데이터를 정의해야 하지만, 사용자 편의를 위해 괄호 없이도 동작한다."
   ]
  },
  {
   "cell_type": "markdown",
   "id": "another-publication",
   "metadata": {},
   "source": [
    "## 076"
   ]
  },
  {
   "cell_type": "code",
   "execution_count": 97,
   "id": "sudden-alpha",
   "metadata": {},
   "outputs": [],
   "source": [
    "# 변수 t에는 아래와 같은 값이 저장되어 있다. 변수 t가 ('A', 'b', 'c') 튜플을 가리키도록 수정 하라.\n",
    "\n",
    "t = ('a','b','c')"
   ]
  },
  {
   "cell_type": "code",
   "execution_count": 98,
   "id": "tired-instrument",
   "metadata": {},
   "outputs": [],
   "source": [
    "t = ('A','B','C')"
   ]
  },
  {
   "cell_type": "markdown",
   "id": "canadian-vienna",
   "metadata": {},
   "source": [
    "튜플의 값은 변경할 수 없기 떄문에, 리스트와 달리 아래 코드는 동작하지 않는다.\n",
    "\n",
    "t[0] = 'A'\n",
    "\n",
    "새로운 튜플을 만들고 t라는 변수를 업데이트 해야 한다. 기존의 튜플('a','b','c')는 자동으로 삭제된다."
   ]
  },
  {
   "cell_type": "markdown",
   "id": "linear-camera",
   "metadata": {},
   "source": [
    "## 077"
   ]
  },
  {
   "cell_type": "code",
   "execution_count": 100,
   "id": "mysterious-convention",
   "metadata": {},
   "outputs": [],
   "source": [
    "# 다음 튜플을 리스트로 변환하라.\n",
    "\n",
    "interest = ('삼성전자', 'LG전자', 'SK Hynix')"
   ]
  },
  {
   "cell_type": "code",
   "execution_count": 101,
   "id": "established-terry",
   "metadata": {},
   "outputs": [],
   "source": [
    "data = list(interest)"
   ]
  },
  {
   "cell_type": "code",
   "execution_count": 102,
   "id": "charming-globe",
   "metadata": {},
   "outputs": [
    {
     "data": {
      "text/plain": [
       "['삼성전자', 'LG전자', 'SK Hynix']"
      ]
     },
     "execution_count": 102,
     "metadata": {},
     "output_type": "execute_result"
    }
   ],
   "source": [
    "data"
   ]
  },
  {
   "cell_type": "code",
   "execution_count": 105,
   "id": "transparent-mouth",
   "metadata": {},
   "outputs": [
    {
     "data": {
      "text/plain": [
       "list"
      ]
     },
     "execution_count": 105,
     "metadata": {},
     "output_type": "execute_result"
    }
   ],
   "source": [
    "type(data)"
   ]
  },
  {
   "cell_type": "markdown",
   "id": "brazilian-gauge",
   "metadata": {},
   "source": [
    "## 078"
   ]
  },
  {
   "cell_type": "code",
   "execution_count": 103,
   "id": "amateur-ambassador",
   "metadata": {},
   "outputs": [],
   "source": [
    "# 다음 리스트를 튜플로 변경하라.\n",
    "\n",
    "interest = ['삼성전자', 'LG전자', 'SK Hynix']"
   ]
  },
  {
   "cell_type": "code",
   "execution_count": 104,
   "id": "proved-premises",
   "metadata": {},
   "outputs": [],
   "source": [
    "data0 = tuple(interest) "
   ]
  },
  {
   "cell_type": "code",
   "execution_count": 106,
   "id": "recorded-dating",
   "metadata": {},
   "outputs": [
    {
     "data": {
      "text/plain": [
       "tuple"
      ]
     },
     "execution_count": 106,
     "metadata": {},
     "output_type": "execute_result"
    }
   ],
   "source": [
    "type(data0)"
   ]
  },
  {
   "cell_type": "markdown",
   "id": "chronic-airfare",
   "metadata": {},
   "source": [
    "## 079 튜플 언팩킹"
   ]
  },
  {
   "cell_type": "code",
   "execution_count": 107,
   "id": "verbal-bruce",
   "metadata": {},
   "outputs": [],
   "source": [
    "# 다음 코드의 실행 결과를 예상하라.\n",
    "\n",
    "# temp = ('apple', 'banana', 'cake')\n",
    "# a, b, c = temp\n",
    "# print(a, b, c)"
   ]
  },
  {
   "cell_type": "code",
   "execution_count": 108,
   "id": "popular-venice",
   "metadata": {},
   "outputs": [
    {
     "name": "stdout",
     "output_type": "stream",
     "text": [
      "apple banana cake\n"
     ]
    }
   ],
   "source": [
    "temp = ('apple', 'banana', 'cake')\n",
    "a, b, c = temp\n",
    "print(a, b, c)"
   ]
  },
  {
   "cell_type": "markdown",
   "id": "attended-brief",
   "metadata": {},
   "source": [
    "## 080 range 함수"
   ]
  },
  {
   "cell_type": "code",
   "execution_count": 109,
   "id": "driving-carrier",
   "metadata": {},
   "outputs": [],
   "source": [
    "# 1 부터 99까지의 정수 중 짝수만 저장된 튜플을 생성하라.\n",
    "\n",
    "# (2, 4, 6, 8 ... 98)"
   ]
  },
  {
   "cell_type": "code",
   "execution_count": 110,
   "id": "excited-cedar",
   "metadata": {},
   "outputs": [
    {
     "name": "stdout",
     "output_type": "stream",
     "text": [
      "(2, 4, 6, 8, 10, 12, 14, 16, 18, 20, 22, 24, 26, 28, 30, 32, 34, 36, 38, 40, 42, 44, 46, 48, 50, 52, 54, 56, 58, 60, 62, 64, 66, 68, 70, 72, 74, 76, 78, 80, 82, 84, 86, 88, 90, 92, 94, 96, 98)\n"
     ]
    }
   ],
   "source": [
    "data = tuple(range(2,100,2))\n",
    "print(data)"
   ]
  },
  {
   "cell_type": "markdown",
   "id": "fleet-anger",
   "metadata": {},
   "source": [
    "# 파이썬 딕셔너리\n",
    "\n",
    "파이썬 딕셔너리는 순서는 없지만 key와 value 형태로 데이터를 저장합니다. 특히 key는 데이터의 레이블(label)을 지정하는 용도로 자주 사용됩니다."
   ]
  },
  {
   "cell_type": "markdown",
   "id": "excess-address",
   "metadata": {},
   "source": [
    "## 081 별 표현식"
   ]
  },
  {
   "cell_type": "code",
   "execution_count": 111,
   "id": "australian-adrian",
   "metadata": {},
   "outputs": [],
   "source": [
    "# 기본적으로 데이터 언패킹은 좌변의 변수와 우변 데이터 개수가 같아야 합니다. 하지만 star expression을 사용하면 변수의 개수가 달라도 데이터 언패킹을 할 수 있습니다. 튜플에 저장된 데이터 중에서 앞에 있는 두 개의 데이터만 필요할 경우 나머지 데이터의 언패킹 코드를 작성할 필요가 없습니다.\n",
    "\n",
    "# >> a, b, *c = (0, 1, 2, 3, 4, 5)\n",
    "# >> a\n",
    "# 0\n",
    "# >> b\n",
    "# 1\n",
    "# >> c\n",
    "# [2, 3, 4, 5]\n",
    "# 다음과 같이 10개의 값이 저장된 scores 리스트가 있을 때, start expression을 사용하여 좌측 8개의 값을 valid_score 변수에 바인딩하여라.\n",
    "\n",
    "scores = [8.8, 8.9, 8.7, 9.2, 9.3, 9.7, 9.9, 9.5, 7.8, 9.4]"
   ]
  },
  {
   "cell_type": "code",
   "execution_count": 113,
   "id": "stuffed-gardening",
   "metadata": {},
   "outputs": [],
   "source": [
    "a, b, *c = [8.8, 8.9, 8.7, 9.2, 9.3, 9.7, 9.9, 9.5, 7.8, 9.4]"
   ]
  },
  {
   "cell_type": "code",
   "execution_count": 114,
   "id": "dress-connecticut",
   "metadata": {},
   "outputs": [
    {
     "data": {
      "text/plain": [
       "8.8"
      ]
     },
     "execution_count": 114,
     "metadata": {},
     "output_type": "execute_result"
    }
   ],
   "source": [
    "a"
   ]
  },
  {
   "cell_type": "code",
   "execution_count": 115,
   "id": "improved-spanking",
   "metadata": {},
   "outputs": [
    {
     "data": {
      "text/plain": [
       "8.9"
      ]
     },
     "execution_count": 115,
     "metadata": {},
     "output_type": "execute_result"
    }
   ],
   "source": [
    "b"
   ]
  },
  {
   "cell_type": "code",
   "execution_count": 117,
   "id": "expressed-inspector",
   "metadata": {},
   "outputs": [],
   "source": [
    "valid_score = c"
   ]
  },
  {
   "cell_type": "code",
   "execution_count": 118,
   "id": "vital-capability",
   "metadata": {},
   "outputs": [
    {
     "name": "stdout",
     "output_type": "stream",
     "text": [
      "[8.7, 9.2, 9.3, 9.7, 9.9, 9.5, 7.8, 9.4]\n"
     ]
    }
   ],
   "source": [
    "print(valid_score)"
   ]
  },
  {
   "cell_type": "code",
   "execution_count": 121,
   "id": "hearing-basement",
   "metadata": {},
   "outputs": [
    {
     "name": "stdout",
     "output_type": "stream",
     "text": [
      "[8.8, 8.9, 8.7, 9.2, 9.3, 9.7, 9.9, 9.5]\n"
     ]
    }
   ],
   "source": [
    "# [풀이]\n",
    "scores = [8.8, 8.9, 8.7, 9.2, 9.3, 9.7, 9.9, 9.5, 7.8, 9.4]\n",
    "*valid_score,_,_= scores\n",
    "print(valid_score)"
   ]
  },
  {
   "cell_type": "markdown",
   "id": "advised-wright",
   "metadata": {},
   "source": [
    "## 082"
   ]
  },
  {
   "cell_type": "code",
   "execution_count": 122,
   "id": "square-outreach",
   "metadata": {},
   "outputs": [],
   "source": [
    "# 다음과 같이 10개의 값이 저장된 scores 리스트가 있을 때, start expression을 사용하여 우측 8개의 값을 valid_score 변수에 바인딩하여라.\n",
    "\n",
    "scores = [8.8, 8.9, 8.7, 9.2, 9.3, 9.7, 9.9, 9.5, 7.8, 9.4]"
   ]
  },
  {
   "cell_type": "code",
   "execution_count": 125,
   "id": "latest-florence",
   "metadata": {},
   "outputs": [],
   "source": [
    "a, b, *valid_score = scores "
   ]
  },
  {
   "cell_type": "code",
   "execution_count": 126,
   "id": "expected-heater",
   "metadata": {},
   "outputs": [
    {
     "name": "stdout",
     "output_type": "stream",
     "text": [
      "[8.7, 9.2, 9.3, 9.7, 9.9, 9.5, 7.8, 9.4]\n"
     ]
    }
   ],
   "source": [
    "print(valid_score)"
   ]
  },
  {
   "cell_type": "markdown",
   "id": "medieval-label",
   "metadata": {},
   "source": [
    "## 083"
   ]
  },
  {
   "cell_type": "code",
   "execution_count": 127,
   "id": "local-vulnerability",
   "metadata": {},
   "outputs": [],
   "source": [
    "# 다음과 같이 10개의 값이 저장된 scores 리스트가 있을 때, start expression을 사용하여 가운데 있는 8개의 값을 valid_score 변수에 바인딩하여라.\n",
    "\n",
    "scores = [8.8, 8.9, 8.7, 9.2, 9.3, 9.7, 9.9, 9.5, 7.8, 9.4]"
   ]
  },
  {
   "cell_type": "code",
   "execution_count": 128,
   "id": "adolescent-substance",
   "metadata": {},
   "outputs": [
    {
     "name": "stdout",
     "output_type": "stream",
     "text": [
      "[8.9, 8.7, 9.2, 9.3, 9.7, 9.9, 9.5, 7.8]\n"
     ]
    }
   ],
   "source": [
    "a, *valid_score, c = scores\n",
    "print(valid_score)"
   ]
  },
  {
   "cell_type": "markdown",
   "id": "becoming-fifth",
   "metadata": {},
   "source": [
    "## 084 비어있는 딕셔너리"
   ]
  },
  {
   "cell_type": "code",
   "execution_count": 129,
   "id": "atlantic-reputation",
   "metadata": {},
   "outputs": [],
   "source": [
    "# temp 이름의 비어있는 딕셔너리를 만들라."
   ]
  },
  {
   "cell_type": "code",
   "execution_count": 131,
   "id": "duplicate-injury",
   "metadata": {},
   "outputs": [],
   "source": [
    "temp= {}"
   ]
  },
  {
   "cell_type": "markdown",
   "id": "innocent-pathology",
   "metadata": {},
   "source": [
    "## 085 "
   ]
  },
  {
   "cell_type": "markdown",
   "id": "tracked-tulsa",
   "metadata": {},
   "source": [
    "다음 아이스크림 이름과 희망 가격을 딕셔너리로 구성하라.\n",
    "\n",
    "\n",
    "이름 | 희망가격\n",
    "-----|-------\n",
    "메로나 | 1000\n",
    "폴라포 | 1200\n",
    "빵빠레 | 1800"
   ]
  },
  {
   "cell_type": "code",
   "execution_count": 134,
   "id": "driven-stranger",
   "metadata": {},
   "outputs": [
    {
     "name": "stdout",
     "output_type": "stream",
     "text": [
      "{'메로나': 1000, '폴라포': 1200, '빵빠레': 1800}\n"
     ]
    }
   ],
   "source": [
    "ice_cream = {\"메로나\":1000, \"폴라포\":1200,\"빵빠레\":1800}\n",
    "print(ice_cream)"
   ]
  },
  {
   "cell_type": "markdown",
   "id": "unauthorized-congress",
   "metadata": {},
   "source": [
    "## 086"
   ]
  },
  {
   "cell_type": "markdown",
   "id": "lyric-intensity",
   "metadata": {},
   "source": [
    "085 번의 딕셔너리에 아래 아이스크림 가격정보를 추가하라.\n",
    "\n",
    "이름|희망가격\n",
    "-----|--------\n",
    "죠스바|1200\n",
    "월드콘|1500"
   ]
  },
  {
   "cell_type": "code",
   "execution_count": 136,
   "id": "patent-survival",
   "metadata": {},
   "outputs": [],
   "source": [
    "ice_cream[\"죠스바\"] = 1200\n",
    "ice_cream[\"월드콘\"] = 1500"
   ]
  },
  {
   "cell_type": "code",
   "execution_count": 137,
   "id": "hungry-clearing",
   "metadata": {},
   "outputs": [
    {
     "name": "stdout",
     "output_type": "stream",
     "text": [
      "{'메로나': 1000, '폴라포': 1200, '빵빠레': 1800, '죠스바': 1200, '월드콘': 1500}\n"
     ]
    }
   ],
   "source": [
    "print(ice_cream)"
   ]
  },
  {
   "cell_type": "markdown",
   "id": "charged-chancellor",
   "metadata": {},
   "source": [
    "## 087 "
   ]
  },
  {
   "cell_type": "code",
   "execution_count": 138,
   "id": "african-minority",
   "metadata": {},
   "outputs": [],
   "source": [
    "# 다음 딕셔너리를 사용하여 메로나 가격을 출력하라.\n",
    "\n",
    "ice = {'메로나': 1000,\n",
    "       '폴로포': 1200,\n",
    "       '빵빠레': 1800,\n",
    "       '죠스바': 1200,\n",
    "       '월드콘': 1500}\n",
    "\n",
    "# 실행 예:\n",
    "# 메로나 가격: 1000"
   ]
  },
  {
   "cell_type": "code",
   "execution_count": 142,
   "id": "ordered-butler",
   "metadata": {},
   "outputs": [
    {
     "name": "stdout",
     "output_type": "stream",
     "text": [
      "메로나 가격: 1000\n"
     ]
    }
   ],
   "source": [
    "print(\"메로나 가격:\", ice[\"메로나\"])"
   ]
  },
  {
   "cell_type": "markdown",
   "id": "moving-board",
   "metadata": {},
   "source": [
    "## 088"
   ]
  },
  {
   "cell_type": "code",
   "execution_count": 143,
   "id": "after-winner",
   "metadata": {},
   "outputs": [],
   "source": [
    "# 다음 딕셔너리에서 메로나의 가격을 1300으로 수정하라.\n",
    "\n",
    "ice = {'메로나': 1000,\n",
    "       '폴로포': 1200,\n",
    "       '빵빠레': 1800,\n",
    "       '죠스바': 1200,\n",
    "       '월드콘': 1500}"
   ]
  },
  {
   "cell_type": "code",
   "execution_count": 144,
   "id": "arctic-chart",
   "metadata": {},
   "outputs": [],
   "source": [
    "ice[\"메로나\"] = 1300"
   ]
  },
  {
   "cell_type": "code",
   "execution_count": 145,
   "id": "quick-sequence",
   "metadata": {},
   "outputs": [
    {
     "name": "stdout",
     "output_type": "stream",
     "text": [
      "{'메로나': 1300, '폴로포': 1200, '빵빠레': 1800, '죠스바': 1200, '월드콘': 1500}\n"
     ]
    }
   ],
   "source": [
    "print(ice)"
   ]
  },
  {
   "cell_type": "markdown",
   "id": "progressive-ferry",
   "metadata": {},
   "source": [
    "## 089"
   ]
  },
  {
   "cell_type": "code",
   "execution_count": 146,
   "id": "historic-sodium",
   "metadata": {},
   "outputs": [],
   "source": [
    "# 다음 딕셔너리에서 메로나를 삭제하라.\n",
    "\n",
    "ice = {'메로나': 1000,\n",
    "       '폴로포': 1200,\n",
    "       '빵빠레': 1800,\n",
    "       '죠스바': 1200,\n",
    "       '월드콘': 1500}"
   ]
  },
  {
   "cell_type": "code",
   "execution_count": 147,
   "id": "similar-jefferson",
   "metadata": {},
   "outputs": [],
   "source": [
    "del ice[\"메로나\"]"
   ]
  },
  {
   "cell_type": "code",
   "execution_count": 149,
   "id": "flexible-header",
   "metadata": {},
   "outputs": [
    {
     "name": "stdout",
     "output_type": "stream",
     "text": [
      "{'폴로포': 1200, '빵빠레': 1800, '죠스바': 1200, '월드콘': 1500}\n"
     ]
    }
   ],
   "source": [
    "print(ice)"
   ]
  },
  {
   "cell_type": "markdown",
   "id": "bacterial-benchmark",
   "metadata": {},
   "source": [
    "## 090"
   ]
  },
  {
   "cell_type": "code",
   "execution_count": 150,
   "id": "inner-census",
   "metadata": {},
   "outputs": [],
   "source": [
    "# 다음 코드에서 에러가 발생한 원인을 설명하라.\n",
    "\n",
    "# >> icecream = {'폴라포': 1200, '빵빠레': 1800, '월드콘': 1500, '메로나': 1000}\n",
    "# >> icecream['누가바']\n",
    "# Traceback (most recent call last):\n",
    "#   File \"<pyshell#69>\", line 1, in <module>\n",
    "#     icecream['누가바']\n",
    "# KeyError: '누가바'"
   ]
  },
  {
   "cell_type": "code",
   "execution_count": 151,
   "id": "valid-romania",
   "metadata": {},
   "outputs": [
    {
     "ename": "KeyError",
     "evalue": "'누가바'",
     "output_type": "error",
     "traceback": [
      "\u001b[1;31m---------------------------------------------------------------------------\u001b[0m",
      "\u001b[1;31mKeyError\u001b[0m                                  Traceback (most recent call last)",
      "\u001b[1;32m<ipython-input-151-f3bb398f8646>\u001b[0m in \u001b[0;36m<module>\u001b[1;34m\u001b[0m\n\u001b[0;32m      1\u001b[0m \u001b[0micecream\u001b[0m \u001b[1;33m=\u001b[0m \u001b[1;33m{\u001b[0m\u001b[1;34m'폴라포'\u001b[0m\u001b[1;33m:\u001b[0m \u001b[1;36m1200\u001b[0m\u001b[1;33m,\u001b[0m \u001b[1;34m'빵빠레'\u001b[0m\u001b[1;33m:\u001b[0m \u001b[1;36m1800\u001b[0m\u001b[1;33m,\u001b[0m \u001b[1;34m'월드콘'\u001b[0m\u001b[1;33m:\u001b[0m \u001b[1;36m1500\u001b[0m\u001b[1;33m,\u001b[0m \u001b[1;34m'메로나'\u001b[0m\u001b[1;33m:\u001b[0m \u001b[1;36m1000\u001b[0m\u001b[1;33m}\u001b[0m\u001b[1;33m\u001b[0m\u001b[1;33m\u001b[0m\u001b[0m\n\u001b[1;32m----> 2\u001b[1;33m \u001b[0micecream\u001b[0m\u001b[1;33m[\u001b[0m\u001b[1;34m'누가바'\u001b[0m\u001b[1;33m]\u001b[0m\u001b[1;33m\u001b[0m\u001b[1;33m\u001b[0m\u001b[0m\n\u001b[0m",
      "\u001b[1;31mKeyError\u001b[0m: '누가바'"
     ]
    }
   ],
   "source": [
    "icecream = {'폴라포': 1200, '빵빠레': 1800, '월드콘': 1500, '메로나': 1000}\n",
    "icecream['누가바']"
   ]
  },
  {
   "cell_type": "markdown",
   "id": "bizarre-montgomery",
   "metadata": {},
   "source": [
    "딕셔너리에 없는 키를 사용해서 인덱싱하면 에러가 발생한다."
   ]
  },
  {
   "cell_type": "markdown",
   "id": "voluntary-liberty",
   "metadata": {},
   "source": [
    "## 091 딕셔너리 생성"
   ]
  },
  {
   "cell_type": "markdown",
   "id": "governing-performance",
   "metadata": {},
   "source": [
    "아래의 표에서, 아이스크림 이름을 키값으로, (가격, 재고) 리스트를 딕셔너리의 값으로 저장하라. 딕셔너리의 이름은 inventory로 한다.\n",
    "\n",
    "이름|가격|재고\n",
    "----|----|----\n",
    "메로나|300|20\n",
    "비비빅|400|3\n",
    "죠스바|250|100"
   ]
  },
  {
   "cell_type": "code",
   "execution_count": 155,
   "id": "unique-platinum",
   "metadata": {},
   "outputs": [
    {
     "name": "stdout",
     "output_type": "stream",
     "text": [
      "{'메로나': [300, 20], '비비빅': [400, 3], '죠스바': [250, 100]}\n"
     ]
    }
   ],
   "source": [
    "inventory = {\"메로나\":[300,20],\n",
    "            \"비비빅\":[400,3],\n",
    "            \"죠스바\":[250,100]}\n",
    "\n",
    "print(inventory)"
   ]
  },
  {
   "cell_type": "markdown",
   "id": "verified-certificate",
   "metadata": {},
   "source": [
    "## 092 딕셔너리 인덱싱"
   ]
  },
  {
   "cell_type": "code",
   "execution_count": 156,
   "id": "defensive-verse",
   "metadata": {},
   "outputs": [],
   "source": [
    "#inventory 딕셔너리에서 메로나의 가격을 화면에 출력하라.\n",
    "\n",
    "inventory = {\"메로나\": [300, 20],\n",
    "              \"비비빅\": [400, 3],\n",
    "              \"죠스바\": [250, 100]}\n",
    "# 실행 예시:\n",
    "# 300 원"
   ]
  },
  {
   "cell_type": "code",
   "execution_count": 159,
   "id": "featured-expression",
   "metadata": {},
   "outputs": [
    {
     "name": "stdout",
     "output_type": "stream",
     "text": [
      "300 원\n"
     ]
    }
   ],
   "source": [
    "print(inventory[\"메로나\"][0], \"원\")"
   ]
  },
  {
   "cell_type": "markdown",
   "id": "first-withdrawal",
   "metadata": {},
   "source": [
    "## 093 딕셔너리 인덱싱"
   ]
  },
  {
   "cell_type": "code",
   "execution_count": 160,
   "id": "descending-panic",
   "metadata": {},
   "outputs": [],
   "source": [
    "# inventory 딕셔너리에서 메로나의 재고를 화면에 출력하라.\n",
    "\n",
    "inventory = {\"메로나\": [300, 20],\n",
    "              \"비비빅\": [400, 3],\n",
    "              \"죠스바\": [250, 100]}\n",
    "# 실행 예시:\n",
    "# 20 개"
   ]
  },
  {
   "cell_type": "code",
   "execution_count": 162,
   "id": "light-criticism",
   "metadata": {},
   "outputs": [
    {
     "name": "stdout",
     "output_type": "stream",
     "text": [
      "20 개\n",
      "20 개\n"
     ]
    }
   ],
   "source": [
    "print(inventory[\"메로나\"][-1], \"개\")\n",
    "print(inventory[\"메로나\"][1], \"개\")"
   ]
  },
  {
   "cell_type": "markdown",
   "id": "juvenile-miniature",
   "metadata": {},
   "source": [
    "## 094 딕셔너리 추가"
   ]
  },
  {
   "cell_type": "code",
   "execution_count": 163,
   "id": "reported-collapse",
   "metadata": {},
   "outputs": [],
   "source": [
    "# inventory 딕셔너리에 아래 데이터를 추가하라.\n",
    "\n",
    "inventory = {\"메로나\": [300, 20],\n",
    "              \"비비빅\": [400, 3],\n",
    "              \"죠스바\": [250, 100]}"
   ]
  },
  {
   "cell_type": "markdown",
   "id": "fantastic-astronomy",
   "metadata": {},
   "source": [
    "이름|가격|재고\n",
    "--|--|--\n",
    "월드콘|500|7\n",
    "\n",
    "실행 예시:\n",
    "print(inventory)\n",
    "{'메로나': [300, 20], '비비빅': [400, 3], '죠스바': [250, 100], '월드콘': [500, 7]}"
   ]
  },
  {
   "cell_type": "code",
   "execution_count": 165,
   "id": "sustained-reference",
   "metadata": {},
   "outputs": [
    {
     "name": "stdout",
     "output_type": "stream",
     "text": [
      "{'메로나': [300, 20], '비비빅': [400, 3], '죠스바': [250, 100], '월드콘': [500, 7]}\n"
     ]
    }
   ],
   "source": [
    "inventory[\"월드콘\"] = [500,7]\n",
    "print(inventory)"
   ]
  },
  {
   "cell_type": "markdown",
   "id": "exceptional-sherman",
   "metadata": {},
   "source": [
    "## 095 딕셔너리 keys() 메서드"
   ]
  },
  {
   "cell_type": "code",
   "execution_count": 166,
   "id": "sealed-alert",
   "metadata": {},
   "outputs": [],
   "source": [
    "# 다음의 딕셔너리로부터 key 값으로만 구성된 리스트를 생성하라.\n",
    "\n",
    "icecream = {'탱크보이': 1200, '폴라포': 1200, '빵빠레': 1800, '월드콘': 1500, '메로나': 1000}"
   ]
  },
  {
   "cell_type": "code",
   "execution_count": 168,
   "id": "sunset-conditioning",
   "metadata": {},
   "outputs": [
    {
     "name": "stdout",
     "output_type": "stream",
     "text": [
      "['탱크보이', '폴라포', '빵빠레', '월드콘', '메로나']\n"
     ]
    }
   ],
   "source": [
    "ice = list (icecream.keys())\n",
    "print(ice)"
   ]
  },
  {
   "cell_type": "markdown",
   "id": "worse-working",
   "metadata": {},
   "source": [
    "## 096 딕셔너리 values() 메서드"
   ]
  },
  {
   "cell_type": "code",
   "execution_count": 169,
   "id": "aquatic-minute",
   "metadata": {},
   "outputs": [],
   "source": [
    "# 다음의 딕셔너리에서 values 값으로만 구성된 리스트를 생성하라.\n",
    "\n",
    "icecream = {'탱크보이': 1200, '폴라포': 1200, '빵빠레': 1800, '월드콘': 1500, '메로나': 1000}"
   ]
  },
  {
   "cell_type": "code",
   "execution_count": 170,
   "id": "connected-blood",
   "metadata": {},
   "outputs": [
    {
     "name": "stdout",
     "output_type": "stream",
     "text": [
      "[1200, 1200, 1800, 1500, 1000]\n"
     ]
    }
   ],
   "source": [
    "ice_v = list(icecream.values())\n",
    "print(ice_v)"
   ]
  },
  {
   "cell_type": "markdown",
   "id": "frank-windsor",
   "metadata": {},
   "source": [
    "## 097 딕셔너리 values() 메서드"
   ]
  },
  {
   "cell_type": "code",
   "execution_count": 171,
   "id": "guided-theater",
   "metadata": {},
   "outputs": [],
   "source": [
    "# icecream 딕셔너리에서 아이스크림 판매 금액의 총합을 출력하라.\n",
    "\n",
    "icecream = {'탱크보이': 1200, '폴라포': 1200, '빵빠레': 1800, '월드콘': 1500, '메로나': 1000}\n",
    "\n",
    "# 출력 예시:\n",
    "# 6700"
   ]
  },
  {
   "cell_type": "code",
   "execution_count": 176,
   "id": "egyptian-trigger",
   "metadata": {},
   "outputs": [
    {
     "name": "stdout",
     "output_type": "stream",
     "text": [
      "6700\n",
      "6700\n"
     ]
    }
   ],
   "source": [
    "print(sum(ice_v))\n",
    "print(sum(icecream.values()))"
   ]
  },
  {
   "cell_type": "markdown",
   "id": "present-prefix",
   "metadata": {},
   "source": [
    "## 098딕셔너리 update 메서드"
   ]
  },
  {
   "cell_type": "code",
   "execution_count": 178,
   "id": "formed-involvement",
   "metadata": {},
   "outputs": [],
   "source": [
    "# 아래의 new_product 딕셔너리를 다음 icecream 딕셔너리에 추가하라.\n",
    "\n",
    "icecream = {'탱크보이': 1200, '폴라포': 1200, '빵빠레': 1800, '월드콘': 1500, '메로나': 1000}\n",
    "new_product = {'팥빙수':2700, '아맛나':1000}\n",
    "\n",
    "# 실행 예시:\n",
    "# >> print(icecream)\n",
    "# {'탱크보이': 1200,  '폴라포': 1200,  '빵빠레': 1800,  '월드콘': 1500,  '메로나': 1000,  '팥빙수':2700, '아맛나':1000}"
   ]
  },
  {
   "cell_type": "code",
   "execution_count": 179,
   "id": "hidden-staff",
   "metadata": {},
   "outputs": [
    {
     "name": "stdout",
     "output_type": "stream",
     "text": [
      "{'탱크보이': 1200, '폴라포': 1200, '빵빠레': 1800, '월드콘': 1500, '메로나': 1000, '팥빙수': 2700, '아맛나': 1000}\n"
     ]
    }
   ],
   "source": [
    "icecream.update(new_product)\n",
    "print(icecream)"
   ]
  },
  {
   "cell_type": "markdown",
   "id": "integrated-linux",
   "metadata": {},
   "source": [
    "## 99 zip과 dict"
   ]
  },
  {
   "cell_type": "code",
   "execution_count": 182,
   "id": "further-tenant",
   "metadata": {},
   "outputs": [],
   "source": [
    "# 아래 두 개의 튜플을 하나의 딕셔너리로 변환하라. keys를 키로, vals를 값으로 result 이름의 딕셔너리로 저장한다.\n",
    "\n",
    "keys = (\"apple\", \"pear\", \"peach\")\n",
    "vals = (300, 250, 400)\n",
    "\n",
    "# 실행 예시:\n",
    "# >> print(result)\n",
    "# {'apple': 300, 'pear': 250, 'peach': 400}"
   ]
  },
  {
   "cell_type": "code",
   "execution_count": 183,
   "id": "atomic-hobby",
   "metadata": {},
   "outputs": [
    {
     "name": "stdout",
     "output_type": "stream",
     "text": [
      "{'apple': 300, 'pear': 250, 'peach': 400}\n"
     ]
    }
   ],
   "source": [
    "result = dict(zip(keys, vals))\n",
    "print(result)"
   ]
  },
  {
   "cell_type": "markdown",
   "id": "mounted-defense",
   "metadata": {},
   "source": [
    "## 100 zip과 dict"
   ]
  },
  {
   "cell_type": "code",
   "execution_count": 180,
   "id": "imposed-finger",
   "metadata": {},
   "outputs": [],
   "source": [
    "# date와 close_price 두 개의 리스트를 close_table 이름의 딕셔너리로 생성하라.\n",
    "\n",
    "date = ['09/05', '09/06', '09/07', '09/08', '09/09']\n",
    "close_price = [10500, 10300, 10100, 10800, 11000]\n",
    "# 실행 예시:\n",
    "# >> print(close_table)\n",
    "# {'09/05': 10500, '09/06': 10300, '09/07': 10100, '09/08': 10800, '09/09': 11000}"
   ]
  },
  {
   "cell_type": "code",
   "execution_count": 181,
   "id": "interstate-confirmation",
   "metadata": {},
   "outputs": [
    {
     "name": "stdout",
     "output_type": "stream",
     "text": [
      "{'09/05': 10500, '09/06': 10300, '09/07': 10100, '09/08': 10800, '09/09': 11000}\n"
     ]
    }
   ],
   "source": [
    "close_table = dict(zip(date, close_price))\n",
    "print(close_table)"
   ]
  },
  {
   "cell_type": "code",
   "execution_count": null,
   "id": "planned-interstate",
   "metadata": {},
   "outputs": [],
   "source": []
  }
 ],
 "metadata": {
  "kernelspec": {
   "display_name": "Python 3",
   "language": "python",
   "name": "python3"
  },
  "language_info": {
   "codemirror_mode": {
    "name": "ipython",
    "version": 3
   },
   "file_extension": ".py",
   "mimetype": "text/x-python",
   "name": "python",
   "nbconvert_exporter": "python",
   "pygments_lexer": "ipython3",
   "version": "3.8.8"
  },
  "toc": {
   "base_numbering": 1,
   "nav_menu": {},
   "number_sections": true,
   "sideBar": true,
   "skip_h1_title": false,
   "title_cell": "Table of Contents",
   "title_sidebar": "Contents",
   "toc_cell": false,
   "toc_position": {},
   "toc_section_display": true,
   "toc_window_display": false
  },
  "varInspector": {
   "cols": {
    "lenName": 16,
    "lenType": 16,
    "lenVar": 40
   },
   "kernels_config": {
    "python": {
     "delete_cmd_postfix": "",
     "delete_cmd_prefix": "del ",
     "library": "var_list.py",
     "varRefreshCmd": "print(var_dic_list())"
    },
    "r": {
     "delete_cmd_postfix": ") ",
     "delete_cmd_prefix": "rm(",
     "library": "var_list.r",
     "varRefreshCmd": "cat(var_dic_list()) "
    }
   },
   "types_to_exclude": [
    "module",
    "function",
    "builtin_function_or_method",
    "instance",
    "_Feature"
   ],
   "window_display": false
  }
 },
 "nbformat": 4,
 "nbformat_minor": 5
}
