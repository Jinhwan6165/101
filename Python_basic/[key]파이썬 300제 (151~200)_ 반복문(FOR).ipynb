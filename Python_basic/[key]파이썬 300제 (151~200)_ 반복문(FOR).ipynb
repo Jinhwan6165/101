{
 "cells": [
  {
   "cell_type": "markdown",
   "id": "blocked-earthquake",
   "metadata": {},
   "source": [
    "# 초보자를 위한 파이썬 300제\n",
    "https://wikidocs.net/78768"
   ]
  },
  {
   "cell_type": "markdown",
   "id": "similar-beach",
   "metadata": {},
   "source": [
    "## 151\n",
    "리스트에는 네 개의 정수가 저장돼 있다."
   ]
  },
  {
   "cell_type": "code",
   "execution_count": 1,
   "id": "challenging-headline",
   "metadata": {},
   "outputs": [],
   "source": [
    "리스트 = [3, -20, -3, 44]"
   ]
  },
  {
   "cell_type": "markdown",
   "id": "knowing-white",
   "metadata": {},
   "source": [
    "for문을 사용해서 리스트의 음수를 출력하라.\n",
    "\n",
    "-20\n",
    "\n",
    "-3"
   ]
  },
  {
   "cell_type": "code",
   "execution_count": 5,
   "id": "explicit-answer",
   "metadata": {},
   "outputs": [
    {
     "name": "stdout",
     "output_type": "stream",
     "text": [
      "-20\n",
      "-3\n"
     ]
    }
   ],
   "source": [
    "for 변수 in 리스트[1:3]:\n",
    "    print(변수)"
   ]
  },
  {
   "cell_type": "code",
   "execution_count": 6,
   "id": "orange-deployment",
   "metadata": {},
   "outputs": [
    {
     "name": "stdout",
     "output_type": "stream",
     "text": [
      "-20\n",
      "-3\n"
     ]
    }
   ],
   "source": [
    "for 변수 in 리스트:\n",
    "    if 변수 < 0:\n",
    "        print(변수)"
   ]
  },
  {
   "cell_type": "markdown",
   "id": "twenty-stack",
   "metadata": {},
   "source": [
    "리스트에 저장된 모든 값에 접근해서 음수 여부를 판단해야한다. 라인 3을 제외하면 리스트에 저장된 모든 값을 출력하는 코드이다. 라인 3의 분기문의 사용으로 모든 값을 출력하는 것이 아니라 조건이 참인 경우에만 if문의 들여쓰기된 코드가 실행된다."
   ]
  },
  {
   "cell_type": "markdown",
   "id": "dried-straight",
   "metadata": {},
   "source": [
    "## 152\n",
    "for문을 사용해서 3의 배수만을 출력하라."
   ]
  },
  {
   "cell_type": "code",
   "execution_count": 7,
   "id": "heard-teacher",
   "metadata": {},
   "outputs": [],
   "source": [
    "리스트 = [3, 100, 23, 44]"
   ]
  },
  {
   "cell_type": "markdown",
   "id": "weekly-albania",
   "metadata": {},
   "source": [
    "3"
   ]
  },
  {
   "cell_type": "code",
   "execution_count": 8,
   "id": "labeled-fleet",
   "metadata": {},
   "outputs": [
    {
     "name": "stdout",
     "output_type": "stream",
     "text": [
      "3\n"
     ]
    }
   ],
   "source": [
    "for 변수 in 리스트:\n",
    "    if 변수 %3 == 0: \n",
    "        print(변수)"
   ]
  },
  {
   "cell_type": "markdown",
   "id": "critical-reviewer",
   "metadata": {},
   "source": [
    "## 153\n",
    "리스트에서 20 보다 작은 3의 배수를 출력하라"
   ]
  },
  {
   "cell_type": "code",
   "execution_count": 9,
   "id": "marked-campaign",
   "metadata": {},
   "outputs": [],
   "source": [
    "리스트 = [13, 21, 12, 14, 30, 18]"
   ]
  },
  {
   "cell_type": "markdown",
   "id": "sudden-income",
   "metadata": {},
   "source": [
    "12\n",
    "\n",
    "18"
   ]
  },
  {
   "cell_type": "code",
   "execution_count": 13,
   "id": "buried-timing",
   "metadata": {},
   "outputs": [
    {
     "name": "stdout",
     "output_type": "stream",
     "text": [
      "12\n",
      "18\n"
     ]
    }
   ],
   "source": [
    "for 변수 in 리스트:\n",
    "    if (변수 <20 )and (변수 %3 ==0 ):\n",
    "        print(변수)"
   ]
  },
  {
   "cell_type": "markdown",
   "id": "awful-private",
   "metadata": {},
   "source": [
    "## 154\n",
    "리스트에서 세 글자 이상의 문자를 화면에 출력하라"
   ]
  },
  {
   "cell_type": "code",
   "execution_count": 14,
   "id": "inclusive-wireless",
   "metadata": {},
   "outputs": [],
   "source": [
    "리스트 = [\"I\", \"study\", \"python\", \"language\", \"!\"]"
   ]
  },
  {
   "cell_type": "markdown",
   "id": "super-definition",
   "metadata": {},
   "source": [
    "study\n",
    "python\n",
    "language"
   ]
  },
  {
   "cell_type": "code",
   "execution_count": 16,
   "id": "civilian-puppy",
   "metadata": {},
   "outputs": [
    {
     "name": "stdout",
     "output_type": "stream",
     "text": [
      "study\n",
      "python\n",
      "language\n"
     ]
    }
   ],
   "source": [
    "for 변수 in 리스트:\n",
    "    if len(변수) >=3:\n",
    "        print(변수)"
   ]
  },
  {
   "cell_type": "markdown",
   "id": "economic-fight",
   "metadata": {},
   "source": [
    "## 155\n",
    "리스트에서 대문자만 화면에 출력하라."
   ]
  },
  {
   "cell_type": "code",
   "execution_count": 17,
   "id": "global-recorder",
   "metadata": {},
   "outputs": [],
   "source": [
    "리스트 = [\"A\", \"b\", \"c\", \"D\"]"
   ]
  },
  {
   "cell_type": "code",
   "execution_count": null,
   "id": "saved-system",
   "metadata": {},
   "outputs": [],
   "source": [
    "A\n",
    "D"
   ]
  },
  {
   "cell_type": "code",
   "execution_count": null,
   "id": "cubic-calcium",
   "metadata": {},
   "outputs": [],
   "source": [
    "(참고) isupper() 메서드는 대문자 여부를 판별합니다.\n",
    "\n",
    ">> 변수 = \"A\"\n",
    ">> 변수.isupper()\n",
    "True\n",
    ">> 변수 = \"a\"\n",
    ">> 변수.isupper()\n",
    "False"
   ]
  },
  {
   "cell_type": "code",
   "execution_count": 21,
   "id": "recovered-factor",
   "metadata": {},
   "outputs": [
    {
     "name": "stdout",
     "output_type": "stream",
     "text": [
      "A\n",
      "D\n"
     ]
    }
   ],
   "source": [
    "for 변수 in 리스트:\n",
    "    if 변수.isupper():\n",
    "        print(변수)"
   ]
  },
  {
   "cell_type": "markdown",
   "id": "solved-projector",
   "metadata": {},
   "source": [
    "## 156\n",
    "리스트에서 소문자만 화면에 출력하라."
   ]
  },
  {
   "cell_type": "code",
   "execution_count": 22,
   "id": "statewide-private",
   "metadata": {},
   "outputs": [],
   "source": [
    "리스트 = [\"A\", \"b\", \"c\", \"D\"]"
   ]
  },
  {
   "cell_type": "code",
   "execution_count": null,
   "id": "portable-attention",
   "metadata": {},
   "outputs": [],
   "source": [
    "b\n",
    "c"
   ]
  },
  {
   "cell_type": "code",
   "execution_count": 23,
   "id": "prepared-arctic",
   "metadata": {},
   "outputs": [
    {
     "name": "stdout",
     "output_type": "stream",
     "text": [
      "b\n",
      "c\n"
     ]
    }
   ],
   "source": [
    "for 변수 in 리스트:\n",
    "    if 변수.islower():\n",
    "        print(변수)"
   ]
  },
  {
   "cell_type": "code",
   "execution_count": 24,
   "id": "baking-obligation",
   "metadata": {},
   "outputs": [
    {
     "name": "stdout",
     "output_type": "stream",
     "text": [
      "b\n",
      "c\n"
     ]
    }
   ],
   "source": [
    "for 변수 in 리스트:\n",
    "    if 변수.isupper() == False:\n",
    "        print(변수)"
   ]
  },
  {
   "cell_type": "code",
   "execution_count": 25,
   "id": "current-prophet",
   "metadata": {},
   "outputs": [
    {
     "name": "stdout",
     "output_type": "stream",
     "text": [
      "b\n",
      "c\n"
     ]
    }
   ],
   "source": [
    "for 변수 in 리스트:\n",
    "    if not 변수.isupper():\n",
    "        print(변수)"
   ]
  },
  {
   "cell_type": "markdown",
   "id": "white-stevens",
   "metadata": {},
   "source": [
    "## 157\n",
    "이름의 첫 글자를 대문자로 변경해서 출력하라."
   ]
  },
  {
   "cell_type": "code",
   "execution_count": 26,
   "id": "exposed-pantyhose",
   "metadata": {},
   "outputs": [],
   "source": [
    "리스트 = ['dog', 'cat', 'parrot']"
   ]
  },
  {
   "cell_type": "code",
   "execution_count": null,
   "id": "vanilla-orange",
   "metadata": {},
   "outputs": [],
   "source": [
    "Dog\n",
    "Cat\n",
    "Parrot"
   ]
  },
  {
   "cell_type": "code",
   "execution_count": null,
   "id": "affecting-avatar",
   "metadata": {},
   "outputs": [],
   "source": [
    "(참고) upper() 메서드는 문자열을 대문자로 변경합니다.\n",
    "\n",
    ">> 변수 = \"a\"\n",
    ">> a.upper()\n",
    "A\n",
    ">> 변수 = \"abc\"\n",
    ">> 변수.upper()\n",
    "ABC"
   ]
  },
  {
   "cell_type": "code",
   "execution_count": 29,
   "id": "combined-masters",
   "metadata": {},
   "outputs": [
    {
     "name": "stdout",
     "output_type": "stream",
     "text": [
      "Dog\n",
      "Cat\n",
      "Parrot\n"
     ]
    }
   ],
   "source": [
    "for 변수 in 리스트: \n",
    "    첫글자 = 변수[0]\n",
    "    대문자 = 첫글자.upper()\n",
    "    print(대문자 + 변수[1:])"
   ]
  },
  {
   "cell_type": "code",
   "execution_count": 30,
   "id": "prerequisite-vintage",
   "metadata": {},
   "outputs": [
    {
     "name": "stdout",
     "output_type": "stream",
     "text": [
      "Dog\n",
      "Cat\n",
      "Parrot\n"
     ]
    }
   ],
   "source": [
    "for 변수 in 리스트:\n",
    "    print(변수[0].upper() + 변수[1:])"
   ]
  },
  {
   "cell_type": "markdown",
   "id": "medium-carry",
   "metadata": {},
   "source": [
    "## 158\n",
    "파일 이름이 저장된 리스트에서 확장자를 제거하고 파일 이름만 화면에 출력하라. (힌트: split() 메서드)"
   ]
  },
  {
   "cell_type": "code",
   "execution_count": 31,
   "id": "incorrect-input",
   "metadata": {},
   "outputs": [],
   "source": [
    "리스트 = ['hello.py', 'ex01.py', 'intro.hwp']"
   ]
  },
  {
   "cell_type": "code",
   "execution_count": null,
   "id": "driving-victorian",
   "metadata": {},
   "outputs": [],
   "source": [
    "hello\n",
    "ex01\n",
    "intro"
   ]
  },
  {
   "cell_type": "code",
   "execution_count": 37,
   "id": "virgin-vancouver",
   "metadata": {},
   "outputs": [
    {
     "name": "stdout",
     "output_type": "stream",
     "text": [
      "hello\n",
      "ex01\n",
      "intro\n"
     ]
    }
   ],
   "source": [
    "for 변수 in 리스트:\n",
    "    변수 = 변수.split(\".\")[0]\n",
    "    print(변수)"
   ]
  },
  {
   "cell_type": "markdown",
   "id": "understood-dragon",
   "metadata": {},
   "source": [
    "## 159\n",
    "파일 이름이 저장된 리스트에서 확장자가 .h인 파일 이름을 출력하라."
   ]
  },
  {
   "cell_type": "code",
   "execution_count": 38,
   "id": "educated-entry",
   "metadata": {},
   "outputs": [],
   "source": [
    "리스트 = ['intra.h', 'intra.c', 'define.h', 'run.py']"
   ]
  },
  {
   "cell_type": "code",
   "execution_count": null,
   "id": "multiple-treasury",
   "metadata": {},
   "outputs": [],
   "source": [
    "intra.h\n",
    "define.h"
   ]
  },
  {
   "cell_type": "code",
   "execution_count": 42,
   "id": "mighty-madonna",
   "metadata": {},
   "outputs": [
    {
     "name": "stdout",
     "output_type": "stream",
     "text": [
      "intra.h\n",
      "define.h\n"
     ]
    }
   ],
   "source": [
    "for 변수 in 리스트:\n",
    "    확장자 = 변수.split(\".\")\n",
    "    if 확장자[1]== \"h\":\n",
    "        print(변수)"
   ]
  },
  {
   "cell_type": "markdown",
   "id": "innovative-increase",
   "metadata": {},
   "source": [
    "## 160\n",
    "파일 이름이 저장된 리스트에서 확장자가 .h나 .c인 파일을 화면에 출력하라."
   ]
  },
  {
   "cell_type": "code",
   "execution_count": 43,
   "id": "fleet-correspondence",
   "metadata": {},
   "outputs": [],
   "source": [
    "리스트 = ['intra.h', 'intra.c', 'define.h', 'run.py']"
   ]
  },
  {
   "cell_type": "code",
   "execution_count": null,
   "id": "equal-personality",
   "metadata": {},
   "outputs": [],
   "source": [
    "intra.h\n",
    "intra.c\n",
    "define.h"
   ]
  },
  {
   "cell_type": "code",
   "execution_count": 45,
   "id": "naval-india",
   "metadata": {},
   "outputs": [
    {
     "name": "stdout",
     "output_type": "stream",
     "text": [
      "intra.h\n",
      "intra.c\n",
      "define.h\n"
     ]
    }
   ],
   "source": [
    "for 변수 in 리스트:\n",
    "    확장자 = 변수.split(\".\")[1]\n",
    "    if 확장자 in [\"h\",\"c\"]:\n",
    "        print(변수)"
   ]
  },
  {
   "cell_type": "code",
   "execution_count": 50,
   "id": "parallel-scott",
   "metadata": {},
   "outputs": [
    {
     "name": "stdout",
     "output_type": "stream",
     "text": [
      "intra.h\n",
      "intra.c\n",
      "define.h\n"
     ]
    }
   ],
   "source": [
    "for 변수 in 리스트:\n",
    "    확장자 = 변수.split(\".\")[1]\n",
    "    if (확장자==\"h\") or (확장자 == \"c\"):\n",
    "        print(변수)"
   ]
  },
  {
   "cell_type": "code",
   "execution_count": 47,
   "id": "pleasant-thirty",
   "metadata": {},
   "outputs": [
    {
     "data": {
      "text/plain": [
       "'py'"
      ]
     },
     "execution_count": 47,
     "metadata": {},
     "output_type": "execute_result"
    }
   ],
   "source": [
    "확장자"
   ]
  },
  {
   "cell_type": "markdown",
   "id": "digital-moses",
   "metadata": {},
   "source": [
    "## 161\n",
    "for문과 range 구문을 사용해서 0~99까지 한 라인에 하나씩 순차적으로 출력하는 프로그램을 작성하라."
   ]
  },
  {
   "cell_type": "code",
   "execution_count": 53,
   "id": "reasonable-convert",
   "metadata": {
    "collapsed": true
   },
   "outputs": [
    {
     "name": "stdout",
     "output_type": "stream",
     "text": [
      "0\n",
      "1\n",
      "2\n",
      "3\n",
      "4\n",
      "5\n",
      "6\n",
      "7\n",
      "8\n",
      "9\n",
      "10\n",
      "11\n",
      "12\n",
      "13\n",
      "14\n",
      "15\n",
      "16\n",
      "17\n",
      "18\n",
      "19\n",
      "20\n",
      "21\n",
      "22\n",
      "23\n",
      "24\n",
      "25\n",
      "26\n",
      "27\n",
      "28\n",
      "29\n",
      "30\n",
      "31\n",
      "32\n",
      "33\n",
      "34\n",
      "35\n",
      "36\n",
      "37\n",
      "38\n",
      "39\n",
      "40\n",
      "41\n",
      "42\n",
      "43\n",
      "44\n",
      "45\n",
      "46\n",
      "47\n",
      "48\n",
      "49\n",
      "50\n",
      "51\n",
      "52\n",
      "53\n",
      "54\n",
      "55\n",
      "56\n",
      "57\n",
      "58\n",
      "59\n",
      "60\n",
      "61\n",
      "62\n",
      "63\n",
      "64\n",
      "65\n",
      "66\n",
      "67\n",
      "68\n",
      "69\n",
      "70\n",
      "71\n",
      "72\n",
      "73\n",
      "74\n",
      "75\n",
      "76\n",
      "77\n",
      "78\n",
      "79\n",
      "80\n",
      "81\n",
      "82\n",
      "83\n",
      "84\n",
      "85\n",
      "86\n",
      "87\n",
      "88\n",
      "89\n",
      "90\n",
      "91\n",
      "92\n",
      "93\n",
      "94\n",
      "95\n",
      "96\n",
      "97\n",
      "98\n",
      "99\n"
     ]
    }
   ],
   "source": [
    "for i in range(100):\n",
    "    print(i)"
   ]
  },
  {
   "cell_type": "markdown",
   "id": "possible-atlas",
   "metadata": {},
   "source": [
    "## 162\n",
    "월드컵은 4년에 한 번 개최된다. range()를 사용하여 2002~2050년까지 중 월드컵이 개최되는 연도를 출력하라."
   ]
  },
  {
   "cell_type": "markdown",
   "id": "opposed-summary",
   "metadata": {},
   "source": [
    "2002\n",
    "2006\n",
    "2010\n",
    "...\n",
    "2042\n",
    "2046\n",
    "2050"
   ]
  },
  {
   "cell_type": "markdown",
   "id": "designed-submission",
   "metadata": {},
   "source": [
    "참고) range의 세번 째 파라미터는 증감폭을 결정합니다."
   ]
  },
  {
   "cell_type": "code",
   "execution_count": null,
   "id": "tight-advice",
   "metadata": {},
   "outputs": [],
   "source": [
    ">> print(list(range(0, 10, 2)))\n",
    "[0, 2, 4, 6, 8]"
   ]
  },
  {
   "cell_type": "code",
   "execution_count": 54,
   "id": "italian-patio",
   "metadata": {},
   "outputs": [
    {
     "name": "stdout",
     "output_type": "stream",
     "text": [
      "2002\n",
      "2006\n",
      "2010\n",
      "2014\n",
      "2018\n",
      "2022\n",
      "2026\n",
      "2030\n",
      "2034\n",
      "2038\n",
      "2042\n",
      "2046\n",
      "2050\n"
     ]
    }
   ],
   "source": [
    "for i in range(2002, 2051, 4):\n",
    "    print(i)\n"
   ]
  },
  {
   "cell_type": "markdown",
   "id": "tamil-smooth",
   "metadata": {},
   "source": [
    "## 163\n",
    "1부터 30까지의 숫자 중 3의 배수를 출력하라."
   ]
  },
  {
   "cell_type": "code",
   "execution_count": 58,
   "id": "willing-prize",
   "metadata": {},
   "outputs": [
    {
     "name": "stdout",
     "output_type": "stream",
     "text": [
      "3\n",
      "6\n",
      "9\n",
      "12\n",
      "15\n",
      "18\n",
      "21\n",
      "24\n",
      "27\n",
      "30\n"
     ]
    }
   ],
   "source": [
    "for i in range(3,31):\n",
    "    if (i % 3) == 0:\n",
    "        print(i)"
   ]
  },
  {
   "cell_type": "code",
   "execution_count": 59,
   "id": "brutal-bankruptcy",
   "metadata": {},
   "outputs": [
    {
     "name": "stdout",
     "output_type": "stream",
     "text": [
      "3\n",
      "6\n",
      "9\n",
      "12\n",
      "15\n",
      "18\n",
      "21\n",
      "24\n",
      "27\n",
      "30\n"
     ]
    }
   ],
   "source": [
    "for i in range(3,31,3):\n",
    "    print(i)"
   ]
  },
  {
   "cell_type": "markdown",
   "id": "powerful-browser",
   "metadata": {},
   "source": [
    "## 165\n",
    "for문을 사용해서 아래와 같이 출력하라."
   ]
  },
  {
   "cell_type": "markdown",
   "id": "pleased-seeker",
   "metadata": {},
   "source": [
    "0.0\n",
    "0.1\n",
    "0.2\n",
    "0.3\n",
    "0.4\n",
    "0.5\n",
    "...\n",
    "0.9"
   ]
  },
  {
   "cell_type": "code",
   "execution_count": 64,
   "id": "adjustable-truth",
   "metadata": {},
   "outputs": [
    {
     "name": "stdout",
     "output_type": "stream",
     "text": [
      "0.0\n",
      "0.1\n",
      "0.2\n",
      "0.3\n",
      "0.4\n",
      "0.5\n",
      "0.6\n",
      "0.7\n",
      "0.8\n",
      "0.9\n"
     ]
    }
   ],
   "source": [
    "for num in range(10):\n",
    "    print(num/10)"
   ]
  },
  {
   "cell_type": "markdown",
   "id": "touched-adams",
   "metadata": {},
   "source": [
    "## 166\n",
    "구구단 3단을 출력하라."
   ]
  },
  {
   "cell_type": "code",
   "execution_count": 67,
   "id": "expired-quebec",
   "metadata": {},
   "outputs": [
    {
     "name": "stdout",
     "output_type": "stream",
     "text": [
      "3 x 1 = 3\n",
      "3 x 2 = 6\n",
      "3 x 3 = 9\n",
      "3 x 4 = 12\n",
      "3 x 5 = 15\n",
      "3 x 6 = 18\n",
      "3 x 7 = 21\n",
      "3 x 8 = 24\n",
      "3 x 9 = 27\n"
     ]
    }
   ],
   "source": [
    "for i in range(1,10):\n",
    "    print(3,\"x\",i,\"=\",3*i)"
   ]
  },
  {
   "cell_type": "markdown",
   "id": "american-parade",
   "metadata": {},
   "source": [
    "## 167\n",
    "구구단 3단을 출력하라. 단 홀수 번째만 출력한다."
   ]
  },
  {
   "cell_type": "code",
   "execution_count": null,
   "id": "productive-house",
   "metadata": {},
   "outputs": [],
   "source": [
    "3x1 = 3\n",
    "3x3 = 9\n",
    "3x5 = 15\n",
    "3x7 = 21\n",
    "3x9 = 27"
   ]
  },
  {
   "cell_type": "code",
   "execution_count": 71,
   "id": "banner-cycling",
   "metadata": {},
   "outputs": [
    {
     "name": "stdout",
     "output_type": "stream",
     "text": [
      "3 x 1 = 3\n",
      "3 x 3 = 9\n",
      "3 x 5 = 15\n",
      "3 x 7 = 21\n",
      "3 x 9 = 27\n"
     ]
    }
   ],
   "source": [
    "for i in range(1,10,2):\n",
    "    print(3,\"x\",i,\"=\",3*i)"
   ]
  },
  {
   "cell_type": "code",
   "execution_count": 72,
   "id": "available-vertex",
   "metadata": {},
   "outputs": [
    {
     "name": "stdout",
     "output_type": "stream",
     "text": [
      "3 x 1 = 3\n",
      "3 x 3 = 9\n",
      "3 x 5 = 15\n",
      "3 x 7 = 21\n",
      "3 x 9 = 27\n"
     ]
    }
   ],
   "source": [
    "num = 3\n",
    "for i in range(1,10,2):\n",
    "    print(num,\"x\",i,\"=\",num*i)"
   ]
  },
  {
   "cell_type": "markdown",
   "id": "gross-regression",
   "metadata": {},
   "source": [
    "## 168\n",
    "1~10까지의 숫자에 대해 모두 더한 값을 출력하는 프로그램을 for 문을 사용하여 작성하라."
   ]
  },
  {
   "cell_type": "markdown",
   "id": "portuguese-signature",
   "metadata": {},
   "source": [
    "합 : 55"
   ]
  },
  {
   "cell_type": "code",
   "execution_count": 80,
   "id": "after-jersey",
   "metadata": {},
   "outputs": [
    {
     "name": "stdout",
     "output_type": "stream",
     "text": [
      "합:  55\n"
     ]
    }
   ],
   "source": [
    "hab = 0\n",
    "for i in range(1,11):\n",
    "    hab+= i\n",
    "print(\"합: \", hab)"
   ]
  },
  {
   "cell_type": "markdown",
   "id": "eligible-citizenship",
   "metadata": {},
   "source": [
    "hab += i 는 아래 코드를 축약해서 작성한 것이다.\n",
    "\n",
    "hab = hab + i"
   ]
  },
  {
   "cell_type": "markdown",
   "id": "organic-deployment",
   "metadata": {},
   "source": [
    "## 169\n",
    "1~10까지의 숫자 중 모든 홀수의 합을 출력하는 프로그램을 for 문을 사용하여 작성하라.\n",
    "\n",
    "합: 25"
   ]
  },
  {
   "cell_type": "code",
   "execution_count": 81,
   "id": "connected-observation",
   "metadata": {},
   "outputs": [
    {
     "name": "stdout",
     "output_type": "stream",
     "text": [
      "합:  25\n"
     ]
    }
   ],
   "source": [
    "hab1=0\n",
    "for i in range(1,10,2):\n",
    "    hab1+=i\n",
    "print(\"합: \", hab1)\n"
   ]
  },
  {
   "cell_type": "markdown",
   "id": "dependent-allergy",
   "metadata": {},
   "source": [
    "##  170\n",
    "1~10까지의 숫자를 모두 곱한 값을 출력하는 프로그램을 for 문을 사용하여 작성하라."
   ]
  },
  {
   "cell_type": "code",
   "execution_count": 85,
   "id": "capital-infection",
   "metadata": {},
   "outputs": [
    {
     "name": "stdout",
     "output_type": "stream",
     "text": [
      "3628800\n"
     ]
    }
   ],
   "source": [
    "result=1\n",
    "for i in range(1,11):\n",
    "    result*=i\n",
    "print(result)"
   ]
  },
  {
   "cell_type": "markdown",
   "id": "apparent-scotland",
   "metadata": {},
   "source": [
    "## 171\n",
    "아래와 같이 리스트의 데이터를 출력하라. 단, for문과 range문을 사용하라."
   ]
  },
  {
   "cell_type": "code",
   "execution_count": 86,
   "id": "based-report",
   "metadata": {},
   "outputs": [],
   "source": [
    "price_list = [32100, 32150, 32000, 32500]"
   ]
  },
  {
   "cell_type": "markdown",
   "id": "extraordinary-friendly",
   "metadata": {},
   "source": [
    "32100  \n",
    "32150  \n",
    "32000  \n",
    "32500"
   ]
  },
  {
   "cell_type": "code",
   "execution_count": 91,
   "id": "painful-mills",
   "metadata": {},
   "outputs": [
    {
     "name": "stdout",
     "output_type": "stream",
     "text": [
      "32100\n",
      "32150\n",
      "32000\n",
      "32500\n"
     ]
    }
   ],
   "source": [
    "for i in range(len(price_list)):\n",
    "    print(price_list[i])"
   ]
  },
  {
   "cell_type": "markdown",
   "id": "controlled-passion",
   "metadata": {},
   "source": [
    "## 172\n",
    "아래와 같이 리스트의 데이터를 출력하라. 단, for문과 range문을 사용하라."
   ]
  },
  {
   "cell_type": "code",
   "execution_count": 92,
   "id": "vietnamese-baseball",
   "metadata": {},
   "outputs": [],
   "source": [
    "price_list = [32100, 32150, 32000, 32500]"
   ]
  },
  {
   "cell_type": "markdown",
   "id": "aware-relation",
   "metadata": {},
   "source": [
    "3 32100  \n",
    "2 32150  \n",
    "1 32000  \n",
    "0 32500"
   ]
  },
  {
   "cell_type": "code",
   "execution_count": 100,
   "id": "english-contents",
   "metadata": {},
   "outputs": [
    {
     "name": "stdout",
     "output_type": "stream",
     "text": [
      "3 32100\n",
      "2 32150\n",
      "1 32000\n",
      "0 32500\n"
     ]
    }
   ],
   "source": [
    "for i in range(len(price_list)):\n",
    "    print((len(price_list)-1)-i,price_list[i])"
   ]
  },
  {
   "cell_type": "markdown",
   "id": "timely-truck",
   "metadata": {},
   "source": [
    "## 174\n",
    "아래와 같이 리스트의 데이터를 출력하라. 단, for문과 range문을 사용하라."
   ]
  },
  {
   "cell_type": "code",
   "execution_count": 98,
   "id": "floral-correspondence",
   "metadata": {},
   "outputs": [],
   "source": [
    "price_list = [32100, 32150, 32000, 32500]"
   ]
  },
  {
   "cell_type": "markdown",
   "id": "close-newport",
   "metadata": {},
   "source": [
    "100 32150  \n",
    "110 32000  \n",
    "120 32500"
   ]
  },
  {
   "cell_type": "code",
   "execution_count": 105,
   "id": "equal-investigation",
   "metadata": {},
   "outputs": [
    {
     "name": "stdout",
     "output_type": "stream",
     "text": [
      "100 32150\n",
      "200 32000\n",
      "300 32500\n"
     ]
    }
   ],
   "source": [
    "for i in range(1,4):\n",
    "    print((90+10)*i,price_list[i])"
   ]
  },
  {
   "cell_type": "markdown",
   "id": "accurate-verse",
   "metadata": {},
   "source": [
    "## 175\n",
    "\n",
    "my_list를 아래와 같이 출력하라."
   ]
  },
  {
   "cell_type": "code",
   "execution_count": 106,
   "id": "turkish-latest",
   "metadata": {},
   "outputs": [],
   "source": [
    "my_list = [\"가\", \"나\", \"다\", \"라\"]"
   ]
  },
  {
   "cell_type": "markdown",
   "id": "copyrighted-knife",
   "metadata": {},
   "source": [
    "가 나  \n",
    "나 다  \n",
    "다 라  "
   ]
  },
  {
   "cell_type": "code",
   "execution_count": 108,
   "id": "english-blackberry",
   "metadata": {},
   "outputs": [
    {
     "name": "stdout",
     "output_type": "stream",
     "text": [
      "가 나\n",
      "나 다\n",
      "다 라\n"
     ]
    }
   ],
   "source": [
    "print(my_list[0],my_list[1])\n",
    "print(my_list[1],my_list[2])\n",
    "print(my_list[2],my_list[3])"
   ]
  },
  {
   "cell_type": "code",
   "execution_count": 111,
   "id": "upper-profile",
   "metadata": {},
   "outputs": [
    {
     "name": "stdout",
     "output_type": "stream",
     "text": [
      "가\n",
      "나\n",
      "다\n"
     ]
    }
   ],
   "source": [
    "for i in [0,1,2]:\n",
    "    print(my_list[i])"
   ]
  },
  {
   "cell_type": "code",
   "execution_count": 110,
   "id": "hazardous-inflation",
   "metadata": {},
   "outputs": [
    {
     "name": "stdout",
     "output_type": "stream",
     "text": [
      "가 나\n",
      "나 다\n",
      "다 라\n"
     ]
    }
   ],
   "source": [
    "for i in [0,1,2]:\n",
    "    print(my_list[i], my_list[i+1])"
   ]
  },
  {
   "cell_type": "code",
   "execution_count": 113,
   "id": "swiss-forge",
   "metadata": {},
   "outputs": [
    {
     "name": "stdout",
     "output_type": "stream",
     "text": [
      "가 나\n",
      "나 다\n",
      "다 라\n"
     ]
    }
   ],
   "source": [
    "for i in range(len(my_list)-1):\n",
    "    print(my_list[i], my_list[i+1])"
   ]
  },
  {
   "cell_type": "code",
   "execution_count": 117,
   "id": "alone-street",
   "metadata": {},
   "outputs": [
    {
     "name": "stdout",
     "output_type": "stream",
     "text": [
      "가 나\n",
      "나 다\n",
      "다 라\n"
     ]
    }
   ],
   "source": [
    "for i in range(1, len(my_list)):\n",
    "    print(my_list[i-1], my_list[i])"
   ]
  },
  {
   "cell_type": "markdown",
   "id": "infectious-heath",
   "metadata": {},
   "source": [
    "## 176\n",
    "리스트를 아래와 같이 출력하라."
   ]
  },
  {
   "cell_type": "code",
   "execution_count": 118,
   "id": "related-conducting",
   "metadata": {},
   "outputs": [],
   "source": [
    "my_list = [\"가\", \"나\", \"다\", \"라\", \"마\"]"
   ]
  },
  {
   "cell_type": "markdown",
   "id": "creative-shower",
   "metadata": {},
   "source": [
    "가 나 다  \n",
    "나 다 라  \n",
    "다 라 마  "
   ]
  },
  {
   "cell_type": "code",
   "execution_count": 121,
   "id": "isolated-borough",
   "metadata": {},
   "outputs": [
    {
     "name": "stdout",
     "output_type": "stream",
     "text": [
      "가 나 다\n",
      "나 다 라\n",
      "다 라 마\n"
     ]
    }
   ],
   "source": [
    "for i in range(len(my_list)-2):\n",
    "    print(my_list[i],my_list[i+1],my_list[i+2])"
   ]
  },
  {
   "cell_type": "code",
   "execution_count": 123,
   "id": "worthy-water",
   "metadata": {},
   "outputs": [
    {
     "name": "stdout",
     "output_type": "stream",
     "text": [
      "가 나 다\n",
      "나 다 라\n",
      "다 라 마\n"
     ]
    }
   ],
   "source": [
    "for i in range(1, len(my_list)-1):\n",
    "    print(my_list[i-1],my_list[i],my_list[i+1])"
   ]
  },
  {
   "cell_type": "code",
   "execution_count": 124,
   "id": "improving-distinction",
   "metadata": {},
   "outputs": [
    {
     "name": "stdout",
     "output_type": "stream",
     "text": [
      "가 나 다\n",
      "나 다 라\n",
      "다 라 마\n"
     ]
    }
   ],
   "source": [
    "for i in range(2, len(my_list)):\n",
    "    print(my_list[i-2],my_list[i-1],my_list[i])"
   ]
  },
  {
   "cell_type": "markdown",
   "id": "maritime-customs",
   "metadata": {},
   "source": [
    "## 177\n",
    "반복문과 range 함수를 사용해서 my_list를 아래와 같이 출력하라."
   ]
  },
  {
   "cell_type": "code",
   "execution_count": 125,
   "id": "awful-parks",
   "metadata": {},
   "outputs": [],
   "source": [
    "my_list = [\"가\", \"나\", \"다\", \"라\"]"
   ]
  },
  {
   "cell_type": "markdown",
   "id": "illegal-ensemble",
   "metadata": {},
   "source": [
    "라 다  \n",
    "다 나  \n",
    "나 가"
   ]
  },
  {
   "cell_type": "code",
   "execution_count": 126,
   "id": "irish-cradle",
   "metadata": {},
   "outputs": [],
   "source": [
    "my_list = my_list[::-1]"
   ]
  },
  {
   "cell_type": "code",
   "execution_count": 127,
   "id": "direct-vietnam",
   "metadata": {},
   "outputs": [
    {
     "data": {
      "text/plain": [
       "['라', '다', '나', '가']"
      ]
     },
     "execution_count": 127,
     "metadata": {},
     "output_type": "execute_result"
    }
   ],
   "source": [
    "my_list"
   ]
  },
  {
   "cell_type": "code",
   "execution_count": 128,
   "id": "extensive-bidding",
   "metadata": {},
   "outputs": [
    {
     "name": "stdout",
     "output_type": "stream",
     "text": [
      "라 다\n",
      "다 나\n",
      "나 가\n"
     ]
    }
   ],
   "source": [
    "for i in range(len(my_list)-1):\n",
    "    print(my_list[i], my_list[i+1])"
   ]
  },
  {
   "cell_type": "code",
   "execution_count": 129,
   "id": "civic-ivory",
   "metadata": {},
   "outputs": [],
   "source": [
    "my_list = [\"가\", \"나\", \"다\", \"라\"]"
   ]
  },
  {
   "cell_type": "code",
   "execution_count": 130,
   "id": "great-tackle",
   "metadata": {},
   "outputs": [
    {
     "name": "stdout",
     "output_type": "stream",
     "text": [
      "라 다\n",
      "다 나\n",
      "나 가\n"
     ]
    }
   ],
   "source": [
    "print(my_list[3], my_list[2])\n",
    "print(my_list[2], my_list[1])\n",
    "print(my_list[1], my_list[0])"
   ]
  },
  {
   "cell_type": "code",
   "execution_count": 131,
   "id": "qualified-permit",
   "metadata": {},
   "outputs": [
    {
     "name": "stdout",
     "output_type": "stream",
     "text": [
      "라 다\n",
      "다 나\n",
      "나 가\n"
     ]
    }
   ],
   "source": [
    "for i in [3,2,1]:\n",
    "    print(my_list[i], my_list[i-1])"
   ]
  },
  {
   "cell_type": "code",
   "execution_count": 133,
   "id": "million-tokyo",
   "metadata": {},
   "outputs": [
    {
     "name": "stdout",
     "output_type": "stream",
     "text": [
      "라 다\n",
      "다 나\n",
      "나 가\n"
     ]
    }
   ],
   "source": [
    "for i in [2,1,0]:\n",
    "    print(my_list[i+1], my_list[i])"
   ]
  },
  {
   "cell_type": "code",
   "execution_count": 134,
   "id": "arbitrary-alexandria",
   "metadata": {},
   "outputs": [
    {
     "name": "stdout",
     "output_type": "stream",
     "text": [
      "라 다\n",
      "다 나\n",
      "나 가\n"
     ]
    }
   ],
   "source": [
    "for i in [0,1,2]:\n",
    "    print(my_list[3-i], my_list[2-i])"
   ]
  },
  {
   "cell_type": "code",
   "execution_count": 137,
   "id": "useful-continuity",
   "metadata": {},
   "outputs": [
    {
     "name": "stdout",
     "output_type": "stream",
     "text": [
      "라 다\n",
      "다 나\n",
      "나 가\n"
     ]
    }
   ],
   "source": [
    "for i in range(len(my_list)-1,0,-1):\n",
    "    print(my_list[i], my_list[i-1])"
   ]
  },
  {
   "cell_type": "code",
   "execution_count": 139,
   "id": "progressive-terror",
   "metadata": {},
   "outputs": [
    {
     "name": "stdout",
     "output_type": "stream",
     "text": [
      "라 다\n",
      "다 나\n",
      "나 가\n"
     ]
    }
   ],
   "source": [
    "for i in range(len(my_list)-1):\n",
    "    print(my_list[len(my_list)-1-i], my_list[len(my_list)-2-i])"
   ]
  },
  {
   "cell_type": "markdown",
   "id": "considerable-north",
   "metadata": {},
   "source": [
    "## 178\n",
    "리스트에는 네 개의 정수가 저장되어 있다. 각각의 데이터에 대해서 자신과 우측값과의 차분값을 화면에 출력하라."
   ]
  },
  {
   "cell_type": "code",
   "execution_count": 140,
   "id": "interpreted-notice",
   "metadata": {},
   "outputs": [],
   "source": [
    "my_list = [100, 200, 400, 800]"
   ]
  },
  {
   "cell_type": "markdown",
   "id": "desperate-cheat",
   "metadata": {},
   "source": [
    "예를들어 100을 기준으로 우측에 위치한 200과의 차분 값를 화면에 출력하고, 200을 기준으로 우측에 위치한 400과의 차분값을 화면에 출력한다. 이어서 400을 기준으로 우측에 위치한 800과의 차분값을 화면에 출력한다."
   ]
  },
  {
   "cell_type": "markdown",
   "id": "skilled-hometown",
   "metadata": {},
   "source": [
    "100  \n",
    "200  \n",
    "400"
   ]
  },
  {
   "cell_type": "code",
   "execution_count": 142,
   "id": "suspected-denmark",
   "metadata": {},
   "outputs": [
    {
     "name": "stdout",
     "output_type": "stream",
     "text": [
      "100\n",
      "200\n",
      "400\n"
     ]
    }
   ],
   "source": [
    "print(abs(my_list[1]-my_list[0]))\n",
    "print(abs(my_list[2]-my_list[1]))\n",
    "print(abs(my_list[3]-my_list[2]))"
   ]
  },
  {
   "cell_type": "code",
   "execution_count": 143,
   "id": "massive-process",
   "metadata": {},
   "outputs": [
    {
     "name": "stdout",
     "output_type": "stream",
     "text": [
      "100\n",
      "200\n",
      "400\n"
     ]
    }
   ],
   "source": [
    "for i in [0,1,2]:\n",
    "    print(abs(my_list[i+1]- my_list[i]))"
   ]
  },
  {
   "cell_type": "code",
   "execution_count": 145,
   "id": "supported-carol",
   "metadata": {},
   "outputs": [
    {
     "name": "stdout",
     "output_type": "stream",
     "text": [
      "100\n",
      "200\n",
      "400\n"
     ]
    }
   ],
   "source": [
    "for i in range(len(my_list)-1):\n",
    "    print(abs(my_list[i+1]-my_list[i]))"
   ]
  },
  {
   "cell_type": "markdown",
   "id": "married-complex",
   "metadata": {},
   "source": [
    "## 179\n",
    "리스트에는 6일 간의 종가 데이터가 저장되어 있다. 종가 데이터의 3일 이동 평균을 계산하고 이를 화면에 출력하라."
   ]
  },
  {
   "cell_type": "code",
   "execution_count": 147,
   "id": "operating-environment",
   "metadata": {},
   "outputs": [],
   "source": [
    "my_list = [100, 200, 400, 800, 1000, 1300]"
   ]
  },
  {
   "cell_type": "markdown",
   "id": "moderate-senator",
   "metadata": {},
   "source": [
    "첫 번째 줄에는 100, 200, 400의 평균값이 출력된다. 두 번째 줄에는 200, 400, 800의 평균값이 출력된다. 같은 방식으로 나머지 데이터의 평균을 출력한다.\n",
    "\n",
    "233.33333333333334  \n",
    "466.6666666666667  \n",
    "733.3333333333334  \n",
    "1033.3333333333333  "
   ]
  },
  {
   "cell_type": "code",
   "execution_count": 148,
   "id": "tender-milwaukee",
   "metadata": {},
   "outputs": [
    {
     "name": "stdout",
     "output_type": "stream",
     "text": [
      "233.33333333333334\n",
      "466.6666666666667\n",
      "733.3333333333334\n",
      "1033.3333333333333\n"
     ]
    }
   ],
   "source": [
    "print(abs(my_list[0]+my_list[1]+my_list[2])/3)\n",
    "print(abs(my_list[1]+my_list[2]+my_list[3])/3)\n",
    "print(abs(my_list[2]+my_list[3]+my_list[4])/3)\n",
    "print(abs(my_list[3]+my_list[4]+my_list[5])/3)"
   ]
  },
  {
   "cell_type": "code",
   "execution_count": 149,
   "id": "promising-private",
   "metadata": {},
   "outputs": [
    {
     "name": "stdout",
     "output_type": "stream",
     "text": [
      "233.33333333333334\n",
      "466.6666666666667\n",
      "733.3333333333334\n",
      "1033.3333333333333\n"
     ]
    }
   ],
   "source": [
    "for i in [1,2,3,4]:\n",
    "    print(abs(my_list[i-1]+my_list[i]+my_list[i+1])/3)"
   ]
  },
  {
   "cell_type": "code",
   "execution_count": 150,
   "id": "pleasant-nicholas",
   "metadata": {},
   "outputs": [
    {
     "name": "stdout",
     "output_type": "stream",
     "text": [
      "233.33333333333334\n",
      "466.6666666666667\n",
      "733.3333333333334\n",
      "1033.3333333333333\n"
     ]
    }
   ],
   "source": [
    "for i in range(1, len(my_list)-1):\n",
    "    print(abs(my_list[i-1]+my_list[i]+my_list[i+1])/3)"
   ]
  },
  {
   "cell_type": "markdown",
   "id": "supreme-semester",
   "metadata": {},
   "source": [
    "## 180\n",
    "리스트에 5일간의 저가, 고가 정보가 저장돼 있다. 고가와 저가의 차를 변동폭이라고 정의할 때, low, high 두 개의 리스트를 사용해서 5일간의 변동폭을 volatility 리스트에 저장하라."
   ]
  },
  {
   "cell_type": "code",
   "execution_count": 152,
   "id": "informational-double",
   "metadata": {},
   "outputs": [],
   "source": [
    "low_prices  = [100, 200, 400, 800, 1000]  \n",
    "high_prices = [150, 300, 430, 880, 1000]  "
   ]
  },
  {
   "cell_type": "code",
   "execution_count": 155,
   "id": "invisible-massage",
   "metadata": {},
   "outputs": [],
   "source": [
    "volatility = []\n",
    "\n",
    "for i in range(len(low_prices)):\n",
    "    volatility.append(high_prices[i]-low_prices[i])"
   ]
  },
  {
   "cell_type": "markdown",
   "id": "thermal-shield",
   "metadata": {},
   "source": [
    "## 181\n",
    "아래 표에서 하나의 행을 하나의 리스트로, 총 3개의 리스트를 갖는 이차원 리스트 apart를 정의하라.\n",
    "\n",
    "101호\t102호  \n",
    "201호\t202호  \n",
    "301호\t302호  "
   ]
  },
  {
   "cell_type": "code",
   "execution_count": 157,
   "id": "limiting-final",
   "metadata": {},
   "outputs": [],
   "source": [
    "apart = [[\"101호\",\"102호\"],[\"201호\",\"202호\"],[\"301호\",\"302호\"]]"
   ]
  },
  {
   "cell_type": "markdown",
   "id": "owned-spank",
   "metadata": {},
   "source": [
    "## 182\n",
    "아래 표에서 하나의 열을 하나의 리스트로, 총 2개의 리스트를 갖는 이차원 리스트 stock을 정의하라.\n",
    "\n",
    "시가|\t종가\n",
    "---|---\n",
    "100|\t80\n",
    "200|\t210\n",
    "300|\t330"
   ]
  },
  {
   "cell_type": "code",
   "execution_count": 159,
   "id": "romantic-college",
   "metadata": {},
   "outputs": [],
   "source": [
    "stock = [[\"시가\",100,200,300],[\"종가\",80,210,330]]"
   ]
  },
  {
   "cell_type": "markdown",
   "id": "higher-adobe",
   "metadata": {},
   "source": [
    "## 183\n",
    "아래 표를 stock 이름의 딕셔너리로 표현하라.시가를 key로 저장하고, 나머지 같은 열의 데이터를 리스트로 저장해서 value로 저장한다. 종가 역시 key로 저장하고 나머지 같은 열의 데이터를 리스트로 저장해서 value로 저장한다.\n",
    "\n",
    "시가\t|종가\n",
    "---|---\n",
    "100\t|80\n",
    "200\t|210\n",
    "300\t|330"
   ]
  },
  {
   "cell_type": "code",
   "execution_count": 160,
   "id": "violent-reggae",
   "metadata": {},
   "outputs": [],
   "source": [
    "stock = {\"시가\":[100,200,300],\"종가\":[80,210,330]}"
   ]
  },
  {
   "cell_type": "markdown",
   "id": "alpha-cable",
   "metadata": {},
   "source": [
    "## 184\n",
    "아래 표를 stock 이라는 이름의 딕셔너리로 표현하라. 날짜를 key로 저장하고, 나머지 같은 행의 데이터를 리스트로 저장해서 value로 저장한다. 첫 열이 날짜이다.\n",
    "\n",
    "10/10\t|80\t|110\t|70\t|90\n",
    "--|--|--|--|--\n",
    "10/11\t|210\t|230\t|190\t|200"
   ]
  },
  {
   "cell_type": "code",
   "execution_count": 161,
   "id": "authentic-things",
   "metadata": {},
   "outputs": [],
   "source": [
    "stock = {\"10/10\":[80,110,70,90],\"10/11\":[210,230,190,200]}"
   ]
  },
  {
   "cell_type": "markdown",
   "id": "coordinate-antenna",
   "metadata": {},
   "source": [
    "## 185\n",
    "리스트에 저장된 데이터를 아래와 같이 출력하라."
   ]
  },
  {
   "cell_type": "code",
   "execution_count": 163,
   "id": "magnetic-authentication",
   "metadata": {},
   "outputs": [],
   "source": [
    "apart = [ [101, 102], [201, 202], [301, 302] ]"
   ]
  },
  {
   "cell_type": "markdown",
   "id": "composite-making",
   "metadata": {},
   "source": [
    "101 호  \n",
    "102 호  \n",
    "201 호  \n",
    "202 호  \n",
    "301 호  \n",
    "302 호  "
   ]
  },
  {
   "cell_type": "code",
   "execution_count": 164,
   "id": "educational-dallas",
   "metadata": {},
   "outputs": [
    {
     "name": "stdout",
     "output_type": "stream",
     "text": [
      "101 호\n",
      "102 호\n",
      "201 호\n",
      "202 호\n",
      "301 호\n",
      "302 호\n"
     ]
    }
   ],
   "source": [
    "for row in apart:\n",
    "    for col in row:\n",
    "        print(col,\"호\")"
   ]
  },
  {
   "cell_type": "markdown",
   "id": "opponent-aquarium",
   "metadata": {},
   "source": [
    "## 186\n",
    "리스트에 저장된 데이터를 아래와 같이 출력하라."
   ]
  },
  {
   "cell_type": "code",
   "execution_count": 165,
   "id": "wired-specialist",
   "metadata": {},
   "outputs": [],
   "source": [
    "apart = [ [101, 102], [201, 202], [301, 302] ]"
   ]
  },
  {
   "cell_type": "markdown",
   "id": "special-overhead",
   "metadata": {},
   "source": [
    "301 호  \n",
    "302 호  \n",
    "201 호  \n",
    "202 호  \n",
    "101 호  \n",
    "102 호  "
   ]
  },
  {
   "cell_type": "code",
   "execution_count": 168,
   "id": "empirical-joshua",
   "metadata": {},
   "outputs": [
    {
     "name": "stdout",
     "output_type": "stream",
     "text": [
      "301 호\n",
      "302 호\n",
      "201 호\n",
      "202 호\n",
      "101 호\n",
      "102 호\n"
     ]
    }
   ],
   "source": [
    "for row in apart[::-1]:\n",
    "    for col in row:\n",
    "        print(col,\"호\")"
   ]
  },
  {
   "cell_type": "markdown",
   "id": "smart-hepatitis",
   "metadata": {},
   "source": [
    "## 187\n",
    "리스트에 저장된 데이터를 아래와 같이 출력하라."
   ]
  },
  {
   "cell_type": "code",
   "execution_count": 169,
   "id": "recognized-penalty",
   "metadata": {},
   "outputs": [],
   "source": [
    "apart = [ [101, 102], [201, 202], [301, 302] ]"
   ]
  },
  {
   "cell_type": "markdown",
   "id": "musical-absence",
   "metadata": {},
   "source": [
    "302 호  \n",
    "301 호  \n",
    "202 호  \n",
    "201 호  \n",
    "102 호  \n",
    "101 호 "
   ]
  },
  {
   "cell_type": "code",
   "execution_count": 172,
   "id": "composite-health",
   "metadata": {},
   "outputs": [
    {
     "name": "stdout",
     "output_type": "stream",
     "text": [
      "302 호\n",
      "301 호\n",
      "202 호\n",
      "201 호\n",
      "102 호\n",
      "101 호\n"
     ]
    }
   ],
   "source": [
    "for row in apart[::-1]:\n",
    "    for col in row[::-1]:\n",
    "        print(col,\"호\")"
   ]
  },
  {
   "cell_type": "markdown",
   "id": "hybrid-dimension",
   "metadata": {},
   "source": [
    "## 188\n",
    "리스트에 저장된 데이터를 아래와 같이 출력하라."
   ]
  },
  {
   "cell_type": "code",
   "execution_count": 173,
   "id": "blessed-classroom",
   "metadata": {},
   "outputs": [],
   "source": [
    "apart = [ [101, 102], [201, 202], [301, 302] ]"
   ]
  },
  {
   "cell_type": "code",
   "execution_count": null,
   "id": "anonymous-photography",
   "metadata": {},
   "outputs": [],
   "source": [
    "101 호   \n",
    "-----  \n",
    "102 호   \n",
    "-----  \n",
    "201 호  \n",
    "-----  \n",
    "202 호   \n",
    "-----   \n",
    "301 호   \n",
    "-----  \n",
    "302 호   \n",
    "-----   "
   ]
  },
  {
   "cell_type": "code",
   "execution_count": 176,
   "id": "guided-possibility",
   "metadata": {},
   "outputs": [
    {
     "name": "stdout",
     "output_type": "stream",
     "text": [
      "101 호\n",
      "-----\n",
      "102 호\n",
      "-----\n",
      "201 호\n",
      "-----\n",
      "202 호\n",
      "-----\n",
      "301 호\n",
      "-----\n",
      "302 호\n",
      "-----\n"
     ]
    }
   ],
   "source": [
    "for row in apart:\n",
    "    for col in row:\n",
    "        print(col,\"호\")\n",
    "        print(\"-----\")"
   ]
  },
  {
   "cell_type": "markdown",
   "id": "defined-blast",
   "metadata": {},
   "source": [
    "## 189\n",
    "리스트에 저장된 데이터를 아래와 같이 출력하라."
   ]
  },
  {
   "cell_type": "code",
   "execution_count": 177,
   "id": "framed-services",
   "metadata": {},
   "outputs": [],
   "source": [
    "apart = [ [101, 102], [201, 202], [301, 302] ]"
   ]
  },
  {
   "cell_type": "code",
   "execution_count": null,
   "id": "authentic-opinion",
   "metadata": {},
   "outputs": [],
   "source": [
    "101 호\n",
    "102 호\n",
    "-----\n",
    "201 호\n",
    "202 호\n",
    "-----\n",
    "301 호\n",
    "302 호\n",
    "-----"
   ]
  },
  {
   "cell_type": "code",
   "execution_count": 179,
   "id": "accepting-senegal",
   "metadata": {},
   "outputs": [
    {
     "name": "stdout",
     "output_type": "stream",
     "text": [
      "101 호\n",
      "102 호\n",
      "-----\n",
      "201 호\n",
      "202 호\n",
      "-----\n",
      "301 호\n",
      "302 호\n",
      "-----\n"
     ]
    }
   ],
   "source": [
    "for row in apart:\n",
    "    for col in row:\n",
    "        print(col,\"호\")\n",
    "    print(\"-----\")"
   ]
  },
  {
   "cell_type": "markdown",
   "id": "democratic-board",
   "metadata": {},
   "source": [
    "## 190\n",
    "리스트에 저장된 데이터를 아래와 같이 출력하라."
   ]
  },
  {
   "cell_type": "code",
   "execution_count": 180,
   "id": "fifteen-wireless",
   "metadata": {},
   "outputs": [],
   "source": [
    "apart = [ [101, 102], [201, 202], [301, 302] ]"
   ]
  },
  {
   "cell_type": "code",
   "execution_count": null,
   "id": "retired-tiger",
   "metadata": {},
   "outputs": [],
   "source": [
    "101 호\n",
    "102 호\n",
    "201 호\n",
    "202 호\n",
    "301 호\n",
    "302 호\n",
    "-----"
   ]
  },
  {
   "cell_type": "code",
   "execution_count": 182,
   "id": "owned-printing",
   "metadata": {},
   "outputs": [
    {
     "name": "stdout",
     "output_type": "stream",
     "text": [
      "101 호\n",
      "102 호\n",
      "201 호\n",
      "202 호\n",
      "301 호\n",
      "302 호\n",
      "-----\n"
     ]
    }
   ],
   "source": [
    "for row in apart:\n",
    "    for col in row:\n",
    "        print(col,\"호\")\n",
    "print(\"-\"*5)"
   ]
  },
  {
   "cell_type": "markdown",
   "id": "valuable-times",
   "metadata": {},
   "source": [
    "## 191\n",
    "data에는 매수한 종목들의 OHLC (open/high/low/close) 가격 정보가 바인딩 되어있다."
   ]
  },
  {
   "cell_type": "code",
   "execution_count": 183,
   "id": "classified-evanescence",
   "metadata": {},
   "outputs": [],
   "source": [
    "data = [\n",
    "    [ 2000,  3050,  2050,  1980],\n",
    "    [ 7500,  2050,  2050,  1980],\n",
    "    [15450, 15050, 15550, 14900]\n",
    "]"
   ]
  },
  {
   "cell_type": "markdown",
   "id": "fitted-messenger",
   "metadata": {},
   "source": [
    "수수료를 0.014 %로 가정할 때, 각 가격에 수수료를 포함한 가격을 한라인에 하나씩 출력하라."
   ]
  },
  {
   "cell_type": "markdown",
   "id": "still-effectiveness",
   "metadata": {},
   "source": [
    "2000.28  \n",
    "3050.427  \n",
    "2050.2870000000003  \n",
    "...  "
   ]
  },
  {
   "cell_type": "code",
   "execution_count": 193,
   "id": "approximate-transmission",
   "metadata": {},
   "outputs": [
    {
     "name": "stdout",
     "output_type": "stream",
     "text": [
      "2000.28\n",
      "3050.427\n",
      "2050.2870000000003\n",
      "1980.2772\n",
      "7501.05\n",
      "2050.2870000000003\n",
      "2050.2870000000003\n",
      "1980.2772\n",
      "15452.163\n",
      "15052.107\n",
      "15552.177\n",
      "14902.086000000001\n"
     ]
    }
   ],
   "source": [
    "for line in data:\n",
    "    for column in line:\n",
    "        print(column*1.00014)"
   ]
  },
  {
   "cell_type": "code",
   "execution_count": 195,
   "id": "strong-mountain",
   "metadata": {},
   "outputs": [
    {
     "name": "stdout",
     "output_type": "stream",
     "text": [
      "2000.28\n",
      "3050.427\n",
      "2050.287\n",
      "1980.2772\n",
      "7501.05\n",
      "2050.287\n",
      "2050.287\n",
      "1980.2772\n",
      "15452.163\n",
      "15052.107\n",
      "15552.177\n",
      "14902.086\n"
     ]
    }
   ],
   "source": [
    "for line in data:\n",
    "    for column in line:\n",
    "        print(column+(column*0.00014))"
   ]
  },
  {
   "cell_type": "markdown",
   "id": "periodic-trainer",
   "metadata": {},
   "source": [
    "## 192\n",
    "191번의 출력 결과에 행단위로 \"----\" 구분자를 추가하라."
   ]
  },
  {
   "cell_type": "code",
   "execution_count": null,
   "id": "promising-fleet",
   "metadata": {},
   "outputs": [],
   "source": [
    "2000.28\n",
    "3050.427\n",
    "2050.2870000000003\n",
    "1980.2772\n",
    "----\n",
    "7501.05\n",
    "2050.2870000000003\n",
    "2050.2870000000003\n",
    "1980.2772\n",
    "----\n",
    "15452.163\n",
    "15052.107\n",
    "15552.177\n",
    "14902.086000000001\n",
    "----"
   ]
  },
  {
   "cell_type": "code",
   "execution_count": 196,
   "id": "specified-foster",
   "metadata": {},
   "outputs": [
    {
     "name": "stdout",
     "output_type": "stream",
     "text": [
      "2000.28\n",
      "3050.427\n",
      "2050.2870000000003\n",
      "1980.2772\n",
      "----\n",
      "7501.05\n",
      "2050.2870000000003\n",
      "2050.2870000000003\n",
      "1980.2772\n",
      "----\n",
      "15452.163\n",
      "15052.107\n",
      "15552.177\n",
      "14902.086000000001\n",
      "----\n"
     ]
    }
   ],
   "source": [
    "for line in data:\n",
    "    for column in line:\n",
    "        print(column*1.00014)\n",
    "    print(\"-\"*4)"
   ]
  },
  {
   "cell_type": "markdown",
   "id": "hydraulic-mount",
   "metadata": {},
   "source": [
    "## 193\n",
    "192 번 문제의 결괏값을 result 이름의 리스트에 1차원 배열로 저장하라."
   ]
  },
  {
   "cell_type": "markdown",
   "id": "exempt-python",
   "metadata": {},
   "source": [
    " print(result)  \n",
    "[2000.28, 3050.427, 2050.2870000000003, 1980.2772, 7501.05, 2050.2870000000003, 2050.2870000000003, ...]"
   ]
  },
  {
   "cell_type": "code",
   "execution_count": 199,
   "id": "hazardous-telescope",
   "metadata": {},
   "outputs": [
    {
     "name": "stdout",
     "output_type": "stream",
     "text": [
      "[0.27999999999999997, 0.42699999999999994, 0.287, 0.2772, 1.0499999999999998, 0.287, 0.287, 0.2772, 2.163, 2.1069999999999998, 2.1769999999999996, 2.086]\n"
     ]
    }
   ],
   "source": [
    "result = []\n",
    "for line in data:\n",
    "    for column in line:\n",
    "        result.append(column*0.00014)\n",
    "print(result)"
   ]
  },
  {
   "cell_type": "markdown",
   "id": "entire-musical",
   "metadata": {},
   "source": [
    "## 194\n",
    "191번 문제의 결괏값을 result 이름의 리스트에 2차원 배열로 저장하라. 저장 포맷은 아래와 같다. 각 행에 대한 데이터끼리 리스트에 저장되어야 한다."
   ]
  },
  {
   "cell_type": "markdown",
   "id": "looking-minority",
   "metadata": {},
   "source": [
    "print(result)  \n",
    "\n",
    "[\n",
    " [2000.28, 3050.427, 2050.2870000000003, 1980.2772],\n",
    " [7501.05, 2050.2870000000003, 2050.2870000000003, 1980.2772],\n",
    " [15452.163, 15052.107, 15552.177, 14902.086000000001]\n",
    "]"
   ]
  },
  {
   "cell_type": "code",
   "execution_count": 201,
   "id": "geological-coordination",
   "metadata": {},
   "outputs": [
    {
     "name": "stdout",
     "output_type": "stream",
     "text": [
      "[[2000.28, 3050.427, 2050.2870000000003, 1980.2772], [7501.05, 2050.2870000000003, 2050.2870000000003, 1980.2772], [15452.163, 15052.107, 15552.177, 14902.086000000001]]\n"
     ]
    }
   ],
   "source": [
    "result=[]\n",
    "for line in data:\n",
    "    sub = []\n",
    "    for column in line:\n",
    "        sub.append(column*1.00014)\n",
    "    result.append(sub)\n",
    "print(result)"
   ]
  },
  {
   "cell_type": "markdown",
   "id": "forbidden-aspect",
   "metadata": {},
   "source": [
    "## 195\n",
    "ohlc 리스트에는 시가(open), 고가 (high), 저가 (low) , 종가(close)가 날짜별로 저장돼 있다. 화면에 종가데이터를 출력하라."
   ]
  },
  {
   "cell_type": "code",
   "execution_count": 202,
   "id": "southern-station",
   "metadata": {},
   "outputs": [],
   "source": [
    "ohlc = [[\"open\", \"high\", \"low\", \"close\"],\n",
    "        [100, 110, 70, 100],\n",
    "        [200, 210, 180, 190],\n",
    "        [300, 310, 300, 310]]"
   ]
  },
  {
   "cell_type": "markdown",
   "id": "interesting-celtic",
   "metadata": {},
   "source": [
    "100  \n",
    "190  \n",
    "310  "
   ]
  },
  {
   "cell_type": "code",
   "execution_count": 206,
   "id": "bridal-budget",
   "metadata": {},
   "outputs": [
    {
     "name": "stdout",
     "output_type": "stream",
     "text": [
      "100\n",
      "190\n",
      "310\n"
     ]
    }
   ],
   "source": [
    "for row in ohlc[1:]:\n",
    "    print(row[3])"
   ]
  },
  {
   "cell_type": "markdown",
   "id": "hearing-substance",
   "metadata": {},
   "source": [
    "## 196\n",
    "ohlc 리스트에는 시가(open), 고가 (high), 저가 (low) , 종가(close)가 날짜별로 저장돼 있다. 종가가 150원보다 큰경우에만 종가를 출력하라."
   ]
  },
  {
   "cell_type": "code",
   "execution_count": 207,
   "id": "pressed-disaster",
   "metadata": {},
   "outputs": [],
   "source": [
    "ohlc = [[\"open\", \"high\", \"low\", \"close\"],\n",
    "        [100, 110, 70, 100],\n",
    "        [200, 210, 180, 190],\n",
    "        [300, 310, 300, 310]]"
   ]
  },
  {
   "cell_type": "markdown",
   "id": "guilty-color",
   "metadata": {},
   "source": [
    "190  \n",
    "310"
   ]
  },
  {
   "cell_type": "code",
   "execution_count": 211,
   "id": "severe-economics",
   "metadata": {},
   "outputs": [
    {
     "name": "stdout",
     "output_type": "stream",
     "text": [
      "190\n",
      "310\n"
     ]
    }
   ],
   "source": [
    "for row in ohlc[1:]:\n",
    "    if (row[3] > 150):\n",
    "        print(row[3])"
   ]
  },
  {
   "cell_type": "markdown",
   "id": "consistent-proxy",
   "metadata": {},
   "source": [
    "## 197\n",
    "ohlc 리스트에는 시가(open), 고가 (high), 저가 (low) , 종가(close)가 날짜별로 저장돼 있다. 종가가 시가 보다 크거나 같은 경우에만 종가를 출력하라."
   ]
  },
  {
   "cell_type": "code",
   "execution_count": 212,
   "id": "centered-kingston",
   "metadata": {},
   "outputs": [],
   "source": [
    "ohlc = [[\"open\", \"high\", \"low\", \"close\"],\n",
    "        [100, 110, 70, 100],\n",
    "        [200, 210, 180, 190],\n",
    "        [300, 310, 300, 310]]"
   ]
  },
  {
   "cell_type": "markdown",
   "id": "assured-sodium",
   "metadata": {},
   "source": [
    "100  \n",
    "310"
   ]
  },
  {
   "cell_type": "code",
   "execution_count": 222,
   "id": "certified-chicago",
   "metadata": {},
   "outputs": [
    {
     "name": "stdout",
     "output_type": "stream",
     "text": [
      "100\n",
      "310\n"
     ]
    }
   ],
   "source": [
    "for row in ohlc[1:]:\n",
    "    if (row[3]>= row[0]):\n",
    "        print (row[3])"
   ]
  },
  {
   "cell_type": "markdown",
   "id": "integrated-birmingham",
   "metadata": {},
   "source": [
    "## 198\n",
    "ohlc 리스트에는 시가(open), 고가 (high), 저가 (low) , 종가(close)가 날짜별로 저장돼 있다. 고가와 저가의 차이를 변동폭으로 정의할 때 변동폭을 volatility 이름의 리스트에 저장하라."
   ]
  },
  {
   "cell_type": "code",
   "execution_count": 223,
   "id": "automotive-belle",
   "metadata": {},
   "outputs": [],
   "source": [
    "ohlc = [[\"open\", \"high\", \"low\", \"close\"],\n",
    "        [100, 110, 70, 100],\n",
    "        [200, 210, 180, 190],\n",
    "        [300, 310, 300, 310]]"
   ]
  },
  {
   "cell_type": "markdown",
   "id": "forty-nudist",
   "metadata": {},
   "source": [
    "print(volatility)  \n",
    "[40, 30, 10]"
   ]
  },
  {
   "cell_type": "code",
   "execution_count": 224,
   "id": "illegal-calculator",
   "metadata": {},
   "outputs": [],
   "source": [
    "volatility = []\n",
    "\n",
    "for row in ohlc[1:]:\n",
    "    volatility.append(row[1]-row[2])\n",
    "    "
   ]
  },
  {
   "cell_type": "code",
   "execution_count": 225,
   "id": "enormous-morning",
   "metadata": {},
   "outputs": [
    {
     "name": "stdout",
     "output_type": "stream",
     "text": [
      "[40, 30, 10]\n"
     ]
    }
   ],
   "source": [
    "print(volatility)"
   ]
  },
  {
   "cell_type": "markdown",
   "id": "innocent-pharmacology",
   "metadata": {},
   "source": [
    "## 199\n",
    "리스트에는 3일 간의 ohlc 데이터가 저장돼 있다. 종가가 시가보다 높은 날의 변동성 (고가 - 저가)을 화면에 출력하라."
   ]
  },
  {
   "cell_type": "code",
   "execution_count": 226,
   "id": "sudden-supervisor",
   "metadata": {},
   "outputs": [],
   "source": [
    "ohlc = [[\"open\", \"high\", \"low\", \"close\"],\n",
    "        [100, 110, 70, 100],\n",
    "        [200, 210, 180, 190],\n",
    "        [300, 310, 300, 310]]"
   ]
  },
  {
   "cell_type": "markdown",
   "id": "chronic-sandwich",
   "metadata": {},
   "source": [
    "종가가 시가보다 높은 거래일의 OHLC는 [300, 310, 300, 310] 이다. 따라서 이 거래일의 변동성은 10 (310 - 300)이다."
   ]
  },
  {
   "cell_type": "markdown",
   "id": "narrow-jordan",
   "metadata": {},
   "source": [
    "10"
   ]
  },
  {
   "cell_type": "code",
   "execution_count": 230,
   "id": "affiliated-roman",
   "metadata": {},
   "outputs": [
    {
     "name": "stdout",
     "output_type": "stream",
     "text": [
      "10\n"
     ]
    }
   ],
   "source": [
    "\n",
    "for row in ohlc[1:]:\n",
    "    if (row[3]>row[0]):\n",
    "        print((row[1]-row[2]))"
   ]
  },
  {
   "cell_type": "markdown",
   "id": "overall-socket",
   "metadata": {},
   "source": [
    "## 200\n",
    "리스트에는 3일 간의 ohlc 데이터가 저장돼 있다. 시가에 매수해서 종가에 매도 했을 경우 총 수익금을 계산하라."
   ]
  },
  {
   "cell_type": "code",
   "execution_count": 231,
   "id": "hidden-slovakia",
   "metadata": {},
   "outputs": [],
   "source": [
    "ohlc = [[\"open\", \"high\", \"low\", \"close\"],\n",
    "        [100, 110, 70, 100],\n",
    "        [200, 210, 180, 190],\n",
    "        [300, 310, 300, 310]]"
   ]
  },
  {
   "cell_type": "markdown",
   "id": "legendary-orientation",
   "metadata": {},
   "source": [
    "1일차 수익 0원 (100 - 100), 2일차 수익 -10원 (190 - 200), 3일차 수익 10원 (310 - 300) 이다.\n",
    "\n",
    "0"
   ]
  },
  {
   "cell_type": "code",
   "execution_count": 238,
   "id": "completed-flexibility",
   "metadata": {},
   "outputs": [
    {
     "name": "stdout",
     "output_type": "stream",
     "text": [
      "0\n",
      "-10\n",
      "10\n"
     ]
    }
   ],
   "source": [
    "for row in ohlc[1:]:\n",
    "    print(row[3]-row[0])"
   ]
  },
  {
   "cell_type": "code",
   "execution_count": 233,
   "id": "velvet-victor",
   "metadata": {},
   "outputs": [],
   "source": [
    "profit = 0\n",
    "for row in ohlc[1:]:\n",
    "    profit +=(row[3]-row[0])"
   ]
  },
  {
   "cell_type": "code",
   "execution_count": 235,
   "id": "regional-coordinate",
   "metadata": {},
   "outputs": [
    {
     "data": {
      "text/plain": [
       "0"
      ]
     },
     "execution_count": 235,
     "metadata": {},
     "output_type": "execute_result"
    }
   ],
   "source": [
    "profit"
   ]
  }
 ],
 "metadata": {
  "kernelspec": {
   "display_name": "Python 3",
   "language": "python",
   "name": "python3"
  },
  "language_info": {
   "codemirror_mode": {
    "name": "ipython",
    "version": 3
   },
   "file_extension": ".py",
   "mimetype": "text/x-python",
   "name": "python",
   "nbconvert_exporter": "python",
   "pygments_lexer": "ipython3",
   "version": "3.8.8"
  },
  "toc": {
   "base_numbering": 1,
   "nav_menu": {},
   "number_sections": true,
   "sideBar": true,
   "skip_h1_title": false,
   "title_cell": "Table of Contents",
   "title_sidebar": "Contents",
   "toc_cell": false,
   "toc_position": {},
   "toc_section_display": true,
   "toc_window_display": false
  },
  "varInspector": {
   "cols": {
    "lenName": 16,
    "lenType": 16,
    "lenVar": 40
   },
   "kernels_config": {
    "python": {
     "delete_cmd_postfix": "",
     "delete_cmd_prefix": "del ",
     "library": "var_list.py",
     "varRefreshCmd": "print(var_dic_list())"
    },
    "r": {
     "delete_cmd_postfix": ") ",
     "delete_cmd_prefix": "rm(",
     "library": "var_list.r",
     "varRefreshCmd": "cat(var_dic_list()) "
    }
   },
   "types_to_exclude": [
    "module",
    "function",
    "builtin_function_or_method",
    "instance",
    "_Feature"
   ],
   "window_display": false
  }
 },
 "nbformat": 4,
 "nbformat_minor": 5
}
