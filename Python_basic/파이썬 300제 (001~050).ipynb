{
 "cells": [
  {
   "cell_type": "markdown",
   "id": "accessory-thailand",
   "metadata": {},
   "source": [
    "# 파이썬 300제 풀어보기 \n",
    "https://wikidocs.net/7014"
   ]
  },
  {
   "cell_type": "code",
   "execution_count": 69,
   "id": "beautiful-chain",
   "metadata": {},
   "outputs": [],
   "source": [
    "import pandas as pd\n",
    "import numpy as np"
   ]
  },
  {
   "cell_type": "markdown",
   "id": "presidential-lincoln",
   "metadata": {},
   "source": [
    "## 파이썬 시작하기\n",
    "print 함수와 관련된 문제 풀어보기"
   ]
  },
  {
   "cell_type": "markdown",
   "id": "medium-consistency",
   "metadata": {},
   "source": [
    "###  print 기초"
   ]
  },
  {
   "cell_type": "code",
   "execution_count": 3,
   "id": "forward-promise",
   "metadata": {},
   "outputs": [
    {
     "name": "stdout",
     "output_type": "stream",
     "text": [
      "Hello World\n",
      "Hello World\n"
     ]
    }
   ],
   "source": [
    "# 화면에 Hello World 문자열을 출력하세요\n",
    "\n",
    "print('Hello World')\n",
    "print(\"Hello World\")"
   ]
  },
  {
   "cell_type": "markdown",
   "id": "hawaiian-observer",
   "metadata": {},
   "source": [
    "###  print 기초"
   ]
  },
  {
   "cell_type": "code",
   "execution_count": 88,
   "id": "devoted-headline",
   "metadata": {},
   "outputs": [
    {
     "name": "stdout",
     "output_type": "stream",
     "text": [
      "Mary's cosmetics\n"
     ]
    }
   ],
   "source": [
    "# Mary's cosmetics를 출력하세요.(중간에 '가 있음을 주의하세요)\n",
    "\n",
    "print(\"Mary's cosmetics\")"
   ]
  },
  {
   "cell_type": "markdown",
   "id": "potential-tampa",
   "metadata": {},
   "source": [
    "###  print 기초"
   ]
  },
  {
   "cell_type": "code",
   "execution_count": 5,
   "id": "imperial-statistics",
   "metadata": {},
   "outputs": [
    {
     "name": "stdout",
     "output_type": "stream",
     "text": [
      "신씨가 소리 질렀다. \"도둑이야\".\n"
     ]
    }
   ],
   "source": [
    "# 아래 문장을 출력하세요 (중가에 \"가 있음에 주의하세요)\n",
    "# 신씨가 소리 질렀다. \"도둑이야\".\n",
    "\n",
    "print('신씨가 소리 질렀다. \"도둑이야\".')"
   ]
  },
  {
   "cell_type": "markdown",
   "id": "revolutionary-affair",
   "metadata": {},
   "source": [
    "###  print 기초"
   ]
  },
  {
   "cell_type": "code",
   "execution_count": 90,
   "id": "marine-healthcare",
   "metadata": {},
   "outputs": [
    {
     "name": "stdout",
     "output_type": "stream",
     "text": [
      "C:\\Windows\n"
     ]
    }
   ],
   "source": [
    "# 화면에 \"C:\\Windows\"를 출력하세요.\n",
    "\n",
    "print(\"C:\\Windows\")"
   ]
  },
  {
   "cell_type": "markdown",
   "id": "developmental-january",
   "metadata": {},
   "source": [
    "###  print 탭과 줄바꿈"
   ]
  },
  {
   "cell_type": "code",
   "execution_count": 92,
   "id": "wanted-chamber",
   "metadata": {},
   "outputs": [
    {
     "name": "stdout",
     "output_type": "stream",
     "text": [
      "안녕하세요.\n",
      "만나서\t\t반갑습니다.\n"
     ]
    }
   ],
   "source": [
    "# 다음 코드를 실행해보고 \\t와 \\n의 역할을 설명해보세요.\n",
    "# print(\"안녕하세요.\\n만나서\\t\\t반갑습니다.\")\n",
    "\n",
    "print(\"안녕하세요.\\n만나서\\t\\t반갑습니다.\")\n",
    "\n",
    "#n의 경우 줄바꿈\n",
    "#t#t의 경우 탭"
   ]
  },
  {
   "cell_type": "markdown",
   "id": "ranking-essay",
   "metadata": {},
   "source": [
    "###  print 여러 데이터 출력"
   ]
  },
  {
   "cell_type": "code",
   "execution_count": 8,
   "id": "weekly-platform",
   "metadata": {},
   "outputs": [
    {
     "name": "stdout",
     "output_type": "stream",
     "text": [
      "오늘은 일요일\n"
     ]
    }
   ],
   "source": [
    "# print 함수에 두 개의 단어를 입력한 예제입니다. 아래 코드의 출력 결과를 예상해봅시다.\n",
    "# print (\"오늘은\", \"일요일\")\n",
    "print (\"오늘은\", \"일요일\")\n",
    "\n",
    "# 여러값을 출력하려면 print 함수에서 쉼표로 구분해주면 된다.\n",
    "# 따라서 오늘은 다음에 공백이 하나있고 일요일이 출력된다."
   ]
  },
  {
   "cell_type": "markdown",
   "id": "czech-symbol",
   "metadata": {},
   "source": [
    "### 007 print 기초"
   ]
  },
  {
   "cell_type": "code",
   "execution_count": 11,
   "id": "dimensional-squad",
   "metadata": {},
   "outputs": [
    {
     "name": "stdout",
     "output_type": "stream",
     "text": [
      "naver;kakao;samsung\n"
     ]
    }
   ],
   "source": [
    "# print() 함수를 사용하여 다음과 같이 출력하세요.\n",
    "# naver;kakao;sk;samsung\n",
    "\n",
    "print(\"naver\",\"kakao\",\"samsung\", sep=\";\")\n",
    "\n",
    "#print 함수의 sep 인자로 \";\"를 입력하면 출력되는 값들 사이에 한 칸의 공백대신 세미콜론이 출력됩니다."
   ]
  },
  {
   "cell_type": "markdown",
   "id": "boring-semiconductor",
   "metadata": {},
   "source": [
    "###  print 기초"
   ]
  },
  {
   "cell_type": "code",
   "execution_count": 12,
   "id": "creative-excellence",
   "metadata": {},
   "outputs": [
    {
     "name": "stdout",
     "output_type": "stream",
     "text": [
      "naver/kakao/samsung\n"
     ]
    }
   ],
   "source": [
    "# print() 함수를 사용하여 다음과 같이 출력하세요.\n",
    "# naver/kakao/sk/samsung\n",
    "\n",
    "print(\"naver\",\"kakao\",\"samsung\", sep=\"/\")"
   ]
  },
  {
   "cell_type": "markdown",
   "id": "preceding-cooler",
   "metadata": {},
   "source": [
    "### print 줄바꿈"
   ]
  },
  {
   "cell_type": "code",
   "execution_count": 95,
   "id": "civilian-prevention",
   "metadata": {},
   "outputs": [
    {
     "name": "stdout",
     "output_type": "stream",
     "text": [
      "firstsecond\n"
     ]
    }
   ],
   "source": [
    "# 다음 코드를 수정하여 줄바꿈이 없이 출력하세요. \n",
    "#(힌트: end='') print 함수는 두 번 사용합니다. \n",
    "#세미콜론 (;)은 한줄에 여러 개의 명령을 작성하기 위해 사용합니다.\n",
    "\n",
    "# print(\"first\");print(\"second\")\n",
    "\n",
    "print(\"first\", end=\"\");print(\"second\")"
   ]
  },
  {
   "cell_type": "markdown",
   "id": "dying-emperor",
   "metadata": {},
   "source": [
    "### 연산 결과 출력"
   ]
  },
  {
   "cell_type": "code",
   "execution_count": 18,
   "id": "changed-emphasis",
   "metadata": {},
   "outputs": [
    {
     "name": "stdout",
     "output_type": "stream",
     "text": [
      "1.6666666666666667\n"
     ]
    }
   ],
   "source": [
    "# 5/3의 결과를 화면에 출력하세요.\n",
    "\n",
    "print(5/3)"
   ]
  },
  {
   "cell_type": "markdown",
   "id": "transsexual-guyana",
   "metadata": {},
   "source": [
    "## 파이썬 변수\n",
    "파이썬 변수는 자주 사용되는 값을 바인딩합니다. 파이썬 변수의 개념을 이해하고 문제 풀어보기"
   ]
  },
  {
   "cell_type": "markdown",
   "id": "portuguese-damages",
   "metadata": {},
   "source": [
    "### 변수 사용하기"
   ]
  },
  {
   "cell_type": "code",
   "execution_count": 19,
   "id": "focused-management",
   "metadata": {},
   "outputs": [
    {
     "name": "stdout",
     "output_type": "stream",
     "text": [
      "500000\n"
     ]
    }
   ],
   "source": [
    "# 삼성전자라는 변수로 50,000원을 바인딩해보세요. 삼성전자 주식 10주를 보유하고 있을 때 총 평가금액을 출력하세요.\n",
    "\n",
    "삼성전자 = 50000\n",
    "총평가금액 = 삼성전자 * 10\n",
    "print(총평가금액)"
   ]
  },
  {
   "cell_type": "markdown",
   "id": "certified-australia",
   "metadata": {},
   "source": [
    "### 변수 사용하기"
   ]
  },
  {
   "cell_type": "code",
   "execution_count": 20,
   "id": "surrounded-repository",
   "metadata": {},
   "outputs": [],
   "source": [
    "# 다음 표는 삼성전자의 일부 투자정보입니다. 변수를 사용해서 시가총액, 현재가, PER 등을 바인딩해보세요."
   ]
  },
  {
   "cell_type": "markdown",
   "id": "handed-economics",
   "metadata": {},
   "source": [
    "항목|값\n",
    "-----|-------\n",
    "시가총액|298조\n",
    "현재가|50,000원\n",
    "PER|15.79"
   ]
  },
  {
   "cell_type": "code",
   "execution_count": 21,
   "id": "metropolitan-ultimate",
   "metadata": {},
   "outputs": [
    {
     "name": "stdout",
     "output_type": "stream",
     "text": [
      "298000000000000 <class 'int'>\n",
      "50000 <class 'int'>\n",
      "15.79 <class 'float'>\n"
     ]
    }
   ],
   "source": [
    "시가총액 = 298000000000000\n",
    "현재가 = 50000\n",
    "PER = 15.79\n",
    "\n",
    "print(시가총액, type(시가총액))\n",
    "print(현재가, type(현재가))\n",
    "print(PER, type(PER))"
   ]
  },
  {
   "cell_type": "markdown",
   "id": "exact-battlefield",
   "metadata": {},
   "source": [
    "### 문자열 출력"
   ]
  },
  {
   "cell_type": "code",
   "execution_count": 23,
   "id": "complimentary-italic",
   "metadata": {},
   "outputs": [],
   "source": [
    "# 변수 s와 t에는 각각 문자열이 바인딩 되어있습니다.\n",
    "\n",
    "s = \"hello\"\n",
    "t = \"python\"\n",
    "# 두 변수를 이용하여 아래와 같이 출력해보세요.\n",
    "\n",
    "# 실행 예:\n",
    "# hello! python"
   ]
  },
  {
   "cell_type": "code",
   "execution_count": 26,
   "id": "raising-instruction",
   "metadata": {},
   "outputs": [
    {
     "name": "stdout",
     "output_type": "stream",
     "text": [
      "hello! python\n"
     ]
    }
   ],
   "source": [
    "print(s+\"!\",t)"
   ]
  },
  {
   "cell_type": "markdown",
   "id": "solved-twist",
   "metadata": {},
   "source": [
    "### 파이썬을 이용한 값 계산"
   ]
  },
  {
   "cell_type": "code",
   "execution_count": 27,
   "id": "applied-contest",
   "metadata": {},
   "outputs": [
    {
     "data": {
      "text/plain": [
       "8"
      ]
     },
     "execution_count": 27,
     "metadata": {},
     "output_type": "execute_result"
    }
   ],
   "source": [
    "# 아래 코드의 실행 결과를 예상해보세요.\n",
    "\n",
    "2 + 2 * 3 "
   ]
  },
  {
   "cell_type": "markdown",
   "id": "scientific-symbol",
   "metadata": {},
   "source": [
    "### type 함수"
   ]
  },
  {
   "cell_type": "code",
   "execution_count": 30,
   "id": "indoor-audience",
   "metadata": {},
   "outputs": [],
   "source": [
    "# type() 함수는 데이터 타입을 판별합니다. 변수 a에는 128 숫자가 바인딩돼 있어 type 함수가 int (정수)형임을 알려줍니다."
   ]
  },
  {
   "cell_type": "code",
   "execution_count": 31,
   "id": "ambient-label",
   "metadata": {},
   "outputs": [
    {
     "name": "stdout",
     "output_type": "stream",
     "text": [
      "<class 'int'>\n"
     ]
    }
   ],
   "source": [
    "a = 128\n",
    "print(type(a))"
   ]
  },
  {
   "cell_type": "code",
   "execution_count": 32,
   "id": "contained-identification",
   "metadata": {},
   "outputs": [
    {
     "name": "stdout",
     "output_type": "stream",
     "text": [
      "<class 'str'>\n"
     ]
    }
   ],
   "source": [
    "# 아래 변수에 바인딩된 값의 타입을 판별해보세요.\n",
    "\n",
    "# >> a = \"132\"   ==> 'str' 일것이다. \"\"로 표시해서 문자로인식\n",
    "\n",
    "a=\"132\"\n",
    "print(type(a))"
   ]
  },
  {
   "cell_type": "markdown",
   "id": "champion-commonwealth",
   "metadata": {},
   "source": [
    "### 문자열을 정수로 변환"
   ]
  },
  {
   "cell_type": "code",
   "execution_count": 36,
   "id": "absent-distributor",
   "metadata": {},
   "outputs": [
    {
     "name": "stdout",
     "output_type": "stream",
     "text": [
      "721\n"
     ]
    },
    {
     "data": {
      "text/plain": [
       "(None, int)"
      ]
     },
     "execution_count": 36,
     "metadata": {},
     "output_type": "execute_result"
    }
   ],
   "source": [
    "# 문자열 '720'를 정수형으로 변환해보세요.\n",
    "\n",
    "# num_str = \"720\"\n",
    "\n",
    "num_str = \"720\"\n",
    "\n",
    "num_int = int(num_str)\n",
    "print(num_int+1), type(num_int)"
   ]
  },
  {
   "cell_type": "markdown",
   "id": "received-lafayette",
   "metadata": {},
   "source": [
    "### 정수를 문자열 100으로 변환"
   ]
  },
  {
   "cell_type": "code",
   "execution_count": 37,
   "id": "adjustable-northern",
   "metadata": {},
   "outputs": [],
   "source": [
    "# 정수 100을 문자열 '100'으로 변환해보세요.\n",
    "\n",
    "num = 100"
   ]
  },
  {
   "cell_type": "code",
   "execution_count": 39,
   "id": "danish-medium",
   "metadata": {},
   "outputs": [
    {
     "name": "stdout",
     "output_type": "stream",
     "text": [
      "100 <class 'str'>\n"
     ]
    }
   ],
   "source": [
    "result = str(num)\n",
    "print(result, type(num_str))"
   ]
  },
  {
   "cell_type": "markdown",
   "id": "coordinate-artwork",
   "metadata": {},
   "source": [
    "### 문자열을 실수로 변환"
   ]
  },
  {
   "cell_type": "code",
   "execution_count": 42,
   "id": "heated-functionality",
   "metadata": {},
   "outputs": [
    {
     "name": "stdout",
     "output_type": "stream",
     "text": [
      "15.79 <class 'float'>\n"
     ]
    }
   ],
   "source": [
    "# 문자열 \"15.79\"를 실수(float) 타입으로 변환해보세요.\n",
    "\n",
    "a = 15.79\n",
    "\n",
    "a_float = float(a)\n",
    "print(a, type(a_float))"
   ]
  },
  {
   "cell_type": "markdown",
   "id": "mounted-attraction",
   "metadata": {},
   "source": [
    "### 문자열을 정수로 변환"
   ]
  },
  {
   "cell_type": "code",
   "execution_count": 44,
   "id": "executive-journalism",
   "metadata": {},
   "outputs": [
    {
     "name": "stdout",
     "output_type": "stream",
     "text": [
      "2017\n",
      "2018\n",
      "2019\n"
     ]
    }
   ],
   "source": [
    "# year라는 변수가 문자열 타입의 연도를 바인딩하고 있습니다. 이를 정수로 변환한 후 최근 3년의 연도를 화면에 출력해보세요.\n",
    "\n",
    "year = \"2020\"\n",
    "\n",
    "sus = int(year)\n",
    "\n",
    "print(sus-3)\n",
    "print(sus-2)\n",
    "print(sus-1)"
   ]
  },
  {
   "cell_type": "code",
   "execution_count": 45,
   "id": "rational-fancy",
   "metadata": {},
   "outputs": [
    {
     "name": "stdout",
     "output_type": "stream",
     "text": [
      "2017\n",
      "2018\n",
      "2019\n"
     ]
    }
   ],
   "source": [
    "# 풀이\n",
    "year = \"2020\"\n",
    "\n",
    "sus = int(year)\n",
    "\n",
    "print(int(year)-3)\n",
    "print(int(year)-2)\n",
    "print(int(year)-1)"
   ]
  },
  {
   "cell_type": "markdown",
   "id": "formal-printer",
   "metadata": {},
   "source": [
    "### 파이썬 계산"
   ]
  },
  {
   "cell_type": "code",
   "execution_count": 47,
   "id": "particular-excess",
   "metadata": {},
   "outputs": [
    {
     "name": "stdout",
     "output_type": "stream",
     "text": [
      "1749024\n"
     ]
    }
   ],
   "source": [
    "# 에이컨이 월 48,584원에 무이자 36개월의 조건으로 홈쇼핑에서 판매되고 있습니다. 총 금액은 계산한 후 이를 화면에 출력해보세요. (변수사용하기)\n",
    "\n",
    "월금액 = 48584\n",
    "할부 = 36\n",
    "총금액 = 월금액 * 할부\n",
    "\n",
    "print(총금액)"
   ]
  },
  {
   "cell_type": "code",
   "execution_count": 48,
   "id": "settled-warren",
   "metadata": {},
   "outputs": [
    {
     "name": "stdout",
     "output_type": "stream",
     "text": [
      "1749024\n"
     ]
    }
   ],
   "source": [
    "월금액 = 48584\n",
    "할부 = 36\n",
    "\n",
    "\n",
    "print(월금액 * 할부)"
   ]
  },
  {
   "cell_type": "code",
   "execution_count": 49,
   "id": "taken-suspect",
   "metadata": {},
   "outputs": [
    {
     "name": "stdout",
     "output_type": "stream",
     "text": [
      "1749024\n"
     ]
    }
   ],
   "source": [
    "# 풀이\n",
    "월금액 = 48584\n",
    "총금액 = 월금액 * 36\n",
    "\n",
    "print(총금액)"
   ]
  },
  {
   "cell_type": "markdown",
   "id": "bright-laugh",
   "metadata": {},
   "source": [
    "## 파이썬 문자열\n",
    "파이썬 문자열은 인덱싱, 슬라이싱 기능과 다양한 메서드를 제공합니다."
   ]
  },
  {
   "cell_type": "markdown",
   "id": "afraid-davis",
   "metadata": {},
   "source": [
    "### 문자열 인덱싱"
   ]
  },
  {
   "cell_type": "code",
   "execution_count": null,
   "id": "greater-finder",
   "metadata": {},
   "outputs": [],
   "source": [
    "\n",
    "# letters가 바인딩하는 문자열에서 첫번째와 세번째 문자를 출력하세요.\n",
    "\n",
    ">> letters = 'python'\n",
    "실행 예\n",
    "p t"
   ]
  },
  {
   "cell_type": "code",
   "execution_count": 56,
   "id": "thrown-institute",
   "metadata": {},
   "outputs": [
    {
     "name": "stdout",
     "output_type": "stream",
     "text": [
      "p t\n"
     ]
    }
   ],
   "source": [
    "lang = 'python'\n",
    "\n",
    "print(lang[0], lang[2])"
   ]
  },
  {
   "cell_type": "markdown",
   "id": "strong-extent",
   "metadata": {},
   "source": [
    "### 문자열 슬라이싱"
   ]
  },
  {
   "cell_type": "code",
   "execution_count": null,
   "id": "affected-start",
   "metadata": {},
   "outputs": [],
   "source": [
    "# 자동차 번호가 다음과 같을 때 뒤에 4자리만 출력하세요.\n",
    "\n",
    ">> license_plate = \"24가 2210\"\n",
    "실행 예: 2210"
   ]
  },
  {
   "cell_type": "code",
   "execution_count": 60,
   "id": "genetic-deficit",
   "metadata": {},
   "outputs": [
    {
     "name": "stdout",
     "output_type": "stream",
     "text": [
      "2210\n"
     ]
    }
   ],
   "source": [
    "license_plate = \"24가 2210\"\n",
    "\n",
    "print(license_plate[4:8])"
   ]
  },
  {
   "cell_type": "code",
   "execution_count": 62,
   "id": "beginning-sculpture",
   "metadata": {},
   "outputs": [
    {
     "name": "stdout",
     "output_type": "stream",
     "text": [
      "2210\n"
     ]
    }
   ],
   "source": [
    "# 문자열에서 여러 글자를 가져오는 것을 슬라이싱이라고 부릅니다. \n",
    "#음수 값은 문자열의 뒤에서부터 인덱싱 또는 슬라이싱함을 의미합니다. \n",
    "#슬라이싱에서 시작 인덱스를 생락혀면 0으로 간주하고 끝 인덱스를 생략하면 \n",
    "#문자열의 끝을 의미합니다.\n",
    "print(license_plate[-4:])"
   ]
  },
  {
   "cell_type": "markdown",
   "id": "exotic-relaxation",
   "metadata": {},
   "source": [
    "### 문자열 인덱싱"
   ]
  },
  {
   "cell_type": "code",
   "execution_count": null,
   "id": "coordinate-gibson",
   "metadata": {},
   "outputs": [],
   "source": [
    "# 아래의 문자열에서 '홀' 만 출력하세요.\n",
    "\n",
    ">> string = \"홀짝홀짝홀짝\"\n",
    "실행 예:\n",
    "홀홀홀"
   ]
  },
  {
   "cell_type": "code",
   "execution_count": 63,
   "id": "incredible-shift",
   "metadata": {},
   "outputs": [
    {
     "name": "stdout",
     "output_type": "stream",
     "text": [
      "홀홀홀\n"
     ]
    }
   ],
   "source": [
    "string = \"홀짝홀짝홀짝\"\n",
    "\n",
    "print(string[::2])\n",
    "\n",
    "# 슬라이싱할 때 시작인덱스:끝인덱스:오프셋을 지정할 수 있습니다."
   ]
  },
  {
   "cell_type": "markdown",
   "id": "steady-recall",
   "metadata": {},
   "source": [
    "### 문자열 슬라이싱"
   ]
  },
  {
   "cell_type": "code",
   "execution_count": null,
   "id": "reasonable-plastic",
   "metadata": {},
   "outputs": [],
   "source": [
    "# 문자열을 거꾸로 뒤집어 출력하세요.\n",
    "\n",
    ">> string = \"PYTHON\"\n",
    "실행 예:\n",
    "NOHTYP"
   ]
  },
  {
   "cell_type": "code",
   "execution_count": 64,
   "id": "nervous-dylan",
   "metadata": {},
   "outputs": [
    {
     "name": "stdout",
     "output_type": "stream",
     "text": [
      "NOHTYP\n"
     ]
    }
   ],
   "source": [
    "string = \"PYTHON\"\n",
    "\n",
    "print(string[::-1])"
   ]
  },
  {
   "cell_type": "code",
   "execution_count": 78,
   "id": "accomplished-confidentiality",
   "metadata": {},
   "outputs": [
    {
     "name": "stdout",
     "output_type": "stream",
     "text": [
      "HTY\n",
      "HTYP\n",
      "OHTYP\n"
     ]
    }
   ],
   "source": [
    "print (string [3:0:-1])  # 3번 인덱스부터 1번 인덱스까지(0번 까지가 아님) 역순으로 출력\n",
    "print (string [3::-1])   #3번 인덱스부터 0번 인덱스까지 역순으로 출력\n",
    "print (string [4::-1])"
   ]
  },
  {
   "cell_type": "code",
   "execution_count": 79,
   "id": "amazing-estate",
   "metadata": {},
   "outputs": [
    {
     "name": "stdout",
     "output_type": "stream",
     "text": [
      "OHTYP\n",
      "NOHTYP\n"
     ]
    }
   ],
   "source": [
    "print (string[4::-1]) # 4번 인덱스가 마지막 인덱스라면 생략 가능 \n",
    "print (string[::-1])   # 전체 문자열을 역순으로 출력"
   ]
  },
  {
   "cell_type": "code",
   "execution_count": 80,
   "id": "numeric-glory",
   "metadata": {},
   "outputs": [
    {
     "name": "stdout",
     "output_type": "stream",
     "text": [
      "['e', 'd', 'c', 'b', 'a']\n",
      "('e', 'd', 'c', 'b', 'a')\n"
     ]
    }
   ],
   "source": [
    "# 문자열 뿐만 아니라 리스트나 튜플에도 적용 가능\n",
    "\n",
    "l  = ['a','b','c','d','e']\n",
    "print(l[::-1])\n",
    "\n",
    "\n",
    "t  = ('a','b','c','d','e')\n",
    "print(t[::-1])"
   ]
  },
  {
   "cell_type": "code",
   "execution_count": 65,
   "id": "accompanied-centre",
   "metadata": {},
   "outputs": [
    {
     "name": "stdout",
     "output_type": "stream",
     "text": [
      "NOHTYP\n"
     ]
    }
   ],
   "source": [
    "# 다른 방법 - For 문을 통한 해결\n",
    "\n",
    "s_reverse = ''  # 기존 문자열을 역순으로 담아줄 빈 문자열 선언\n",
    "\n",
    "for char in string:\n",
    "    s_reverse = char + s_reverse # 기존 문자열에서 문자를 차례대로 가져와 앞뒤 순서 바꿈\n",
    "    \n",
    "print(s_reverse)\n"
   ]
  },
  {
   "cell_type": "code",
   "execution_count": 72,
   "id": "proprietary-cisco",
   "metadata": {},
   "outputs": [
    {
     "name": "stdout",
     "output_type": "stream",
     "text": [
      "NOHTYP\n"
     ]
    }
   ],
   "source": [
    "# 다른 방법 - 파이썬 제공 함수 사용 'reverse'\n",
    "\n",
    "s_list = list(string)  #reverse 함수를 사용하기 위해 문자열 list로 치환\n",
    "s_list.reverse()  #reverse 함수를 사용해 문자열 리스트를 거꾸로 뒤집음"
   ]
  },
  {
   "cell_type": "code",
   "execution_count": 67,
   "id": "angry-guinea",
   "metadata": {},
   "outputs": [
    {
     "data": {
      "text/plain": [
       "['N', 'O', 'H', 'T', 'Y', 'P']"
      ]
     },
     "execution_count": 67,
     "metadata": {},
     "output_type": "execute_result"
    }
   ],
   "source": [
    "s_list"
   ]
  },
  {
   "cell_type": "code",
   "execution_count": 73,
   "id": "spectacular-russian",
   "metadata": {},
   "outputs": [
    {
     "name": "stdout",
     "output_type": "stream",
     "text": [
      "NOHTYP\n"
     ]
    }
   ],
   "source": [
    "print(''. join(s_list))  # 거꾸로 뒤집어진 리스트를 연결해서 출력"
   ]
  },
  {
   "cell_type": "code",
   "execution_count": 75,
   "id": "geographic-excess",
   "metadata": {},
   "outputs": [
    {
     "name": "stdout",
     "output_type": "stream",
     "text": [
      "NOHTYP\n"
     ]
    }
   ],
   "source": [
    "# 다른 방법 - 파이썬 제공 함수 사용 'reversed'\n",
    "# reversed는 reverse완느 달리 문자열에도 바로 적용이 가능하므로, (reverse는 list에만 사용가능)\n",
    "# reversed(s)를 통해 문자열을 거꾸로 뒤집은 후 join으로 연결해 바로 출력\n",
    "\n",
    "print(''.join(reversed(string)))"
   ]
  },
  {
   "cell_type": "markdown",
   "id": "attractive-ethiopia",
   "metadata": {},
   "source": [
    "### 문자열 치환"
   ]
  },
  {
   "cell_type": "code",
   "execution_count": null,
   "id": "perceived-development",
   "metadata": {},
   "outputs": [],
   "source": [
    "# 아래의 전화번호에서 하이푼 ('-')을 제거하고 출력하세요.\n",
    "\n",
    ">> phone_number = \"010-1111-2222\"\n",
    "실행 예\n",
    "010 1111 2222"
   ]
  },
  {
   "cell_type": "code",
   "execution_count": 81,
   "id": "fitting-summit",
   "metadata": {},
   "outputs": [],
   "source": [
    "phone_number = \"010-1111-2222\""
   ]
  },
  {
   "cell_type": "code",
   "execution_count": 82,
   "id": "diverse-acrobat",
   "metadata": {},
   "outputs": [
    {
     "name": "stdout",
     "output_type": "stream",
     "text": [
      "010 1111 2222\n"
     ]
    }
   ],
   "source": [
    "phone_number1 = phone_number.replace(\"-\",\" \")\n",
    "print(phone_number1)"
   ]
  },
  {
   "cell_type": "code",
   "execution_count": null,
   "id": "unusual-constitution",
   "metadata": {},
   "outputs": [],
   "source": [
    "# 파이썬 문자열에서 replace 메서드를 사용하면 문자열을 일부를 치환할 수 있습니다. 문자열은 수정할 수 없는 자료형이므로 기존 문자열은 그대로 두고 치환된 새로운 문자열이 리턴됩니다."
   ]
  },
  {
   "cell_type": "markdown",
   "id": "spoken-brick",
   "metadata": {},
   "source": [
    "### 문자열 다루기"
   ]
  },
  {
   "cell_type": "code",
   "execution_count": null,
   "id": "severe-detail",
   "metadata": {},
   "outputs": [],
   "source": [
    "# 25번 문제의 전화번호를 아래와 같이 모두 붙여 출력하세요.\n",
    "\n",
    "실행 예\n",
    "01011112222"
   ]
  },
  {
   "cell_type": "code",
   "execution_count": 83,
   "id": "endangered-newsletter",
   "metadata": {},
   "outputs": [
    {
     "name": "stdout",
     "output_type": "stream",
     "text": [
      "01011112222\n"
     ]
    }
   ],
   "source": [
    "phone_number2 = phone_number.replace(\"-\",\"\")\n",
    "print(phone_number2)"
   ]
  },
  {
   "cell_type": "markdown",
   "id": "valued-superintendent",
   "metadata": {},
   "source": [
    "### 문자열 다루기"
   ]
  },
  {
   "cell_type": "code",
   "execution_count": null,
   "id": "amino-helena",
   "metadata": {},
   "outputs": [],
   "source": [
    "# url 에 저장된 웹 페이지 주소에서 도메인을 출력하세요.\n",
    "\n",
    ">> url = \"http://sharebook.kr\"\n",
    "실행 예:\n",
    "kr"
   ]
  },
  {
   "cell_type": "code",
   "execution_count": 86,
   "id": "dependent-climb",
   "metadata": {},
   "outputs": [
    {
     "name": "stdout",
     "output_type": "stream",
     "text": [
      "kr\n"
     ]
    }
   ],
   "source": [
    "url = \"http://sharebook.kr\"\n",
    "\n",
    "url_split = url.split('.')\n",
    "print(url_split[-1])"
   ]
  },
  {
   "cell_type": "markdown",
   "id": "decent-bible",
   "metadata": {},
   "source": [
    "### 문자열은 immutable"
   ]
  },
  {
   "cell_type": "code",
   "execution_count": 87,
   "id": "active-capability",
   "metadata": {},
   "outputs": [
    {
     "ename": "TypeError",
     "evalue": "'str' object does not support item assignment",
     "output_type": "error",
     "traceback": [
      "\u001b[1;31m---------------------------------------------------------------------------\u001b[0m",
      "\u001b[1;31mTypeError\u001b[0m                                 Traceback (most recent call last)",
      "\u001b[1;32m<ipython-input-87-85159fd4e450>\u001b[0m in \u001b[0;36m<module>\u001b[1;34m\u001b[0m\n\u001b[0;32m      3\u001b[0m \u001b[1;33m\u001b[0m\u001b[0m\n\u001b[0;32m      4\u001b[0m \u001b[0mlang\u001b[0m \u001b[1;33m=\u001b[0m \u001b[1;34m'python'\u001b[0m\u001b[1;33m\u001b[0m\u001b[1;33m\u001b[0m\u001b[0m\n\u001b[1;32m----> 5\u001b[1;33m \u001b[0mlang\u001b[0m\u001b[1;33m[\u001b[0m\u001b[1;36m0\u001b[0m\u001b[1;33m]\u001b[0m \u001b[1;33m=\u001b[0m \u001b[1;34m'P'\u001b[0m\u001b[1;33m\u001b[0m\u001b[1;33m\u001b[0m\u001b[0m\n\u001b[0m\u001b[0;32m      6\u001b[0m \u001b[0mprint\u001b[0m\u001b[1;33m(\u001b[0m\u001b[0mlang\u001b[0m\u001b[1;33m)\u001b[0m\u001b[1;33m\u001b[0m\u001b[1;33m\u001b[0m\u001b[0m\n",
      "\u001b[1;31mTypeError\u001b[0m: 'str' object does not support item assignment"
     ]
    }
   ],
   "source": [
    "\n",
    "# 아래 코드의 실행 결과를 예상해보세요.\n",
    "\n",
    "lang = 'python'\n",
    "lang[0] = 'P'\n",
    "print(lang)"
   ]
  },
  {
   "cell_type": "code",
   "execution_count": null,
   "id": "recognized-heaven",
   "metadata": {},
   "outputs": [],
   "source": [
    "#문자열은 수정할 수 없습니다. 실행 결과를 확인해보면 문자열이 할당(assignment) 메서드를 지원하지 않음을 알 수 있다."
   ]
  },
  {
   "cell_type": "markdown",
   "id": "ideal-newport",
   "metadata": {},
   "source": [
    "### replace 메서드"
   ]
  },
  {
   "cell_type": "code",
   "execution_count": null,
   "id": "scientific-federation",
   "metadata": {},
   "outputs": [],
   "source": [
    "# 아래 문자열에서 소문자 'a'를 대문자 'A'로 변경하세요.\n",
    "\n",
    ">> string = 'abcdfe2a354a32a'\n",
    "실행 예:\n",
    "Abcdfe2A354A32A"
   ]
  },
  {
   "cell_type": "code",
   "execution_count": 102,
   "id": "trying-browser",
   "metadata": {},
   "outputs": [
    {
     "name": "stdout",
     "output_type": "stream",
     "text": [
      "Abcdfe2A354A32A\n"
     ]
    }
   ],
   "source": [
    "string = 'abcdfe2a354a32a'\n",
    "\n",
    "string = string.replace('a','A')\n",
    "\n",
    "print(string)"
   ]
  },
  {
   "cell_type": "markdown",
   "id": "directed-glasgow",
   "metadata": {},
   "source": [
    "### replace 매서드"
   ]
  },
  {
   "cell_type": "code",
   "execution_count": null,
   "id": "perfect-celebration",
   "metadata": {},
   "outputs": [],
   "source": [
    "# 아래 코드의 실행 결과를 예상해시오\n",
    ">> string = 'abcd'\n",
    ">> string.replace('b', 'B')\n",
    ">> print(string)"
   ]
  },
  {
   "cell_type": "code",
   "execution_count": null,
   "id": "fluid-stroke",
   "metadata": {},
   "outputs": [],
   "source": [
    "그대로 출력"
   ]
  },
  {
   "cell_type": "code",
   "execution_count": 103,
   "id": "consolidated-aruba",
   "metadata": {},
   "outputs": [
    {
     "name": "stdout",
     "output_type": "stream",
     "text": [
      "abcd\n"
     ]
    }
   ],
   "source": [
    "string = 'abcd'\n",
    "string.replace('b','B')\n",
    "print(string)"
   ]
  },
  {
   "cell_type": "code",
   "execution_count": null,
   "id": "hawaiian-singles",
   "metadata": {},
   "outputs": [],
   "source": [
    "# 그대로 출력된다. 왜냐하면 문자열은 변경할 수 없는 자료형이기 때문이다.\n",
    "# replace 매서드를 사용하면 원본은 그대로 둔채로 변경된 새로운 문자열 객체를 리턴해준다."
   ]
  },
  {
   "cell_type": "code",
   "execution_count": 105,
   "id": "atlantic-complex",
   "metadata": {},
   "outputs": [
    {
     "name": "stdout",
     "output_type": "stream",
     "text": [
      "aBcd\n"
     ]
    }
   ],
   "source": [
    "s = string.replace('b','B')\n",
    "\n",
    "print(s)"
   ]
  },
  {
   "cell_type": "markdown",
   "id": "vertical-scenario",
   "metadata": {},
   "source": [
    "###  문자열 합치기"
   ]
  },
  {
   "cell_type": "code",
   "execution_count": null,
   "id": "alternative-spiritual",
   "metadata": {},
   "outputs": [],
   "source": [
    "아래 코드의 실행 결과를 예상해보세요.\n",
    "\n",
    ">> a = \"3\"\n",
    ">> b = \"4\"\n",
    ">> print(a + b)"
   ]
  },
  {
   "cell_type": "code",
   "execution_count": null,
   "id": "coupled-jacksonville",
   "metadata": {},
   "outputs": [],
   "source": [
    "예상: 34"
   ]
  },
  {
   "cell_type": "code",
   "execution_count": 106,
   "id": "congressional-interest",
   "metadata": {},
   "outputs": [
    {
     "name": "stdout",
     "output_type": "stream",
     "text": [
      "34\n"
     ]
    }
   ],
   "source": [
    "a = \"3\"\n",
    "b = \"4\"\n",
    "print(a + b)"
   ]
  },
  {
   "cell_type": "markdown",
   "id": "invalid-spare",
   "metadata": {},
   "source": [
    "### 문자열 곱하기"
   ]
  },
  {
   "cell_type": "code",
   "execution_count": null,
   "id": "alone-pocket",
   "metadata": {},
   "outputs": [],
   "source": [
    "아래 코드의 실행 결과를 예상해보세요.\n",
    "\n",
    ">> print(\"Hi\" * 3)"
   ]
  },
  {
   "cell_type": "code",
   "execution_count": null,
   "id": "dynamic-teach",
   "metadata": {},
   "outputs": [],
   "source": [
    "예상: HiHiHi"
   ]
  },
  {
   "cell_type": "code",
   "execution_count": 107,
   "id": "agricultural-louis",
   "metadata": {},
   "outputs": [
    {
     "name": "stdout",
     "output_type": "stream",
     "text": [
      "HiHiHi\n"
     ]
    }
   ],
   "source": [
    "print(\"Hi\"*3)"
   ]
  },
  {
   "cell_type": "markdown",
   "id": "automatic-recall",
   "metadata": {},
   "source": [
    "### 문자열 곱하기"
   ]
  },
  {
   "cell_type": "code",
   "execution_count": null,
   "id": "convertible-poster",
   "metadata": {},
   "outputs": [],
   "source": [
    "화면에 '-'를 80개 출력하세요.\n",
    "\n",
    "실행 예:\n",
    "--------------------------------------------------------------------------------"
   ]
  },
  {
   "cell_type": "code",
   "execution_count": 108,
   "id": "handmade-latter",
   "metadata": {},
   "outputs": [
    {
     "name": "stdout",
     "output_type": "stream",
     "text": [
      "--------------------------------------------------------------------------------\n"
     ]
    }
   ],
   "source": [
    "print('-'*80)"
   ]
  },
  {
   "cell_type": "markdown",
   "id": "appointed-soldier",
   "metadata": {},
   "source": [
    "### 문자열 곱하기"
   ]
  },
  {
   "cell_type": "code",
   "execution_count": null,
   "id": "extreme-english",
   "metadata": {},
   "outputs": [],
   "source": [
    "변수에 다음과 같은 문자열이 바인딩되어 있습니다.\n",
    "\n",
    ">>> t1 = 'python'\n",
    ">>> t2 = 'java'\n",
    "변수에 문자열 더하기와 문자열 곱하기를 사용해서 아래와 같이 출력해보세요.\n",
    "\n",
    "실행 예:\n",
    "python java python java python java python java"
   ]
  },
  {
   "cell_type": "code",
   "execution_count": 113,
   "id": "imported-apache",
   "metadata": {},
   "outputs": [
    {
     "name": "stdout",
     "output_type": "stream",
     "text": [
      "python java python java python java python java \n"
     ]
    }
   ],
   "source": [
    "t1 = 'python'\n",
    "t2 = 'java'\n",
    "\n",
    "\n",
    "t3 = t1 + ' ' + t2 + ' ' \n",
    "print(t3 *4)"
   ]
  },
  {
   "cell_type": "markdown",
   "id": "competent-decade",
   "metadata": {},
   "source": [
    "### 문자열 출력 ( %, formatting)"
   ]
  },
  {
   "cell_type": "code",
   "execution_count": null,
   "id": "technical-internship",
   "metadata": {},
   "outputs": [],
   "source": [
    "변수에 다음과 같이 문자열과 정수가 바인딩되어 있을 때 % formatting을 사용해서 다음과 같이 출력해보세요.\n",
    "\n",
    "name1 = \"김민수\" \n",
    "age1 = 10\n",
    "name2 = \"이철희\"\n",
    "age2 = 13\n",
    "\n",
    "\n",
    "이름: 김민수 나이: 10\n",
    "이름: 이철희 나이: 13"
   ]
  },
  {
   "cell_type": "code",
   "execution_count": 115,
   "id": "residential-rainbow",
   "metadata": {},
   "outputs": [],
   "source": [
    "name1 = \"김민수\" \n",
    "age1 = 10\n",
    "name2 = \"이철희\"\n",
    "age2 = 13\n",
    "\n",
    "print (name1, type(name1))\n",
    "print (age1, type(age1))"
   ]
  },
  {
   "cell_type": "code",
   "execution_count": 123,
   "id": "integrated-vintage",
   "metadata": {},
   "outputs": [
    {
     "name": "stdout",
     "output_type": "stream",
     "text": [
      "이름: 김민수 나이: 10\n",
      "이름: 이철희 나이: 13\n"
     ]
    }
   ],
   "source": [
    "print((\"이름: {}\" .format(name1))+' ' +(\"나이: {}\".format(age1)))\n",
    "print((\"이름: {}\" .format(name2))+' ' +(\"나이: {}\".format(age2)))"
   ]
  },
  {
   "cell_type": "code",
   "execution_count": 126,
   "id": "portable-candle",
   "metadata": {},
   "outputs": [
    {
     "name": "stdout",
     "output_type": "stream",
     "text": [
      "이름: 김민수 나이:10\n",
      "이름: 이철희 나이:13\n"
     ]
    }
   ],
   "source": [
    "#풀이\n",
    "print(\"이름: %s 나이:%d\"% (name1, age1))\n",
    "print(\"이름: %s 나이:%d\"% (name2, age2))\n",
    "\n",
    "#print 포맷팅에서 %s는 문자열 데이터 타입의 값을 %d는 정수형 데이터 타입 값의 출력을 의미합니다."
   ]
  },
  {
   "cell_type": "markdown",
   "id": "wound-principal",
   "metadata": {},
   "source": [
    "formatting이란 문자열을 더 잘 표현하기 위한 방법이다."
   ]
  },
  {
   "cell_type": "markdown",
   "id": "otherwise-chinese",
   "metadata": {},
   "source": [
    "**1. %-formatting**\n",
    "\n",
    "- % 연산자 사용하는 경우이다. 문자열에 숫자, 문자열을 대입할 수 있ㄱ, %d  %f  %s등이 사용된다.\n",
    "언어 초반에 상용되었으며, C언어에서 사용되는 방법으로 이 스타일을 c언어 스타일이라고도 한다.\n",
    "코드가 길어질수록 지저분해 보이기 때문에 많이 사용되는 방법은 아니다."
   ]
  },
  {
   "cell_type": "code",
   "execution_count": 128,
   "id": "first-accommodation",
   "metadata": {},
   "outputs": [
    {
     "data": {
      "text/plain": [
       "'My name is Jay'"
      ]
     },
     "execution_count": 128,
     "metadata": {},
     "output_type": "execute_result"
    }
   ],
   "source": [
    "# s% : 문자열을 대입할 때 사용한다.\n",
    "\n",
    "my_str = 'My name is %s' % 'Jay'\n",
    "my_str"
   ]
  },
  {
   "cell_type": "code",
   "execution_count": null,
   "id": "tough-pleasure",
   "metadata": {},
   "outputs": [],
   "source": [
    "# d%  : 정수형 숫자를 대입할 때 사용한다. 여러 값을 넣을 때는 괄효()를 이용한다. \n",
    "# (문자열에 숫자를 대입하는 것이기 때문에 문자열에 꼭 따옴표('',\"\")를 붙여줘야한다.) "
   ]
  },
  {
   "cell_type": "code",
   "execution_count": 131,
   "id": "british-sally",
   "metadata": {},
   "outputs": [
    {
     "data": {
      "text/plain": [
       "'1 2'"
      ]
     },
     "execution_count": 131,
     "metadata": {},
     "output_type": "execute_result"
    }
   ],
   "source": [
    "'%d %d'%(1,2)"
   ]
  },
  {
   "cell_type": "code",
   "execution_count": 132,
   "id": "narrative-patch",
   "metadata": {},
   "outputs": [
    {
     "data": {
      "text/plain": [
       "'3.140000'"
      ]
     },
     "execution_count": 132,
     "metadata": {},
     "output_type": "execute_result"
    }
   ],
   "source": [
    "# f% : 실수형 숫자를 대입할 때 사용한다\n",
    "\"%f\" % 3.14"
   ]
  },
  {
   "cell_type": "markdown",
   "id": "patient-locking",
   "metadata": {},
   "source": [
    "**2. '{}'.format()**\n",
    "\n",
    "- str.format()이라고도 한다. 1.%formatting과 결과는 같지만 좀 더 파이썬스러운 방법이다. 중괄효{}를 사용하는 방법으로, .format() 괄호안에 중괄호에 대입할 문자나 숫자를 입력한다."
   ]
  },
  {
   "cell_type": "code",
   "execution_count": 133,
   "id": "affecting-equivalent",
   "metadata": {},
   "outputs": [
    {
     "data": {
      "text/plain": [
       "'My name is Jay'"
      ]
     },
     "execution_count": 133,
     "metadata": {},
     "output_type": "execute_result"
    }
   ],
   "source": [
    "\"My name is {}\" .format('Jay')"
   ]
  },
  {
   "cell_type": "markdown",
   "id": "conceptual-romantic",
   "metadata": {},
   "source": [
    "여러개를 대입하는 것도 가능"
   ]
  },
  {
   "cell_type": "code",
   "execution_count": 134,
   "id": "polish-bikini",
   "metadata": {},
   "outputs": [
    {
     "data": {
      "text/plain": [
       "'2 * 3 = 6'"
      ]
     },
     "execution_count": 134,
     "metadata": {},
     "output_type": "execute_result"
    }
   ],
   "source": [
    "'{} * {} = {}'.format(2,3,2*3)"
   ]
  },
  {
   "cell_type": "markdown",
   "id": "collaborative-sight",
   "metadata": {},
   "source": [
    "중괄호{}에 들어갈 순서 지정도 가능하다.(%-formatting에선 불가능하다)"
   ]
  },
  {
   "cell_type": "code",
   "execution_count": 135,
   "id": "alpha-commerce",
   "metadata": {},
   "outputs": [
    {
     "data": {
      "text/plain": [
       "'3 * 2 = 6'"
      ]
     },
     "execution_count": 135,
     "metadata": {},
     "output_type": "execute_result"
    }
   ],
   "source": [
    "'{1} * {0} = {2}'.format(2,3,2*3)"
   ]
  },
  {
   "cell_type": "markdown",
   "id": "sexual-bible",
   "metadata": {},
   "source": [
    "**3. f-strings**\n",
    "\n",
    "- 새로운 python 문자열(strings) formatting 방법이다. 2.'{}'.format()과 사용이 비슷하지만 훨씬 코드가 깔끔하다.\n",
    "- 먼저 변수값에 값을 대입한 후, 중괄호{}에 변수명을 넣는다. 이때 중괄호가 들어가는 코드 처음에 f를 입력한다. 대문자 F도 가능하다."
   ]
  },
  {
   "cell_type": "code",
   "execution_count": 136,
   "id": "encouraging-adapter",
   "metadata": {},
   "outputs": [
    {
     "data": {
      "text/plain": [
       "'Hello, Jay. You are 28.'"
      ]
     },
     "execution_count": 136,
     "metadata": {},
     "output_type": "execute_result"
    }
   ],
   "source": [
    "name = 'Jay'\n",
    "age = 28\n",
    "\n",
    "f\"Hello, {name}. You are {age}.\"  #f 입력이 포인트"
   ]
  },
  {
   "cell_type": "code",
   "execution_count": 137,
   "id": "together-relations",
   "metadata": {},
   "outputs": [
    {
     "data": {
      "text/plain": [
       "'Hello, Jay. You are 28.'"
      ]
     },
     "execution_count": 137,
     "metadata": {},
     "output_type": "execute_result"
    }
   ],
   "source": [
    "F\"Hello, {name}. You are {age}.\""
   ]
  },
  {
   "cell_type": "markdown",
   "id": "lonely-retreat",
   "metadata": {},
   "source": [
    "문자 뿐만 아니라 숫자, 함수, 메소드 등 다양한 타입을 넣을 수 있다."
   ]
  },
  {
   "cell_type": "code",
   "execution_count": 139,
   "id": "filled-employee",
   "metadata": {},
   "outputs": [
    {
     "data": {
      "text/plain": [
       "'74'"
      ]
     },
     "execution_count": 139,
     "metadata": {},
     "output_type": "execute_result"
    }
   ],
   "source": [
    "# 숫자\n",
    "f\"{2*37}\""
   ]
  },
  {
   "cell_type": "code",
   "execution_count": 140,
   "id": "technical-adjustment",
   "metadata": {},
   "outputs": [
    {
     "data": {
      "text/plain": [
       "'eric idle is funny.'"
      ]
     },
     "execution_count": 140,
     "metadata": {},
     "output_type": "execute_result"
    }
   ],
   "source": [
    "# 함수\n",
    "def to_lowercase(input):\n",
    "    return input.lower()\n",
    "\n",
    "name = \"Eric Idle\"\n",
    "f\"{to_lowercase(name)} is funny.\""
   ]
  },
  {
   "cell_type": "code",
   "execution_count": 141,
   "id": "driven-closure",
   "metadata": {},
   "outputs": [
    {
     "data": {
      "text/plain": [
       "'eric idle is funny.'"
      ]
     },
     "execution_count": 141,
     "metadata": {},
     "output_type": "execute_result"
    }
   ],
   "source": [
    "# 메소드 : 메소드는 함수와 비슷하다. 클래스에 묶여서 인스턴스와 관계된 일을 한다.\n",
    "f\"{name.lower()} is funny.\""
   ]
  },
  {
   "cell_type": "markdown",
   "id": "soviet-conspiracy",
   "metadata": {},
   "source": [
    "### 문자열 출력"
   ]
  },
  {
   "cell_type": "code",
   "execution_count": null,
   "id": "constitutional-timer",
   "metadata": {},
   "outputs": [],
   "source": [
    "문자열의 format( ) 메서드를 사용해서 035번 문제를 다시 풀어보세요."
   ]
  },
  {
   "cell_type": "code",
   "execution_count": 143,
   "id": "above-jason",
   "metadata": {},
   "outputs": [
    {
     "name": "stdout",
     "output_type": "stream",
     "text": [
      "이름: 김민수 나이: 10\n",
      "이름: 이철희 나이: 13\n"
     ]
    }
   ],
   "source": [
    "print(\"이름: {} 나이: {}\".format(name1, age1))\n",
    "print(\"이름: {} 나이: {}\".format(name2, age2))"
   ]
  },
  {
   "cell_type": "markdown",
   "id": "refined-identifier",
   "metadata": {},
   "source": [
    "### 문자열 출력"
   ]
  },
  {
   "cell_type": "code",
   "execution_count": null,
   "id": "liquid-newman",
   "metadata": {},
   "outputs": [],
   "source": [
    "파이썬 3.6부터 지원하는 f-string을 사용해서 035번 문제를 다시 풀어보세요."
   ]
  },
  {
   "cell_type": "code",
   "execution_count": 147,
   "id": "political-cleaners",
   "metadata": {},
   "outputs": [
    {
     "name": "stdout",
     "output_type": "stream",
     "text": [
      "이름: 김민수 나이: 10.\n",
      "이름: 이철희 나이: 13.\n"
     ]
    }
   ],
   "source": [
    "print(f\"이름: {name1} 나이: {age1}.\")\n",
    "print(f\"이름: {name2} 나이: {age2}.\")"
   ]
  },
  {
   "cell_type": "markdown",
   "id": "ordinary-strike",
   "metadata": {},
   "source": [
    "### 컴마 제거하기"
   ]
  },
  {
   "cell_type": "code",
   "execution_count": 148,
   "id": "immediate-purple",
   "metadata": {},
   "outputs": [],
   "source": [
    "# 삼성전자의 상장주식수가 다음과 같습니다. 컴마를 제거한 후 이를 정수 타입으로 변환해보세요.\n",
    "\n",
    "# 상장주식수 = \"5,969,782,550\""
   ]
  },
  {
   "cell_type": "code",
   "execution_count": 150,
   "id": "functioning-moment",
   "metadata": {},
   "outputs": [
    {
     "name": "stdout",
     "output_type": "stream",
     "text": [
      "5969782550 <class 'int'>\n"
     ]
    }
   ],
   "source": [
    "상장주식수 = \"5,969,782,550\"\n",
    "컴마제거 = 상장주식수.replace(\",\",\"\")\n",
    "타입변환 = int(컴마제거)\n",
    "print(타입변환, type(타입변환))"
   ]
  },
  {
   "cell_type": "markdown",
   "id": "empirical-jacket",
   "metadata": {},
   "source": [
    "### 문자열 슬라이싱"
   ]
  },
  {
   "cell_type": "code",
   "execution_count": 156,
   "id": "dramatic-wyoming",
   "metadata": {},
   "outputs": [],
   "source": [
    "#다음과 같은 문자열에서 '2020/03'만 출력하세요.\n",
    "\n",
    "분기 = \"2020/03(E) (IFRS연결)\""
   ]
  },
  {
   "cell_type": "code",
   "execution_count": 157,
   "id": "matched-karen",
   "metadata": {},
   "outputs": [
    {
     "name": "stdout",
     "output_type": "stream",
     "text": [
      "2020/03\n"
     ]
    }
   ],
   "source": [
    "print(분기[:7])"
   ]
  },
  {
   "cell_type": "markdown",
   "id": "attempted-field",
   "metadata": {},
   "source": [
    "### strip 메서드"
   ]
  },
  {
   "cell_type": "code",
   "execution_count": 158,
   "id": "suitable-picking",
   "metadata": {},
   "outputs": [],
   "source": [
    "#문자열의 좌우의 공백이 있을 때 이를 제거해보세요.\n",
    "\n",
    "data = \"   삼성전자    \""
   ]
  },
  {
   "cell_type": "code",
   "execution_count": 161,
   "id": "exotic-american",
   "metadata": {},
   "outputs": [
    {
     "data": {
      "text/plain": [
       "'삼성전자'"
      ]
     },
     "execution_count": 161,
     "metadata": {},
     "output_type": "execute_result"
    }
   ],
   "source": [
    "data.strip()"
   ]
  },
  {
   "cell_type": "markdown",
   "id": "settled-blind",
   "metadata": {},
   "source": [
    "문자열에서 strip( ) 메서드를 사용하면 좌우의 공백을 제거할 수 있습니다. 이때 원본 문자열은 그대로 유지되고 공백이 제거된 새로운 문자열이 반환됩니다."
   ]
  },
  {
   "cell_type": "markdown",
   "id": "specialized-cosmetic",
   "metadata": {},
   "source": [
    "### upper 메서드"
   ]
  },
  {
   "cell_type": "code",
   "execution_count": 162,
   "id": "occupational-motorcycle",
   "metadata": {},
   "outputs": [],
   "source": [
    "# 다음과 같은 문자열이 있을 때 이를 대문자 BTC_KRW로 변경하세요.\n",
    "\n",
    "ticker = \"btc_krw\""
   ]
  },
  {
   "cell_type": "code",
   "execution_count": 163,
   "id": "comprehensive-freeze",
   "metadata": {},
   "outputs": [
    {
     "name": "stdout",
     "output_type": "stream",
     "text": [
      "BTC_KRW\n"
     ]
    }
   ],
   "source": [
    "print(ticker.upper())"
   ]
  },
  {
   "cell_type": "markdown",
   "id": "massive-monthly",
   "metadata": {},
   "source": [
    "###  lower 메서드"
   ]
  },
  {
   "cell_type": "code",
   "execution_count": 164,
   "id": "registered-kingston",
   "metadata": {},
   "outputs": [],
   "source": [
    "#다음과 같은 문자열이 있을 때 이를 소문자 btc_krw로 변경하세요.\n",
    "\n",
    "ticker = \"BTC_KRW\""
   ]
  },
  {
   "cell_type": "code",
   "execution_count": 165,
   "id": "fantastic-lyric",
   "metadata": {},
   "outputs": [
    {
     "name": "stdout",
     "output_type": "stream",
     "text": [
      "btc_krw\n"
     ]
    }
   ],
   "source": [
    "print(ticker.lower())"
   ]
  },
  {
   "cell_type": "markdown",
   "id": "confidential-hands",
   "metadata": {},
   "source": [
    "### capitalize 메서드"
   ]
  },
  {
   "cell_type": "code",
   "execution_count": 170,
   "id": "fleet-boring",
   "metadata": {},
   "outputs": [
    {
     "data": {
      "text/plain": [
       "'Hello'"
      ]
     },
     "execution_count": 170,
     "metadata": {},
     "output_type": "execute_result"
    }
   ],
   "source": [
    "# 문자열 'hello'가 있을 때 이를 'Hello'로 변경해보세요.\n",
    "\n",
    "a = 'hello'\n",
    "a. capitalize()"
   ]
  },
  {
   "cell_type": "markdown",
   "id": "bizarre-shape",
   "metadata": {},
   "source": [
    "### endswith 메서드"
   ]
  },
  {
   "cell_type": "code",
   "execution_count": 171,
   "id": "asian-george",
   "metadata": {},
   "outputs": [],
   "source": [
    "# 파일 이름이 문자열로 저장되어 있을 때 endswith 메서드를 사용해서 파일 이름이 'xlsx'로 끝나는지 확인해보세요.\n",
    "\n",
    "file_name = \"보고서.xlsx\""
   ]
  },
  {
   "cell_type": "code",
   "execution_count": 174,
   "id": "applied-wesley",
   "metadata": {},
   "outputs": [
    {
     "data": {
      "text/plain": [
       "True"
      ]
     },
     "execution_count": 174,
     "metadata": {},
     "output_type": "execute_result"
    }
   ],
   "source": [
    "file_name.endswith('xlsx')"
   ]
  },
  {
   "cell_type": "markdown",
   "id": "large-stuff",
   "metadata": {},
   "source": [
    "### endswith 메서드"
   ]
  },
  {
   "cell_type": "code",
   "execution_count": 175,
   "id": "spare-victim",
   "metadata": {},
   "outputs": [],
   "source": [
    "#파일 이름이 문자열로 저장되어 있을 때 endswith 메서드를 사용해서 파일 이름이 'xlsx' 또는 'xls'로 끝나는지 확인해보세요.\n",
    "\n",
    "file_name = \"보고서.xlsx\""
   ]
  },
  {
   "cell_type": "code",
   "execution_count": 180,
   "id": "through-rubber",
   "metadata": {},
   "outputs": [
    {
     "data": {
      "text/plain": [
       "True"
      ]
     },
     "execution_count": 180,
     "metadata": {},
     "output_type": "execute_result"
    }
   ],
   "source": [
    "file_name.endswith((\"xlsx\",\"xls\"))"
   ]
  },
  {
   "cell_type": "markdown",
   "id": "allied-maker",
   "metadata": {},
   "source": [
    "### startswith 메서드"
   ]
  },
  {
   "cell_type": "code",
   "execution_count": 181,
   "id": "promising-allergy",
   "metadata": {},
   "outputs": [],
   "source": [
    "#파일 이름이 문자열로 저장되어 있을 때 startswith 메서드를 사용해서 파일 이름이 '2020'로 시작하는지 확인해보세요.\n",
    "\n",
    "file_name = \"2020_보고서.xlsx\""
   ]
  },
  {
   "cell_type": "code",
   "execution_count": 183,
   "id": "sacred-suggestion",
   "metadata": {},
   "outputs": [
    {
     "data": {
      "text/plain": [
       "True"
      ]
     },
     "execution_count": 183,
     "metadata": {},
     "output_type": "execute_result"
    }
   ],
   "source": [
    "file_name.startswith(\"2020\")"
   ]
  },
  {
   "cell_type": "markdown",
   "id": "mechanical-operator",
   "metadata": {},
   "source": [
    "### split 메서드"
   ]
  },
  {
   "cell_type": "code",
   "execution_count": 184,
   "id": "following-kidney",
   "metadata": {},
   "outputs": [],
   "source": [
    "#다음과 같은 문자열이 있을 때 공백을 기준으로 문자열을 나눠보세요.\n",
    "\n",
    "a = \"hello world\""
   ]
  },
  {
   "cell_type": "code",
   "execution_count": 185,
   "id": "weekly-compatibility",
   "metadata": {},
   "outputs": [
    {
     "data": {
      "text/plain": [
       "['hello', 'world']"
      ]
     },
     "execution_count": 185,
     "metadata": {},
     "output_type": "execute_result"
    }
   ],
   "source": [
    "a.split(\" \")"
   ]
  },
  {
   "cell_type": "markdown",
   "id": "informal-discovery",
   "metadata": {},
   "source": [
    "###  split 메서드"
   ]
  },
  {
   "cell_type": "code",
   "execution_count": 186,
   "id": "atlantic-ministry",
   "metadata": {},
   "outputs": [],
   "source": [
    "#다음과 같이 문자열이 있을 때 btc와 krw로 나눠보세요.\n",
    "\n",
    "ticker = \"btc_krw\""
   ]
  },
  {
   "cell_type": "code",
   "execution_count": 187,
   "id": "sunrise-vitamin",
   "metadata": {},
   "outputs": [
    {
     "data": {
      "text/plain": [
       "['btc', 'krw']"
      ]
     },
     "execution_count": 187,
     "metadata": {},
     "output_type": "execute_result"
    }
   ],
   "source": [
    "ticker.split(\"_\")"
   ]
  },
  {
   "cell_type": "markdown",
   "id": "subject-message",
   "metadata": {},
   "source": [
    "### split 메서드"
   ]
  },
  {
   "cell_type": "code",
   "execution_count": 188,
   "id": "healthy-labor",
   "metadata": {},
   "outputs": [],
   "source": [
    "#다음과 같이 날짜를 표현하는 문자열이 있을 때 연도, 월, 일로 나눠보세요.\n",
    "\n",
    "date = \"2020-05-01\""
   ]
  },
  {
   "cell_type": "code",
   "execution_count": 189,
   "id": "assured-virtue",
   "metadata": {},
   "outputs": [
    {
     "data": {
      "text/plain": [
       "['2020', '05', '01']"
      ]
     },
     "execution_count": 189,
     "metadata": {},
     "output_type": "execute_result"
    }
   ],
   "source": [
    "date.split(\"-\")"
   ]
  },
  {
   "cell_type": "markdown",
   "id": "solid-preference",
   "metadata": {},
   "source": [
    "###  rstrip 메서드"
   ]
  },
  {
   "cell_type": "code",
   "execution_count": 190,
   "id": "military-prior",
   "metadata": {},
   "outputs": [],
   "source": [
    "#문자열의 오른쪽에 공백이 있을 때 이를 제거해보세요.\n",
    "\n",
    "data = \"039490     \""
   ]
  },
  {
   "cell_type": "code",
   "execution_count": 191,
   "id": "innocent-cigarette",
   "metadata": {},
   "outputs": [
    {
     "data": {
      "text/plain": [
       "'039490'"
      ]
     },
     "execution_count": 191,
     "metadata": {},
     "output_type": "execute_result"
    }
   ],
   "source": [
    "data.rstrip()"
   ]
  },
  {
   "cell_type": "markdown",
   "id": "digital-federation",
   "metadata": {},
   "source": [
    "rstrip() 메서드를 사용하면 오른쪽 공백이 제거된 새로운 문자열 객체가 반환됩니다. 그 값을 data라는 변수가 새로 바인딩합니다. 기존의 공백이 포함된 문자열은 메모리에서 자동으로 삭제됩니다"
   ]
  },
  {
   "cell_type": "code",
   "execution_count": 192,
   "id": "interstate-presentation",
   "metadata": {},
   "outputs": [],
   "source": [
    "num = \"     55555\""
   ]
  },
  {
   "cell_type": "code",
   "execution_count": 195,
   "id": "arranged-canyon",
   "metadata": {},
   "outputs": [
    {
     "data": {
      "text/plain": [
       "'55555'"
      ]
     },
     "execution_count": 195,
     "metadata": {},
     "output_type": "execute_result"
    }
   ],
   "source": [
    "num.lstrip()"
   ]
  },
  {
   "cell_type": "code",
   "execution_count": null,
   "id": "adolescent-treasury",
   "metadata": {},
   "outputs": [],
   "source": []
  }
 ],
 "metadata": {
  "kernelspec": {
   "display_name": "Python 3",
   "language": "python",
   "name": "python3"
  },
  "language_info": {
   "codemirror_mode": {
    "name": "ipython",
    "version": 3
   },
   "file_extension": ".py",
   "mimetype": "text/x-python",
   "name": "python",
   "nbconvert_exporter": "python",
   "pygments_lexer": "ipython3",
   "version": "3.8.8"
  },
  "toc": {
   "base_numbering": 1,
   "nav_menu": {},
   "number_sections": true,
   "sideBar": true,
   "skip_h1_title": false,
   "title_cell": "Table of Contents",
   "title_sidebar": "Contents",
   "toc_cell": false,
   "toc_position": {},
   "toc_section_display": true,
   "toc_window_display": false
  },
  "varInspector": {
   "cols": {
    "lenName": 16,
    "lenType": 16,
    "lenVar": 40
   },
   "kernels_config": {
    "python": {
     "delete_cmd_postfix": "",
     "delete_cmd_prefix": "del ",
     "library": "var_list.py",
     "varRefreshCmd": "print(var_dic_list())"
    },
    "r": {
     "delete_cmd_postfix": ") ",
     "delete_cmd_prefix": "rm(",
     "library": "var_list.r",
     "varRefreshCmd": "cat(var_dic_list()) "
    }
   },
   "types_to_exclude": [
    "module",
    "function",
    "builtin_function_or_method",
    "instance",
    "_Feature"
   ],
   "window_display": false
  }
 },
 "nbformat": 4,
 "nbformat_minor": 5
}
