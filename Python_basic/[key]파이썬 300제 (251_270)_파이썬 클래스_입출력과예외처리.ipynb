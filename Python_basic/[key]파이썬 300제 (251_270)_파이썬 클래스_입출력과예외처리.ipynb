{
 "cells": [
  {
   "cell_type": "markdown",
   "id": "surface-thumbnail",
   "metadata": {},
   "source": [
    "# 초보자를 위한 파이썬 300제\n",
    "https://wikidocs.net/78768"
   ]
  },
  {
   "cell_type": "markdown",
   "id": "overall-shannon",
   "metadata": {},
   "source": [
    "# 11. 파이썬 클래스\n",
    "\n",
    "파이썬 클래스는 타입을 만들어내는 도구입니다. int, float, str과 같이 여러분의 새로운 타입을 만들 수 있습니다."
   ]
  },
  {
   "cell_type": "markdown",
   "id": "assisted-literature",
   "metadata": {},
   "source": [
    "## 251 클래스, 객체, 인스턴스\n",
    "클래스, 객체, 인스턴스에 대해 설명해봅시다."
   ]
  },
  {
   "cell_type": "markdown",
   "id": "ignored-beast",
   "metadata": {},
   "source": [
    "클래스(class)란 똑같은 무엇인가를 계속해서 만들어 낼 수 있는 설계 도면이고(과자 틀), 객체(object)란 클래스로 만든 피조물(과자틀을 사용해 만든 과자)를 뜻한다.\n",
    "\n",
    "클래스로 만든 객체에는 중요한 특정이 있다. 바로 객체마다 고유한 성격을 가진다는 것이다. 과자 틀로 만든 과자에 구멍을 뚫거나 조금 베어 먹더라도 다른 과자에는 아무 영향이 없는 것과 마찬가지로 동일한 클래스로 만든 객체들은 서로 전혀 영향을 주지 않는다.\n",
    "\n",
    "> class Cookie:\n",
    ">    pass\n",
    "\n",
    "위의 클래스는 아무 기능도 갖고 있지 않은 껍질뿐인 클래스이다. 하지만 이렇게 껍질뿐인 클래스도 객체를 생성하는 기능이 있다. \"과자 틀\"로 \"과자\"를 만드는 것처럼 말이다.\n",
    "\n",
    "객체는 클래스로 만들며 1개의 클래스는 무수히 많은 객체를 만들어 낼 수 있다. 위에서 만든 Cookie 클래스의 객체를 만드는 방법은 다음과 같다.\n",
    "\n",
    "> a = Cookie()\n",
    "> b = Cookie()\n",
    "\n",
    "Cookie()의 결괏값을 돌려받은 a와 b가 바로 객체이다. 마치 함수를 사용해서 그 결괏값을 돌려받는 모습과 비슷하다.\n",
    "\n",
    "\n",
    "[객체와 인스턴스의 차이]\n",
    "클래스로 만든 객체를 인스턴스라고도 한다. 그렇다면 객체와 인스턴스의 차이는 무엇일까? 이렇게 생각해 보자. a= Cookie() 이렇게 a는 객체이다. 그리고 a객체는 Cookie의 인스턴스이다. 즉 인스턴스라는 말은 특정 객체(a)가 어떤 클래스(Cookie)의 객체인지를 관계 위주로 설명할 때 사용한다. \"a는 인스턴스\"보다는 \"a는 객체\"라는 표현이 어울리며 \"a는 Cookie의 객체\"보다는 \"a는 Cookie의 인스턴스\"라는 표현이 훨씬 잘 어울린다."
   ]
  },
  {
   "cell_type": "markdown",
   "id": "driving-share",
   "metadata": {},
   "source": [
    "- 클래스: 붕어빵 틀고 같은 것, 객체나 인스턴스의 설계도\n",
    "클래스로부터 만들어진 실제 메모리에 할당되는 것이 객체 또는 인스턴스 이다.\n",
    "- 객체(obejct):만들어진 \n",
    "- 인스턴스: 어떤 클래스로부터 만들어 졌는지 강조하고 싶을 때 사용 "
   ]
  },
  {
   "cell_type": "markdown",
   "id": "accomplished-providence",
   "metadata": {},
   "source": [
    "## 252 클래스 정의\n",
    "비어있는 사람 (Human) 클래스를 \"정의\" 해보세요."
   ]
  },
  {
   "cell_type": "code",
   "execution_count": 2,
   "id": "noticed-carter",
   "metadata": {},
   "outputs": [],
   "source": [
    "class Human: \n",
    "    pass"
   ]
  },
  {
   "cell_type": "markdown",
   "id": "corrected-oasis",
   "metadata": {},
   "source": [
    "## 253 인스턴스 생성\n",
    "사람 (Human) 클래스의 인스턴스를 \"생성\" 하고 이를 areum 변수로 바인딩해보세요."
   ]
  },
  {
   "cell_type": "code",
   "execution_count": 4,
   "id": "charitable-atmosphere",
   "metadata": {},
   "outputs": [],
   "source": [
    "class Human: \n",
    "    pass\n",
    "\n",
    "areum = Human()"
   ]
  },
  {
   "cell_type": "markdown",
   "id": "collective-preliminary",
   "metadata": {},
   "source": [
    "## 254 클래스 생성자-1\n",
    "사람 (Human) 클래스에 \"응애응애\"를 출력하는 생성자를 추가하세요."
   ]
  },
  {
   "cell_type": "code",
   "execution_count": 8,
   "id": "possible-removal",
   "metadata": {},
   "outputs": [],
   "source": [
    "class Human:\n",
    "    def __init__(self):\n",
    "        print(\"응애응애\")"
   ]
  },
  {
   "cell_type": "code",
   "execution_count": 9,
   "id": "historical-valuable",
   "metadata": {},
   "outputs": [
    {
     "name": "stdout",
     "output_type": "stream",
     "text": [
      "응애응애\n"
     ]
    }
   ],
   "source": [
    "areum= Human()"
   ]
  },
  {
   "cell_type": "markdown",
   "id": "executed-intranet",
   "metadata": {},
   "source": [
    "## 255 클래스 생성자-2\n",
    "사람 (Human) 클래스에 (이름, 나이, 성별)을 받는 생성자를 추가하세요."
   ]
  },
  {
   "cell_type": "code",
   "execution_count": 11,
   "id": "diverse-interim",
   "metadata": {},
   "outputs": [
    {
     "name": "stdout",
     "output_type": "stream",
     "text": [
      "이름\n"
     ]
    }
   ],
   "source": [
    "class Human:\n",
    "    def __init__(self,name, age, sex):\n",
    "        self.name = name\n",
    "        self.age = age\n",
    "        self.sex = sex\n",
    "\n",
    "areum=Human(\"이름\", 25, \"여자\")  \n",
    "\n",
    "print(areum.name)"
   ]
  },
  {
   "cell_type": "markdown",
   "id": "separated-injury",
   "metadata": {},
   "source": [
    "## 256 인스턴스 속성에 접근\n",
    "255에서 생성한 인스턴스의 이름, 나이, 성별을 출력하세요. 인스턴스 변수에 접근하여 값을 출력하면 됩니다."
   ]
  },
  {
   "cell_type": "code",
   "execution_count": null,
   "id": "narrative-chase",
   "metadata": {},
   "outputs": [],
   "source": [
    "이름: 조아름, 나이: 25, 성별: 여자"
   ]
  },
  {
   "cell_type": "markdown",
   "id": "informed-request",
   "metadata": {},
   "source": [
    "인스턴스 변수에 접근하여 값을 가져오는 예\n",
    "\n",
    " areum.age  \n",
    "25"
   ]
  },
  {
   "cell_type": "code",
   "execution_count": 13,
   "id": "indie-lending",
   "metadata": {},
   "outputs": [
    {
     "name": "stdout",
     "output_type": "stream",
     "text": [
      "25\n"
     ]
    }
   ],
   "source": [
    "class Human:\n",
    "    def __init__(self,name, age, sex):\n",
    "        self.name = name\n",
    "        self.age = age\n",
    "        self.sex = sex\n",
    "\n",
    "areum=Human(\"이름\", 25, \"여자\")  \n",
    "\n",
    "print(areum.age)"
   ]
  },
  {
   "cell_type": "markdown",
   "id": "dirty-gothic",
   "metadata": {},
   "source": [
    "## 257 클래스 메소드 - 1\n",
    "사람 (Human) 클래스에서 이름, 나이, 성별을 출력하는 who() 메소드를 추가하세요\n",
    "\n",
    "areum.who()  \n",
    "이름: 조아름, 나이: 25, 성별: 여자  "
   ]
  },
  {
   "cell_type": "code",
   "execution_count": 14,
   "id": "checked-range",
   "metadata": {},
   "outputs": [
    {
     "name": "stdout",
     "output_type": "stream",
     "text": [
      "이름:이름 나이:25 성별: 여자\n"
     ]
    }
   ],
   "source": [
    "class Human:\n",
    "    def __init__(self,name, age, sex):\n",
    "        self.name = name\n",
    "        self.age = age\n",
    "        self.sex = sex\n",
    "    def who(self):\n",
    "        print(\"이름:{} 나이:{} 성별: {}\".format(self.name, self.age, self.sex))\n",
    "\n",
    "areum=Human(\"아름\", 25, \"여자\")  \n",
    "areum.who()\n"
   ]
  },
  {
   "cell_type": "markdown",
   "id": "expensive-tooth",
   "metadata": {},
   "source": [
    "## 258 클래스 메소드 - 2\n",
    "사람 (Human) 클래스에 (이름, 나이, 성별)을 받는 setInfo 메소드를 추가하세요.\n",
    "\n",
    "areum = Human(\"모름\", 0, \"모름\")  \n",
    "areum.setInfo(\"아름\", 25, \"여자\")  "
   ]
  },
  {
   "cell_type": "code",
   "execution_count": 16,
   "id": "animal-contrast",
   "metadata": {},
   "outputs": [
    {
     "name": "stdout",
     "output_type": "stream",
     "text": [
      "이름:불명 나이:0 성별: 모름\n",
      "이름:이름 나이:25 성별: 여자\n"
     ]
    }
   ],
   "source": [
    "class Human:\n",
    "    def __init__(self,name, age, sex):\n",
    "        self.name = name\n",
    "        self.age = age\n",
    "        self.sex = sex\n",
    "    \n",
    "    def who(self):\n",
    "        print(\"이름:{} 나이:{} 성별: {}\".format(self.name, self.age, self.sex))\n",
    "    \n",
    "    def selfinfo(self, name, age, sex):\n",
    "        self.name=name\n",
    "        self.age = age\n",
    "        self.sex = sex\n",
    "\n",
    "areum=Human(\"불명\", \"0\",\"모름\")\n",
    "areum.who()\n",
    "\n",
    "areum=Human(\"아름\", 25, \"여자\")  \n",
    "areum.who()\n"
   ]
  },
  {
   "cell_type": "markdown",
   "id": "tropical-checklist",
   "metadata": {},
   "source": [
    "## 259 클래스 소멸자\n",
    "사람 (human) 클래스에 \"나의 죽음을 알리지 말라\"를 출력하는 소멸자를 추가하세요.\n",
    "\n",
    "areum = Human(\"아름\", 25, \"여자\")   \n",
    "del areum  \n",
    "나의 죽음을 알리지 말라  "
   ]
  },
  {
   "cell_type": "code",
   "execution_count": 20,
   "id": "absent-barrel",
   "metadata": {},
   "outputs": [
    {
     "name": "stdout",
     "output_type": "stream",
     "text": [
      "나의 죽음을 알리지 마라\n"
     ]
    }
   ],
   "source": [
    "class Human:\n",
    "    def __init__(self,name, age, sex):\n",
    "        self.name = name\n",
    "        self.age = age\n",
    "        self.sex = sex\n",
    "    \n",
    "    def __del__(self):\n",
    "        print(\"나의 죽음을 알리지 마라\")\n",
    "    \n",
    "    def who(self):\n",
    "        print(\"이름:{} 나이:{} 성별: {}\".format(self.name, self.age, self.sex))\n",
    "    \n",
    "    def selfinfo(self, name, age, sex):\n",
    "        self.name=name\n",
    "        self.age = age\n",
    "        self.sex = sex\n",
    "\n",
    "\n",
    "areum=Human(\"아름\", 25, \"여자\") \n",
    "del(areum)"
   ]
  },
  {
   "cell_type": "markdown",
   "id": "affiliated-container",
   "metadata": {},
   "source": [
    "## 260 에러의 원인\n",
    "아래와 같은 에러가 발생한 원인에 대해 설명하세요.\n",
    "\n",
    "\n",
    "class OMG :  \n",
    "    def print() :  \n",
    "        print(\"Oh my god\")  \n",
    "\n",
    " myStock = OMG()\n",
    " myStock.print()\n",
    "TypeError Traceback (most recent call last)\n",
    "<ipython-input-233-c85c04535b22> in <module>()\n",
    "----> myStock.print()\n",
    "\n",
    "TypeError: print() takes 0 positional arguments but 1 was given"
   ]
  },
  {
   "cell_type": "code",
   "execution_count": 2,
   "id": "naughty-looking",
   "metadata": {},
   "outputs": [
    {
     "ename": "TypeError",
     "evalue": "print() takes 0 positional arguments but 2 were given",
     "output_type": "error",
     "traceback": [
      "\u001b[1;31m---------------------------------------------------------------------------\u001b[0m",
      "\u001b[1;31mTypeError\u001b[0m                                 Traceback (most recent call last)",
      "\u001b[1;32m<ipython-input-2-57f2a75b02b8>\u001b[0m in \u001b[0;36m<module>\u001b[1;34m\u001b[0m\n\u001b[0;32m      4\u001b[0m \u001b[1;33m\u001b[0m\u001b[0m\n\u001b[0;32m      5\u001b[0m \u001b[0mmystock\u001b[0m\u001b[1;33m=\u001b[0m\u001b[0mOMG\u001b[0m\u001b[1;33m(\u001b[0m\u001b[1;33m)\u001b[0m\u001b[1;33m\u001b[0m\u001b[1;33m\u001b[0m\u001b[0m\n\u001b[1;32m----> 6\u001b[1;33m \u001b[0mmystock\u001b[0m\u001b[1;33m.\u001b[0m\u001b[0mprint\u001b[0m\u001b[1;33m(\u001b[0m\u001b[0mmystock\u001b[0m\u001b[1;33m)\u001b[0m\u001b[1;33m\u001b[0m\u001b[1;33m\u001b[0m\u001b[0m\n\u001b[0m",
      "\u001b[1;31mTypeError\u001b[0m: print() takes 0 positional arguments but 2 were given"
     ]
    }
   ],
   "source": [
    "class OMG:\n",
    "    def print():\n",
    "        print(\"oh my god\")\n",
    "        \n",
    "mystock=OMG()\n",
    "mystock.print(mystock)"
   ]
  },
  {
   "cell_type": "markdown",
   "id": "potential-grace",
   "metadata": {},
   "source": [
    "## 261 Stock 클래스 생성\n",
    "주식 종목에 대한 정보를 저장하는 Stock 클래스를 정의해보세요. 클래스는 속성과 메서드를 갖고 있지 않습니다."
   ]
  },
  {
   "cell_type": "code",
   "execution_count": 10,
   "id": "packed-screen",
   "metadata": {},
   "outputs": [],
   "source": [
    "class Stock:\n",
    "    pass"
   ]
  },
  {
   "cell_type": "markdown",
   "id": "median-affair",
   "metadata": {},
   "source": [
    "## 262 생성자\n",
    "Stock 클래스의 객체가 생성될 때 종목명과 종목코드를 입력 받을 수 있도록 생성자를 정의해보세요.  \n",
    "\n",
    "삼성 = Stock(\"삼성전자\", \"005930\")"
   ]
  },
  {
   "cell_type": "code",
   "execution_count": 13,
   "id": "referenced-knitting",
   "metadata": {},
   "outputs": [
    {
     "name": "stdout",
     "output_type": "stream",
     "text": [
      "삼성전자\n",
      "005930\n"
     ]
    }
   ],
   "source": [
    "class Stock:\n",
    "    def __init__(self,name,code):\n",
    "        self.name=name\n",
    "        self.code=code\n",
    "\n",
    "삼성 = Stock(\"삼성전자\", \"005930\")\n",
    "print(삼성.name)\n",
    "print(삼성.code)\n"
   ]
  },
  {
   "cell_type": "markdown",
   "id": "configured-monaco",
   "metadata": {},
   "source": [
    "## 263 메서드\n",
    "객체에 종목명을 입력할 수 있는 set_name 메서드를 추가해보세요.\n",
    "\n",
    "a = Stock(None, None)  \n",
    "a.set_name(\"삼성전자\")  "
   ]
  },
  {
   "cell_type": "code",
   "execution_count": 14,
   "id": "conceptual-afternoon",
   "metadata": {},
   "outputs": [
    {
     "name": "stdout",
     "output_type": "stream",
     "text": [
      "삼성전자\n"
     ]
    }
   ],
   "source": [
    "class Stock:\n",
    "    def __init__(self,name,code):\n",
    "        self.name=name\n",
    "        self.code=code\n",
    "        \n",
    "    def set_name(self,name):\n",
    "        self.name=name\n",
    "        \n",
    "a=Stock(None, None)\n",
    "a.set_name(\"삼성전자\") # stock.set_name(a,\"삼성전자\")\n",
    "print(a.name)        "
   ]
  },
  {
   "cell_type": "markdown",
   "id": "played-dylan",
   "metadata": {},
   "source": [
    "## 264 메서드\n",
    "객체에 종목코드를 입력할 수 있는 set_code 메서드를 추가해보세요.\n",
    "\n",
    "a = Stock(None, None)  \n",
    "a.set_code(\"005930\")"
   ]
  },
  {
   "cell_type": "code",
   "execution_count": 17,
   "id": "northern-demonstration",
   "metadata": {},
   "outputs": [
    {
     "name": "stdout",
     "output_type": "stream",
     "text": [
      "005930\n"
     ]
    }
   ],
   "source": [
    "class Stock:\n",
    "    def __init__(self,name,code):\n",
    "        self.name=name\n",
    "        self.code=code\n",
    "        \n",
    "    def set_name(self,name):\n",
    "        self.name=name\n",
    "        \n",
    "    def set_code(self,code):\n",
    "        self.code=code\n",
    "\n",
    "a=Stock(None,None)\n",
    "a.set_code(\"005930\")\n",
    "print(a.code)"
   ]
  },
  {
   "cell_type": "markdown",
   "id": "modern-tennessee",
   "metadata": {},
   "source": [
    "### 265 메서드\n",
    "종목명과 종목코드를 리턴하는 get_name, get_code 메서드를 추가하세요. 해당 메서드를 사용하여 종목명과 종목코드를 얻고 이를 출력해보세요.\n",
    "\n",
    "삼성 = Stock(\"삼성전자\", \"005930\")"
   ]
  },
  {
   "cell_type": "code",
   "execution_count": 19,
   "id": "detected-absolute",
   "metadata": {},
   "outputs": [
    {
     "name": "stdout",
     "output_type": "stream",
     "text": [
      "삼성전자\n",
      "005930\n",
      "삼성전자\n",
      "005930\n"
     ]
    }
   ],
   "source": [
    "class Stock:\n",
    "    def __init__(self, name, code):\n",
    "        self.name=name\n",
    "        self.code=code\n",
    "        \n",
    "    def set_name(self,name):\n",
    "        self.name=name\n",
    "    \n",
    "    def set_code(self,code):\n",
    "        self.code=code\n",
    "    \n",
    "    def get_name(self):\n",
    "        return self.name\n",
    "    \n",
    "    def get_code(self):\n",
    "        return self.code\n",
    "    \n",
    "삼성=Stock(\"삼성전자\",\"005930\")\n",
    "print(삼성.name)\n",
    "print(삼성.code)\n",
    "print(삼성.get_name())\n",
    "print(삼성.get_code())"
   ]
  },
  {
   "cell_type": "markdown",
   "id": "junior-suspect",
   "metadata": {},
   "source": [
    "## 266 객체의 속성값 업데이트\n",
    "생성자에서 종목명, 종목코드, PER, PBR, 배당수익률을 입력 받을 수 있도록 생성자를 수정하세요. PER, PBR, 배당수익률은 float 타입입니다."
   ]
  },
  {
   "cell_type": "code",
   "execution_count": 20,
   "id": "similar-lingerie",
   "metadata": {},
   "outputs": [],
   "source": [
    "class Stock:\n",
    "    def __init__(self,name,code, per,pbr, 배당수익률):\n",
    "        self.name=name\n",
    "        self.code=code\n",
    "        self.per=per\n",
    "        self.pbr=pbr\n",
    "        self.배당수익률=배당수익률\n",
    "    \n",
    "    def set_name(self, name):\n",
    "        self.name=name\n",
    "        \n",
    "    def set_code(self, code):\n",
    "        self.code=code\n",
    "        \n",
    "    def set_name(self):\n",
    "        return self.name\n",
    "    \n",
    "    def set_code(self):\n",
    "        return self.code"
   ]
  },
  {
   "cell_type": "markdown",
   "id": "serious-amazon",
   "metadata": {},
   "source": [
    "## 267 객체 생성\n",
    "266번에서 정의한 생성자를 통해 다음 정보를 갖는 객체를 생성해보세요.\n",
    "\n",
    "\n",
    "항목\t|정보\n",
    "---|----\n",
    "종목명\t|삼성전자\n",
    "종목코드|\t005930\n",
    "PER|\t15.79\n",
    "PBR|\t1.33\n",
    "배당수익률|\t2.83"
   ]
  },
  {
   "cell_type": "code",
   "execution_count": 21,
   "id": "pediatric-treaty",
   "metadata": {},
   "outputs": [
    {
     "name": "stdout",
     "output_type": "stream",
     "text": [
      "2.83\n"
     ]
    }
   ],
   "source": [
    "삼성 = Stock(\"삼성전자\",\"005930\",15.79,1.33,2.83)\n",
    "print(삼성.배당수익률)"
   ]
  },
  {
   "cell_type": "markdown",
   "id": "alternate-sustainability",
   "metadata": {},
   "source": [
    "## 268 객체의 속성 수정\n",
    "PER, PBR, 배당수익률은 변경될 수 있는 값입니다. 이 값을 변경할 때 사용하는 set_per, set_pbr, set_dividend 메서드를 추가하세요."
   ]
  },
  {
   "cell_type": "code",
   "execution_count": 23,
   "id": "lightweight-throw",
   "metadata": {},
   "outputs": [],
   "source": [
    "class Stock:\n",
    "    def __init__ (self, name, code, per,pbr, dividend):\n",
    "        self.name=name\n",
    "        self.code=code\n",
    "        self.per=per\n",
    "        self.pbr=pbr\n",
    "        self.dividend=dividend\n",
    "        \n",
    "    def set_name(self, name):\n",
    "        self.name=name\n",
    "        \n",
    "    def set_code(self, code):\n",
    "        self.code=code\n",
    "        \n",
    "    def get_name(self):\n",
    "        return self.name\n",
    "        \n",
    "    def get_code(self):\n",
    "        return self.code\n",
    "    \n",
    "    def set_per(self,per):\n",
    "        self.per=per\n",
    "        \n",
    "    def set_pbr(self, pbr):\n",
    "        self.pbr=bpr\n",
    "        \n",
    "    def set_dividend(self, dividend):\n",
    "        self.dividend=dividend\n",
    "    "
   ]
  },
  {
   "cell_type": "markdown",
   "id": "tutorial-assembly",
   "metadata": {},
   "source": [
    "## 269 객체의 속성 수정\n",
    "267번에서 생성한 객체에 set_per 메서드를 호출하여 per 값을 12.75로 수정해보세요."
   ]
  },
  {
   "cell_type": "code",
   "execution_count": 24,
   "id": "outstanding-beads",
   "metadata": {},
   "outputs": [
    {
     "name": "stdout",
     "output_type": "stream",
     "text": [
      "12.75\n"
     ]
    }
   ],
   "source": [
    "삼성 = Stock(\"삼성전자\",\"005930\",12.75,1.33,2.83)\n",
    "print(삼성.per)"
   ]
  },
  {
   "cell_type": "markdown",
   "id": "remarkable-elevation",
   "metadata": {},
   "source": [
    "## 270 여러 종목의 객체 생성\n",
    "아래의 표를 참조하여 3종목에 대해 객체를 생성하고 이를 파이썬 리스트에 저장하세요. 파이썬 리스트에 저장된 각 종목에 대해 for 루프를 통해 종목코드와 PER을 출력해보세요.\n",
    "\n",
    "종목명|\t종목코드|\tPER|\tPBR|\t배당수익률\n",
    "---|---|---|---|---\n",
    "삼성전자|\t005930|\t15.79|\t1.33|\t2.83\n",
    "현대차|\t005380|\t8.70|\t0.35|\t4.27\n",
    "LG전자|\t066570|\t317.34|\t0.69|\t1.37"
   ]
  },
  {
   "cell_type": "code",
   "execution_count": 26,
   "id": "neural-internet",
   "metadata": {},
   "outputs": [
    {
     "name": "stdout",
     "output_type": "stream",
     "text": [
      "005930 15.79\n",
      "005380 8.7\n",
      "066570 317.34\n"
     ]
    }
   ],
   "source": [
    "종목=[]\n",
    "\n",
    "삼성 = Stock(\"삼성전자\",\"005930\",15.79,1.33,2.83)\n",
    "현대차 = Stock(\"현대차\",\"005380\",8.70,0.35,4.27)\n",
    "LG전자= Stock(\"LG전자\",\"066570\",317.34,0.69,1.37)\n",
    "\n",
    "종목.append(삼성)\n",
    "종목.append(현대차)\n",
    "종목.append(LG전자)\n",
    "\n",
    "for i in 종목:\n",
    "    print(i.code,i.per)"
   ]
  },
  {
   "cell_type": "code",
   "execution_count": null,
   "id": "exact-detail",
   "metadata": {},
   "outputs": [],
   "source": []
  }
 ],
 "metadata": {
  "kernelspec": {
   "display_name": "Python 3",
   "language": "python",
   "name": "python3"
  },
  "language_info": {
   "codemirror_mode": {
    "name": "ipython",
    "version": 3
   },
   "file_extension": ".py",
   "mimetype": "text/x-python",
   "name": "python",
   "nbconvert_exporter": "python",
   "pygments_lexer": "ipython3",
   "version": "3.8.8"
  },
  "toc": {
   "base_numbering": 1,
   "nav_menu": {},
   "number_sections": true,
   "sideBar": true,
   "skip_h1_title": false,
   "title_cell": "Table of Contents",
   "title_sidebar": "Contents",
   "toc_cell": false,
   "toc_position": {},
   "toc_section_display": true,
   "toc_window_display": false
  },
  "varInspector": {
   "cols": {
    "lenName": 16,
    "lenType": 16,
    "lenVar": 40
   },
   "kernels_config": {
    "python": {
     "delete_cmd_postfix": "",
     "delete_cmd_prefix": "del ",
     "library": "var_list.py",
     "varRefreshCmd": "print(var_dic_list())"
    },
    "r": {
     "delete_cmd_postfix": ") ",
     "delete_cmd_prefix": "rm(",
     "library": "var_list.r",
     "varRefreshCmd": "cat(var_dic_list()) "
    }
   },
   "types_to_exclude": [
    "module",
    "function",
    "builtin_function_or_method",
    "instance",
    "_Feature"
   ],
   "window_display": false
  }
 },
 "nbformat": 4,
 "nbformat_minor": 5
}
