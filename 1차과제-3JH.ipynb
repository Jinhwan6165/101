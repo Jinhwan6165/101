{
 "cells": [
  {
   "cell_type": "markdown",
   "metadata": {},
   "source": [
    "# 네이버 API 사용하기\n",
    "step1 \n",
    "- 캠페인ID를 for문을 사용하여 출력하기"
   ]
  },
  {
   "cell_type": "code",
   "execution_count": 1,
   "metadata": {},
   "outputs": [],
   "source": [
    "# 캠페인 ID 입력\n",
    "campaign_ids=['cmp-a001-01-000000003363186','cmp-a001-01-000000001420778','cmp-a001-02-000000002520245']"
   ]
  },
  {
   "cell_type": "code",
   "execution_count": 2,
   "metadata": {},
   "outputs": [
    {
     "name": "stdout",
     "output_type": "stream",
     "text": [
      "cmp-a001-01-000000003363186\n",
      "cmp-a001-01-000000001420778\n",
      "cmp-a001-02-000000002520245\n"
     ]
    }
   ],
   "source": [
    "# 캠페인아이디 별로 도는 for문 \n",
    "for campaign_id in campaign_ids:\n",
    "    print(campaign_id)"
   ]
  },
  {
   "cell_type": "markdown",
   "metadata": {},
   "source": [
    "# 캠페인아이디별로 데이터 가져오기\n",
    "step2\n",
    "- 캠페인별 데이터 불러오기"
   ]
  },
  {
   "cell_type": "code",
   "execution_count": 5,
   "metadata": {},
   "outputs": [
    {
     "name": "stdout",
     "output_type": "stream",
     "text": [
      "response status_code = 200\n",
      "response body = {'data': [], 'compTm': '202104060154', 'cycleBaseTm': '202104050000'}\n",
      "response status_code = 200\n",
      "response body = {'data': [], 'compTm': '202104060154', 'cycleBaseTm': '202104050000'}\n",
      "response status_code = 200\n",
      "response body = {'data': [{'ctr': 1.75, 'convAmt': 0, 'clkCnt': 23, 'ror': 0, 'cpc': 176, 'ccnt': 0, 'avgRnk': 2.7, 'id': 'cmp-a001-02-000000002520245', 'impCnt': 1315, 'salesAmt': 4059}], 'compTm': '202104060154', 'cycleBaseTm': '202104050000'}\n"
     ]
    }
   ],
   "source": [
    "#예제\n",
    "\n",
    "import time\n",
    "import random\n",
    "import requests\n",
    "\n",
    "import signaturehelper\n",
    "\n",
    "\n",
    "def get_header(method, uri, api_key, secret_key, customer_id):\n",
    "    timestamp = str(round(time.time() * 1000))\n",
    "    signature = signaturehelper.Signature.generate(timestamp, method, uri, SECRET_KEY)\n",
    "    return {'Content-Type': 'application/json; charset=UTF-8', 'X-Timestamp': timestamp, 'X-API-KEY': API_KEY, 'X-Customer': str(CUSTOMER_ID), 'X-Signature': signature}\n",
    "\n",
    "# 아래에 자기 정보를 복붙하세요\n",
    "BASE_URL = 'https://api.naver.com'\n",
    "API_KEY = '0100000000d0a8fdadf02dee71a0bfc3f3cb221dace11ed3462aeae7ae7a62ffa76574248c'\n",
    "SECRET_KEY = 'AQAAAADQqP2t8C3ucaC/w/PLIh2sG2Oznh8gVaTkd3ep+hi3Wg=='\n",
    "CUSTOMER_ID = '1466756'\n",
    "\n",
    "\n",
    "uri = '/stats' #SAMPLE API를 작성하신분이 uri라는 변수에 API 서비스를 입력해놓았고요, 아래 보시면 BASE_URL + uri과 uri변수를 합쳐서 \n",
    "# 요청에 사용되는 주소를 만들도록 하였습니다. \n",
    "method = 'GET' #method='get'\n",
    "\n",
    "for campaign_id in campaign_ids:\n",
    "    r = requests.get(BASE_URL + uri, params={'ids': campaign_id, \n",
    "                                                 'fields': '[\"clkCnt\",\"impCnt\",\"salesAmt\", \"ctr\", \"cpc\", \"avgRnk\", \"ccnt\",\"convAmt\",\"ror\"]', \n",
    "                                                 'timeRange': '{\"since\":\"2020-11-01\",\"until\" :\"2020-11-01\"}'}, \n",
    "                         headers=get_header(method, uri, API_KEY, SECRET_KEY, CUSTOMER_ID))\n",
    "\n",
    "    print(\"response status_code = {}\".format(r.status_code))\n",
    "    print(\"response body = {}\".format(r.json()))"
   ]
  },
  {
   "cell_type": "code",
   "execution_count": null,
   "metadata": {},
   "outputs": [],
   "source": [
    "#위 스크립트를 참고하여 데이터를 호출할 수 있는 또 다른 스크립트를 직접 구성해보세요\n",
    "\n",
    "\n",
    "## Adgroup서비스 요청 코드 입력\n",
    "## 현재 네이버 광고 콘솔에 등록되어 있는 광고그룹 출력\n",
    "\n",
    "import time\n",
    "import random\n",
    "import requests\n",
    "\n",
    "import signaturehelper\n",
    "\n",
    "def get_header(method, uri, api_key, secret_key, customer_id):\n",
    "    timestamp = str(round(time.time() * 1000))\n",
    "    signature = signaturehelper.Signature.generate(timestamp, method, uri, SECRET_KEY)\n",
    "    return {'Content-Type': 'application/json; charset=UTF-8', 'X-Timestamp': timestamp, 'X-API-KEY': API_KEY, 'X-Customer': str(CUSTOMER_ID), 'X-Signature': signature}\n",
    "\n",
    "# 아래에 자기 정보를 복붙하세요\n",
    "BASE_URL = 'https://api.naver.com'\n",
    "API_KEY = '0100000000d0a8fdadf02dee71a0bfc3f3cb221dace11ed3462aeae7ae7a62ffa76574248c'\n",
    "SECRET_KEY = 'AQAAAADQqP2t8C3ucaC/w/PLIh2sG2Oznh8gVaTkd3ep+hi3Wg=='\n",
    "CUSTOMER_ID = '1466756'\n",
    "\n",
    "# Adgroup Usage Sample\n",
    "\n",
    "# 1. GET adgroup Usage Sample\n",
    "\n",
    "uri = '/ncc/adgroups'\n",
    "method = 'GET'\n",
    "r = requests.get(BASE_URL + uri, headers=get_header(method, uri, API_KEY, SECRET_KEY, CUSTOMER_ID))\n",
    "\n",
    "print(\"response status_code = {}\".format(r.status_code))\n",
    "print(\"response body = {}\".format(r.json()))\n",
    "target_adgroup = r.json()[0]"
   ]
  },
  {
   "cell_type": "markdown",
   "metadata": {},
   "source": [
    "# 날짜별로 데이터 가져오기\n",
    "- 기간 : 1주일"
   ]
  },
  {
   "cell_type": "markdown",
   "metadata": {},
   "source": [
    "광고 데이터를 리포팅 할 때는 보통 어제 날짜의 데이터를 살펴보므로,\n",
    "API에 어제 날짜를 기준으로 데이터를 불러오는 기능이 있는지 DOC.를 읽어봐야한다.\n",
    "네이버 검색 광고 API뿐만 아니라 다른 API를 다룰때도 자신이 원하는 옵션이 있는지 DOC.를 살펴보는 것이 필요하다."
   ]
  },
  {
   "cell_type": "code",
   "execution_count": 6,
   "metadata": {},
   "outputs": [],
   "source": [
    "from datetime import datetime\n",
    "from datetime import timedelta\n",
    "\n",
    "import pandas as pd\n",
    "from pandas import DataFrame\n",
    "from pandas import Series"
   ]
  },
  {
   "cell_type": "code",
   "execution_count": 7,
   "metadata": {},
   "outputs": [],
   "source": [
    "now=datetime.now().strftime('%Y-%m-%d')\n",
    "a_week_ago=datetime.now()-timedelta(weeks=1)\n",
    "a_week_ago=a_week_ago.strftime('%Y-%m-%d')"
   ]
  },
  {
   "cell_type": "code",
   "execution_count": 8,
   "metadata": {},
   "outputs": [
    {
     "data": {
      "text/plain": [
       "'2021-03-30'"
      ]
     },
     "execution_count": 8,
     "metadata": {},
     "output_type": "execute_result"
    }
   ],
   "source": [
    "a_week_ago"
   ]
  },
  {
   "cell_type": "code",
   "execution_count": 9,
   "metadata": {},
   "outputs": [],
   "source": [
    "last_7days=pd.date_range(a_week_ago,now)"
   ]
  },
  {
   "cell_type": "code",
   "execution_count": 10,
   "metadata": {},
   "outputs": [
    {
     "data": {
      "text/plain": [
       "DatetimeIndex(['2021-03-30', '2021-03-31', '2021-04-01', '2021-04-02',\n",
       "               '2021-04-03', '2021-04-04', '2021-04-05', '2021-04-06'],\n",
       "              dtype='datetime64[ns]', freq='D')"
      ]
     },
     "execution_count": 10,
     "metadata": {},
     "output_type": "execute_result"
    }
   ],
   "source": [
    "last_7days"
   ]
  },
  {
   "cell_type": "code",
   "execution_count": 11,
   "metadata": {},
   "outputs": [
    {
     "data": {
      "text/plain": [
       "Timestamp('2021-03-30 00:00:00', freq='D')"
      ]
     },
     "execution_count": 11,
     "metadata": {},
     "output_type": "execute_result"
    }
   ],
   "source": [
    "last_7days[0]"
   ]
  },
  {
   "cell_type": "code",
   "execution_count": 12,
   "metadata": {
    "scrolled": true
   },
   "outputs": [
    {
     "name": "stdout",
     "output_type": "stream",
     "text": [
      "2021-03-30 00:00:00\n",
      "2021-03-31 00:00:00\n",
      "2021-04-01 00:00:00\n",
      "2021-04-02 00:00:00\n",
      "2021-04-03 00:00:00\n",
      "2021-04-04 00:00:00\n",
      "2021-04-05 00:00:00\n",
      "2021-04-06 00:00:00\n"
     ]
    }
   ],
   "source": [
    "# 날짜별로 도는 for문 \n",
    "for x in last_7days:\n",
    "    print(x)"
   ]
  },
  {
   "cell_type": "markdown",
   "metadata": {},
   "source": [
    "json 형식대로 입력하기\n",
    "\n",
    "\n",
    "각각의 객체는 쌍따옴표로 입력해야하는 json\n",
    "\n"
   ]
  },
  {
   "cell_type": "code",
   "execution_count": 16,
   "metadata": {},
   "outputs": [
    {
     "data": {
      "text/plain": [
       "DatetimeIndex(['2021-03-30', '2021-03-31', '2021-04-01', '2021-04-02',\n",
       "               '2021-04-03', '2021-04-04'],\n",
       "              dtype='datetime64[ns]', freq='D')"
      ]
     },
     "execution_count": 16,
     "metadata": {},
     "output_type": "execute_result"
    }
   ],
   "source": [
    "last_7days[:-2]"
   ]
  },
  {
   "cell_type": "code",
   "execution_count": 20,
   "metadata": {
    "scrolled": true
   },
   "outputs": [
    {
     "name": "stdout",
     "output_type": "stream",
     "text": [
      "response status_code = 200\n",
      "response body = {'data': [{'ctr': 3.3, 'convAmt': 0, 'clkCnt': 3, 'ror': 0, 'cpc': 209, 'ccnt': 0, 'avgRnk': 2.7, 'id': 'cmp-a001-01-000000003363186', 'impCnt': 91, 'salesAmt': 627}], 'compTm': '202104060154', 'cycleBaseTm': '202104050000'}\n",
      "response status_code = 200\n",
      "response body = {'data': [{'ctr': 2.24, 'convAmt': 0, 'clkCnt': 3, 'ror': 0, 'cpc': 224, 'ccnt': 0, 'avgRnk': 2.8, 'id': 'cmp-a001-01-000000003363186', 'impCnt': 134, 'salesAmt': 671}], 'compTm': '202104060154', 'cycleBaseTm': '202104050000'}\n",
      "response status_code = 200\n",
      "response body = {'data': [{'ctr': 1.2, 'convAmt': 0, 'clkCnt': 1, 'ror': 0, 'cpc': 110, 'ccnt': 0, 'avgRnk': 3.4, 'id': 'cmp-a001-01-000000003363186', 'impCnt': 84, 'salesAmt': 110}], 'compTm': '202104060154', 'cycleBaseTm': '202104050000'}\n",
      "response status_code = 200\n",
      "response body = {'data': [{'ctr': 0, 'convAmt': 0, 'clkCnt': 0, 'ror': 0, 'cpc': 0, 'ccnt': 0, 'avgRnk': 3.4, 'id': 'cmp-a001-01-000000003363186', 'impCnt': 85, 'salesAmt': 0}], 'compTm': '202104060154', 'cycleBaseTm': '202104050000'}\n",
      "response status_code = 200\n",
      "response body = {'data': [{'ctr': 4.93, 'convAmt': 0, 'clkCnt': 7, 'ror': 0, 'cpc': 234, 'ccnt': 0, 'avgRnk': 2.9, 'id': 'cmp-a001-01-000000003363186', 'impCnt': 142, 'salesAmt': 1639}], 'compTm': '202104060154', 'cycleBaseTm': '202104050000'}\n",
      "response status_code = 200\n",
      "response body = {'data': [{'ctr': 2.52, 'convAmt': 0, 'clkCnt': 5, 'ror': 0, 'cpc': 222, 'ccnt': 0, 'avgRnk': 2.8, 'id': 'cmp-a001-01-000000003363186', 'impCnt': 199, 'salesAmt': 1111}], 'compTm': '202104060154', 'cycleBaseTm': '202104050000'}\n",
      "response status_code = 200\n",
      "response body = {'data': [{'ctr': 3.04, 'convAmt': 0, 'clkCnt': 4, 'ror': 0, 'cpc': 231, 'ccnt': 0, 'avgRnk': 3, 'id': 'cmp-a001-01-000000003363186', 'impCnt': 132, 'salesAmt': 924}], 'compTm': '202104060154', 'cycleBaseTm': '202104050000'}\n",
      "response status_code = 200\n",
      "response body = {'data': [{'ctr': 0, 'convAmt': 0, 'clkCnt': 0, 'ror': 0, 'cpc': 0, 'ccnt': 0, 'avgRnk': 7.7, 'id': 'cmp-a001-01-000000001420778', 'impCnt': 45, 'salesAmt': 0}], 'compTm': '202104060154', 'cycleBaseTm': '202104050000'}\n",
      "response status_code = 200\n",
      "response body = {'data': [{'ctr': 0, 'convAmt': 0, 'clkCnt': 0, 'ror': 0, 'cpc': 0, 'ccnt': 0, 'avgRnk': 5.9, 'id': 'cmp-a001-01-000000001420778', 'impCnt': 33, 'salesAmt': 0}], 'compTm': '202104060154', 'cycleBaseTm': '202104050000'}\n",
      "response status_code = 200\n",
      "response body = {'data': [{'ctr': 0, 'convAmt': 0, 'clkCnt': 0, 'ror': 0, 'cpc': 0, 'ccnt': 0, 'avgRnk': 6.9, 'id': 'cmp-a001-01-000000001420778', 'impCnt': 45, 'salesAmt': 0}], 'compTm': '202104060154', 'cycleBaseTm': '202104050000'}\n",
      "response status_code = 200\n",
      "response body = {'data': [{'ctr': 0, 'convAmt': 0, 'clkCnt': 0, 'ror': 0, 'cpc': 0, 'ccnt': 0, 'avgRnk': 5.5, 'id': 'cmp-a001-01-000000001420778', 'impCnt': 42, 'salesAmt': 0}], 'compTm': '202104060154', 'cycleBaseTm': '202104050000'}\n",
      "response status_code = 200\n",
      "response body = {'data': [{'ctr': 10.53, 'convAmt': 0, 'clkCnt': 2, 'ror': 0, 'cpc': 253, 'ccnt': 0, 'avgRnk': 3.5, 'id': 'cmp-a001-01-000000001420778', 'impCnt': 19, 'salesAmt': 506}], 'compTm': '202104060154', 'cycleBaseTm': '202104050000'}\n",
      "response status_code = 200\n",
      "response body = {'data': [{'ctr': 0, 'convAmt': 0, 'clkCnt': 0, 'ror': 0, 'cpc': 0, 'ccnt': 0, 'avgRnk': 7.6, 'id': 'cmp-a001-01-000000001420778', 'impCnt': 25, 'salesAmt': 0}], 'compTm': '202104060154', 'cycleBaseTm': '202104050000'}\n",
      "response status_code = 200\n",
      "response body = {'data': [{'ctr': 2.13, 'convAmt': 0, 'clkCnt': 1, 'ror': 0, 'cpc': 220, 'ccnt': 0, 'avgRnk': 5.9, 'id': 'cmp-a001-01-000000001420778', 'impCnt': 47, 'salesAmt': 220}], 'compTm': '202104060154', 'cycleBaseTm': '202104050000'}\n",
      "response status_code = 200\n",
      "response body = {'data': [{'ctr': 2.43, 'convAmt': 0, 'clkCnt': 16, 'ror': 0, 'cpc': 366, 'ccnt': 0, 'avgRnk': 3.9, 'id': 'cmp-a001-02-000000002520245', 'impCnt': 661, 'salesAmt': 5852}], 'compTm': '202104060154', 'cycleBaseTm': '202104050000'}\n",
      "response status_code = 200\n",
      "response body = {'data': [{'ctr': 1.89, 'convAmt': 0, 'clkCnt': 12, 'ror': 0, 'cpc': 370, 'ccnt': 0, 'avgRnk': 3.8, 'id': 'cmp-a001-02-000000002520245', 'impCnt': 638, 'salesAmt': 4444}], 'compTm': '202104060154', 'cycleBaseTm': '202104050000'}\n",
      "response status_code = 200\n",
      "response body = {'data': [{'ctr': 1.89, 'convAmt': 0, 'clkCnt': 13, 'ror': 0, 'cpc': 382, 'ccnt': 0, 'avgRnk': 3.8, 'id': 'cmp-a001-02-000000002520245', 'impCnt': 690, 'salesAmt': 4961}], 'compTm': '202104060154', 'cycleBaseTm': '202104050000'}\n",
      "response status_code = 200\n",
      "response body = {'data': [{'ctr': 2.79, 'convAmt': 0, 'clkCnt': 18, 'ror': 0, 'cpc': 310, 'ccnt': 0, 'avgRnk': 3.6, 'id': 'cmp-a001-02-000000002520245', 'impCnt': 646, 'salesAmt': 5577}], 'compTm': '202104060154', 'cycleBaseTm': '202104050000'}\n",
      "response status_code = 200\n",
      "response body = {'data': [{'ctr': 2.64, 'convAmt': 0, 'clkCnt': 17, 'ror': 0, 'cpc': 497, 'ccnt': 0, 'avgRnk': 3.9, 'id': 'cmp-a001-02-000000002520245', 'impCnt': 646, 'salesAmt': 8448}], 'compTm': '202104060154', 'cycleBaseTm': '202104050000'}\n",
      "response status_code = 200\n",
      "response body = {'data': [{'ctr': 2.15, 'convAmt': 0, 'clkCnt': 15, 'ror': 0, 'cpc': 397, 'ccnt': 0, 'avgRnk': 4.2, 'id': 'cmp-a001-02-000000002520245', 'impCnt': 698, 'salesAmt': 5951}], 'compTm': '202104060154', 'cycleBaseTm': '202104050000'}\n",
      "response status_code = 200\n",
      "response body = {'data': [{'ctr': 1.67, 'convAmt': 0, 'clkCnt': 11, 'ror': 0, 'cpc': 257, 'ccnt': 0, 'avgRnk': 4.2, 'id': 'cmp-a001-02-000000002520245', 'impCnt': 660, 'salesAmt': 2827}], 'compTm': '202104060154', 'cycleBaseTm': '202104050000'}\n"
     ]
    }
   ],
   "source": [
    "# 캠페인과 일별로 데이터를 호출해보세요 \n",
    "df=pd.DataFrame()\n",
    "df_data={}\n",
    "for campaign_id in campaign_ids:\n",
    "    for x in last_7days[:-1]:\n",
    "        day_ymd=x.strftime('%Y-%m-%d')\n",
    "        day_input='\"'+day_ymd+'\"'# 왜 앞뒤로 따옴표를 넣어야하는가? json이라서?\n",
    "        # timerange를 잘 설명하기\n",
    "        r = requests.get(BASE_URL + uri, params={'ids': campaign_id, \n",
    "                                                 'fields': '[\"clkCnt\",\"impCnt\",\"salesAmt\", \"ctr\", \"cpc\", \"avgRnk\", \"ccnt\",\"convAmt\",\"ror\"]', \n",
    "                                                 'timeRange': '{'+'\"since\":'+\"{}\".format(day_input)+','+'\"until\" :' +'{}'.format(day_input)+'}'}, \n",
    "                         headers=get_header(method, uri, API_KEY, SECRET_KEY, CUSTOMER_ID))\n",
    "\n",
    "        print(\"response status_code = {}\".format(r.status_code))\n",
    "        print(\"response body = {}\".format(r.json()))\n",
    "        time.sleep(1) # 계속 호출하면 서버에서 접근을 차단하기 때문에 보통 반복문에서 1 ~ 2초간의 여유를 둔다. "
   ]
  },
  {
   "cell_type": "code",
   "execution_count": null,
   "metadata": {},
   "outputs": [],
   "source": [
    "#위 스크립트를 참고하여 데이터를 호출할 수 있는 또 다른 스크립트를 직접 구성해보세요\n"
   ]
  },
  {
   "cell_type": "markdown",
   "metadata": {},
   "source": [
    "# 캠페인별, 날짜별 데이터 가져와서 데이터프레임에 입력하기\n",
    "\n",
    "- 반환된 데이터 살펴보기"
   ]
  },
  {
   "cell_type": "code",
   "execution_count": 21,
   "metadata": {
    "scrolled": false
   },
   "outputs": [
    {
     "data": {
      "text/plain": [
       "'{\"data\":[{\"ctr\":1.67,\"convAmt\":0,\"clkCnt\":11,\"ror\":0,\"cpc\":257,\"ccnt\":0,\"avgRnk\":4.2,\"id\":\"cmp-a001-02-000000002520245\",\"impCnt\":660,\"salesAmt\":2827}],\"compTm\":\"202104060154\",\"cycleBaseTm\":\"202104050000\"}'"
      ]
     },
     "execution_count": 21,
     "metadata": {},
     "output_type": "execute_result"
    }
   ],
   "source": [
    "#text : 전달된 데이터를 string 형태로 변환\n",
    "r.text"
   ]
  },
  {
   "cell_type": "code",
   "execution_count": 22,
   "metadata": {},
   "outputs": [
    {
     "data": {
      "text/plain": [
       "{'data': [{'ctr': 1.67,\n",
       "   'convAmt': 0,\n",
       "   'clkCnt': 11,\n",
       "   'ror': 0,\n",
       "   'cpc': 257,\n",
       "   'ccnt': 0,\n",
       "   'avgRnk': 4.2,\n",
       "   'id': 'cmp-a001-02-000000002520245',\n",
       "   'impCnt': 660,\n",
       "   'salesAmt': 2827}],\n",
       " 'compTm': '202104060154',\n",
       " 'cycleBaseTm': '202104050000'}"
      ]
     },
     "execution_count": 22,
     "metadata": {},
     "output_type": "execute_result"
    }
   ],
   "source": [
    "#requests모듈의 json함수\n",
    "#json 포맷의 데이터를 파이썬에서 사용할 수 있는 자료형, 자료구조로 변환\n",
    "#딕셔너리 형태\n",
    "r.json()"
   ]
  },
  {
   "cell_type": "code",
   "execution_count": 23,
   "metadata": {},
   "outputs": [],
   "source": [
    "data=r.json()"
   ]
  },
  {
   "cell_type": "code",
   "execution_count": 24,
   "metadata": {
    "scrolled": true
   },
   "outputs": [
    {
     "data": {
      "text/plain": [
       "[{'ctr': 1.67,\n",
       "  'convAmt': 0,\n",
       "  'clkCnt': 11,\n",
       "  'ror': 0,\n",
       "  'cpc': 257,\n",
       "  'ccnt': 0,\n",
       "  'avgRnk': 4.2,\n",
       "  'id': 'cmp-a001-02-000000002520245',\n",
       "  'impCnt': 660,\n",
       "  'salesAmt': 2827}]"
      ]
     },
     "execution_count": 24,
     "metadata": {},
     "output_type": "execute_result"
    }
   ],
   "source": [
    "#리스트 형태\n",
    "data['data']"
   ]
  },
  {
   "cell_type": "code",
   "execution_count": 25,
   "metadata": {},
   "outputs": [
    {
     "data": {
      "text/plain": [
       "{'ctr': 1.67,\n",
       " 'convAmt': 0,\n",
       " 'clkCnt': 11,\n",
       " 'ror': 0,\n",
       " 'cpc': 257,\n",
       " 'ccnt': 0,\n",
       " 'avgRnk': 4.2,\n",
       " 'id': 'cmp-a001-02-000000002520245',\n",
       " 'impCnt': 660,\n",
       " 'salesAmt': 2827}"
      ]
     },
     "execution_count": 25,
     "metadata": {},
     "output_type": "execute_result"
    }
   ],
   "source": [
    "#리스트 인덱싱(0), 딕셔너리 형태로 각 필드에 접근할 수 있다.\n",
    "data['data'][0]"
   ]
  },
  {
   "cell_type": "code",
   "execution_count": 26,
   "metadata": {},
   "outputs": [
    {
     "data": {
      "text/plain": [
       "4.2"
      ]
     },
     "execution_count": 26,
     "metadata": {},
     "output_type": "execute_result"
    }
   ],
   "source": [
    "#avgRnk\n",
    "data['data'][0]['avgRnk']"
   ]
  },
  {
   "cell_type": "code",
   "execution_count": 27,
   "metadata": {},
   "outputs": [
    {
     "data": {
      "text/plain": [
       "0"
      ]
     },
     "execution_count": 27,
     "metadata": {},
     "output_type": "execute_result"
    }
   ],
   "source": [
    "#ccnt\n",
    "data['data'][0]['ccnt']"
   ]
  },
  {
   "cell_type": "code",
   "execution_count": 28,
   "metadata": {
    "scrolled": false
   },
   "outputs": [
    {
     "data": {
      "text/plain": [
       "11"
      ]
     },
     "execution_count": 28,
     "metadata": {},
     "output_type": "execute_result"
    }
   ],
   "source": [
    "#clkCnt\n",
    "data['data'][0]['clkCnt']"
   ]
  },
  {
   "cell_type": "markdown",
   "metadata": {},
   "source": [
    "#### r.json() 데이터를 포함하는 딕셔너리 만들기"
   ]
  },
  {
   "cell_type": "code",
   "execution_count": 29,
   "metadata": {},
   "outputs": [],
   "source": [
    "df_data={}"
   ]
  },
  {
   "cell_type": "code",
   "execution_count": 30,
   "metadata": {},
   "outputs": [],
   "source": [
    "df_data['노출수']=data['data'][0]['impCnt']\n",
    "df_data['클릭수']=data['data'][0]['clkCnt']\n",
    "df_data['ctr']=data['data'][0]['ctr']\n",
    "df_data['cpc']=data['data'][0]['cpc']\n",
    "df_data['총비용']=data['data'][0]['salesAmt']\n",
    "df_data['전환수']=data['data'][0]['ccnt']\n",
    "df_data['매출액']=data['data'][0]['convAmt']\n",
    "df_data['ROAS']=data['data'][0]['ror']  "
   ]
  },
  {
   "cell_type": "code",
   "execution_count": 31,
   "metadata": {
    "scrolled": true
   },
   "outputs": [
    {
     "data": {
      "text/plain": [
       "{'노출수': 660,\n",
       " '클릭수': 11,\n",
       " 'ctr': 1.67,\n",
       " 'cpc': 257,\n",
       " '총비용': 2827,\n",
       " '전환수': 0,\n",
       " '매출액': 0,\n",
       " 'ROAS': 0}"
      ]
     },
     "execution_count": 31,
     "metadata": {},
     "output_type": "execute_result"
    }
   ],
   "source": [
    "df_data"
   ]
  },
  {
   "cell_type": "markdown",
   "metadata": {},
   "source": [
    "# df_data로 데이터프레임 만들기"
   ]
  },
  {
   "cell_type": "code",
   "execution_count": 32,
   "metadata": {},
   "outputs": [],
   "source": [
    "df=pd.DataFrame(df_data,index=[0])"
   ]
  },
  {
   "cell_type": "code",
   "execution_count": 33,
   "metadata": {
    "scrolled": true
   },
   "outputs": [
    {
     "data": {
      "text/html": [
       "<div>\n",
       "<style scoped>\n",
       "    .dataframe tbody tr th:only-of-type {\n",
       "        vertical-align: middle;\n",
       "    }\n",
       "\n",
       "    .dataframe tbody tr th {\n",
       "        vertical-align: top;\n",
       "    }\n",
       "\n",
       "    .dataframe thead th {\n",
       "        text-align: right;\n",
       "    }\n",
       "</style>\n",
       "<table border=\"1\" class=\"dataframe\">\n",
       "  <thead>\n",
       "    <tr style=\"text-align: right;\">\n",
       "      <th></th>\n",
       "      <th>노출수</th>\n",
       "      <th>클릭수</th>\n",
       "      <th>ctr</th>\n",
       "      <th>cpc</th>\n",
       "      <th>총비용</th>\n",
       "      <th>전환수</th>\n",
       "      <th>매출액</th>\n",
       "      <th>ROAS</th>\n",
       "    </tr>\n",
       "  </thead>\n",
       "  <tbody>\n",
       "    <tr>\n",
       "      <th>0</th>\n",
       "      <td>660</td>\n",
       "      <td>11</td>\n",
       "      <td>1.67</td>\n",
       "      <td>257</td>\n",
       "      <td>2827</td>\n",
       "      <td>0</td>\n",
       "      <td>0</td>\n",
       "      <td>0</td>\n",
       "    </tr>\n",
       "  </tbody>\n",
       "</table>\n",
       "</div>"
      ],
      "text/plain": [
       "   노출수  클릭수   ctr  cpc   총비용  전환수  매출액  ROAS\n",
       "0  660   11  1.67  257  2827    0    0     0"
      ]
     },
     "execution_count": 33,
     "metadata": {},
     "output_type": "execute_result"
    }
   ],
   "source": [
    "df"
   ]
  },
  {
   "cell_type": "code",
   "execution_count": 34,
   "metadata": {},
   "outputs": [],
   "source": [
    "df_data2={\n",
    " '전환수': 1,\n",
    " '클릭수': 37,\n",
    " '매출액': 69120,\n",
    " 'cpc': 276,\n",
    " 'ctr': 1.69,\n",
    "'ROAS':676,\n",
    " '노출수': 2200,\n",
    " '총비용': 10219}"
   ]
  },
  {
   "cell_type": "code",
   "execution_count": 35,
   "metadata": {},
   "outputs": [],
   "source": [
    "df2=pd.DataFrame(df_data2,index=[0])"
   ]
  },
  {
   "cell_type": "code",
   "execution_count": 36,
   "metadata": {},
   "outputs": [
    {
     "data": {
      "text/html": [
       "<div>\n",
       "<style scoped>\n",
       "    .dataframe tbody tr th:only-of-type {\n",
       "        vertical-align: middle;\n",
       "    }\n",
       "\n",
       "    .dataframe tbody tr th {\n",
       "        vertical-align: top;\n",
       "    }\n",
       "\n",
       "    .dataframe thead th {\n",
       "        text-align: right;\n",
       "    }\n",
       "</style>\n",
       "<table border=\"1\" class=\"dataframe\">\n",
       "  <thead>\n",
       "    <tr style=\"text-align: right;\">\n",
       "      <th></th>\n",
       "      <th>전환수</th>\n",
       "      <th>클릭수</th>\n",
       "      <th>매출액</th>\n",
       "      <th>cpc</th>\n",
       "      <th>ctr</th>\n",
       "      <th>ROAS</th>\n",
       "      <th>노출수</th>\n",
       "      <th>총비용</th>\n",
       "    </tr>\n",
       "  </thead>\n",
       "  <tbody>\n",
       "    <tr>\n",
       "      <th>0</th>\n",
       "      <td>1</td>\n",
       "      <td>37</td>\n",
       "      <td>69120</td>\n",
       "      <td>276</td>\n",
       "      <td>1.69</td>\n",
       "      <td>676</td>\n",
       "      <td>2200</td>\n",
       "      <td>10219</td>\n",
       "    </tr>\n",
       "  </tbody>\n",
       "</table>\n",
       "</div>"
      ],
      "text/plain": [
       "   전환수  클릭수    매출액  cpc   ctr  ROAS   노출수    총비용\n",
       "0    1   37  69120  276  1.69   676  2200  10219"
      ]
     },
     "execution_count": 36,
     "metadata": {},
     "output_type": "execute_result"
    }
   ],
   "source": [
    "df2"
   ]
  },
  {
   "cell_type": "markdown",
   "metadata": {},
   "source": [
    "# 두 데이터프레임 결합하기"
   ]
  },
  {
   "cell_type": "code",
   "execution_count": 37,
   "metadata": {},
   "outputs": [],
   "source": [
    "df=pd.concat([df,df2])"
   ]
  },
  {
   "cell_type": "code",
   "execution_count": 38,
   "metadata": {},
   "outputs": [
    {
     "data": {
      "text/html": [
       "<div>\n",
       "<style scoped>\n",
       "    .dataframe tbody tr th:only-of-type {\n",
       "        vertical-align: middle;\n",
       "    }\n",
       "\n",
       "    .dataframe tbody tr th {\n",
       "        vertical-align: top;\n",
       "    }\n",
       "\n",
       "    .dataframe thead th {\n",
       "        text-align: right;\n",
       "    }\n",
       "</style>\n",
       "<table border=\"1\" class=\"dataframe\">\n",
       "  <thead>\n",
       "    <tr style=\"text-align: right;\">\n",
       "      <th></th>\n",
       "      <th>노출수</th>\n",
       "      <th>클릭수</th>\n",
       "      <th>ctr</th>\n",
       "      <th>cpc</th>\n",
       "      <th>총비용</th>\n",
       "      <th>전환수</th>\n",
       "      <th>매출액</th>\n",
       "      <th>ROAS</th>\n",
       "    </tr>\n",
       "  </thead>\n",
       "  <tbody>\n",
       "    <tr>\n",
       "      <th>0</th>\n",
       "      <td>660</td>\n",
       "      <td>11</td>\n",
       "      <td>1.67</td>\n",
       "      <td>257</td>\n",
       "      <td>2827</td>\n",
       "      <td>0</td>\n",
       "      <td>0</td>\n",
       "      <td>0</td>\n",
       "    </tr>\n",
       "    <tr>\n",
       "      <th>0</th>\n",
       "      <td>2200</td>\n",
       "      <td>37</td>\n",
       "      <td>1.69</td>\n",
       "      <td>276</td>\n",
       "      <td>10219</td>\n",
       "      <td>1</td>\n",
       "      <td>69120</td>\n",
       "      <td>676</td>\n",
       "    </tr>\n",
       "  </tbody>\n",
       "</table>\n",
       "</div>"
      ],
      "text/plain": [
       "    노출수  클릭수   ctr  cpc    총비용  전환수    매출액  ROAS\n",
       "0   660   11  1.67  257   2827    0      0     0\n",
       "0  2200   37  1.69  276  10219    1  69120   676"
      ]
     },
     "execution_count": 38,
     "metadata": {},
     "output_type": "execute_result"
    }
   ],
   "source": [
    "df"
   ]
  },
  {
   "cell_type": "markdown",
   "metadata": {},
   "source": [
    "### 데이터프레임에 데이터 입력하기"
   ]
  },
  {
   "cell_type": "code",
   "execution_count": 40,
   "metadata": {
    "scrolled": true
   },
   "outputs": [
    {
     "name": "stdout",
     "output_type": "stream",
     "text": [
      "response status_code = 200\n",
      "response body = {'data': [{'ctr': 3.3, 'convAmt': 0, 'clkCnt': 3, 'ror': 0, 'cpc': 209, 'ccnt': 0, 'avgRnk': 2.7, 'id': 'cmp-a001-01-000000003363186', 'impCnt': 91, 'salesAmt': 627}], 'compTm': '202104060154', 'cycleBaseTm': '202104050000'}\n",
      "response status_code = 200\n",
      "response body = {'data': [{'ctr': 2.24, 'convAmt': 0, 'clkCnt': 3, 'ror': 0, 'cpc': 224, 'ccnt': 0, 'avgRnk': 2.8, 'id': 'cmp-a001-01-000000003363186', 'impCnt': 134, 'salesAmt': 671}], 'compTm': '202104060154', 'cycleBaseTm': '202104050000'}\n",
      "response status_code = 200\n",
      "response body = {'data': [{'ctr': 1.2, 'convAmt': 0, 'clkCnt': 1, 'ror': 0, 'cpc': 110, 'ccnt': 0, 'avgRnk': 3.4, 'id': 'cmp-a001-01-000000003363186', 'impCnt': 84, 'salesAmt': 110}], 'compTm': '202104060154', 'cycleBaseTm': '202104050000'}\n",
      "response status_code = 200\n",
      "response body = {'data': [{'ctr': 0, 'convAmt': 0, 'clkCnt': 0, 'ror': 0, 'cpc': 0, 'ccnt': 0, 'avgRnk': 3.4, 'id': 'cmp-a001-01-000000003363186', 'impCnt': 85, 'salesAmt': 0}], 'compTm': '202104060154', 'cycleBaseTm': '202104050000'}\n",
      "response status_code = 200\n",
      "response body = {'data': [{'ctr': 4.93, 'convAmt': 0, 'clkCnt': 7, 'ror': 0, 'cpc': 234, 'ccnt': 0, 'avgRnk': 2.9, 'id': 'cmp-a001-01-000000003363186', 'impCnt': 142, 'salesAmt': 1639}], 'compTm': '202104060154', 'cycleBaseTm': '202104050000'}\n",
      "response status_code = 200\n",
      "response body = {'data': [{'ctr': 2.52, 'convAmt': 0, 'clkCnt': 5, 'ror': 0, 'cpc': 222, 'ccnt': 0, 'avgRnk': 2.8, 'id': 'cmp-a001-01-000000003363186', 'impCnt': 199, 'salesAmt': 1111}], 'compTm': '202104060154', 'cycleBaseTm': '202104050000'}\n",
      "response status_code = 200\n",
      "response body = {'data': [{'ctr': 3.04, 'convAmt': 0, 'clkCnt': 4, 'ror': 0, 'cpc': 231, 'ccnt': 0, 'avgRnk': 3, 'id': 'cmp-a001-01-000000003363186', 'impCnt': 132, 'salesAmt': 924}], 'compTm': '202104060154', 'cycleBaseTm': '202104050000'}\n",
      "response status_code = 200\n",
      "response body = {'data': [{'ctr': 0, 'convAmt': 0, 'clkCnt': 0, 'ror': 0, 'cpc': 0, 'ccnt': 0, 'avgRnk': 7.7, 'id': 'cmp-a001-01-000000001420778', 'impCnt': 45, 'salesAmt': 0}], 'compTm': '202104060154', 'cycleBaseTm': '202104050000'}\n",
      "response status_code = 200\n",
      "response body = {'data': [{'ctr': 0, 'convAmt': 0, 'clkCnt': 0, 'ror': 0, 'cpc': 0, 'ccnt': 0, 'avgRnk': 5.9, 'id': 'cmp-a001-01-000000001420778', 'impCnt': 33, 'salesAmt': 0}], 'compTm': '202104060154', 'cycleBaseTm': '202104050000'}\n",
      "response status_code = 200\n",
      "response body = {'data': [{'ctr': 0, 'convAmt': 0, 'clkCnt': 0, 'ror': 0, 'cpc': 0, 'ccnt': 0, 'avgRnk': 6.9, 'id': 'cmp-a001-01-000000001420778', 'impCnt': 45, 'salesAmt': 0}], 'compTm': '202104060154', 'cycleBaseTm': '202104050000'}\n",
      "response status_code = 200\n",
      "response body = {'data': [{'ctr': 0, 'convAmt': 0, 'clkCnt': 0, 'ror': 0, 'cpc': 0, 'ccnt': 0, 'avgRnk': 5.5, 'id': 'cmp-a001-01-000000001420778', 'impCnt': 42, 'salesAmt': 0}], 'compTm': '202104060154', 'cycleBaseTm': '202104050000'}\n",
      "response status_code = 200\n",
      "response body = {'data': [{'ctr': 10.53, 'convAmt': 0, 'clkCnt': 2, 'ror': 0, 'cpc': 253, 'ccnt': 0, 'avgRnk': 3.5, 'id': 'cmp-a001-01-000000001420778', 'impCnt': 19, 'salesAmt': 506}], 'compTm': '202104060154', 'cycleBaseTm': '202104050000'}\n",
      "response status_code = 200\n",
      "response body = {'data': [{'ctr': 0, 'convAmt': 0, 'clkCnt': 0, 'ror': 0, 'cpc': 0, 'ccnt': 0, 'avgRnk': 7.6, 'id': 'cmp-a001-01-000000001420778', 'impCnt': 25, 'salesAmt': 0}], 'compTm': '202104060154', 'cycleBaseTm': '202104050000'}\n",
      "response status_code = 200\n",
      "response body = {'data': [{'ctr': 2.13, 'convAmt': 0, 'clkCnt': 1, 'ror': 0, 'cpc': 220, 'ccnt': 0, 'avgRnk': 5.9, 'id': 'cmp-a001-01-000000001420778', 'impCnt': 47, 'salesAmt': 220}], 'compTm': '202104060154', 'cycleBaseTm': '202104050000'}\n",
      "response status_code = 200\n",
      "response body = {'data': [{'ctr': 2.43, 'convAmt': 0, 'clkCnt': 16, 'ror': 0, 'cpc': 366, 'ccnt': 0, 'avgRnk': 3.9, 'id': 'cmp-a001-02-000000002520245', 'impCnt': 661, 'salesAmt': 5852}], 'compTm': '202104060154', 'cycleBaseTm': '202104050000'}\n",
      "response status_code = 200\n",
      "response body = {'data': [{'ctr': 1.89, 'convAmt': 0, 'clkCnt': 12, 'ror': 0, 'cpc': 370, 'ccnt': 0, 'avgRnk': 3.8, 'id': 'cmp-a001-02-000000002520245', 'impCnt': 638, 'salesAmt': 4444}], 'compTm': '202104060154', 'cycleBaseTm': '202104050000'}\n",
      "response status_code = 200\n",
      "response body = {'data': [{'ctr': 1.89, 'convAmt': 0, 'clkCnt': 13, 'ror': 0, 'cpc': 382, 'ccnt': 0, 'avgRnk': 3.8, 'id': 'cmp-a001-02-000000002520245', 'impCnt': 690, 'salesAmt': 4961}], 'compTm': '202104060154', 'cycleBaseTm': '202104050000'}\n",
      "response status_code = 200\n",
      "response body = {'data': [{'ctr': 2.79, 'convAmt': 0, 'clkCnt': 18, 'ror': 0, 'cpc': 310, 'ccnt': 0, 'avgRnk': 3.6, 'id': 'cmp-a001-02-000000002520245', 'impCnt': 646, 'salesAmt': 5577}], 'compTm': '202104060154', 'cycleBaseTm': '202104050000'}\n",
      "response status_code = 200\n",
      "response body = {'data': [{'ctr': 2.64, 'convAmt': 0, 'clkCnt': 17, 'ror': 0, 'cpc': 497, 'ccnt': 0, 'avgRnk': 3.9, 'id': 'cmp-a001-02-000000002520245', 'impCnt': 646, 'salesAmt': 8448}], 'compTm': '202104060154', 'cycleBaseTm': '202104050000'}\n",
      "response status_code = 200\n",
      "response body = {'data': [{'ctr': 2.15, 'convAmt': 0, 'clkCnt': 15, 'ror': 0, 'cpc': 397, 'ccnt': 0, 'avgRnk': 4.2, 'id': 'cmp-a001-02-000000002520245', 'impCnt': 698, 'salesAmt': 5951}], 'compTm': '202104060154', 'cycleBaseTm': '202104050000'}\n",
      "response status_code = 200\n",
      "response body = {'data': [{'ctr': 1.67, 'convAmt': 0, 'clkCnt': 11, 'ror': 0, 'cpc': 257, 'ccnt': 0, 'avgRnk': 4.2, 'id': 'cmp-a001-02-000000002520245', 'impCnt': 660, 'salesAmt': 2827}], 'compTm': '202104060154', 'cycleBaseTm': '202104050000'}\n"
     ]
    }
   ],
   "source": [
    "import pandas as pd\n",
    "\n",
    "df=pd.DataFrame()\n",
    "df_data={}\n",
    "for campaign_id in campaign_ids:\n",
    "    for x in last_7days[:-1]:\n",
    "        day_ymd=x.strftime('%Y-%m-%d')\n",
    "        day_input='\"'+day_ymd+'\"'# 왜 앞뒤로 따옴표를 넣어야하는가? json이라서?\n",
    "        # timerange를 잘 설명하기\n",
    "        r = requests.get(BASE_URL + uri, params={'ids': campaign_id, \n",
    "                                                 'fields': '[\"clkCnt\",\"impCnt\",\"salesAmt\", \"ctr\", \"cpc\", \"avgRnk\", \"ccnt\",\"convAmt\",\"ror\"]', \n",
    "                                                 'timeRange': '{'+'\"since\":'+\"{}\".format(day_input)+','+'\"until\" :' +'{}'.format(day_input)+'}'}, \n",
    "                         headers=get_header(method, uri, API_KEY, SECRET_KEY, CUSTOMER_ID))\n",
    "\n",
    "        print(\"response status_code = {}\".format(r.status_code))\n",
    "        print(\"response body = {}\".format(r.json()))\n",
    "        time.sleep(1)\n",
    "\n",
    "        #딕셔너리로 넣기\n",
    "        data=r.json()    \n",
    "        df_data['날짜']=day_ymd\n",
    "        df_data['id']=campaign_id\n",
    "        if data['data']!=[]:                        \n",
    "            df_data['노출수']=data['data'][0]['impCnt']\n",
    "            df_data['클릭수']=data['data'][0]['clkCnt']\n",
    "            df_data['ctr']=data['data'][0]['ctr']\n",
    "            df_data['cpc']=data['data'][0]['cpc']\n",
    "            df_data['총비용']=data['data'][0]['salesAmt']\n",
    "            df_data['전환수']=data['data'][0]['ccnt']\n",
    "            df_data['매출액']=data['data'][0]['convAmt']\n",
    "            df_data['ROAS']=data['data'][0]['ror']            \n",
    "        else : \n",
    "            df_data['노출수']=0\n",
    "            df_data['클릭수']=0\n",
    "            df_data['ctr']=0\n",
    "            df_data['cpc']=0\n",
    "            df_data['총비용']=0\n",
    "            df_data['전환수']=0\n",
    "            df_data['매출액']=0\n",
    "            df_data['ROAS']=0\n",
    "\n",
    "        df_data=pd.DataFrame(df_data,index=[0])\n",
    "        df=pd.concat([df,df_data])   \n",
    "    #     'timeRange': '{\"since\":\"2020-08-01\",\"until\":\"2020-10-02\"}'"
   ]
  },
  {
   "cell_type": "code",
   "execution_count": 41,
   "metadata": {},
   "outputs": [],
   "source": [
    "df.sort_values('날짜',inplace=True)"
   ]
  },
  {
   "cell_type": "code",
   "execution_count": 45,
   "metadata": {
    "scrolled": true
   },
   "outputs": [
    {
     "data": {
      "text/html": [
       "<div>\n",
       "<style scoped>\n",
       "    .dataframe tbody tr th:only-of-type {\n",
       "        vertical-align: middle;\n",
       "    }\n",
       "\n",
       "    .dataframe tbody tr th {\n",
       "        vertical-align: top;\n",
       "    }\n",
       "\n",
       "    .dataframe thead th {\n",
       "        text-align: right;\n",
       "    }\n",
       "</style>\n",
       "<table border=\"1\" class=\"dataframe\">\n",
       "  <thead>\n",
       "    <tr style=\"text-align: right;\">\n",
       "      <th></th>\n",
       "      <th>날짜</th>\n",
       "      <th>id</th>\n",
       "      <th>노출수</th>\n",
       "      <th>클릭수</th>\n",
       "      <th>ctr</th>\n",
       "      <th>cpc</th>\n",
       "      <th>총비용</th>\n",
       "      <th>전환수</th>\n",
       "      <th>매출액</th>\n",
       "      <th>ROAS</th>\n",
       "    </tr>\n",
       "  </thead>\n",
       "  <tbody>\n",
       "    <tr>\n",
       "      <th>0</th>\n",
       "      <td>2021-03-30</td>\n",
       "      <td>cmp-a001-01-000000003363186</td>\n",
       "      <td>91</td>\n",
       "      <td>3</td>\n",
       "      <td>3.30</td>\n",
       "      <td>209</td>\n",
       "      <td>627</td>\n",
       "      <td>0</td>\n",
       "      <td>0</td>\n",
       "      <td>0</td>\n",
       "    </tr>\n",
       "    <tr>\n",
       "      <th>0</th>\n",
       "      <td>2021-03-30</td>\n",
       "      <td>cmp-a001-02-000000002520245</td>\n",
       "      <td>661</td>\n",
       "      <td>16</td>\n",
       "      <td>2.43</td>\n",
       "      <td>366</td>\n",
       "      <td>5852</td>\n",
       "      <td>0</td>\n",
       "      <td>0</td>\n",
       "      <td>0</td>\n",
       "    </tr>\n",
       "    <tr>\n",
       "      <th>0</th>\n",
       "      <td>2021-03-30</td>\n",
       "      <td>cmp-a001-01-000000001420778</td>\n",
       "      <td>45</td>\n",
       "      <td>0</td>\n",
       "      <td>0.00</td>\n",
       "      <td>0</td>\n",
       "      <td>0</td>\n",
       "      <td>0</td>\n",
       "      <td>0</td>\n",
       "      <td>0</td>\n",
       "    </tr>\n",
       "    <tr>\n",
       "      <th>0</th>\n",
       "      <td>2021-03-31</td>\n",
       "      <td>cmp-a001-01-000000003363186</td>\n",
       "      <td>134</td>\n",
       "      <td>3</td>\n",
       "      <td>2.24</td>\n",
       "      <td>224</td>\n",
       "      <td>671</td>\n",
       "      <td>0</td>\n",
       "      <td>0</td>\n",
       "      <td>0</td>\n",
       "    </tr>\n",
       "    <tr>\n",
       "      <th>0</th>\n",
       "      <td>2021-03-31</td>\n",
       "      <td>cmp-a001-02-000000002520245</td>\n",
       "      <td>638</td>\n",
       "      <td>12</td>\n",
       "      <td>1.89</td>\n",
       "      <td>370</td>\n",
       "      <td>4444</td>\n",
       "      <td>0</td>\n",
       "      <td>0</td>\n",
       "      <td>0</td>\n",
       "    </tr>\n",
       "    <tr>\n",
       "      <th>0</th>\n",
       "      <td>2021-03-31</td>\n",
       "      <td>cmp-a001-01-000000001420778</td>\n",
       "      <td>33</td>\n",
       "      <td>0</td>\n",
       "      <td>0.00</td>\n",
       "      <td>0</td>\n",
       "      <td>0</td>\n",
       "      <td>0</td>\n",
       "      <td>0</td>\n",
       "      <td>0</td>\n",
       "    </tr>\n",
       "    <tr>\n",
       "      <th>0</th>\n",
       "      <td>2021-04-01</td>\n",
       "      <td>cmp-a001-01-000000003363186</td>\n",
       "      <td>84</td>\n",
       "      <td>1</td>\n",
       "      <td>1.20</td>\n",
       "      <td>110</td>\n",
       "      <td>110</td>\n",
       "      <td>0</td>\n",
       "      <td>0</td>\n",
       "      <td>0</td>\n",
       "    </tr>\n",
       "    <tr>\n",
       "      <th>0</th>\n",
       "      <td>2021-04-01</td>\n",
       "      <td>cmp-a001-02-000000002520245</td>\n",
       "      <td>690</td>\n",
       "      <td>13</td>\n",
       "      <td>1.89</td>\n",
       "      <td>382</td>\n",
       "      <td>4961</td>\n",
       "      <td>0</td>\n",
       "      <td>0</td>\n",
       "      <td>0</td>\n",
       "    </tr>\n",
       "    <tr>\n",
       "      <th>0</th>\n",
       "      <td>2021-04-01</td>\n",
       "      <td>cmp-a001-01-000000001420778</td>\n",
       "      <td>45</td>\n",
       "      <td>0</td>\n",
       "      <td>0.00</td>\n",
       "      <td>0</td>\n",
       "      <td>0</td>\n",
       "      <td>0</td>\n",
       "      <td>0</td>\n",
       "      <td>0</td>\n",
       "    </tr>\n",
       "    <tr>\n",
       "      <th>0</th>\n",
       "      <td>2021-04-02</td>\n",
       "      <td>cmp-a001-02-000000002520245</td>\n",
       "      <td>646</td>\n",
       "      <td>18</td>\n",
       "      <td>2.79</td>\n",
       "      <td>310</td>\n",
       "      <td>5577</td>\n",
       "      <td>0</td>\n",
       "      <td>0</td>\n",
       "      <td>0</td>\n",
       "    </tr>\n",
       "    <tr>\n",
       "      <th>0</th>\n",
       "      <td>2021-04-02</td>\n",
       "      <td>cmp-a001-01-000000001420778</td>\n",
       "      <td>42</td>\n",
       "      <td>0</td>\n",
       "      <td>0.00</td>\n",
       "      <td>0</td>\n",
       "      <td>0</td>\n",
       "      <td>0</td>\n",
       "      <td>0</td>\n",
       "      <td>0</td>\n",
       "    </tr>\n",
       "    <tr>\n",
       "      <th>0</th>\n",
       "      <td>2021-04-02</td>\n",
       "      <td>cmp-a001-01-000000003363186</td>\n",
       "      <td>85</td>\n",
       "      <td>0</td>\n",
       "      <td>0.00</td>\n",
       "      <td>0</td>\n",
       "      <td>0</td>\n",
       "      <td>0</td>\n",
       "      <td>0</td>\n",
       "      <td>0</td>\n",
       "    </tr>\n",
       "    <tr>\n",
       "      <th>0</th>\n",
       "      <td>2021-04-03</td>\n",
       "      <td>cmp-a001-01-000000001420778</td>\n",
       "      <td>19</td>\n",
       "      <td>2</td>\n",
       "      <td>10.53</td>\n",
       "      <td>253</td>\n",
       "      <td>506</td>\n",
       "      <td>0</td>\n",
       "      <td>0</td>\n",
       "      <td>0</td>\n",
       "    </tr>\n",
       "    <tr>\n",
       "      <th>0</th>\n",
       "      <td>2021-04-03</td>\n",
       "      <td>cmp-a001-01-000000003363186</td>\n",
       "      <td>142</td>\n",
       "      <td>7</td>\n",
       "      <td>4.93</td>\n",
       "      <td>234</td>\n",
       "      <td>1639</td>\n",
       "      <td>0</td>\n",
       "      <td>0</td>\n",
       "      <td>0</td>\n",
       "    </tr>\n",
       "    <tr>\n",
       "      <th>0</th>\n",
       "      <td>2021-04-03</td>\n",
       "      <td>cmp-a001-02-000000002520245</td>\n",
       "      <td>646</td>\n",
       "      <td>17</td>\n",
       "      <td>2.64</td>\n",
       "      <td>497</td>\n",
       "      <td>8448</td>\n",
       "      <td>0</td>\n",
       "      <td>0</td>\n",
       "      <td>0</td>\n",
       "    </tr>\n",
       "    <tr>\n",
       "      <th>0</th>\n",
       "      <td>2021-04-04</td>\n",
       "      <td>cmp-a001-01-000000001420778</td>\n",
       "      <td>25</td>\n",
       "      <td>0</td>\n",
       "      <td>0.00</td>\n",
       "      <td>0</td>\n",
       "      <td>0</td>\n",
       "      <td>0</td>\n",
       "      <td>0</td>\n",
       "      <td>0</td>\n",
       "    </tr>\n",
       "    <tr>\n",
       "      <th>0</th>\n",
       "      <td>2021-04-04</td>\n",
       "      <td>cmp-a001-01-000000003363186</td>\n",
       "      <td>199</td>\n",
       "      <td>5</td>\n",
       "      <td>2.52</td>\n",
       "      <td>222</td>\n",
       "      <td>1111</td>\n",
       "      <td>0</td>\n",
       "      <td>0</td>\n",
       "      <td>0</td>\n",
       "    </tr>\n",
       "    <tr>\n",
       "      <th>0</th>\n",
       "      <td>2021-04-04</td>\n",
       "      <td>cmp-a001-02-000000002520245</td>\n",
       "      <td>698</td>\n",
       "      <td>15</td>\n",
       "      <td>2.15</td>\n",
       "      <td>397</td>\n",
       "      <td>5951</td>\n",
       "      <td>0</td>\n",
       "      <td>0</td>\n",
       "      <td>0</td>\n",
       "    </tr>\n",
       "    <tr>\n",
       "      <th>0</th>\n",
       "      <td>2021-04-05</td>\n",
       "      <td>cmp-a001-01-000000001420778</td>\n",
       "      <td>47</td>\n",
       "      <td>1</td>\n",
       "      <td>2.13</td>\n",
       "      <td>220</td>\n",
       "      <td>220</td>\n",
       "      <td>0</td>\n",
       "      <td>0</td>\n",
       "      <td>0</td>\n",
       "    </tr>\n",
       "    <tr>\n",
       "      <th>0</th>\n",
       "      <td>2021-04-05</td>\n",
       "      <td>cmp-a001-01-000000003363186</td>\n",
       "      <td>132</td>\n",
       "      <td>4</td>\n",
       "      <td>3.04</td>\n",
       "      <td>231</td>\n",
       "      <td>924</td>\n",
       "      <td>0</td>\n",
       "      <td>0</td>\n",
       "      <td>0</td>\n",
       "    </tr>\n",
       "    <tr>\n",
       "      <th>0</th>\n",
       "      <td>2021-04-05</td>\n",
       "      <td>cmp-a001-02-000000002520245</td>\n",
       "      <td>660</td>\n",
       "      <td>11</td>\n",
       "      <td>1.67</td>\n",
       "      <td>257</td>\n",
       "      <td>2827</td>\n",
       "      <td>0</td>\n",
       "      <td>0</td>\n",
       "      <td>0</td>\n",
       "    </tr>\n",
       "  </tbody>\n",
       "</table>\n",
       "</div>"
      ],
      "text/plain": [
       "           날짜                           id  노출수  클릭수    ctr  cpc   총비용  전환수  \\\n",
       "0  2021-03-30  cmp-a001-01-000000003363186   91    3   3.30  209   627    0   \n",
       "0  2021-03-30  cmp-a001-02-000000002520245  661   16   2.43  366  5852    0   \n",
       "0  2021-03-30  cmp-a001-01-000000001420778   45    0   0.00    0     0    0   \n",
       "0  2021-03-31  cmp-a001-01-000000003363186  134    3   2.24  224   671    0   \n",
       "0  2021-03-31  cmp-a001-02-000000002520245  638   12   1.89  370  4444    0   \n",
       "0  2021-03-31  cmp-a001-01-000000001420778   33    0   0.00    0     0    0   \n",
       "0  2021-04-01  cmp-a001-01-000000003363186   84    1   1.20  110   110    0   \n",
       "0  2021-04-01  cmp-a001-02-000000002520245  690   13   1.89  382  4961    0   \n",
       "0  2021-04-01  cmp-a001-01-000000001420778   45    0   0.00    0     0    0   \n",
       "0  2021-04-02  cmp-a001-02-000000002520245  646   18   2.79  310  5577    0   \n",
       "0  2021-04-02  cmp-a001-01-000000001420778   42    0   0.00    0     0    0   \n",
       "0  2021-04-02  cmp-a001-01-000000003363186   85    0   0.00    0     0    0   \n",
       "0  2021-04-03  cmp-a001-01-000000001420778   19    2  10.53  253   506    0   \n",
       "0  2021-04-03  cmp-a001-01-000000003363186  142    7   4.93  234  1639    0   \n",
       "0  2021-04-03  cmp-a001-02-000000002520245  646   17   2.64  497  8448    0   \n",
       "0  2021-04-04  cmp-a001-01-000000001420778   25    0   0.00    0     0    0   \n",
       "0  2021-04-04  cmp-a001-01-000000003363186  199    5   2.52  222  1111    0   \n",
       "0  2021-04-04  cmp-a001-02-000000002520245  698   15   2.15  397  5951    0   \n",
       "0  2021-04-05  cmp-a001-01-000000001420778   47    1   2.13  220   220    0   \n",
       "0  2021-04-05  cmp-a001-01-000000003363186  132    4   3.04  231   924    0   \n",
       "0  2021-04-05  cmp-a001-02-000000002520245  660   11   1.67  257  2827    0   \n",
       "\n",
       "   매출액  ROAS  \n",
       "0    0     0  \n",
       "0    0     0  \n",
       "0    0     0  \n",
       "0    0     0  \n",
       "0    0     0  \n",
       "0    0     0  \n",
       "0    0     0  \n",
       "0    0     0  \n",
       "0    0     0  \n",
       "0    0     0  \n",
       "0    0     0  \n",
       "0    0     0  \n",
       "0    0     0  \n",
       "0    0     0  \n",
       "0    0     0  \n",
       "0    0     0  \n",
       "0    0     0  \n",
       "0    0     0  \n",
       "0    0     0  \n",
       "0    0     0  \n",
       "0    0     0  "
      ]
     },
     "execution_count": 45,
     "metadata": {},
     "output_type": "execute_result"
    }
   ],
   "source": [
    "df"
   ]
  },
  {
   "cell_type": "markdown",
   "metadata": {},
   "source": [
    "# 아이디와 캠페인을 결합\n",
    "- 캠페인서비스 : http://naver.github.io/searchad-apidoc/#/tags/Campaign"
   ]
  },
  {
   "cell_type": "code",
   "execution_count": 46,
   "metadata": {},
   "outputs": [
    {
     "data": {
      "text/plain": [
       "'cmp-a001-01-000000003363186'"
      ]
     },
     "execution_count": 46,
     "metadata": {},
     "output_type": "execute_result"
    }
   ],
   "source": [
    "campaign_ids[0]"
   ]
  },
  {
   "cell_type": "code",
   "execution_count": 50,
   "metadata": {},
   "outputs": [],
   "source": [
    "#하나의 캠페인ID로 캠페인 서비스 출력해보기\n",
    "uri = '/ncc/campaigns'\n",
    "method = 'GET'\n",
    "r= requests.get(BASE_URL + uri+'?ids={}'.format(campaign_ids[0]), headers=get_header(method, uri, API_KEY, SECRET_KEY, CUSTOMER_ID))    "
   ]
  },
  {
   "cell_type": "code",
   "execution_count": 51,
   "metadata": {},
   "outputs": [
    {
     "data": {
      "text/plain": [
       "[{'nccCampaignId': 'cmp-a001-01-000000003363186',\n",
       "  'customerId': 1466756,\n",
       "  'name': 'TEST(MO)',\n",
       "  'userLock': False,\n",
       "  'campaignTp': 'WEB_SITE',\n",
       "  'deliveryMethod': 'ACCELERATED',\n",
       "  'trackingMode': 'TRACKING_DISABLED',\n",
       "  'usePeriod': False,\n",
       "  'dailyBudget': 25000,\n",
       "  'useDailyBudget': True,\n",
       "  'totalChargeCost': 0,\n",
       "  'status': 'ELIGIBLE',\n",
       "  'statusReason': 'ELIGIBLE',\n",
       "  'expectCost': 231,\n",
       "  'migType': 0,\n",
       "  'delFlag': False,\n",
       "  'regTm': '2020-09-21T13:47:54.000Z',\n",
       "  'editTm': '2020-11-25T01:34:09.000Z'}]"
      ]
     },
     "execution_count": 51,
     "metadata": {},
     "output_type": "execute_result"
    }
   ],
   "source": [
    "# nccCampaignId와 name을 추출하여 캠페인ID와 캠페인 이름을 매칭시킬 수 있음\n",
    "r.json()"
   ]
  },
  {
   "cell_type": "code",
   "execution_count": 52,
   "metadata": {},
   "outputs": [],
   "source": [
    "data=r.json()"
   ]
  },
  {
   "cell_type": "code",
   "execution_count": 53,
   "metadata": {},
   "outputs": [
    {
     "data": {
      "text/plain": [
       "{'key': 'value'}"
      ]
     },
     "execution_count": 53,
     "metadata": {},
     "output_type": "execute_result"
    }
   ],
   "source": [
    "#빈 딕셔너리에 키와 값 추가하기\n",
    "#예제\n",
    "empty_dict={}\n",
    "empty_dict['key']='value'\n",
    "empty_dict"
   ]
  },
  {
   "cell_type": "code",
   "execution_count": 54,
   "metadata": {},
   "outputs": [
    {
     "data": {
      "text/plain": [
       "{'cmp-a001-01-000000003363186': 'TEST(MO)'}"
      ]
     },
     "execution_count": 54,
     "metadata": {},
     "output_type": "execute_result"
    }
   ],
   "source": [
    "#빈 딕셔너리 만들기\n",
    "cam_name={}\n",
    "cam_name[data[0]['nccCampaignId']]=data[0]['name']\n",
    "#캠페인아이디 : 이름\n",
    "cam_name"
   ]
  },
  {
   "cell_type": "code",
   "execution_count": 55,
   "metadata": {
    "scrolled": true
   },
   "outputs": [
    {
     "name": "stdout",
     "output_type": "stream",
     "text": [
      "[{'nccCampaignId': 'cmp-a001-01-000000003363186', 'customerId': 1466756, 'name': 'TEST(MO)', 'userLock': False, 'campaignTp': 'WEB_SITE', 'deliveryMethod': 'ACCELERATED', 'trackingMode': 'TRACKING_DISABLED', 'usePeriod': False, 'dailyBudget': 25000, 'useDailyBudget': True, 'totalChargeCost': 0, 'status': 'ELIGIBLE', 'statusReason': 'ELIGIBLE', 'expectCost': 231, 'migType': 0, 'delFlag': False, 'regTm': '2020-09-21T13:47:54.000Z', 'editTm': '2020-11-25T01:34:09.000Z'}]\n",
      "[{'nccCampaignId': 'cmp-a001-01-000000001420778', 'customerId': 1466756, 'name': 'TEST(PC)', 'userLock': False, 'campaignTp': 'WEB_SITE', 'deliveryMethod': 'ACCELERATED', 'trackingMode': 'TRACKING_DISABLED', 'usePeriod': False, 'dailyBudget': 25000, 'useDailyBudget': True, 'totalChargeCost': 209, 'status': 'ELIGIBLE', 'statusReason': 'ELIGIBLE', 'expectCost': 209, 'migType': 0, 'delFlag': False, 'regTm': '2018-09-09T11:50:42.000Z', 'editTm': '2020-11-25T01:34:13.000Z'}]\n",
      "[{'nccCampaignId': 'cmp-a001-02-000000002520245', 'customerId': 1466756, 'name': '쇼핑검색#1', 'userLock': False, 'campaignTp': 'SHOPPING', 'deliveryMethod': 'ACCELERATED', 'trackingUrl': 'http://tracking.sample.com/?n_final_url={final_url}', 'trackingMode': 'TRACKING_DISABLED', 'usePeriod': False, 'dailyBudget': 20000, 'useDailyBudget': True, 'totalChargeCost': 495, 'status': 'ELIGIBLE', 'statusReason': 'ELIGIBLE', 'expectCost': 495, 'migType': 0, 'delFlag': False, 'regTm': '2019-12-13T02:14:44.000Z', 'editTm': '2020-07-02T03:37:47.000Z'}]\n"
     ]
    }
   ],
   "source": [
    "cam_name={}\n",
    "for x in campaign_ids:\n",
    "    uri = '/ncc/campaigns'\n",
    "    method = 'GET'\n",
    "    r= requests.get(BASE_URL + uri+'?ids={}'.format(x), headers=get_header(method, uri, API_KEY, SECRET_KEY, CUSTOMER_ID))    \n",
    "    \n",
    "    data=r.json()   \n",
    "    print(data)\n",
    "    cam_name[data[0]['nccCampaignId']]=data[0]['name']\n",
    "    \n",
    "    time.sleep(1)"
   ]
  },
  {
   "cell_type": "code",
   "execution_count": 56,
   "metadata": {},
   "outputs": [
    {
     "data": {
      "text/plain": [
       "{'cmp-a001-01-000000003363186': 'TEST(MO)',\n",
       " 'cmp-a001-01-000000001420778': 'TEST(PC)',\n",
       " 'cmp-a001-02-000000002520245': '쇼핑검색#1'}"
      ]
     },
     "execution_count": 56,
     "metadata": {},
     "output_type": "execute_result"
    }
   ],
   "source": [
    "cam_name"
   ]
  },
  {
   "cell_type": "markdown",
   "metadata": {},
   "source": [
    "#### 필드데이터가 있는 데이터프레임과 캠페인 명이 있는 데이터 결합"
   ]
  },
  {
   "cell_type": "code",
   "execution_count": 57,
   "metadata": {},
   "outputs": [],
   "source": [
    "camp_list=[]\n",
    "for x in df['id']:\n",
    "    for y in cam_name:\n",
    "        if x==y:\n",
    "            camp_list.append(cam_name[y])\n",
    "    "
   ]
  },
  {
   "cell_type": "code",
   "execution_count": 58,
   "metadata": {},
   "outputs": [
    {
     "data": {
      "text/plain": [
       "['TEST(MO)',\n",
       " '쇼핑검색#1',\n",
       " 'TEST(PC)',\n",
       " 'TEST(MO)',\n",
       " '쇼핑검색#1',\n",
       " 'TEST(PC)',\n",
       " 'TEST(MO)',\n",
       " '쇼핑검색#1',\n",
       " 'TEST(PC)',\n",
       " '쇼핑검색#1',\n",
       " 'TEST(PC)',\n",
       " 'TEST(MO)',\n",
       " 'TEST(PC)',\n",
       " 'TEST(MO)',\n",
       " '쇼핑검색#1',\n",
       " 'TEST(PC)',\n",
       " 'TEST(MO)',\n",
       " '쇼핑검색#1',\n",
       " 'TEST(PC)',\n",
       " 'TEST(MO)',\n",
       " '쇼핑검색#1']"
      ]
     },
     "execution_count": 58,
     "metadata": {},
     "output_type": "execute_result"
    }
   ],
   "source": [
    "camp_list"
   ]
  },
  {
   "cell_type": "code",
   "execution_count": 59,
   "metadata": {
    "scrolled": true
   },
   "outputs": [],
   "source": [
    "df['캠페인']=camp_list"
   ]
  },
  {
   "cell_type": "code",
   "execution_count": 60,
   "metadata": {},
   "outputs": [],
   "source": [
    "result_df=df"
   ]
  },
  {
   "cell_type": "code",
   "execution_count": 61,
   "metadata": {},
   "outputs": [],
   "source": [
    "result_df.drop('id',axis=1,inplace=True)"
   ]
  },
  {
   "cell_type": "code",
   "execution_count": 62,
   "metadata": {},
   "outputs": [],
   "source": [
    "result_df=result_df[['날짜', '캠페인','노출수','클릭수', 'ctr', 'cpc', '총비용', '전환수','매출액','ROAS']]"
   ]
  },
  {
   "cell_type": "code",
   "execution_count": 63,
   "metadata": {
    "scrolled": true
   },
   "outputs": [
    {
     "data": {
      "text/html": [
       "<div>\n",
       "<style scoped>\n",
       "    .dataframe tbody tr th:only-of-type {\n",
       "        vertical-align: middle;\n",
       "    }\n",
       "\n",
       "    .dataframe tbody tr th {\n",
       "        vertical-align: top;\n",
       "    }\n",
       "\n",
       "    .dataframe thead th {\n",
       "        text-align: right;\n",
       "    }\n",
       "</style>\n",
       "<table border=\"1\" class=\"dataframe\">\n",
       "  <thead>\n",
       "    <tr style=\"text-align: right;\">\n",
       "      <th></th>\n",
       "      <th>날짜</th>\n",
       "      <th>캠페인</th>\n",
       "      <th>노출수</th>\n",
       "      <th>클릭수</th>\n",
       "      <th>ctr</th>\n",
       "      <th>cpc</th>\n",
       "      <th>총비용</th>\n",
       "      <th>전환수</th>\n",
       "      <th>매출액</th>\n",
       "      <th>ROAS</th>\n",
       "    </tr>\n",
       "  </thead>\n",
       "  <tbody>\n",
       "    <tr>\n",
       "      <th>0</th>\n",
       "      <td>2021-03-30</td>\n",
       "      <td>TEST(MO)</td>\n",
       "      <td>91</td>\n",
       "      <td>3</td>\n",
       "      <td>3.30</td>\n",
       "      <td>209</td>\n",
       "      <td>627</td>\n",
       "      <td>0</td>\n",
       "      <td>0</td>\n",
       "      <td>0</td>\n",
       "    </tr>\n",
       "    <tr>\n",
       "      <th>0</th>\n",
       "      <td>2021-03-30</td>\n",
       "      <td>쇼핑검색#1</td>\n",
       "      <td>661</td>\n",
       "      <td>16</td>\n",
       "      <td>2.43</td>\n",
       "      <td>366</td>\n",
       "      <td>5852</td>\n",
       "      <td>0</td>\n",
       "      <td>0</td>\n",
       "      <td>0</td>\n",
       "    </tr>\n",
       "    <tr>\n",
       "      <th>0</th>\n",
       "      <td>2021-03-30</td>\n",
       "      <td>TEST(PC)</td>\n",
       "      <td>45</td>\n",
       "      <td>0</td>\n",
       "      <td>0.00</td>\n",
       "      <td>0</td>\n",
       "      <td>0</td>\n",
       "      <td>0</td>\n",
       "      <td>0</td>\n",
       "      <td>0</td>\n",
       "    </tr>\n",
       "    <tr>\n",
       "      <th>0</th>\n",
       "      <td>2021-03-31</td>\n",
       "      <td>TEST(MO)</td>\n",
       "      <td>134</td>\n",
       "      <td>3</td>\n",
       "      <td>2.24</td>\n",
       "      <td>224</td>\n",
       "      <td>671</td>\n",
       "      <td>0</td>\n",
       "      <td>0</td>\n",
       "      <td>0</td>\n",
       "    </tr>\n",
       "    <tr>\n",
       "      <th>0</th>\n",
       "      <td>2021-03-31</td>\n",
       "      <td>쇼핑검색#1</td>\n",
       "      <td>638</td>\n",
       "      <td>12</td>\n",
       "      <td>1.89</td>\n",
       "      <td>370</td>\n",
       "      <td>4444</td>\n",
       "      <td>0</td>\n",
       "      <td>0</td>\n",
       "      <td>0</td>\n",
       "    </tr>\n",
       "    <tr>\n",
       "      <th>0</th>\n",
       "      <td>2021-03-31</td>\n",
       "      <td>TEST(PC)</td>\n",
       "      <td>33</td>\n",
       "      <td>0</td>\n",
       "      <td>0.00</td>\n",
       "      <td>0</td>\n",
       "      <td>0</td>\n",
       "      <td>0</td>\n",
       "      <td>0</td>\n",
       "      <td>0</td>\n",
       "    </tr>\n",
       "    <tr>\n",
       "      <th>0</th>\n",
       "      <td>2021-04-01</td>\n",
       "      <td>TEST(MO)</td>\n",
       "      <td>84</td>\n",
       "      <td>1</td>\n",
       "      <td>1.20</td>\n",
       "      <td>110</td>\n",
       "      <td>110</td>\n",
       "      <td>0</td>\n",
       "      <td>0</td>\n",
       "      <td>0</td>\n",
       "    </tr>\n",
       "    <tr>\n",
       "      <th>0</th>\n",
       "      <td>2021-04-01</td>\n",
       "      <td>쇼핑검색#1</td>\n",
       "      <td>690</td>\n",
       "      <td>13</td>\n",
       "      <td>1.89</td>\n",
       "      <td>382</td>\n",
       "      <td>4961</td>\n",
       "      <td>0</td>\n",
       "      <td>0</td>\n",
       "      <td>0</td>\n",
       "    </tr>\n",
       "    <tr>\n",
       "      <th>0</th>\n",
       "      <td>2021-04-01</td>\n",
       "      <td>TEST(PC)</td>\n",
       "      <td>45</td>\n",
       "      <td>0</td>\n",
       "      <td>0.00</td>\n",
       "      <td>0</td>\n",
       "      <td>0</td>\n",
       "      <td>0</td>\n",
       "      <td>0</td>\n",
       "      <td>0</td>\n",
       "    </tr>\n",
       "    <tr>\n",
       "      <th>0</th>\n",
       "      <td>2021-04-02</td>\n",
       "      <td>쇼핑검색#1</td>\n",
       "      <td>646</td>\n",
       "      <td>18</td>\n",
       "      <td>2.79</td>\n",
       "      <td>310</td>\n",
       "      <td>5577</td>\n",
       "      <td>0</td>\n",
       "      <td>0</td>\n",
       "      <td>0</td>\n",
       "    </tr>\n",
       "    <tr>\n",
       "      <th>0</th>\n",
       "      <td>2021-04-02</td>\n",
       "      <td>TEST(PC)</td>\n",
       "      <td>42</td>\n",
       "      <td>0</td>\n",
       "      <td>0.00</td>\n",
       "      <td>0</td>\n",
       "      <td>0</td>\n",
       "      <td>0</td>\n",
       "      <td>0</td>\n",
       "      <td>0</td>\n",
       "    </tr>\n",
       "    <tr>\n",
       "      <th>0</th>\n",
       "      <td>2021-04-02</td>\n",
       "      <td>TEST(MO)</td>\n",
       "      <td>85</td>\n",
       "      <td>0</td>\n",
       "      <td>0.00</td>\n",
       "      <td>0</td>\n",
       "      <td>0</td>\n",
       "      <td>0</td>\n",
       "      <td>0</td>\n",
       "      <td>0</td>\n",
       "    </tr>\n",
       "    <tr>\n",
       "      <th>0</th>\n",
       "      <td>2021-04-03</td>\n",
       "      <td>TEST(PC)</td>\n",
       "      <td>19</td>\n",
       "      <td>2</td>\n",
       "      <td>10.53</td>\n",
       "      <td>253</td>\n",
       "      <td>506</td>\n",
       "      <td>0</td>\n",
       "      <td>0</td>\n",
       "      <td>0</td>\n",
       "    </tr>\n",
       "    <tr>\n",
       "      <th>0</th>\n",
       "      <td>2021-04-03</td>\n",
       "      <td>TEST(MO)</td>\n",
       "      <td>142</td>\n",
       "      <td>7</td>\n",
       "      <td>4.93</td>\n",
       "      <td>234</td>\n",
       "      <td>1639</td>\n",
       "      <td>0</td>\n",
       "      <td>0</td>\n",
       "      <td>0</td>\n",
       "    </tr>\n",
       "    <tr>\n",
       "      <th>0</th>\n",
       "      <td>2021-04-03</td>\n",
       "      <td>쇼핑검색#1</td>\n",
       "      <td>646</td>\n",
       "      <td>17</td>\n",
       "      <td>2.64</td>\n",
       "      <td>497</td>\n",
       "      <td>8448</td>\n",
       "      <td>0</td>\n",
       "      <td>0</td>\n",
       "      <td>0</td>\n",
       "    </tr>\n",
       "    <tr>\n",
       "      <th>0</th>\n",
       "      <td>2021-04-04</td>\n",
       "      <td>TEST(PC)</td>\n",
       "      <td>25</td>\n",
       "      <td>0</td>\n",
       "      <td>0.00</td>\n",
       "      <td>0</td>\n",
       "      <td>0</td>\n",
       "      <td>0</td>\n",
       "      <td>0</td>\n",
       "      <td>0</td>\n",
       "    </tr>\n",
       "    <tr>\n",
       "      <th>0</th>\n",
       "      <td>2021-04-04</td>\n",
       "      <td>TEST(MO)</td>\n",
       "      <td>199</td>\n",
       "      <td>5</td>\n",
       "      <td>2.52</td>\n",
       "      <td>222</td>\n",
       "      <td>1111</td>\n",
       "      <td>0</td>\n",
       "      <td>0</td>\n",
       "      <td>0</td>\n",
       "    </tr>\n",
       "    <tr>\n",
       "      <th>0</th>\n",
       "      <td>2021-04-04</td>\n",
       "      <td>쇼핑검색#1</td>\n",
       "      <td>698</td>\n",
       "      <td>15</td>\n",
       "      <td>2.15</td>\n",
       "      <td>397</td>\n",
       "      <td>5951</td>\n",
       "      <td>0</td>\n",
       "      <td>0</td>\n",
       "      <td>0</td>\n",
       "    </tr>\n",
       "    <tr>\n",
       "      <th>0</th>\n",
       "      <td>2021-04-05</td>\n",
       "      <td>TEST(PC)</td>\n",
       "      <td>47</td>\n",
       "      <td>1</td>\n",
       "      <td>2.13</td>\n",
       "      <td>220</td>\n",
       "      <td>220</td>\n",
       "      <td>0</td>\n",
       "      <td>0</td>\n",
       "      <td>0</td>\n",
       "    </tr>\n",
       "    <tr>\n",
       "      <th>0</th>\n",
       "      <td>2021-04-05</td>\n",
       "      <td>TEST(MO)</td>\n",
       "      <td>132</td>\n",
       "      <td>4</td>\n",
       "      <td>3.04</td>\n",
       "      <td>231</td>\n",
       "      <td>924</td>\n",
       "      <td>0</td>\n",
       "      <td>0</td>\n",
       "      <td>0</td>\n",
       "    </tr>\n",
       "    <tr>\n",
       "      <th>0</th>\n",
       "      <td>2021-04-05</td>\n",
       "      <td>쇼핑검색#1</td>\n",
       "      <td>660</td>\n",
       "      <td>11</td>\n",
       "      <td>1.67</td>\n",
       "      <td>257</td>\n",
       "      <td>2827</td>\n",
       "      <td>0</td>\n",
       "      <td>0</td>\n",
       "      <td>0</td>\n",
       "    </tr>\n",
       "  </tbody>\n",
       "</table>\n",
       "</div>"
      ],
      "text/plain": [
       "           날짜       캠페인  노출수  클릭수    ctr  cpc   총비용  전환수  매출액  ROAS\n",
       "0  2021-03-30  TEST(MO)   91    3   3.30  209   627    0    0     0\n",
       "0  2021-03-30    쇼핑검색#1  661   16   2.43  366  5852    0    0     0\n",
       "0  2021-03-30  TEST(PC)   45    0   0.00    0     0    0    0     0\n",
       "0  2021-03-31  TEST(MO)  134    3   2.24  224   671    0    0     0\n",
       "0  2021-03-31    쇼핑검색#1  638   12   1.89  370  4444    0    0     0\n",
       "0  2021-03-31  TEST(PC)   33    0   0.00    0     0    0    0     0\n",
       "0  2021-04-01  TEST(MO)   84    1   1.20  110   110    0    0     0\n",
       "0  2021-04-01    쇼핑검색#1  690   13   1.89  382  4961    0    0     0\n",
       "0  2021-04-01  TEST(PC)   45    0   0.00    0     0    0    0     0\n",
       "0  2021-04-02    쇼핑검색#1  646   18   2.79  310  5577    0    0     0\n",
       "0  2021-04-02  TEST(PC)   42    0   0.00    0     0    0    0     0\n",
       "0  2021-04-02  TEST(MO)   85    0   0.00    0     0    0    0     0\n",
       "0  2021-04-03  TEST(PC)   19    2  10.53  253   506    0    0     0\n",
       "0  2021-04-03  TEST(MO)  142    7   4.93  234  1639    0    0     0\n",
       "0  2021-04-03    쇼핑검색#1  646   17   2.64  497  8448    0    0     0\n",
       "0  2021-04-04  TEST(PC)   25    0   0.00    0     0    0    0     0\n",
       "0  2021-04-04  TEST(MO)  199    5   2.52  222  1111    0    0     0\n",
       "0  2021-04-04    쇼핑검색#1  698   15   2.15  397  5951    0    0     0\n",
       "0  2021-04-05  TEST(PC)   47    1   2.13  220   220    0    0     0\n",
       "0  2021-04-05  TEST(MO)  132    4   3.04  231   924    0    0     0\n",
       "0  2021-04-05    쇼핑검색#1  660   11   1.67  257  2827    0    0     0"
      ]
     },
     "execution_count": 63,
     "metadata": {},
     "output_type": "execute_result"
    }
   ],
   "source": [
    "result_df"
   ]
  },
  {
   "cell_type": "markdown",
   "metadata": {},
   "source": [
    "# 어떤 회사에서는 리포팅을 할때 캠페인을 빼고 날짜로만 합치는 회사가 있다. \n",
    "- 엑셀파일 보여주기"
   ]
  },
  {
   "cell_type": "markdown",
   "metadata": {},
   "source": [
    "groupby"
   ]
  },
  {
   "cell_type": "code",
   "execution_count": 64,
   "metadata": {},
   "outputs": [],
   "source": [
    "df_groupby=result_df.groupby('날짜').sum()"
   ]
  },
  {
   "cell_type": "code",
   "execution_count": 65,
   "metadata": {},
   "outputs": [
    {
     "data": {
      "text/html": [
       "<div>\n",
       "<style scoped>\n",
       "    .dataframe tbody tr th:only-of-type {\n",
       "        vertical-align: middle;\n",
       "    }\n",
       "\n",
       "    .dataframe tbody tr th {\n",
       "        vertical-align: top;\n",
       "    }\n",
       "\n",
       "    .dataframe thead th {\n",
       "        text-align: right;\n",
       "    }\n",
       "</style>\n",
       "<table border=\"1\" class=\"dataframe\">\n",
       "  <thead>\n",
       "    <tr style=\"text-align: right;\">\n",
       "      <th></th>\n",
       "      <th>노출수</th>\n",
       "      <th>클릭수</th>\n",
       "      <th>ctr</th>\n",
       "      <th>cpc</th>\n",
       "      <th>총비용</th>\n",
       "      <th>전환수</th>\n",
       "      <th>매출액</th>\n",
       "      <th>ROAS</th>\n",
       "    </tr>\n",
       "    <tr>\n",
       "      <th>날짜</th>\n",
       "      <th></th>\n",
       "      <th></th>\n",
       "      <th></th>\n",
       "      <th></th>\n",
       "      <th></th>\n",
       "      <th></th>\n",
       "      <th></th>\n",
       "      <th></th>\n",
       "    </tr>\n",
       "  </thead>\n",
       "  <tbody>\n",
       "    <tr>\n",
       "      <th>2021-03-30</th>\n",
       "      <td>797</td>\n",
       "      <td>19</td>\n",
       "      <td>5.73</td>\n",
       "      <td>575</td>\n",
       "      <td>6479</td>\n",
       "      <td>0</td>\n",
       "      <td>0</td>\n",
       "      <td>0</td>\n",
       "    </tr>\n",
       "    <tr>\n",
       "      <th>2021-03-31</th>\n",
       "      <td>805</td>\n",
       "      <td>15</td>\n",
       "      <td>4.13</td>\n",
       "      <td>594</td>\n",
       "      <td>5115</td>\n",
       "      <td>0</td>\n",
       "      <td>0</td>\n",
       "      <td>0</td>\n",
       "    </tr>\n",
       "    <tr>\n",
       "      <th>2021-04-01</th>\n",
       "      <td>819</td>\n",
       "      <td>14</td>\n",
       "      <td>3.09</td>\n",
       "      <td>492</td>\n",
       "      <td>5071</td>\n",
       "      <td>0</td>\n",
       "      <td>0</td>\n",
       "      <td>0</td>\n",
       "    </tr>\n",
       "    <tr>\n",
       "      <th>2021-04-02</th>\n",
       "      <td>773</td>\n",
       "      <td>18</td>\n",
       "      <td>2.79</td>\n",
       "      <td>310</td>\n",
       "      <td>5577</td>\n",
       "      <td>0</td>\n",
       "      <td>0</td>\n",
       "      <td>0</td>\n",
       "    </tr>\n",
       "    <tr>\n",
       "      <th>2021-04-03</th>\n",
       "      <td>807</td>\n",
       "      <td>26</td>\n",
       "      <td>18.10</td>\n",
       "      <td>984</td>\n",
       "      <td>10593</td>\n",
       "      <td>0</td>\n",
       "      <td>0</td>\n",
       "      <td>0</td>\n",
       "    </tr>\n",
       "    <tr>\n",
       "      <th>2021-04-04</th>\n",
       "      <td>922</td>\n",
       "      <td>20</td>\n",
       "      <td>4.67</td>\n",
       "      <td>619</td>\n",
       "      <td>7062</td>\n",
       "      <td>0</td>\n",
       "      <td>0</td>\n",
       "      <td>0</td>\n",
       "    </tr>\n",
       "    <tr>\n",
       "      <th>2021-04-05</th>\n",
       "      <td>839</td>\n",
       "      <td>16</td>\n",
       "      <td>6.84</td>\n",
       "      <td>708</td>\n",
       "      <td>3971</td>\n",
       "      <td>0</td>\n",
       "      <td>0</td>\n",
       "      <td>0</td>\n",
       "    </tr>\n",
       "  </tbody>\n",
       "</table>\n",
       "</div>"
      ],
      "text/plain": [
       "            노출수  클릭수    ctr  cpc    총비용  전환수  매출액  ROAS\n",
       "날짜                                                     \n",
       "2021-03-30  797   19   5.73  575   6479    0    0     0\n",
       "2021-03-31  805   15   4.13  594   5115    0    0     0\n",
       "2021-04-01  819   14   3.09  492   5071    0    0     0\n",
       "2021-04-02  773   18   2.79  310   5577    0    0     0\n",
       "2021-04-03  807   26  18.10  984  10593    0    0     0\n",
       "2021-04-04  922   20   4.67  619   7062    0    0     0\n",
       "2021-04-05  839   16   6.84  708   3971    0    0     0"
      ]
     },
     "execution_count": 65,
     "metadata": {},
     "output_type": "execute_result"
    }
   ],
   "source": [
    "df_groupby"
   ]
  },
  {
   "cell_type": "code",
   "execution_count": 66,
   "metadata": {},
   "outputs": [],
   "source": [
    "#ctr, cpc, ROAS 는 재계산해야하기 때문에 제거\n",
    "df_groupby.drop(['ctr','cpc','ROAS'],axis=1,inplace=True)"
   ]
  },
  {
   "cell_type": "code",
   "execution_count": 67,
   "metadata": {},
   "outputs": [],
   "source": [
    "df_groupby['ctr']=df_groupby['클릭수']/df_groupby['노출수']*100\n",
    "df_groupby['cpc']=df_groupby['총비용']/df_groupby['클릭수']\n",
    "df_groupby['ROAS']=df_groupby['매출액']/df_groupby['총비용']*100"
   ]
  },
  {
   "cell_type": "code",
   "execution_count": 68,
   "metadata": {},
   "outputs": [
    {
     "data": {
      "text/html": [
       "<div>\n",
       "<style scoped>\n",
       "    .dataframe tbody tr th:only-of-type {\n",
       "        vertical-align: middle;\n",
       "    }\n",
       "\n",
       "    .dataframe tbody tr th {\n",
       "        vertical-align: top;\n",
       "    }\n",
       "\n",
       "    .dataframe thead th {\n",
       "        text-align: right;\n",
       "    }\n",
       "</style>\n",
       "<table border=\"1\" class=\"dataframe\">\n",
       "  <thead>\n",
       "    <tr style=\"text-align: right;\">\n",
       "      <th></th>\n",
       "      <th>노출수</th>\n",
       "      <th>클릭수</th>\n",
       "      <th>총비용</th>\n",
       "      <th>전환수</th>\n",
       "      <th>매출액</th>\n",
       "      <th>ctr</th>\n",
       "      <th>cpc</th>\n",
       "      <th>ROAS</th>\n",
       "    </tr>\n",
       "    <tr>\n",
       "      <th>날짜</th>\n",
       "      <th></th>\n",
       "      <th></th>\n",
       "      <th></th>\n",
       "      <th></th>\n",
       "      <th></th>\n",
       "      <th></th>\n",
       "      <th></th>\n",
       "      <th></th>\n",
       "    </tr>\n",
       "  </thead>\n",
       "  <tbody>\n",
       "    <tr>\n",
       "      <th>2021-03-30</th>\n",
       "      <td>797</td>\n",
       "      <td>19</td>\n",
       "      <td>6479</td>\n",
       "      <td>0</td>\n",
       "      <td>0</td>\n",
       "      <td>2.383940</td>\n",
       "      <td>341.000000</td>\n",
       "      <td>0.0</td>\n",
       "    </tr>\n",
       "    <tr>\n",
       "      <th>2021-03-31</th>\n",
       "      <td>805</td>\n",
       "      <td>15</td>\n",
       "      <td>5115</td>\n",
       "      <td>0</td>\n",
       "      <td>0</td>\n",
       "      <td>1.863354</td>\n",
       "      <td>341.000000</td>\n",
       "      <td>0.0</td>\n",
       "    </tr>\n",
       "    <tr>\n",
       "      <th>2021-04-01</th>\n",
       "      <td>819</td>\n",
       "      <td>14</td>\n",
       "      <td>5071</td>\n",
       "      <td>0</td>\n",
       "      <td>0</td>\n",
       "      <td>1.709402</td>\n",
       "      <td>362.214286</td>\n",
       "      <td>0.0</td>\n",
       "    </tr>\n",
       "    <tr>\n",
       "      <th>2021-04-02</th>\n",
       "      <td>773</td>\n",
       "      <td>18</td>\n",
       "      <td>5577</td>\n",
       "      <td>0</td>\n",
       "      <td>0</td>\n",
       "      <td>2.328590</td>\n",
       "      <td>309.833333</td>\n",
       "      <td>0.0</td>\n",
       "    </tr>\n",
       "    <tr>\n",
       "      <th>2021-04-03</th>\n",
       "      <td>807</td>\n",
       "      <td>26</td>\n",
       "      <td>10593</td>\n",
       "      <td>0</td>\n",
       "      <td>0</td>\n",
       "      <td>3.221809</td>\n",
       "      <td>407.423077</td>\n",
       "      <td>0.0</td>\n",
       "    </tr>\n",
       "    <tr>\n",
       "      <th>2021-04-04</th>\n",
       "      <td>922</td>\n",
       "      <td>20</td>\n",
       "      <td>7062</td>\n",
       "      <td>0</td>\n",
       "      <td>0</td>\n",
       "      <td>2.169197</td>\n",
       "      <td>353.100000</td>\n",
       "      <td>0.0</td>\n",
       "    </tr>\n",
       "    <tr>\n",
       "      <th>2021-04-05</th>\n",
       "      <td>839</td>\n",
       "      <td>16</td>\n",
       "      <td>3971</td>\n",
       "      <td>0</td>\n",
       "      <td>0</td>\n",
       "      <td>1.907032</td>\n",
       "      <td>248.187500</td>\n",
       "      <td>0.0</td>\n",
       "    </tr>\n",
       "  </tbody>\n",
       "</table>\n",
       "</div>"
      ],
      "text/plain": [
       "            노출수  클릭수    총비용  전환수  매출액       ctr         cpc  ROAS\n",
       "날짜                                                               \n",
       "2021-03-30  797   19   6479    0    0  2.383940  341.000000   0.0\n",
       "2021-03-31  805   15   5115    0    0  1.863354  341.000000   0.0\n",
       "2021-04-01  819   14   5071    0    0  1.709402  362.214286   0.0\n",
       "2021-04-02  773   18   5577    0    0  2.328590  309.833333   0.0\n",
       "2021-04-03  807   26  10593    0    0  3.221809  407.423077   0.0\n",
       "2021-04-04  922   20   7062    0    0  2.169197  353.100000   0.0\n",
       "2021-04-05  839   16   3971    0    0  1.907032  248.187500   0.0"
      ]
     },
     "execution_count": 68,
     "metadata": {},
     "output_type": "execute_result"
    }
   ],
   "source": [
    "df_groupby"
   ]
  },
  {
   "cell_type": "code",
   "execution_count": 69,
   "metadata": {},
   "outputs": [],
   "source": [
    "#ctr, cpc, roas를 보기 좋게 변경\n",
    "df_groupby['ctr']=round(df_groupby['ctr'],2)\n",
    "df_groupby['ROAS']=df_groupby['ROAS'].astype(int)\n",
    "df_groupby['cpc']=df_groupby['cpc'].astype(int)"
   ]
  },
  {
   "cell_type": "code",
   "execution_count": 70,
   "metadata": {
    "scrolled": false
   },
   "outputs": [
    {
     "data": {
      "text/html": [
       "<div>\n",
       "<style scoped>\n",
       "    .dataframe tbody tr th:only-of-type {\n",
       "        vertical-align: middle;\n",
       "    }\n",
       "\n",
       "    .dataframe tbody tr th {\n",
       "        vertical-align: top;\n",
       "    }\n",
       "\n",
       "    .dataframe thead th {\n",
       "        text-align: right;\n",
       "    }\n",
       "</style>\n",
       "<table border=\"1\" class=\"dataframe\">\n",
       "  <thead>\n",
       "    <tr style=\"text-align: right;\">\n",
       "      <th></th>\n",
       "      <th>노출수</th>\n",
       "      <th>클릭수</th>\n",
       "      <th>총비용</th>\n",
       "      <th>전환수</th>\n",
       "      <th>매출액</th>\n",
       "      <th>ctr</th>\n",
       "      <th>cpc</th>\n",
       "      <th>ROAS</th>\n",
       "    </tr>\n",
       "    <tr>\n",
       "      <th>날짜</th>\n",
       "      <th></th>\n",
       "      <th></th>\n",
       "      <th></th>\n",
       "      <th></th>\n",
       "      <th></th>\n",
       "      <th></th>\n",
       "      <th></th>\n",
       "      <th></th>\n",
       "    </tr>\n",
       "  </thead>\n",
       "  <tbody>\n",
       "    <tr>\n",
       "      <th>2021-03-30</th>\n",
       "      <td>797</td>\n",
       "      <td>19</td>\n",
       "      <td>6479</td>\n",
       "      <td>0</td>\n",
       "      <td>0</td>\n",
       "      <td>2.38</td>\n",
       "      <td>341</td>\n",
       "      <td>0</td>\n",
       "    </tr>\n",
       "    <tr>\n",
       "      <th>2021-03-31</th>\n",
       "      <td>805</td>\n",
       "      <td>15</td>\n",
       "      <td>5115</td>\n",
       "      <td>0</td>\n",
       "      <td>0</td>\n",
       "      <td>1.86</td>\n",
       "      <td>341</td>\n",
       "      <td>0</td>\n",
       "    </tr>\n",
       "    <tr>\n",
       "      <th>2021-04-01</th>\n",
       "      <td>819</td>\n",
       "      <td>14</td>\n",
       "      <td>5071</td>\n",
       "      <td>0</td>\n",
       "      <td>0</td>\n",
       "      <td>1.71</td>\n",
       "      <td>362</td>\n",
       "      <td>0</td>\n",
       "    </tr>\n",
       "    <tr>\n",
       "      <th>2021-04-02</th>\n",
       "      <td>773</td>\n",
       "      <td>18</td>\n",
       "      <td>5577</td>\n",
       "      <td>0</td>\n",
       "      <td>0</td>\n",
       "      <td>2.33</td>\n",
       "      <td>309</td>\n",
       "      <td>0</td>\n",
       "    </tr>\n",
       "    <tr>\n",
       "      <th>2021-04-03</th>\n",
       "      <td>807</td>\n",
       "      <td>26</td>\n",
       "      <td>10593</td>\n",
       "      <td>0</td>\n",
       "      <td>0</td>\n",
       "      <td>3.22</td>\n",
       "      <td>407</td>\n",
       "      <td>0</td>\n",
       "    </tr>\n",
       "    <tr>\n",
       "      <th>2021-04-04</th>\n",
       "      <td>922</td>\n",
       "      <td>20</td>\n",
       "      <td>7062</td>\n",
       "      <td>0</td>\n",
       "      <td>0</td>\n",
       "      <td>2.17</td>\n",
       "      <td>353</td>\n",
       "      <td>0</td>\n",
       "    </tr>\n",
       "    <tr>\n",
       "      <th>2021-04-05</th>\n",
       "      <td>839</td>\n",
       "      <td>16</td>\n",
       "      <td>3971</td>\n",
       "      <td>0</td>\n",
       "      <td>0</td>\n",
       "      <td>1.91</td>\n",
       "      <td>248</td>\n",
       "      <td>0</td>\n",
       "    </tr>\n",
       "  </tbody>\n",
       "</table>\n",
       "</div>"
      ],
      "text/plain": [
       "            노출수  클릭수    총비용  전환수  매출액   ctr  cpc  ROAS\n",
       "날짜                                                    \n",
       "2021-03-30  797   19   6479    0    0  2.38  341     0\n",
       "2021-03-31  805   15   5115    0    0  1.86  341     0\n",
       "2021-04-01  819   14   5071    0    0  1.71  362     0\n",
       "2021-04-02  773   18   5577    0    0  2.33  309     0\n",
       "2021-04-03  807   26  10593    0    0  3.22  407     0\n",
       "2021-04-04  922   20   7062    0    0  2.17  353     0\n",
       "2021-04-05  839   16   3971    0    0  1.91  248     0"
      ]
     },
     "execution_count": 70,
     "metadata": {},
     "output_type": "execute_result"
    }
   ],
   "source": [
    "df_groupby"
   ]
  },
  {
   "cell_type": "markdown",
   "metadata": {},
   "source": [
    "## 따로 회사에서 쓰는 형식의 엑셀파일이 있을 경우"
   ]
  },
  {
   "cell_type": "code",
   "execution_count": 71,
   "metadata": {},
   "outputs": [],
   "source": [
    "import openpyxl"
   ]
  },
  {
   "cell_type": "code",
   "execution_count": 74,
   "metadata": {},
   "outputs": [],
   "source": [
    "wb=openpyxl.load_workbook('네이버보고서_1006.xlsx')"
   ]
  },
  {
   "cell_type": "code",
   "execution_count": 75,
   "metadata": {},
   "outputs": [],
   "source": [
    "ws=wb.sheetnames"
   ]
  },
  {
   "cell_type": "code",
   "execution_count": 76,
   "metadata": {
    "scrolled": true
   },
   "outputs": [
    {
     "data": {
      "text/plain": [
       "['8월', '9월', '10월']"
      ]
     },
     "execution_count": 76,
     "metadata": {},
     "output_type": "execute_result"
    }
   ],
   "source": [
    "wb.sheetnames"
   ]
  },
  {
   "cell_type": "code",
   "execution_count": 77,
   "metadata": {},
   "outputs": [],
   "source": [
    "ws=wb['10월']"
   ]
  },
  {
   "cell_type": "code",
   "execution_count": 78,
   "metadata": {},
   "outputs": [],
   "source": [
    "df_groupby=df_groupby[['노출수', '클릭수', 'ctr', 'cpc','총비용', '전환수','매출액','ROAS']]"
   ]
  },
  {
   "cell_type": "code",
   "execution_count": 79,
   "metadata": {},
   "outputs": [],
   "source": [
    "for x in range(df_groupby.shape[0]): #행의 수 반영\n",
    "    for y in range(df_groupby.shape[1]): #열의 수 반영\n",
    "        ws.cell(row=x+2,column=y+2).value=df_groupby.iloc[x,y]"
   ]
  },
  {
   "cell_type": "code",
   "execution_count": 80,
   "metadata": {},
   "outputs": [
    {
     "data": {
      "text/plain": [
       "'네이버보고서_0406.xlsx'"
      ]
     },
     "execution_count": 80,
     "metadata": {},
     "output_type": "execute_result"
    }
   ],
   "source": [
    "# 오늘 날짜 계산\n",
    "now=datetime.now()\n",
    "today=now.strftime('%m%d')\n",
    "today\n",
    "\n",
    "# 파일이름 만들기\n",
    "# 매체보고서_오늘날짜.xlsx\n",
    "filename='네이버보고서_'+today+'.xlsx'\n",
    "filename"
   ]
  },
  {
   "cell_type": "code",
   "execution_count": 81,
   "metadata": {},
   "outputs": [],
   "source": [
    "wb.save(filename)"
   ]
  },
  {
   "cell_type": "code",
   "execution_count": null,
   "metadata": {},
   "outputs": [],
   "source": []
  }
 ],
 "metadata": {
  "kernelspec": {
   "display_name": "Python 3",
   "language": "python",
   "name": "python3"
  },
  "language_info": {
   "codemirror_mode": {
    "name": "ipython",
    "version": 3
   },
   "file_extension": ".py",
   "mimetype": "text/x-python",
   "name": "python",
   "nbconvert_exporter": "python",
   "pygments_lexer": "ipython3",
   "version": "3.8.8"
  },
  "toc": {
   "base_numbering": 1,
   "nav_menu": {},
   "number_sections": true,
   "sideBar": true,
   "skip_h1_title": false,
   "title_cell": "Table of Contents",
   "title_sidebar": "Contents",
   "toc_cell": false,
   "toc_position": {},
   "toc_section_display": true,
   "toc_window_display": false
  },
  "varInspector": {
   "cols": {
    "lenName": 16,
    "lenType": 16,
    "lenVar": 40
   },
   "kernels_config": {
    "python": {
     "delete_cmd_postfix": "",
     "delete_cmd_prefix": "del ",
     "library": "var_list.py",
     "varRefreshCmd": "print(var_dic_list())"
    },
    "r": {
     "delete_cmd_postfix": ") ",
     "delete_cmd_prefix": "rm(",
     "library": "var_list.r",
     "varRefreshCmd": "cat(var_dic_list()) "
    }
   },
   "types_to_exclude": [
    "module",
    "function",
    "builtin_function_or_method",
    "instance",
    "_Feature"
   ],
   "window_display": false
  }
 },
 "nbformat": 4,
 "nbformat_minor": 2
}
