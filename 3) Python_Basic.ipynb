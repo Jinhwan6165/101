{
 "cells": [
  {
   "cell_type": "markdown",
   "metadata": {},
   "source": [
    "# 3. 파이썬 기초 문법"
   ]
  },
  {
   "cell_type": "markdown",
   "metadata": {},
   "source": [
    "### 3.1.반복문"
   ]
  },
  {
   "cell_type": "markdown",
   "metadata": {},
   "source": [
    "`\n",
    "for name in group:`    <-- \"group에서 순서대로 하나씩 꺼낸다. 이때 꺼낸 것을 name 이라고 부른다\"\n",
    "\n",
    "이후 들여쓰기가 끝나는 곳까지 반복 실행\n",
    "    \n",
    "    "
   ]
  },
  {
   "cell_type": "markdown",
   "metadata": {},
   "source": [
    "cf) 리스트 : 그룹으로 묶는 것 Vs 반복문 : 하나씩 꺼내어 작업하는 것."
   ]
  },
  {
   "cell_type": "code",
   "execution_count": null,
   "metadata": {},
   "outputs": [],
   "source": [
    "# 반복문을 통해 리스트에서 원소를 순서대로 하나씩 꺼내어 작업할 수 있습니다. \n",
    "fruits = ['바나나','사과','딸기','배','감']\n",
    "\n",
    "for f in fruits:   \n",
    "    print(f)"
   ]
  },
  {
   "cell_type": "code",
   "execution_count": null,
   "metadata": {},
   "outputs": [],
   "source": [
    "# 반복문이 실행되는 범위는 들여쓰기를 이용하여 표시합니다. \n",
    "fruits = ['바나나','사과','딸기','배','감']\n",
    "\n",
    "for fruit in fruits:   \n",
    "    print(fruit)\n",
    "    \n",
    "print(5)"
   ]
  },
  {
   "cell_type": "code",
   "execution_count": null,
   "metadata": {},
   "outputs": [],
   "source": [
    "# 반복문이 실행되는 범위는 들여쓰기를 이용하여 표시합니다. \n",
    "fruits = ['바나나','사과','딸기','배','감']\n",
    "for fruit in fruits:   \n",
    "    print(fruit)\n",
    "    \n",
    "    print(1)             # 들여쓰시가 되어있기 때문에 이 라인까지 반복문이 실행됩니다. \n",
    "print(5)"
   ]
  },
  {
   "cell_type": "markdown",
   "metadata": {},
   "source": [
    "### 3.2.조건문"
   ]
  },
  {
   "cell_type": "markdown",
   "metadata": {},
   "source": [
    "`if 조건1:`\n",
    "\n",
    "    조건1이 True 일 경우 실행되는 코드\n",
    "    \n",
    "`elif 조건2:`\n",
    "\n",
    "    조건1이 False 이면서, 조건2가 True 일 경우 실행되는 코드\n",
    "    \n",
    "`else:`\n",
    "\n",
    "    위 조건들이 모두 False 일때, 실행되는 코드"
   ]
  },
  {
   "cell_type": "code",
   "execution_count": null,
   "metadata": {},
   "outputs": [],
   "source": [
    "#  홀 / 짝 을 판단하고 출력해보겠습니다. \n",
    "\n",
    "n = 20   # 자연수 입력\n",
    "\n",
    "if n <= 0:        # 0이하의 수라면 다시 입력하라는 메세지를 출력하빈다. \n",
    "    print('1 이상의 자연수를 입력해주세요')\n",
    "elif n % 2 == 0:  # 2로 나누었을때 나머지가 0인 경우 -> 짝수입니다. \n",
    "    print('짝수 입니다')\n",
    "else:             # 2로 나누었을때 나머지가 0이 아닌 경우 -> 홀수 입니다. \n",
    "    print('홀수 입니다')"
   ]
  },
  {
   "cell_type": "markdown",
   "metadata": {},
   "source": [
    "크기비교"
   ]
  },
  {
   "cell_type": "code",
   "execution_count": null,
   "metadata": {},
   "outputs": [],
   "source": [
    "# > < 부등호를 이용해 크기 비교를 할 수 있습니다. \n",
    "\n",
    "shop_A = ['사과','배','파인애플']\n",
    "shop_B = ['딸기','포도','사과', '배']\n",
    "\n",
    "if len(shop_A) > len(shop_B):\n",
    "    print('shop_A의 과일 종류가 더 많다')\n",
    "elif len(shop_A) < len(shop_B):\n",
    "    print('shop_B의 과일 종류가 더 많다')\n",
    "else:\n",
    "    print('두 매장에서 파는 과일의 종류 수는 동일하다')"
   ]
  },
  {
   "cell_type": "markdown",
   "metadata": {},
   "source": [
    "포함여부"
   ]
  },
  {
   "cell_type": "code",
   "execution_count": null,
   "metadata": {},
   "outputs": [],
   "source": [
    "# 원소 in 그룹 을 이용해 포함여부를 점검할 수 있습니다. \n",
    "shop_A = ['사과','배','파인애플']\n",
    "if \"딸기\" in shop_A:\n",
    "    print(\"shop_A 에서 딸기를 판매한다\")\n",
    "else:\n",
    "    print(\"shop_A 에서 딸기를 판매하지 않는다\")"
   ]
  },
  {
   "cell_type": "code",
   "execution_count": null,
   "metadata": {},
   "outputs": [],
   "source": [
    "# 원소 not in 그룹 을 이용해 불포함여부를 점검할 수 있습니다. \n",
    "shop_A = ['사과','배','파인애플']\n",
    "if \"포도\" not in shop_A:\n",
    "    print(\"shop_A 에서 포도를 판매하지 않는다\")\n",
    "else:\n",
    "    print(\"shop_A 에서 포도를 판매한다\")"
   ]
  },
  {
   "cell_type": "markdown",
   "metadata": {},
   "source": [
    "일치 여부"
   ]
  },
  {
   "cell_type": "code",
   "execution_count": null,
   "metadata": {},
   "outputs": [],
   "source": [
    "# ==  기호를 이용해 같은지 여부를 판단할 수 있습니다. \n",
    "\n",
    "A = '태극기'\n",
    "B = '태극기가 바람에 펄럭입니다'\n",
    "\n",
    "if A == B:\n",
    "    print('완전 동일')\n",
    "elif A in B:\n",
    "    print(\"A가 B에 포함된다\")\n",
    "else:\n",
    "    print(\"다르다\")"
   ]
  },
  {
   "cell_type": "markdown",
   "metadata": {},
   "source": [
    "### 3.3.문자열 포매팅/정리하기"
   ]
  },
  {
   "cell_type": "markdown",
   "metadata": {},
   "source": [
    "- 문자열 포매팅"
   ]
  },
  {
   "cell_type": "code",
   "execution_count": null,
   "metadata": {},
   "outputs": [],
   "source": [
    "# 문자열에서 고정된 값이 아닌, 변수(변하는 값)을 표시하게 할 수도 있습니다. 이를 포매팅이라고 합니다. \n",
    "\n",
    "name = '홍길동'\n",
    "sentence = f'안녕하세요. {name}님 만나서 반갑습니다.'\n",
    "\n",
    "print(name)\n",
    "print(sentence)"
   ]
  },
  {
   "cell_type": "code",
   "execution_count": null,
   "metadata": {},
   "outputs": [],
   "source": [
    "# 파이썬 3.6 버전부터  f\"문자열 {변수명}\" 형태로 사용이 가능합니다. \n",
    "# 파이썬 3.5 버전 이하에서는 아래와 같이 사용가능합니다. \n",
    "\n",
    "name = '홍길동'\n",
    "sentence = '안녕하세요. {}님 만나서 반갑습니다.'.format(name)\n",
    "print(name)\n",
    "print(sentence)"
   ]
  },
  {
   "cell_type": "code",
   "execution_count": null,
   "metadata": {},
   "outputs": [],
   "source": [
    "# 여러개의 변수도 표현 가능합니다. \n",
    "# 이때에는 { } 순서대로 변수를 입력해주어야 합니다. \n",
    "\n",
    "month = \"12월\"\n",
    "day = \"25일\"\n",
    "\n",
    "sentence = \"오늘은 {} {} 입니다\".format(month, day)   \n",
    "print(sentence)"
   ]
  },
  {
   "cell_type": "markdown",
   "metadata": {},
   "source": [
    "- 문자열 정리"
   ]
  },
  {
   "cell_type": "markdown",
   "metadata": {},
   "source": [
    "strip()"
   ]
  },
  {
   "cell_type": "code",
   "execution_count": null,
   "metadata": {},
   "outputs": [],
   "source": [
    "# 문자열에서,  줄바꿈문자는 \\n으로,  탭 문자는 \\t 로 표현합니다\n",
    "raw = '\\n\\t 태극기가 바람에 펄럭입니다. \\n 하늘 높이 하늘 높이 펄럭입니다. '\n",
    "print(raw)"
   ]
  },
  {
   "cell_type": "code",
   "execution_count": null,
   "metadata": {},
   "outputs": [],
   "source": [
    "# 문자열.strip() 명령을 통해,  문자열 시작과 끝 부분의 공백문자(줄바꿈/띄어쓰기/탭문자 등)을 제거할 수 있습니다. \n",
    "raw_strip = raw.strip()\n",
    "print(raw_strip)"
   ]
  },
  {
   "cell_type": "markdown",
   "metadata": {},
   "source": [
    "replace(변경전, 변경후)"
   ]
  },
  {
   "cell_type": "code",
   "execution_count": null,
   "metadata": {},
   "outputs": [],
   "source": [
    "# 문자열.replace( ) 명령을 통해 특정 문자열을 없애거나 변경할 수 있습니다. \n",
    "raw_edit = raw_strip.replace('하늘 높이', '하늘높이')\n",
    "print(raw_edit)"
   ]
  },
  {
   "cell_type": "markdown",
   "metadata": {},
   "source": [
    "split()"
   ]
  },
  {
   "cell_type": "code",
   "execution_count": null,
   "metadata": {},
   "outputs": [],
   "source": [
    "# split()을 이용해 특정 문자열을 기준으로 문자열을 나눌 수 있습니다. \n",
    "# split() 결과는 리스트 타입입니다. \n",
    "data = \"미국/중국/일본/러시아/베트남/태국\"\n",
    "data.split('/')"
   ]
  },
  {
   "cell_type": "markdown",
   "metadata": {},
   "source": [
    "### 3.4. 함수 만들기"
   ]
  },
  {
   "cell_type": "markdown",
   "metadata": {},
   "source": [
    "반복적으로 사용하는 코드들에 이름을 붙여서 쉽게 사용할 수 있게 하는 것을 함수라고 합니다. "
   ]
  },
  {
   "cell_type": "raw",
   "metadata": {},
   "source": [
    "함수는 아래와 같은 구조를 가지게 됩니다. \n",
    "\n",
    "def 함수이름(변수1, 변수2, ...변수n):  \n",
    "    함수 실행내용  \n",
    "    return 실행결과  "
   ]
  },
  {
   "cell_type": "code",
   "execution_count": null,
   "metadata": {},
   "outputs": [],
   "source": [
    "# 두 수를 곱한 결과 텍스트를 반환하는(알려주는) 함수를 만들어보겠습니다. \n",
    "# 이 코드를 실행하면 컴퓨터는 gob() 이라는 명령어에 대해서 알게 됩니다.\n",
    "# (코드에 이름표를 붙이는 과정이지, 계산을 실행하지는 않습니다. )\n",
    "\n",
    "def gob(a, b):\n",
    "    gob = a*b\n",
    "    text = '{} x {} = {}'.format(a, b, gob)\n",
    "    return text"
   ]
  },
  {
   "cell_type": "code",
   "execution_count": null,
   "metadata": {},
   "outputs": [],
   "source": [
    "# 이번에는 위에서 정의한 함수를 실행해 볼까요\n",
    "\n",
    "a = 2\n",
    "b = 8\n",
    "\n",
    "text = gob(a,b)\n",
    "print(text)"
   ]
  }
 ],
 "metadata": {
  "kernelspec": {
   "display_name": "Python 3",
   "language": "python",
   "name": "python3"
  },
  "language_info": {
   "codemirror_mode": {
    "name": "ipython",
    "version": 3
   },
   "file_extension": ".py",
   "mimetype": "text/x-python",
   "name": "python",
   "nbconvert_exporter": "python",
   "pygments_lexer": "ipython3",
   "version": "3.8.5"
  }
 },
 "nbformat": 4,
 "nbformat_minor": 2
}
