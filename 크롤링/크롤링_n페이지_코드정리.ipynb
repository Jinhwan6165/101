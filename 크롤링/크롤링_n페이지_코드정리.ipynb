{
 "cells": [
  {
   "cell_type": "code",
   "execution_count": 13,
   "metadata": {},
   "outputs": [],
   "source": [
    "#라이브러리 불러오기\n",
    "from selenium import webdriver\n",
    "from bs4 import BeautifulSoup\n",
    "import pandas as pd\n",
    "import time   # 접속 후에 몇초 기다려줘...(접속 - page_source 받기  사이에 ... )\n",
    "import random"
   ]
  },
  {
   "cell_type": "code",
   "execution_count": 2,
   "metadata": {},
   "outputs": [],
   "source": [
    "#크롬창 열기 (최초 1회만 실행)\n",
    "browser = webdriver.Chrome('C:/informs/Chromedriver.exe')"
   ]
  },
  {
   "cell_type": "code",
   "execution_count": null,
   "metadata": {},
   "outputs": [],
   "source": [
    "random.uniform(2,5)"
   ]
  },
  {
   "cell_type": "code",
   "execution_count": 10,
   "metadata": {},
   "outputs": [
    {
     "name": "stdout",
     "output_type": "stream",
     "text": [
      "1\n",
      "2\n",
      "3\n",
      "4\n",
      "5\n",
      "6\n",
      "7\n",
      "8\n",
      "9\n",
      "10\n"
     ]
    }
   ],
   "source": [
    "# 숫자 정수 range 함수\n",
    "#page_list = range(시작,끝나는 지점 +1)\n",
    "page_list = range(1,11)\n",
    "for page in page_list : \n",
    "    print(page)\n",
    "    time.sleep(1) # 괄호안의 숫자만큼 쉰 후에 작업 실행한다.\n",
    "    #time.sleep(random.uniform(2,5)) # 2~5초 사이로 랜덤하게 쉬어줘"
   ]
  },
  {
   "cell_type": "code",
   "execution_count": 11,
   "metadata": {},
   "outputs": [],
   "source": [
    "results = []\n",
    "\n",
    "page_list = range(1,11)\n",
    "\n",
    "for page in page_list: \n",
    "    url = f'https://youtube-rank.com/board/bbs/board.php?bo_table=youtube&page={page}'\n",
    "    browser.get(url)\n",
    "    # 접속 후에 몇초 기다려줘...(접속 - page_source 받기  사이에 ... )\n",
    "    time.sleep(2)\n",
    "\n",
    "    html = browser.page_source\n",
    "    soup = BeautifulSoup(html, 'html.parser')\n",
    "    channel_list = soup.select('form > table > tbody > tr')\n",
    "    for channel in channel_list :\n",
    "        title = channel.select('h1 > a')[0].text.strip()\n",
    "        category = channel.select('p.category')[0].text.strip()\n",
    "        subscriber = channel.select('td.subscriber_cnt')[0].text.strip()\n",
    "        view = channel.select('td.view_cnt')[0].text.strip()\n",
    "        video = channel.select('td.video_cnt')[0].text.strip()\n",
    "        data = [title,category,subscriber, view, video]\n",
    "        # print(data)\n",
    "        results.append(data)"
   ]
  },
  {
   "cell_type": "code",
   "execution_count": 12,
   "metadata": {},
   "outputs": [
    {
     "data": {
      "text/plain": [
       "1000"
      ]
     },
     "execution_count": 12,
     "metadata": {},
     "output_type": "execute_result"
    }
   ],
   "source": [
    "len(results)"
   ]
  },
  {
   "cell_type": "code",
   "execution_count": 14,
   "metadata": {},
   "outputs": [],
   "source": [
    "# 엑셀파일에 저장하기\n",
    "df = pd.DataFrame(results)\n",
    "df.columns =['채널명','카테고리','구독자수','조회수','영상수']\n",
    "filename = f'유튜브채널랭크_Top{len(results)}.xlsx'\n",
    "filename = f'./유튜브채널랭크_Top{len(results)}.xlsx' #가능하면 현재위치를 알려주기 위해서 ,/를 붙이는 것이 좋다.\n",
    "df.to_excel(filename, index=False)"
   ]
  },
  {
   "cell_type": "markdown",
   "metadata": {},
   "source": [
    "#크롤링 중에 사이트를 클릭하거나 움직이면 클롤링 중에 데러가 나는 경우가 잇다.\n",
    "#반응형 사이트의 경우 창 크기에 따라 데이터의 양이 달라질 수 있으므로 주의해야 한다."
   ]
  },
  {
   "cell_type": "code",
   "execution_count": null,
   "metadata": {},
   "outputs": [],
   "source": []
  },
  {
   "cell_type": "code",
   "execution_count": null,
   "metadata": {},
   "outputs": [],
   "source": []
  },
  {
   "cell_type": "code",
   "execution_count": null,
   "metadata": {},
   "outputs": [],
   "source": []
  },
  {
   "cell_type": "code",
   "execution_count": null,
   "metadata": {},
   "outputs": [],
   "source": []
  },
  {
   "cell_type": "code",
   "execution_count": null,
   "metadata": {},
   "outputs": [],
   "source": []
  },
  {
   "cell_type": "code",
   "execution_count": null,
   "metadata": {},
   "outputs": [],
   "source": []
  },
  {
   "cell_type": "code",
   "execution_count": null,
   "metadata": {},
   "outputs": [],
   "source": []
  },
  {
   "cell_type": "code",
   "execution_count": null,
   "metadata": {},
   "outputs": [],
   "source": []
  }
 ],
 "metadata": {
  "kernelspec": {
   "display_name": "Python 3",
   "language": "python",
   "name": "python3"
  },
  "language_info": {
   "codemirror_mode": {
    "name": "ipython",
    "version": 3
   },
   "file_extension": ".py",
   "mimetype": "text/x-python",
   "name": "python",
   "nbconvert_exporter": "python",
   "pygments_lexer": "ipython3",
   "version": "3.8.5"
  }
 },
 "nbformat": 4,
 "nbformat_minor": 4
}
